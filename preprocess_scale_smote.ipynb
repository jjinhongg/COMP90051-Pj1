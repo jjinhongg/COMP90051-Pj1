{
 "cells": [
  {
   "cell_type": "code",
   "execution_count": 1,
   "id": "09889a9a",
   "metadata": {},
   "outputs": [],
   "source": [
    "import pandas as pd\n",
    "import matplotlib.pyplot as plt\n",
    "import seaborn as sns\n",
    "from collections import Counter\n",
    "import numpy as np\n",
    "import xgboost\n",
    "\n",
    "from sklearn.linear_model import LogisticRegression\n",
    "from sklearn.metrics import accuracy_score, f1_score, confusion_matrix, roc_auc_score\n",
    "from sklearn.model_selection import train_test_split\n",
    "from sklearn.metrics import make_scorer\n",
    "from sklearn.preprocessing import MinMaxScaler"
   ]
  },
  {
   "cell_type": "code",
   "execution_count": 2,
   "id": "8c31788c",
   "metadata": {},
   "outputs": [
    {
     "data": {
      "text/html": [
       "<div>\n",
       "<style scoped>\n",
       "    .dataframe tbody tr th:only-of-type {\n",
       "        vertical-align: middle;\n",
       "    }\n",
       "\n",
       "    .dataframe tbody tr th {\n",
       "        vertical-align: top;\n",
       "    }\n",
       "\n",
       "    .dataframe thead th {\n",
       "        text-align: right;\n",
       "    }\n",
       "</style>\n",
       "<table border=\"1\" class=\"dataframe\">\n",
       "  <thead>\n",
       "    <tr style=\"text-align: right;\">\n",
       "      <th></th>\n",
       "      <th>1</th>\n",
       "      <th>2</th>\n",
       "      <th>3</th>\n",
       "      <th>4</th>\n",
       "      <th>5</th>\n",
       "      <th>6</th>\n",
       "      <th>7</th>\n",
       "      <th>8</th>\n",
       "      <th>9</th>\n",
       "      <th>10</th>\n",
       "      <th>...</th>\n",
       "      <th>952</th>\n",
       "      <th>953</th>\n",
       "      <th>954</th>\n",
       "      <th>955</th>\n",
       "      <th>956</th>\n",
       "      <th>957</th>\n",
       "      <th>958</th>\n",
       "      <th>959</th>\n",
       "      <th>960</th>\n",
       "      <th>961</th>\n",
       "    </tr>\n",
       "    <tr>\n",
       "      <th>0</th>\n",
       "      <th></th>\n",
       "      <th></th>\n",
       "      <th></th>\n",
       "      <th></th>\n",
       "      <th></th>\n",
       "      <th></th>\n",
       "      <th></th>\n",
       "      <th></th>\n",
       "      <th></th>\n",
       "      <th></th>\n",
       "      <th></th>\n",
       "      <th></th>\n",
       "      <th></th>\n",
       "      <th></th>\n",
       "      <th></th>\n",
       "      <th></th>\n",
       "      <th></th>\n",
       "      <th></th>\n",
       "      <th></th>\n",
       "      <th></th>\n",
       "      <th></th>\n",
       "    </tr>\n",
       "  </thead>\n",
       "  <tbody>\n",
       "    <tr>\n",
       "      <th>1</th>\n",
       "      <td>-1.8226</td>\n",
       "      <td>8.51070</td>\n",
       "      <td>-0.53551</td>\n",
       "      <td>-2.03440</td>\n",
       "      <td>2.2282</td>\n",
       "      <td>2.04870</td>\n",
       "      <td>-5.81380</td>\n",
       "      <td>-4.4169</td>\n",
       "      <td>2.3129</td>\n",
       "      <td>0.808290</td>\n",
       "      <td>...</td>\n",
       "      <td>-5.74060</td>\n",
       "      <td>12.5650</td>\n",
       "      <td>41.23100</td>\n",
       "      <td>-6.77570</td>\n",
       "      <td>1.72780</td>\n",
       "      <td>15.9120</td>\n",
       "      <td>23.583000</td>\n",
       "      <td>3.9158</td>\n",
       "      <td>35.7250</td>\n",
       "      <td>1</td>\n",
       "    </tr>\n",
       "    <tr>\n",
       "      <th>2</th>\n",
       "      <td>1.2816</td>\n",
       "      <td>-0.49410</td>\n",
       "      <td>-0.19667</td>\n",
       "      <td>1.05510</td>\n",
       "      <td>-1.9280</td>\n",
       "      <td>1.07120</td>\n",
       "      <td>-0.19667</td>\n",
       "      <td>-4.6669</td>\n",
       "      <td>3.8230</td>\n",
       "      <td>-3.245900</td>\n",
       "      <td>...</td>\n",
       "      <td>-20.50300</td>\n",
       "      <td>47.7540</td>\n",
       "      <td>2.88560</td>\n",
       "      <td>-6.86660</td>\n",
       "      <td>6.29350</td>\n",
       "      <td>-4.8789</td>\n",
       "      <td>-1.300100</td>\n",
       "      <td>-1.4275</td>\n",
       "      <td>-3.4192</td>\n",
       "      <td>1</td>\n",
       "    </tr>\n",
       "    <tr>\n",
       "      <th>3</th>\n",
       "      <td>-2.0304</td>\n",
       "      <td>-0.27552</td>\n",
       "      <td>-0.58236</td>\n",
       "      <td>-5.95250</td>\n",
       "      <td>7.3550</td>\n",
       "      <td>2.16640</td>\n",
       "      <td>-4.71510</td>\n",
       "      <td>17.1580</td>\n",
       "      <td>15.5120</td>\n",
       "      <td>-0.822280</td>\n",
       "      <td>...</td>\n",
       "      <td>-10.71800</td>\n",
       "      <td>-4.5436</td>\n",
       "      <td>1.38680</td>\n",
       "      <td>-5.32100</td>\n",
       "      <td>-6.08350</td>\n",
       "      <td>-1.3021</td>\n",
       "      <td>-10.569000</td>\n",
       "      <td>-4.2189</td>\n",
       "      <td>-1.6538</td>\n",
       "      <td>1</td>\n",
       "    </tr>\n",
       "    <tr>\n",
       "      <th>4</th>\n",
       "      <td>-1.0026</td>\n",
       "      <td>0.41320</td>\n",
       "      <td>0.62058</td>\n",
       "      <td>-0.34226</td>\n",
       "      <td>-0.2027</td>\n",
       "      <td>-0.92619</td>\n",
       "      <td>0.61123</td>\n",
       "      <td>-2.0824</td>\n",
       "      <td>-3.5442</td>\n",
       "      <td>-0.043659</td>\n",
       "      <td>...</td>\n",
       "      <td>-2.90100</td>\n",
       "      <td>4.5538</td>\n",
       "      <td>-0.77261</td>\n",
       "      <td>4.25520</td>\n",
       "      <td>0.27911</td>\n",
       "      <td>4.7744</td>\n",
       "      <td>-5.695200</td>\n",
       "      <td>-18.7410</td>\n",
       "      <td>58.3810</td>\n",
       "      <td>1</td>\n",
       "    </tr>\n",
       "    <tr>\n",
       "      <th>5</th>\n",
       "      <td>1.2754</td>\n",
       "      <td>25.84200</td>\n",
       "      <td>5.80000</td>\n",
       "      <td>2.89000</td>\n",
       "      <td>3.1957</td>\n",
       "      <td>4.45040</td>\n",
       "      <td>5.99760</td>\n",
       "      <td>-6.4947</td>\n",
       "      <td>2.9189</td>\n",
       "      <td>3.202700</td>\n",
       "      <td>...</td>\n",
       "      <td>-0.97276</td>\n",
       "      <td>3.8810</td>\n",
       "      <td>7.13330</td>\n",
       "      <td>0.70157</td>\n",
       "      <td>-1.69570</td>\n",
       "      <td>1.2263</td>\n",
       "      <td>-0.093752</td>\n",
       "      <td>-1.7140</td>\n",
       "      <td>2.5131</td>\n",
       "      <td>1</td>\n",
       "    </tr>\n",
       "  </tbody>\n",
       "</table>\n",
       "<p>5 rows × 961 columns</p>\n",
       "</div>"
      ],
      "text/plain": [
       "      1         2        3        4       5        6        7        8    \\\n",
       "0                                                                          \n",
       "1 -1.8226   8.51070 -0.53551 -2.03440  2.2282  2.04870 -5.81380  -4.4169   \n",
       "2  1.2816  -0.49410 -0.19667  1.05510 -1.9280  1.07120 -0.19667  -4.6669   \n",
       "3 -2.0304  -0.27552 -0.58236 -5.95250  7.3550  2.16640 -4.71510  17.1580   \n",
       "4 -1.0026   0.41320  0.62058 -0.34226 -0.2027 -0.92619  0.61123  -2.0824   \n",
       "5  1.2754  25.84200  5.80000  2.89000  3.1957  4.45040  5.99760  -6.4947   \n",
       "\n",
       "       9         10   ...       952      953       954      955      956  \\\n",
       "0                     ...                                                  \n",
       "1   2.3129  0.808290  ...  -5.74060  12.5650  41.23100 -6.77570  1.72780   \n",
       "2   3.8230 -3.245900  ... -20.50300  47.7540   2.88560 -6.86660  6.29350   \n",
       "3  15.5120 -0.822280  ... -10.71800  -4.5436   1.38680 -5.32100 -6.08350   \n",
       "4  -3.5442 -0.043659  ...  -2.90100   4.5538  -0.77261  4.25520  0.27911   \n",
       "5   2.9189  3.202700  ...  -0.97276   3.8810   7.13330  0.70157 -1.69570   \n",
       "\n",
       "       957        958      959      960  961  \n",
       "0                                             \n",
       "1  15.9120  23.583000   3.9158  35.7250    1  \n",
       "2  -4.8789  -1.300100  -1.4275  -3.4192    1  \n",
       "3  -1.3021 -10.569000  -4.2189  -1.6538    1  \n",
       "4   4.7744  -5.695200 -18.7410  58.3810    1  \n",
       "5   1.2263  -0.093752  -1.7140   2.5131    1  \n",
       "\n",
       "[5 rows x 961 columns]"
      ]
     },
     "execution_count": 2,
     "metadata": {},
     "output_type": "execute_result"
    }
   ],
   "source": [
    "df = pd.read_csv('train.csv', header = None)\n",
    "df = df.set_index(df.columns[0])\n",
    "df = df.iloc[0: , :]\n",
    "df.head()"
   ]
  },
  {
   "cell_type": "code",
   "execution_count": 3,
   "id": "8da98212",
   "metadata": {},
   "outputs": [
    {
     "name": "stdout",
     "output_type": "stream",
     "text": [
      "X_train shape: (9388, 960) | y_train shape: (9388,)\n"
     ]
    }
   ],
   "source": [
    "# training data\n",
    "df = df.sample(frac = 1)\n",
    "X_train = df.iloc[:,:-1]\n",
    "y_train = df.iloc[:,-1]\n",
    "\n",
    "print(\"X_train shape:\", X_train.shape, \"| y_train shape:\", y_train.shape)\n"
   ]
  },
  {
   "cell_type": "code",
   "execution_count": 4,
   "id": "69c33c13",
   "metadata": {},
   "outputs": [
    {
     "name": "stdout",
     "output_type": "stream",
     "text": [
      "X_test shape: (2959, 960)\n"
     ]
    }
   ],
   "source": [
    "# test data\n",
    "X_test= pd.read_csv('test.csv', header=None)\n",
    "X_test = X_test.set_index(X_test.columns[0])\n",
    "X_test.head()\n",
    "print(\"X_test shape:\", X_test.shape)"
   ]
  },
  {
   "cell_type": "code",
   "execution_count": 5,
   "id": "6cc41988",
   "metadata": {},
   "outputs": [],
   "source": [
    "# minmaxscale data\n",
    "scaler = MinMaxScaler()\n",
    "X_train = scaler.fit_transform(X_train)\n",
    "X_test = scaler.transform(X_test)"
   ]
  },
  {
   "cell_type": "code",
   "execution_count": 6,
   "id": "805d1523",
   "metadata": {},
   "outputs": [],
   "source": [
    "from imblearn.over_sampling import SMOTE\n",
    "\n",
    "smote = SMOTE(sampling_strategy='minority', random_state=42)\n",
    "\n",
    "# fit predictor and target variable\n",
    "x_smote, y_smote = smote.fit_resample(X_train, y_train)"
   ]
  },
  {
   "cell_type": "code",
   "execution_count": 7,
   "id": "a2b4f6f0",
   "metadata": {},
   "outputs": [
    {
     "name": "stdout",
     "output_type": "stream",
     "text": [
      "x_smote shape: (9954, 960) | y_smote shape: (9954,)\n"
     ]
    }
   ],
   "source": [
    "print(\"x_smote shape:\", x_smote.shape, \"| y_smote shape:\", y_smote.shape)"
   ]
  },
  {
   "cell_type": "code",
   "execution_count": 8,
   "id": "ebc26565",
   "metadata": {},
   "outputs": [
    {
     "name": "stdout",
     "output_type": "stream",
     "text": [
      "<class 'numpy.ndarray'>\n",
      "(9954, 961)\n"
     ]
    }
   ],
   "source": [
    "rows, cols = x_smote.shape\n",
    "x_smote_tmp = np.random.rand(rows, cols + 1)\n",
    "x_smote_tmp[:,:-1] = x_smote\n",
    "x_smote_tmp[:, -1] = y_smote\n",
    "\n",
    "print(type(x_smote_tmp))\n",
    "print(x_smote_tmp.shape)\n",
    "# print(x_smote_tmp[1,:])"
   ]
  },
  {
   "cell_type": "code",
   "execution_count": 9,
   "id": "fe187cdd",
   "metadata": {},
   "outputs": [],
   "source": [
    "type(X_test)\n",
    "pd.DataFrame(x_smote_tmp).to_csv(\"train_smote.csv\", header=None)\n",
    "pd.DataFrame(X_test).to_csv(\"test_smote.csv\", header=None)\n",
    "# pd.DataFrame(X_test).to_csv(\"test_smote.csv\", header=None, index=None)"
   ]
  },
  {
   "cell_type": "code",
   "execution_count": 10,
   "id": "1cdec6db",
   "metadata": {},
   "outputs": [
    {
     "name": "stdout",
     "output_type": "stream",
     "text": [
      "(2959, 960)\n"
     ]
    }
   ],
   "source": [
    "print(X_test.shape)"
   ]
  }
 ],
 "metadata": {
  "kernelspec": {
   "display_name": "Python 3",
   "language": "python",
   "name": "python3"
  },
  "language_info": {
   "codemirror_mode": {
    "name": "ipython",
    "version": 3
   },
   "file_extension": ".py",
   "mimetype": "text/x-python",
   "name": "python",
   "nbconvert_exporter": "python",
   "pygments_lexer": "ipython3",
   "version": "3.8.8"
  }
 },
 "nbformat": 4,
 "nbformat_minor": 5
}
