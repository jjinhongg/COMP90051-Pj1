{
 "cells": [
  {
   "cell_type": "code",
   "execution_count": 21,
   "metadata": {},
   "outputs": [],
   "source": [
    "# Code based on https://github.com/kdkalvik/ST-GCN\n",
    "import sys\n",
    "import numpy as np\n",
    "import matplotlib.pyplot as plt\n",
    "import os\n",
    "\n",
    "NUM_JOINTS = 20\n",
    "inward_index = [(1, 2), (2, 3), (4, 3), #middle\n",
    "                    (9, 3), (10, 9), (11, 10), (12, 11), #right arm\n",
    "                    (5, 3), (6, 5), (7, 6), (8, 7), #left arm\n",
    "                    (17, 1), (18, 17), (19, 18), (20, 19), #right leg\n",
    "                    (13, 1), (14, 13), (15, 14), (16, 15)] #left leg\n",
    "\n",
    "self_link = [(i, i) for i in range(NUM_JOINTS)]\n",
    "inward = [(i - 1, j - 1) for (i, j) in inward_index]\n",
    "outward = [(j, i) for (i, j) in inward]\n",
    "neighbour = inward + outward\n",
    "\n",
    "class Graph:\n",
    "    def __init__(self, labeling_mode='spatial'):\n",
    "        self.A = self.get_adjacency_matrix(labeling_mode)\n",
    "        self.self_link = self_link\n",
    "        self.inward = inward\n",
    "        self.outward = outward\n",
    "        self.neighbour = neighbour\n",
    "\n",
    "    def get_adjacency_matrix(self, labeling_mode=None):\n",
    "        if labeling_mode is None:\n",
    "            return self.A\n",
    "        if labeling_mode == 'spatial':\n",
    "            A = get_spatial_graph(self_link, inward, outward)\n",
    "        else:\n",
    "            raise ValueError()\n",
    "        return A"
   ]
  },
  {
   "cell_type": "code",
   "execution_count": 2,
   "metadata": {},
   "outputs": [],
   "source": [
    "def edge2mat(link, num_node):\n",
    "    A = np.zeros((NUM_JOINTS, NUM_JOINTS))\n",
    "    for i, j in link:\n",
    "        A[j, i] = 1\n",
    "    return A"
   ]
  },
  {
   "cell_type": "code",
   "execution_count": 3,
   "metadata": {},
   "outputs": [],
   "source": [
    "def normalize_digraph(A):\n",
    "    Dl = np.sum(A, 0)\n",
    "    h, w = A.shape\n",
    "    Dn = np.zeros((w, w))\n",
    "    for i in range(w):\n",
    "        if Dl[i] > 0:\n",
    "            Dn[i, i] = Dl[i] ** (-1)\n",
    "    AD = np.dot(A, Dn)\n",
    "    return AD"
   ]
  },
  {
   "cell_type": "code",
   "execution_count": 19,
   "metadata": {},
   "outputs": [],
   "source": [
    "def get_spatial_graph(self_link, inward, outward):\n",
    "    I = edge2mat(self_link, NUM_JOINTS)\n",
    "    In = normalize_digraph(edge2mat(inward, NUM_JOINTS))\n",
    "    Out = normalize_digraph(edge2mat(outward, NUM_JOINTS))\n",
    "    A = np.stack((I, In, Out))\n",
    "    return A"
   ]
  },
  {
   "cell_type": "code",
   "execution_count": 22,
   "metadata": {},
   "outputs": [
    {
     "data": {
      "image/png": "[encoded data removed]",
      "text/plain": [
       "<Figure size 432x288 with 1 Axes>"
      ]
     },
     "metadata": {
      "needs_background": "light"
     },
     "output_type": "display_data"
    },
    {
     "data": {
      "image/png": "[encoded data removed]",
      "text/plain": [
       "<Figure size 432x288 with 1 Axes>"
      ]
     },
     "metadata": {
      "needs_background": "light"
     },
     "output_type": "display_data"
    },
    {
     "data": {
      "image/png": "[encoded data removed]",
      "text/plain": [
       "<Figure size 432x288 with 1 Axes>"
      ]
     },
     "metadata": {
      "needs_background": "light"
     },
     "output_type": "display_data"
    },
    {
     "name": "stdout",
     "output_type": "stream",
     "text": [
      "[[[1.   0.   0.   ... 0.   0.   0.  ]\n",
      "  [0.   1.   0.   ... 0.   0.   0.  ]\n",
      "  [0.   0.   1.   ... 0.   0.   0.  ]\n",
      "  ...\n",
      "  [0.   0.   0.   ... 1.   0.   0.  ]\n",
      "  [0.   0.   0.   ... 0.   1.   0.  ]\n",
      "  [0.   0.   0.   ... 0.   0.   1.  ]]\n",
      "\n",
      " [[0.   0.   0.   ... 0.   0.   0.  ]\n",
      "  [1.   0.   0.   ... 0.   0.   0.  ]\n",
      "  [0.   1.   0.   ... 0.   0.   0.  ]\n",
      "  ...\n",
      "  [0.   0.   0.   ... 0.   1.   0.  ]\n",
      "  [0.   0.   0.   ... 0.   0.   1.  ]\n",
      "  [0.   0.   0.   ... 0.   0.   0.  ]]\n",
      "\n",
      " [[0.   1.   0.   ... 0.   0.   0.  ]\n",
      "  [0.   0.   0.25 ... 0.   0.   0.  ]\n",
      "  [0.   0.   0.   ... 0.   0.   0.  ]\n",
      "  ...\n",
      "  [0.   0.   0.   ... 0.   0.   0.  ]\n",
      "  [0.   0.   0.   ... 1.   0.   0.  ]\n",
      "  [0.   0.   0.   ... 0.   1.   0.  ]]]\n"
     ]
    }
   ],
   "source": [
    "if __name__ == '__main__':\n",
    "\n",
    "    A = Graph('spatial').get_adjacency_matrix()\n",
    "    for i in A:\n",
    "        plt.imshow(i, cmap='gray')\n",
    "        plt.show()\n",
    "    print(A)"
   ]
  }
 ],
 "metadata": {
  "kernelspec": {
   "display_name": "Python 3",
   "language": "python",
   "name": "python3"
  },
  "language_info": {
   "codemirror_mode": {
    "name": "ipython",
    "version": 3
   },
   "file_extension": ".py",
   "mimetype": "text/x-python",
   "name": "python",
   "nbconvert_exporter": "python",
   "pygments_lexer": "ipython3",
   "version": "3.6.5"
  }
 },
 "nbformat": 4,
 "nbformat_minor": 5
}
