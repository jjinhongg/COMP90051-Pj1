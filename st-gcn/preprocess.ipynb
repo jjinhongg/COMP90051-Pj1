{
 "cells": [
  {
   "cell_type": "code",
   "execution_count": 1,
   "metadata": {},
   "outputs": [
    {
     "name": "stdout",
     "output_type": "stream",
     "text": [
      "importing Jupyter notebook from rotation.ipynb\n"
     ]
    }
   ],
   "source": [
    "import pandas as pd\n",
    "import numpy as np\n",
    "from tqdm import tqdm\n",
    "import import_ipynb\n",
    "from rotation import rotation_matrix, unit_vector, angle_between, x_rotation, y_rotation, z_rotation\n",
    "\n",
    "# for machine learning\n",
    "from sklearn import model_selection, preprocessing, feature_selection, ensemble, linear_model, metrics, decomposition\n",
    "from imblearn.over_sampling import SMOTE\n",
    "from imblearn.combine import SMOTETomek, SMOTEENN\n",
    "from imblearn.under_sampling import TomekLinks, RandomUnderSampler, EditedNearestNeighbours, AllKNN\n",
    "\n",
    "import csv\n",
    "from csv import reader\n",
    "import pickle\n",
    "from collections import Counter\n",
    "from matplotlib import pyplot"
   ]
  },
  {
   "cell_type": "code",
   "execution_count": 2,
   "metadata": {},
   "outputs": [],
   "source": [
    "NUM_FEATURES = 3\n",
    "NUM_JOINTS = 20\n",
    "NUM_FRAMES = 16\n",
    "FILE_NAME = '../train.csv'\n",
    "test_FILE_NAME = '../test.csv'"
   ]
  },
  {
   "cell_type": "code",
   "execution_count": 165,
   "metadata": {
    "scrolled": false
   },
   "outputs": [],
   "source": [
    "dtf = pd.read_csv(FILE_NAME, header = None)\n",
    "#dtf = dtf.set_index(dtf.columns[0])\n",
    "\n",
    "dtf = dtf.sample(frac = 1)\n",
    "X = dtf.iloc[:,:-1]\n",
    "y = dtf.iloc[:,-1]\n",
    "\n",
    "dtf_test = pd.read_csv(test_FILE_NAME, header = None)\n",
    "#dtf_test = dtf_test.set_index(dtf_test.columns[0])\n",
    "\n",
    "dtf_test = dtf_test.sample(frac = 1)\n",
    "X_test = dtf_test.iloc[:,:]\n",
    "X_test_index = dtf_test.iloc[:,0]"
   ]
  },
  {
   "cell_type": "code",
   "execution_count": 147,
   "metadata": {},
   "outputs": [
    {
     "name": "stdout",
     "output_type": "stream",
     "text": [
      "       0         1          2         3        4         5          6    \\\n",
      "3445  3446  2.763200   1.814600   1.24620  4.35440  -5.60340   2.013300   \n",
      "3940  3941  0.078721   0.236160   0.11386  0.47092  -0.87226   0.070287   \n",
      "980    981  8.604900  77.222000 -33.38400  1.64850  80.84900 -28.205000   \n",
      "8517  8518 -0.838180   0.099734  -0.27461 -1.36490  -0.29374   0.086755   \n",
      "9377  9378  2.902900  -4.941600  -4.60230  2.22080  -1.38000  -7.522300   \n",
      "...    ...       ...        ...       ...      ...       ...        ...   \n",
      "5682  5683 -0.356610   0.238640  -0.53626 -0.56643  -0.13004  -0.790310   \n",
      "295    296  0.083236   8.326500 -12.89400  3.66380   8.36110  -2.151600   \n",
      "1304  1305  8.661800 -27.151000  45.20800  4.26740 -14.75500  49.767000   \n",
      "1989  1990 -0.195580   0.020587   0.37507 -0.19944   0.26120   0.544910   \n",
      "6192  6193 -1.321800  -0.165640   0.46260 -0.72063  -0.99252   0.301580   \n",
      "\n",
      "           7         8          9    ...      951        952      953  \\\n",
      "3445  7.651700 -17.95700   1.295000  ...   8.2669  -3.678800   1.1046   \n",
      "3940  1.329800  -1.72060  -0.297310  ...   3.7990  -0.099104   4.6509   \n",
      "980  -5.181000  83.85200 -22.850000  ...  -5.9292  30.973000   1.0612   \n",
      "8517 -2.271300  -0.99188   0.089488  ...   1.1189  -3.299400  -1.3758   \n",
      "9377  1.659600   3.86730 -13.476000  ... -19.3360  28.381000 -11.5080   \n",
      "...        ...       ...        ...  ...      ...        ...      ...   \n",
      "5682 -0.825840  -0.75211  -0.959910  ...  40.5480  12.372000  -7.9789   \n",
      "295   5.618800  10.80700   8.755200  ... -32.5890   5.246800   3.0731   \n",
      "1304 -1.542700 -13.77200  40.963000  ... -40.3340 -12.015000  58.3430   \n",
      "1989 -0.090067   0.53333   0.717320  ...  -1.1265  -2.311500   4.7864   \n",
      "6192  0.434890  -1.94480   0.155080  ...  74.9790 -24.435000  31.6230   \n",
      "\n",
      "            954       955      956      957        958        959       960  \n",
      "3445    6.38700   2.71440 -23.8900  10.0300   -2.33150 -23.775000  10.66600  \n",
      "3940   -1.29120   0.85891   1.9800   2.9654   -0.18696   0.043578   1.16250  \n",
      "980    40.90600 -17.92900  -2.8760  19.0150  -16.60300  -2.505300  17.54100  \n",
      "8517    0.42490  -0.33541  -2.8131  -1.4632    9.61140   0.621630  -3.08700  \n",
      "9377   24.37600   2.18640   4.9533  -1.3147    1.93090   6.325000 -11.18600  \n",
      "...         ...       ...      ...      ...        ...        ...       ...  \n",
      "5682   34.95100   1.93720   1.4814   4.8699    5.20780  22.655000 -36.16100  \n",
      "295    23.33000   5.29840   1.3708   7.5605  -44.06700 -12.302000  57.55600  \n",
      "1304 -134.12000  91.02600  88.0450  48.9150  110.37000  85.521000  60.07500  \n",
      "1989   -0.73791  -2.45110   2.9735   4.1952    1.01130   3.826600  -0.31009  \n",
      "6192   76.91100 -60.24700  40.3280  28.4110  -62.84300   2.384900  99.97400  \n",
      "\n",
      "[9388 rows x 961 columns]\n"
     ]
    }
   ],
   "source": [
    "print(X)"
   ]
  },
  {
   "cell_type": "code",
   "execution_count": 4,
   "metadata": {},
   "outputs": [],
   "source": [
    "def read_xyz(row):\n",
    "    skeleton_data, label = read_skeleton(row)\n",
    "    \n",
    "    data = np.zeros((NUM_FRAMES, NUM_JOINTS, NUM_FEATURES))\n",
    "    for m, i in enumerate(skeleton_data['frame_info']):\n",
    "        for n, j in enumerate(i['joint_info']):\n",
    "            feature_info = j['feature_info']\n",
    "            data[m, n, :] = [feature_info['x'], feature_info['y'], feature_info['z']]\n",
    "\n",
    "    data = data.transpose(2, 0, 1)\n",
    "    return data, label"
   ]
  },
  {
   "cell_type": "code",
   "execution_count": 5,
   "metadata": {},
   "outputs": [],
   "source": [
    "def read_skeleton(row):\n",
    "    label = row[-1]\n",
    "    #label = -1\n",
    "    skeleton_data = {}\n",
    "    skeleton_data['index'] = row[0]\n",
    "    skeleton_data['num_frame'] = NUM_FRAMES\n",
    "    skeleton_data['frame_info'] = []\n",
    "    \n",
    "    for frame in range(NUM_FRAMES):\n",
    "        offset = NUM_JOINTS * NUM_FEATURES\n",
    "        data_in_frame = row[frame*offset:(frame+1)*offset]\n",
    "        frame_info = {}\n",
    "        frame_info['num_joints'] = NUM_JOINTS\n",
    "        frame_info['joint_info'] = []\n",
    "        \n",
    "        for feature in range(NUM_JOINTS):\n",
    "            offset = NUM_FEATURES\n",
    "            data_in_joint = data_in_frame[feature*offset:(feature+1)*offset]\n",
    "            joint_info = {}\n",
    "            joint_info['num_features'] = NUM_FEATURES\n",
    "            joint_info['feature_info'] = {\n",
    "                k: float(v)\n",
    "                for k, v in zip(['x', 'y', 'z'], data_in_joint)\n",
    "            }\n",
    "            frame_info['joint_info'].append(joint_info)\n",
    "                    \n",
    "        skeleton_data['frame_info'].append(frame_info)\n",
    "    return skeleton_data, label"
   ]
  },
  {
   "cell_type": "code",
   "execution_count": 6,
   "metadata": {},
   "outputs": [],
   "source": [
    "def normalisation(data):\n",
    "    N, C, T, V, M = data.shape\n",
    "    s = np.transpose(data, [0, 4, 2, 3, 1])\n",
    "    zaxis=[0, 1]\n",
    "    xaxis=[8, 4]\n",
    "    \n",
    "    print('sub the center joint #1 (spine joint in ntu and neck joint in kinetics)')\n",
    "    for i_s, skeleton in enumerate(tqdm(s)):\n",
    "        if skeleton.sum() == 0:\n",
    "            continue\n",
    "        main_body_center = skeleton[0][:, 1:2, :].copy()\n",
    "        for i_p, person in enumerate(skeleton):\n",
    "            if person.sum() == 0:\n",
    "                continue\n",
    "            mask = (person.sum(-1) != 0).reshape(T, V, 1)\n",
    "            s[i_s, i_p] = (s[i_s, i_p] - main_body_center) * mask\n",
    "\n",
    "    print('parallel the bone between hip(jpt 0) and spine(jpt 1) of the first person to the z axis')\n",
    "    for i_s, skeleton in enumerate(tqdm(s)):\n",
    "        if skeleton.sum() == 0:\n",
    "            continue\n",
    "        joint_bottom = skeleton[0, 0, zaxis[0]]\n",
    "        joint_top = skeleton[0, 0, zaxis[1]]\n",
    "        axis = np.cross(joint_top - joint_bottom, [0, 0, 1])\n",
    "        angle = angle_between(joint_top - joint_bottom, [0, 0, 1])\n",
    "        matrix_z = rotation_matrix(axis, angle)\n",
    "        for i_p, person in enumerate(skeleton):\n",
    "            if person.sum() == 0:\n",
    "                continue\n",
    "            for i_f, frame in enumerate(person):\n",
    "                if frame.sum() == 0:\n",
    "                    continue\n",
    "                for i_j, joint in enumerate(frame):\n",
    "                    s[i_s, i_p, i_f, i_j] = np.dot(matrix_z, joint)\n",
    "\n",
    "    print('parallel the bone between right shoulder(jpt 8) and left shoulder(jpt 4) of the first person to the x axis')\n",
    "    for i_s, skeleton in enumerate(tqdm(s)):\n",
    "        if skeleton.sum() == 0:\n",
    "            continue\n",
    "        joint_rshoulder = skeleton[0, 0, xaxis[0]]\n",
    "        joint_lshoulder = skeleton[0, 0, xaxis[1]]\n",
    "        axis = np.cross(joint_rshoulder - joint_lshoulder, [1, 0, 0])\n",
    "        angle = angle_between(joint_rshoulder - joint_lshoulder, [1, 0, 0])\n",
    "        matrix_x = rotation_matrix(axis, angle)\n",
    "        for i_p, person in enumerate(skeleton):\n",
    "            if person.sum() == 0:\n",
    "                continue\n",
    "            for i_f, frame in enumerate(person):\n",
    "                if frame.sum() == 0:\n",
    "                    continue\n",
    "                for i_j, joint in enumerate(frame):\n",
    "                    s[i_s, i_p, i_f, i_j] = np.dot(matrix_x, joint)\n",
    "\n",
    "    data = np.transpose(s, [0, 4, 2, 3, 1])\n",
    "    return data\n",
    "    "
   ]
  },
  {
   "cell_type": "code",
   "execution_count": 166,
   "metadata": {},
   "outputs": [],
   "source": [
    "X_train = X.set_index(X.columns[0])\n",
    "X_test = X_test.set_index(X_test.columns[0])"
   ]
  },
  {
   "cell_type": "code",
   "execution_count": 167,
   "metadata": {},
   "outputs": [
    {
     "name": "stdout",
     "output_type": "stream",
     "text": [
      "[[0.35829846 0.46484209 0.43109571 ... 0.47740769 0.51871743 0.46477613]\n",
      " [0.36773014 0.46458315 0.45090887 ... 0.47960072 0.54840756 0.41302707]\n",
      " [0.36922895 0.46495889 0.44905455 ... 0.47426015 0.55025278 0.41644322]\n",
      " ...\n",
      " [0.23792468 0.40445983 0.48863087 ... 0.46767705 0.55121494 0.40214598]\n",
      " [0.36569803 0.46102447 0.44842078 ... 0.47766408 0.54725711 0.41150587]\n",
      " [0.37548405 0.45651266 0.46527801 ... 0.44682381 0.55041291 0.47709144]]\n"
     ]
    }
   ],
   "source": [
    "# Stratified Train test split\n",
    "sss = model_selection.StratifiedShuffleSplit(n_splits=1, test_size = 0.2, random_state=None)\n",
    "# for train_index, test_index in sss.split(X, y):\n",
    "#     # print(\"TRAIN:\", train_index, \"TEST:\", test_index)\n",
    "#     X_train, X_test = X.iloc[train_index], X.iloc[test_index]\n",
    "#     y_train, y_test = y.iloc[train_index], y.iloc[test_index]\n",
    "\n",
    "scaler = preprocessing.MinMaxScaler()\n",
    "X_train = scaler.fit_transform(X_train)\n",
    "X_test = scaler.transform(X_test)\n",
    "print(X_test)"
   ]
  },
  {
   "cell_type": "code",
   "execution_count": 168,
   "metadata": {},
   "outputs": [
    {
     "data": {
      "image/png": "[encoded data removed]",
      "text/plain": [
       "<Figure size 432x288 with 1 Axes>"
      ]
     },
     "metadata": {},
     "output_type": "display_data"
    },
    {
     "name": "stdout",
     "output_type": "stream",
     "text": [
      "(9728, 960)\n",
      "[[0.38259048 0.47043366 0.45698015 ... 0.48037052 0.54256064 0.41356523]\n",
      " [0.36948615 0.46544824 0.441965   ... 0.47674889 0.54780905 0.40928742]\n",
      " [0.35037566 0.46943302 0.44736133 ... 0.47198432 0.57316619 0.38508744]\n",
      " ...\n",
      " [0.3592604  0.45673127 0.43547185 ... 0.52239648 0.49749173 0.41431011]\n",
      " [0.35413113 0.45320654 0.43200286 ... 0.5207825  0.49023103 0.42396991]\n",
      " [0.36833887 0.46280751 0.45115063 ... 0.47749518 0.54949879 0.41119773]]\n"
     ]
    }
   ],
   "source": [
    "# smote = SMOTE(sampling_strategy='minority')\n",
    "# x_smote, y_smote = smote.fit_resample(X, y)\n",
    "# # fit predictor and target variable\n",
    "\n",
    "# for i in range(8):\n",
    "#     x_smote, y_smote = smote.fit_resample(x_smote, y_smote)\n",
    "# Try these below instead --- Jin Hong\n",
    "#x_smote, y_smote = X_train, y\n",
    "#x_smote, y_smote = SMOTE().fit_resample(X_train, y)\n",
    "#x_smote, y_smote = SMOTETomek(random_state=42).fit_resample(X_train, y)\n",
    "#x_smote, y_smote = SMOTEENN(random_state=42).fit_resample(X_train, y)\n",
    "\n",
    "\n",
    "\n",
    "# ------------------------ Divider ------------------------------#\n",
    "# ------------- Manual downsample + SMOTETomek ------------------#\n",
    "\n",
    "strategy = Counter(y)\n",
    "for key, val in strategy.items():\n",
    "    if key < 11:\n",
    "        strategy[key] = 200\n",
    "        \n",
    "    else:\n",
    "        strategy[key] = val\n",
    "\n",
    "x_rus, y_rus = RandomUnderSampler(sampling_strategy=strategy).fit_resample(X_train, y)\n",
    "x_smote, y_smote = SMOTETomek(sampling_strategy='all').fit_resample(x_rus, y_rus)\n",
    "\n",
    "pyplot.bar(Counter(y_smote).keys(), Counter(y_smote).values())\n",
    "pyplot.show()\n",
    "\n",
    "print(x_smote.shape)\n",
    "print(x_smote)"
   ]
  },
  {
   "cell_type": "code",
   "execution_count": 170,
   "metadata": {},
   "outputs": [
    {
     "name": "stdout",
     "output_type": "stream",
     "text": [
      "9728\n"
     ]
    }
   ],
   "source": [
    "fp = np.zeros((len(x_smote), NUM_FEATURES, NUM_FRAMES, NUM_JOINTS, 1), dtype=np.float32) #construct a matrix, with num of data, num of features for each joint, num of frames, num of joints, num of people(always 1 in our case)\n",
    "print(len(x_smote))\n",
    "for i, row in enumerate(x_smote):\n",
    "    data, label = read_xyz(row)\n",
    "    fp[i, :, :, :, 0] = data\n",
    "#fp = normalisation(fp)\n",
    "np.save('train_smote_random10_minmax.npy', fp)"
   ]
  },
  {
   "cell_type": "code",
   "execution_count": 171,
   "metadata": {},
   "outputs": [],
   "source": [
    "labels = []\n",
    "for i, row in enumerate(y_smote.values):\n",
    "    labels.append(row)\n",
    "with open('label_smote_random10_minmax.pkl', 'wb') as f:\n",
    "    pickle.dump(labels, f)"
   ]
  },
  {
   "cell_type": "code",
   "execution_count": null,
   "metadata": {},
   "outputs": [],
   "source": [
    "fp = np.zeros((len(X_test), NUM_FEATURES, NUM_FRAMES, NUM_JOINTS, 1), dtype=np.float32) #construct a matrix, with num of data, num of features for each joint, num of frames, num of joints, num of people(always 1 in our case)\n",
    "for i, row in enumerate(X_test):\n",
    "    data, label = read_xyz(row)\n",
    "    fp[i, :, :, :, 0] = data\n",
    "#fp = normalisation(fp)\n",
    "np.save('test_minmax.npy', fp)"
   ]
  },
  {
   "cell_type": "code",
   "execution_count": null,
   "metadata": {},
   "outputs": [],
   "source": [
    "labels = []\n",
    "for i, row in enumerate(X_test_index):\n",
    "    labels.append(row-1)\n",
    "with open('label_test.pkl', 'wb') as f:\n",
    "    pickle.dump(labels, f)"
   ]
  },
  {
   "cell_type": "code",
   "execution_count": 11,
   "metadata": {},
   "outputs": [],
   "source": [
    "# fp = np.zeros((len(dtf), NUM_FEATURES, NUM_FRAMES, NUM_JOINTS, 1), dtype=np.float32)\n",
    "#     #construct a matrix, with num of data, num of features for each joint, num of frames, num of joints, num of people(always 1 in our case)\n",
    "# with open(FILE_NAME, 'r') as f:\n",
    "#         csv_reader = reader(f)\n",
    "#         labels = []\n",
    "#         for i, row in enumerate(csv_reader):\n",
    "#             data, label = read_xyz(row)\n",
    "#             labels.append(int(label))\n",
    "#             fp[i, :, :, :, 0] = data\n",
    "#fp = normalisation(fp)\n",
    "#np.save('train_data.npy', fp)\n",
    "#np.save('test_data.npy', fp)\n",
    "\n",
    "# with open('label.pkl', 'wb') as f:\n",
    "#     pickle.dump(labels, f)"
   ]
  },
  {
   "cell_type": "code",
   "execution_count": 164,
   "metadata": {},
   "outputs": [
    {
     "data": {
      "text/plain": [
       "[42,\n",
       " 42,\n",
       " 42,\n",
       " 42,\n",
       " 42,\n",
       " 42,\n",
       " 42,\n",
       " 42,\n",
       " 42,\n",
       " 42,\n",
       " 42,\n",
       " 42,\n",
       " 42,\n",
       " 42,\n",
       " 42,\n",
       " 42,\n",
       " 42,\n",
       " 42,\n",
       " 42,\n",
       " 42,\n",
       " 42,\n",
       " 42,\n",
       " 42,\n",
       " 42,\n",
       " 42,\n",
       " 42,\n",
       " 42,\n",
       " 42,\n",
       " 42,\n",
       " 42,\n",
       " 42,\n",
       " 42,\n",
       " 42,\n",
       " 42,\n",
       " 42,\n",
       " 42,\n",
       " 42,\n",
       " 42,\n",
       " 42,\n",
       " 42,\n",
       " 42,\n",
       " 42,\n",
       " 42,\n",
       " 42,\n",
       " 42,\n",
       " 42,\n",
       " 42,\n",
       " 42,\n",
       " 42,\n",
       " 42,\n",
       " 42,\n",
       " 42,\n",
       " 42,\n",
       " 42,\n",
       " 42,\n",
       " 42,\n",
       " 42,\n",
       " 42,\n",
       " 42,\n",
       " 42,\n",
       " 42,\n",
       " 42,\n",
       " 42,\n",
       " 42,\n",
       " 42,\n",
       " 42,\n",
       " 42,\n",
       " 42,\n",
       " 42,\n",
       " 42,\n",
       " 42,\n",
       " 42,\n",
       " 42,\n",
       " 42,\n",
       " 42,\n",
       " 42,\n",
       " 42,\n",
       " 42,\n",
       " 42,\n",
       " 42,\n",
       " 42]"
      ]
     },
     "execution_count": 164,
     "metadata": {},
     "output_type": "execute_result"
    }
   ],
   "source": [
    "unpickled_df = pd.read_pickle(\"label_smote_random10.pkl\")\n",
    "unpickled_df[14400:]"
   ]
  },
  {
   "cell_type": "code",
   "execution_count": null,
   "metadata": {},
   "outputs": [],
   "source": []
  }
 ],
 "metadata": {
  "kernelspec": {
   "display_name": "Python 3",
   "language": "python",
   "name": "python3"
  },
  "language_info": {
   "codemirror_mode": {
    "name": "ipython",
    "version": 3
   },
   "file_extension": ".py",
   "mimetype": "text/x-python",
   "name": "python",
   "nbconvert_exporter": "python",
   "pygments_lexer": "ipython3",
   "version": "3.6.5"
  }
 },
 "nbformat": 4,
 "nbformat_minor": 5
}
