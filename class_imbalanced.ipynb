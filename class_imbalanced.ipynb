{
    "cells": [
        {
            "cell_type": "markdown",
            "source": [
                "# Data"
            ],
            "metadata": {}
        },
        {
            "cell_type": "code",
            "execution_count": 25,
            "source": [
                "import pandas as pd\n",
                "import matplotlib.pyplot as plt\n",
                "import seaborn as sns\n",
                "from collections import Counter\n",
                "import numpy as np\n",
                "import xgboost\n",
                "\n",
                "from sklearn.linear_model import LogisticRegression\n",
                "from sklearn.metrics import accuracy_score, f1_score, confusion_matrix, roc_auc_score\n",
                "from sklearn.model_selection import train_test_split\n",
                "from sklearn.metrics import make_scorer\n",
                "from sklearn.preprocessing import MinMaxScaler"
            ],
            "outputs": [],
            "metadata": {}
        },
        {
            "cell_type": "code",
            "execution_count": 2,
            "source": [
                "df = pd.read_csv('train.csv', header = None)\n",
                "df = df.set_index(df.columns[0])\n",
                "# dtf = dtf.set_index(\"user_id\")\n",
                "df.head()"
            ],
            "outputs": [
                {
                    "output_type": "execute_result",
                    "data": {
                        "text/plain": [
                            "      1         2        3        4       5        6        7        8    \\\n",
                            "0                                                                          \n",
                            "1 -1.8226   8.51070 -0.53551 -2.03440  2.2282  2.04870 -5.81380  -4.4169   \n",
                            "2  1.2816  -0.49410 -0.19667  1.05510 -1.9280  1.07120 -0.19667  -4.6669   \n",
                            "3 -2.0304  -0.27552 -0.58236 -5.95250  7.3550  2.16640 -4.71510  17.1580   \n",
                            "4 -1.0026   0.41320  0.62058 -0.34226 -0.2027 -0.92619  0.61123  -2.0824   \n",
                            "5  1.2754  25.84200  5.80000  2.89000  3.1957  4.45040  5.99760  -6.4947   \n",
                            "\n",
                            "       9         10   ...       952      953       954      955      956  \\\n",
                            "0                     ...                                                  \n",
                            "1   2.3129  0.808290  ...  -5.74060  12.5650  41.23100 -6.77570  1.72780   \n",
                            "2   3.8230 -3.245900  ... -20.50300  47.7540   2.88560 -6.86660  6.29350   \n",
                            "3  15.5120 -0.822280  ... -10.71800  -4.5436   1.38680 -5.32100 -6.08350   \n",
                            "4  -3.5442 -0.043659  ...  -2.90100   4.5538  -0.77261  4.25520  0.27911   \n",
                            "5   2.9189  3.202700  ...  -0.97276   3.8810   7.13330  0.70157 -1.69570   \n",
                            "\n",
                            "       957        958      959      960  961  \n",
                            "0                                             \n",
                            "1  15.9120  23.583000   3.9158  35.7250    1  \n",
                            "2  -4.8789  -1.300100  -1.4275  -3.4192    1  \n",
                            "3  -1.3021 -10.569000  -4.2189  -1.6538    1  \n",
                            "4   4.7744  -5.695200 -18.7410  58.3810    1  \n",
                            "5   1.2263  -0.093752  -1.7140   2.5131    1  \n",
                            "\n",
                            "[5 rows x 961 columns]"
                        ],
                        "text/html": [
                            "<div>\n",
                            "<style scoped>\n",
                            "    .dataframe tbody tr th:only-of-type {\n",
                            "        vertical-align: middle;\n",
                            "    }\n",
                            "\n",
                            "    .dataframe tbody tr th {\n",
                            "        vertical-align: top;\n",
                            "    }\n",
                            "\n",
                            "    .dataframe thead th {\n",
                            "        text-align: right;\n",
                            "    }\n",
                            "</style>\n",
                            "<table border=\"1\" class=\"dataframe\">\n",
                            "  <thead>\n",
                            "    <tr style=\"text-align: right;\">\n",
                            "      <th></th>\n",
                            "      <th>1</th>\n",
                            "      <th>2</th>\n",
                            "      <th>3</th>\n",
                            "      <th>4</th>\n",
                            "      <th>5</th>\n",
                            "      <th>6</th>\n",
                            "      <th>7</th>\n",
                            "      <th>8</th>\n",
                            "      <th>9</th>\n",
                            "      <th>10</th>\n",
                            "      <th>...</th>\n",
                            "      <th>952</th>\n",
                            "      <th>953</th>\n",
                            "      <th>954</th>\n",
                            "      <th>955</th>\n",
                            "      <th>956</th>\n",
                            "      <th>957</th>\n",
                            "      <th>958</th>\n",
                            "      <th>959</th>\n",
                            "      <th>960</th>\n",
                            "      <th>961</th>\n",
                            "    </tr>\n",
                            "    <tr>\n",
                            "      <th>0</th>\n",
                            "      <th></th>\n",
                            "      <th></th>\n",
                            "      <th></th>\n",
                            "      <th></th>\n",
                            "      <th></th>\n",
                            "      <th></th>\n",
                            "      <th></th>\n",
                            "      <th></th>\n",
                            "      <th></th>\n",
                            "      <th></th>\n",
                            "      <th></th>\n",
                            "      <th></th>\n",
                            "      <th></th>\n",
                            "      <th></th>\n",
                            "      <th></th>\n",
                            "      <th></th>\n",
                            "      <th></th>\n",
                            "      <th></th>\n",
                            "      <th></th>\n",
                            "      <th></th>\n",
                            "      <th></th>\n",
                            "    </tr>\n",
                            "  </thead>\n",
                            "  <tbody>\n",
                            "    <tr>\n",
                            "      <th>1</th>\n",
                            "      <td>-1.8226</td>\n",
                            "      <td>8.51070</td>\n",
                            "      <td>-0.53551</td>\n",
                            "      <td>-2.03440</td>\n",
                            "      <td>2.2282</td>\n",
                            "      <td>2.04870</td>\n",
                            "      <td>-5.81380</td>\n",
                            "      <td>-4.4169</td>\n",
                            "      <td>2.3129</td>\n",
                            "      <td>0.808290</td>\n",
                            "      <td>...</td>\n",
                            "      <td>-5.74060</td>\n",
                            "      <td>12.5650</td>\n",
                            "      <td>41.23100</td>\n",
                            "      <td>-6.77570</td>\n",
                            "      <td>1.72780</td>\n",
                            "      <td>15.9120</td>\n",
                            "      <td>23.583000</td>\n",
                            "      <td>3.9158</td>\n",
                            "      <td>35.7250</td>\n",
                            "      <td>1</td>\n",
                            "    </tr>\n",
                            "    <tr>\n",
                            "      <th>2</th>\n",
                            "      <td>1.2816</td>\n",
                            "      <td>-0.49410</td>\n",
                            "      <td>-0.19667</td>\n",
                            "      <td>1.05510</td>\n",
                            "      <td>-1.9280</td>\n",
                            "      <td>1.07120</td>\n",
                            "      <td>-0.19667</td>\n",
                            "      <td>-4.6669</td>\n",
                            "      <td>3.8230</td>\n",
                            "      <td>-3.245900</td>\n",
                            "      <td>...</td>\n",
                            "      <td>-20.50300</td>\n",
                            "      <td>47.7540</td>\n",
                            "      <td>2.88560</td>\n",
                            "      <td>-6.86660</td>\n",
                            "      <td>6.29350</td>\n",
                            "      <td>-4.8789</td>\n",
                            "      <td>-1.300100</td>\n",
                            "      <td>-1.4275</td>\n",
                            "      <td>-3.4192</td>\n",
                            "      <td>1</td>\n",
                            "    </tr>\n",
                            "    <tr>\n",
                            "      <th>3</th>\n",
                            "      <td>-2.0304</td>\n",
                            "      <td>-0.27552</td>\n",
                            "      <td>-0.58236</td>\n",
                            "      <td>-5.95250</td>\n",
                            "      <td>7.3550</td>\n",
                            "      <td>2.16640</td>\n",
                            "      <td>-4.71510</td>\n",
                            "      <td>17.1580</td>\n",
                            "      <td>15.5120</td>\n",
                            "      <td>-0.822280</td>\n",
                            "      <td>...</td>\n",
                            "      <td>-10.71800</td>\n",
                            "      <td>-4.5436</td>\n",
                            "      <td>1.38680</td>\n",
                            "      <td>-5.32100</td>\n",
                            "      <td>-6.08350</td>\n",
                            "      <td>-1.3021</td>\n",
                            "      <td>-10.569000</td>\n",
                            "      <td>-4.2189</td>\n",
                            "      <td>-1.6538</td>\n",
                            "      <td>1</td>\n",
                            "    </tr>\n",
                            "    <tr>\n",
                            "      <th>4</th>\n",
                            "      <td>-1.0026</td>\n",
                            "      <td>0.41320</td>\n",
                            "      <td>0.62058</td>\n",
                            "      <td>-0.34226</td>\n",
                            "      <td>-0.2027</td>\n",
                            "      <td>-0.92619</td>\n",
                            "      <td>0.61123</td>\n",
                            "      <td>-2.0824</td>\n",
                            "      <td>-3.5442</td>\n",
                            "      <td>-0.043659</td>\n",
                            "      <td>...</td>\n",
                            "      <td>-2.90100</td>\n",
                            "      <td>4.5538</td>\n",
                            "      <td>-0.77261</td>\n",
                            "      <td>4.25520</td>\n",
                            "      <td>0.27911</td>\n",
                            "      <td>4.7744</td>\n",
                            "      <td>-5.695200</td>\n",
                            "      <td>-18.7410</td>\n",
                            "      <td>58.3810</td>\n",
                            "      <td>1</td>\n",
                            "    </tr>\n",
                            "    <tr>\n",
                            "      <th>5</th>\n",
                            "      <td>1.2754</td>\n",
                            "      <td>25.84200</td>\n",
                            "      <td>5.80000</td>\n",
                            "      <td>2.89000</td>\n",
                            "      <td>3.1957</td>\n",
                            "      <td>4.45040</td>\n",
                            "      <td>5.99760</td>\n",
                            "      <td>-6.4947</td>\n",
                            "      <td>2.9189</td>\n",
                            "      <td>3.202700</td>\n",
                            "      <td>...</td>\n",
                            "      <td>-0.97276</td>\n",
                            "      <td>3.8810</td>\n",
                            "      <td>7.13330</td>\n",
                            "      <td>0.70157</td>\n",
                            "      <td>-1.69570</td>\n",
                            "      <td>1.2263</td>\n",
                            "      <td>-0.093752</td>\n",
                            "      <td>-1.7140</td>\n",
                            "      <td>2.5131</td>\n",
                            "      <td>1</td>\n",
                            "    </tr>\n",
                            "  </tbody>\n",
                            "</table>\n",
                            "<p>5 rows × 961 columns</p>\n",
                            "</div>"
                        ]
                    },
                    "metadata": {},
                    "execution_count": 2
                }
            ],
            "metadata": {}
        },
        {
            "cell_type": "code",
            "execution_count": 15,
            "source": [
                "submission_test= pd.read_csv('test.csv', header=None)\n",
                "submission_test = submission_test.set_index(submission_test.columns[0])\n",
                "submission_test.head()"
            ],
            "outputs": [
                {
                    "output_type": "execute_result",
                    "data": {
                        "text/plain": [
                            "        1         2         3          4          5         6         7    \\\n",
                            "0                                                                           \n",
                            "1   0.93652  -0.32644   2.02410  -1.996400  -2.600600   2.30860  -8.25920   \n",
                            "2   1.93410  -2.58880  -5.27190  10.809000  -5.624800 -15.28800  18.15000   \n",
                            "3   0.15171  -0.32254   0.54372  -0.001275  -0.036333   0.01976  -0.15681   \n",
                            "4  -3.99490  -7.74780  15.75800  -5.631000 -11.692000   4.41430 -10.73100   \n",
                            "5 -10.13300 -31.76300  32.31000 -12.476000  -3.226600  19.49200  -8.83500   \n",
                            "\n",
                            "         8         9         10   ...       951        952        953  \\\n",
                            "0                                 ...                                   \n",
                            "1  -9.209900   2.88510   0.34574  ...   15.2500   -0.13846   -3.11080   \n",
                            "2  -8.198600 -25.02300  21.76300  ... -112.6000  215.56000 -169.93000   \n",
                            "3   0.040158  -0.38437   0.48062  ...    9.5563    2.49110   -0.79551   \n",
                            "4 -16.211000   0.74900 -16.25500  ...  109.6000   62.72700  153.11000   \n",
                            "5   3.977800  14.96800  -1.39250  ...    1.0905   16.74200   10.98200   \n",
                            "\n",
                            "        954       955        956       957        958       959       960  \n",
                            "0                                                                          \n",
                            "1    2.0895    2.5293    5.84900   -4.9897    4.75810    5.1081   -2.9497  \n",
                            "2  -97.7360  123.8600  -47.75700    8.5216  133.73000  -21.5210   -2.8799  \n",
                            "3    6.1167    1.9027   -5.27980    3.5594    0.87136   -5.3856    3.5791  \n",
                            "4 -128.9800  -93.6470  224.45000 -141.1200 -135.44000  220.6000 -131.4100  \n",
                            "5   18.1190   -1.6926   -0.31062    2.4190    1.15070   -2.8109    9.8108  \n",
                            "\n",
                            "[5 rows x 960 columns]"
                        ],
                        "text/html": [
                            "<div>\n",
                            "<style scoped>\n",
                            "    .dataframe tbody tr th:only-of-type {\n",
                            "        vertical-align: middle;\n",
                            "    }\n",
                            "\n",
                            "    .dataframe tbody tr th {\n",
                            "        vertical-align: top;\n",
                            "    }\n",
                            "\n",
                            "    .dataframe thead th {\n",
                            "        text-align: right;\n",
                            "    }\n",
                            "</style>\n",
                            "<table border=\"1\" class=\"dataframe\">\n",
                            "  <thead>\n",
                            "    <tr style=\"text-align: right;\">\n",
                            "      <th></th>\n",
                            "      <th>1</th>\n",
                            "      <th>2</th>\n",
                            "      <th>3</th>\n",
                            "      <th>4</th>\n",
                            "      <th>5</th>\n",
                            "      <th>6</th>\n",
                            "      <th>7</th>\n",
                            "      <th>8</th>\n",
                            "      <th>9</th>\n",
                            "      <th>10</th>\n",
                            "      <th>...</th>\n",
                            "      <th>951</th>\n",
                            "      <th>952</th>\n",
                            "      <th>953</th>\n",
                            "      <th>954</th>\n",
                            "      <th>955</th>\n",
                            "      <th>956</th>\n",
                            "      <th>957</th>\n",
                            "      <th>958</th>\n",
                            "      <th>959</th>\n",
                            "      <th>960</th>\n",
                            "    </tr>\n",
                            "    <tr>\n",
                            "      <th>0</th>\n",
                            "      <th></th>\n",
                            "      <th></th>\n",
                            "      <th></th>\n",
                            "      <th></th>\n",
                            "      <th></th>\n",
                            "      <th></th>\n",
                            "      <th></th>\n",
                            "      <th></th>\n",
                            "      <th></th>\n",
                            "      <th></th>\n",
                            "      <th></th>\n",
                            "      <th></th>\n",
                            "      <th></th>\n",
                            "      <th></th>\n",
                            "      <th></th>\n",
                            "      <th></th>\n",
                            "      <th></th>\n",
                            "      <th></th>\n",
                            "      <th></th>\n",
                            "      <th></th>\n",
                            "      <th></th>\n",
                            "    </tr>\n",
                            "  </thead>\n",
                            "  <tbody>\n",
                            "    <tr>\n",
                            "      <th>1</th>\n",
                            "      <td>0.93652</td>\n",
                            "      <td>-0.32644</td>\n",
                            "      <td>2.02410</td>\n",
                            "      <td>-1.996400</td>\n",
                            "      <td>-2.600600</td>\n",
                            "      <td>2.30860</td>\n",
                            "      <td>-8.25920</td>\n",
                            "      <td>-9.209900</td>\n",
                            "      <td>2.88510</td>\n",
                            "      <td>0.34574</td>\n",
                            "      <td>...</td>\n",
                            "      <td>15.2500</td>\n",
                            "      <td>-0.13846</td>\n",
                            "      <td>-3.11080</td>\n",
                            "      <td>2.0895</td>\n",
                            "      <td>2.5293</td>\n",
                            "      <td>5.84900</td>\n",
                            "      <td>-4.9897</td>\n",
                            "      <td>4.75810</td>\n",
                            "      <td>5.1081</td>\n",
                            "      <td>-2.9497</td>\n",
                            "    </tr>\n",
                            "    <tr>\n",
                            "      <th>2</th>\n",
                            "      <td>1.93410</td>\n",
                            "      <td>-2.58880</td>\n",
                            "      <td>-5.27190</td>\n",
                            "      <td>10.809000</td>\n",
                            "      <td>-5.624800</td>\n",
                            "      <td>-15.28800</td>\n",
                            "      <td>18.15000</td>\n",
                            "      <td>-8.198600</td>\n",
                            "      <td>-25.02300</td>\n",
                            "      <td>21.76300</td>\n",
                            "      <td>...</td>\n",
                            "      <td>-112.6000</td>\n",
                            "      <td>215.56000</td>\n",
                            "      <td>-169.93000</td>\n",
                            "      <td>-97.7360</td>\n",
                            "      <td>123.8600</td>\n",
                            "      <td>-47.75700</td>\n",
                            "      <td>8.5216</td>\n",
                            "      <td>133.73000</td>\n",
                            "      <td>-21.5210</td>\n",
                            "      <td>-2.8799</td>\n",
                            "    </tr>\n",
                            "    <tr>\n",
                            "      <th>3</th>\n",
                            "      <td>0.15171</td>\n",
                            "      <td>-0.32254</td>\n",
                            "      <td>0.54372</td>\n",
                            "      <td>-0.001275</td>\n",
                            "      <td>-0.036333</td>\n",
                            "      <td>0.01976</td>\n",
                            "      <td>-0.15681</td>\n",
                            "      <td>0.040158</td>\n",
                            "      <td>-0.38437</td>\n",
                            "      <td>0.48062</td>\n",
                            "      <td>...</td>\n",
                            "      <td>9.5563</td>\n",
                            "      <td>2.49110</td>\n",
                            "      <td>-0.79551</td>\n",
                            "      <td>6.1167</td>\n",
                            "      <td>1.9027</td>\n",
                            "      <td>-5.27980</td>\n",
                            "      <td>3.5594</td>\n",
                            "      <td>0.87136</td>\n",
                            "      <td>-5.3856</td>\n",
                            "      <td>3.5791</td>\n",
                            "    </tr>\n",
                            "    <tr>\n",
                            "      <th>4</th>\n",
                            "      <td>-3.99490</td>\n",
                            "      <td>-7.74780</td>\n",
                            "      <td>15.75800</td>\n",
                            "      <td>-5.631000</td>\n",
                            "      <td>-11.692000</td>\n",
                            "      <td>4.41430</td>\n",
                            "      <td>-10.73100</td>\n",
                            "      <td>-16.211000</td>\n",
                            "      <td>0.74900</td>\n",
                            "      <td>-16.25500</td>\n",
                            "      <td>...</td>\n",
                            "      <td>109.6000</td>\n",
                            "      <td>62.72700</td>\n",
                            "      <td>153.11000</td>\n",
                            "      <td>-128.9800</td>\n",
                            "      <td>-93.6470</td>\n",
                            "      <td>224.45000</td>\n",
                            "      <td>-141.1200</td>\n",
                            "      <td>-135.44000</td>\n",
                            "      <td>220.6000</td>\n",
                            "      <td>-131.4100</td>\n",
                            "    </tr>\n",
                            "    <tr>\n",
                            "      <th>5</th>\n",
                            "      <td>-10.13300</td>\n",
                            "      <td>-31.76300</td>\n",
                            "      <td>32.31000</td>\n",
                            "      <td>-12.476000</td>\n",
                            "      <td>-3.226600</td>\n",
                            "      <td>19.49200</td>\n",
                            "      <td>-8.83500</td>\n",
                            "      <td>3.977800</td>\n",
                            "      <td>14.96800</td>\n",
                            "      <td>-1.39250</td>\n",
                            "      <td>...</td>\n",
                            "      <td>1.0905</td>\n",
                            "      <td>16.74200</td>\n",
                            "      <td>10.98200</td>\n",
                            "      <td>18.1190</td>\n",
                            "      <td>-1.6926</td>\n",
                            "      <td>-0.31062</td>\n",
                            "      <td>2.4190</td>\n",
                            "      <td>1.15070</td>\n",
                            "      <td>-2.8109</td>\n",
                            "      <td>9.8108</td>\n",
                            "    </tr>\n",
                            "  </tbody>\n",
                            "</table>\n",
                            "<p>5 rows × 960 columns</p>\n",
                            "</div>"
                        ]
                    },
                    "metadata": {},
                    "execution_count": 15
                }
            ],
            "metadata": {}
        },
        {
            "cell_type": "code",
            "execution_count": 5,
            "source": [
                "df.shape\n",
                "df.iloc[:,960].value_counts()"
            ],
            "outputs": [
                {
                    "output_type": "execute_result",
                    "data": {
                        "text/plain": [
                            "3     590\n",
                            "9     586\n",
                            "6     580\n",
                            "8     580\n",
                            "2     579\n",
                            "10    579\n",
                            "1     578\n",
                            "5     577\n",
                            "4     571\n",
                            "7     570\n",
                            "13    196\n",
                            "12    195\n",
                            "20    195\n",
                            "16    194\n",
                            "19    193\n",
                            "17    193\n",
                            "14    190\n",
                            "18    190\n",
                            "11    190\n",
                            "15    190\n",
                            "21     98\n",
                            "27     98\n",
                            "24     98\n",
                            "26     98\n",
                            "28     97\n",
                            "23     97\n",
                            "22     97\n",
                            "29     97\n",
                            "25     96\n",
                            "30     95\n",
                            "33     49\n",
                            "40     49\n",
                            "38     49\n",
                            "37     49\n",
                            "31     49\n",
                            "32     48\n",
                            "35     48\n",
                            "39     48\n",
                            "34     48\n",
                            "36     47\n",
                            "42     25\n",
                            "48     24\n",
                            "47     24\n",
                            "41     24\n",
                            "49     24\n",
                            "44     24\n",
                            "45     24\n",
                            "46     24\n",
                            "43     24\n",
                            "Name: 961, dtype: int64"
                        ]
                    },
                    "metadata": {},
                    "execution_count": 5
                }
            ],
            "metadata": {}
        },
        {
            "cell_type": "code",
            "execution_count": 6,
            "source": [
                "# plot the respective classes\n",
                "f = plt.figure(figsize=(15,7))\n",
                "g = sns.countplot(df.iloc[:,960])\n",
                "plt.show()"
            ],
            "outputs": [
                {
                    "output_type": "stream",
                    "name": "stderr",
                    "text": [
                        "/home/mlp/anaconda3/envs/SML/lib/python3.6/site-packages/seaborn/_decorators.py:43: FutureWarning: Pass the following variable as a keyword arg: x. From version 0.12, the only valid positional argument will be `data`, and passing other arguments without an explicit keyword will result in an error or misinterpretation.\n",
                        "  FutureWarning\n"
                    ]
                },
                {
                    "output_type": "display_data",
                    "data": {
                        "text/plain": [
                            "<Figure size 1080x504 with 1 Axes>"
                        ],
                        "image/svg+xml": "<?xml version=\"1.0\" encoding=\"utf-8\" standalone=\"no\"?>\n<!DOCTYPE svg PUBLIC \"-//W3C//DTD SVG 1.1//EN\"\n  \"http://www.w3.org/Graphics/SVG/1.1/DTD/svg11.dtd\">\n<!-- Created with matplotlib (https://matplotlib.org/) -->\n<svg height=\"425.27625pt\" version=\"1.1\" viewBox=\"0 0 891.165625 425.27625\" width=\"891.165625pt\" xmlns=\"http://www.w3.org/2000/svg\" xmlns:xlink=\"http://www.w3.org/1999/xlink\">\n <metadata>\n  <rdf:RDF xmlns:cc=\"http://creativecommons.org/ns#\" xmlns:dc=\"http://purl.org/dc/elements/1.1/\" xmlns:rdf=\"http://www.w3.org/1999/02/22-rdf-syntax-ns#\">\n   <cc:Work>\n    <dc:type rdf:resource=\"http://purl.org/dc/dcmitype/StillImage\"/>\n    <dc:date>2021-08-30T18:10:54.705289</dc:date>\n    <dc:format>image/svg+xml</dc:format>\n    <dc:creator>\n     <cc:Agent>\n      <dc:title>Matplotlib v3.3.4, https://matplotlib.org/</dc:title>\n     </cc:Agent>\n    </dc:creator>\n   </cc:Work>\n  </rdf:RDF>\n </metadata>\n <defs>\n  <style type=\"text/css\">*{stroke-linecap:butt;stroke-linejoin:round;}</style>\n </defs>\n <g id=\"figure_1\">\n  <g id=\"patch_1\">\n   <path d=\"M 0 425.27625 \nL 891.165625 425.27625 \nL 891.165625 0 \nL 0 0 \nz\n\" style=\"fill:none;\"/>\n  </g>\n  <g id=\"axes_1\">\n   <g id=\"patch_2\">\n    <path d=\"M 46.965625 387.72 \nL 883.965625 387.72 \nL 883.965625 7.2 \nL 46.965625 7.2 \nz\n\" style=\"fill:#ffffff;\"/>\n   </g>\n   <g id=\"patch_3\">\n    <path clip-path=\"url(#p856b42a342)\" d=\"M 48.673788 387.72 \nL 62.339094 387.72 \nL 62.339094 32.690847 \nL 48.673788 32.690847 \nz\n\" style=\"fill:#ea96a3;\"/>\n   </g>\n   <g id=\"patch_4\">\n    <path clip-path=\"url(#p856b42a342)\" d=\"M 65.755421 387.72 \nL 79.420727 387.72 \nL 79.420727 32.07661 \nL 65.755421 32.07661 \nz\n\" style=\"fill:#ea9799;\"/>\n   </g>\n   <g id=\"patch_5\">\n    <path clip-path=\"url(#p856b42a342)\" d=\"M 82.837054 387.72 \nL 96.50236 387.72 \nL 96.50236 25.32 \nL 82.837054 25.32 \nz\n\" style=\"fill:#e8968b;\"/>\n   </g>\n   <g id=\"patch_6\">\n    <path clip-path=\"url(#p856b42a342)\" d=\"M 99.918686 387.72 \nL 113.583992 387.72 \nL 113.583992 36.990508 \nL 99.918686 36.990508 \nz\n\" style=\"fill:#e69577;\"/>\n   </g>\n   <g id=\"patch_7\">\n    <path clip-path=\"url(#p856b42a342)\" d=\"M 117.000319 387.72 \nL 130.665625 387.72 \nL 130.665625 33.305085 \nL 117.000319 33.305085 \nz\n\" style=\"fill:#e19257;\"/>\n   </g>\n   <g id=\"patch_8\">\n    <path clip-path=\"url(#p856b42a342)\" d=\"M 134.081952 387.72 \nL 147.747258 387.72 \nL 147.747258 31.462373 \nL 134.081952 31.462373 \nz\n\" style=\"fill:#d6944e;\"/>\n   </g>\n   <g id=\"patch_9\">\n    <path clip-path=\"url(#p856b42a342)\" d=\"M 151.163584 387.72 \nL 164.82889 387.72 \nL 164.82889 37.604746 \nL 151.163584 37.604746 \nz\n\" style=\"fill:#cb974c;\"/>\n   </g>\n   <g id=\"patch_10\">\n    <path clip-path=\"url(#p856b42a342)\" d=\"M 168.245217 387.72 \nL 181.910523 387.72 \nL 181.910523 31.462373 \nL 168.245217 31.462373 \nz\n\" style=\"fill:#c29a4b;\"/>\n   </g>\n   <g id=\"patch_11\">\n    <path clip-path=\"url(#p856b42a342)\" d=\"M 185.326849 387.72 \nL 198.992156 387.72 \nL 198.992156 27.776949 \nL 185.326849 27.776949 \nz\n\" style=\"fill:#ba9b49;\"/>\n   </g>\n   <g id=\"patch_12\">\n    <path clip-path=\"url(#p856b42a342)\" d=\"M 202.408482 387.72 \nL 216.073788 387.72 \nL 216.073788 32.07661 \nL 202.408482 32.07661 \nz\n\" style=\"fill:#b29d48;\"/>\n   </g>\n   <g id=\"patch_13\">\n    <path clip-path=\"url(#p856b42a342)\" d=\"M 219.490115 387.72 \nL 233.155421 387.72 \nL 233.155421 271.014915 \nL 219.490115 271.014915 \nz\n\" style=\"fill:#aa9e47;\"/>\n   </g>\n   <g id=\"patch_14\">\n    <path clip-path=\"url(#p856b42a342)\" d=\"M 236.571747 387.72 \nL 250.237054 387.72 \nL 250.237054 267.943729 \nL 236.571747 267.943729 \nz\n\" style=\"fill:#a19f46;\"/>\n   </g>\n   <g id=\"patch_15\">\n    <path clip-path=\"url(#p856b42a342)\" d=\"M 253.65338 387.72 \nL 267.318686 387.72 \nL 267.318686 267.329492 \nL 253.65338 267.329492 \nz\n\" style=\"fill:#9aa146;\"/>\n   </g>\n   <g id=\"patch_16\">\n    <path clip-path=\"url(#p856b42a342)\" d=\"M 270.735013 387.72 \nL 284.400319 387.72 \nL 284.400319 271.014915 \nL 270.735013 271.014915 \nz\n\" style=\"fill:#92a446;\"/>\n   </g>\n   <g id=\"patch_17\">\n    <path clip-path=\"url(#p856b42a342)\" d=\"M 287.816645 387.72 \nL 301.481952 387.72 \nL 301.481952 271.014915 \nL 287.816645 271.014915 \nz\n\" style=\"fill:#88a746;\"/>\n   </g>\n   <g id=\"patch_18\">\n    <path clip-path=\"url(#p856b42a342)\" d=\"M 304.898278 387.72 \nL 318.563584 387.72 \nL 318.563584 268.557966 \nL 304.898278 268.557966 \nz\n\" style=\"fill:#7baa47;\"/>\n   </g>\n   <g id=\"patch_19\">\n    <path clip-path=\"url(#p856b42a342)\" d=\"M 321.979911 387.72 \nL 335.645217 387.72 \nL 335.645217 269.172203 \nL 321.979911 269.172203 \nz\n\" style=\"fill:#69ad47;\"/>\n   </g>\n   <g id=\"patch_20\">\n    <path clip-path=\"url(#p856b42a342)\" d=\"M 339.061543 387.72 \nL 352.726849 387.72 \nL 352.726849 271.014915 \nL 339.061543 271.014915 \nz\n\" style=\"fill:#48b14b;\"/>\n   </g>\n   <g id=\"patch_21\">\n    <path clip-path=\"url(#p856b42a342)\" d=\"M 356.143176 387.72 \nL 369.808482 387.72 \nL 369.808482 269.172203 \nL 356.143176 269.172203 \nz\n\" style=\"fill:#48af6b;\"/>\n   </g>\n   <g id=\"patch_22\">\n    <path clip-path=\"url(#p856b42a342)\" d=\"M 373.224809 387.72 \nL 386.890115 387.72 \nL 386.890115 267.943729 \nL 373.224809 267.943729 \nz\n\" style=\"fill:#49af7b;\"/>\n   </g>\n   <g id=\"patch_23\">\n    <path clip-path=\"url(#p856b42a342)\" d=\"M 390.306441 387.72 \nL 403.971747 387.72 \nL 403.971747 327.524746 \nL 390.306441 327.524746 \nz\n\" style=\"fill:#49ae87;\"/>\n   </g>\n   <g id=\"patch_24\">\n    <path clip-path=\"url(#p856b42a342)\" d=\"M 407.388074 387.72 \nL 421.05338 387.72 \nL 421.05338 328.138983 \nL 407.388074 328.138983 \nz\n\" style=\"fill:#4aad8f;\"/>\n   </g>\n   <g id=\"patch_25\">\n    <path clip-path=\"url(#p856b42a342)\" d=\"M 424.469707 387.72 \nL 438.135013 387.72 \nL 438.135013 328.138983 \nL 424.469707 328.138983 \nz\n\" style=\"fill:#4aad96;\"/>\n   </g>\n   <g id=\"patch_26\">\n    <path clip-path=\"url(#p856b42a342)\" d=\"M 441.551339 387.72 \nL 455.216645 387.72 \nL 455.216645 327.524746 \nL 441.551339 327.524746 \nz\n\" style=\"fill:#4aac9c;\"/>\n   </g>\n   <g id=\"patch_27\">\n    <path clip-path=\"url(#p856b42a342)\" d=\"M 458.632972 387.72 \nL 472.298278 387.72 \nL 472.298278 328.75322 \nL 458.632972 328.75322 \nz\n\" style=\"fill:#4baba2;\"/>\n   </g>\n   <g id=\"patch_28\">\n    <path clip-path=\"url(#p856b42a342)\" d=\"M 475.714605 387.72 \nL 489.379911 387.72 \nL 489.379911 327.524746 \nL 475.714605 327.524746 \nz\n\" style=\"fill:#4baba7;\"/>\n   </g>\n   <g id=\"patch_29\">\n    <path clip-path=\"url(#p856b42a342)\" d=\"M 492.796237 387.72 \nL 506.461543 387.72 \nL 506.461543 327.524746 \nL 492.796237 327.524746 \nz\n\" style=\"fill:#4cabac;\"/>\n   </g>\n   <g id=\"patch_30\">\n    <path clip-path=\"url(#p856b42a342)\" d=\"M 509.87787 387.72 \nL 523.543176 387.72 \nL 523.543176 328.138983 \nL 509.87787 328.138983 \nz\n\" style=\"fill:#4dabb2;\"/>\n   </g>\n   <g id=\"patch_31\">\n    <path clip-path=\"url(#p856b42a342)\" d=\"M 526.959503 387.72 \nL 540.624809 387.72 \nL 540.624809 328.138983 \nL 526.959503 328.138983 \nz\n\" style=\"fill:#4eabb8;\"/>\n   </g>\n   <g id=\"patch_32\">\n    <path clip-path=\"url(#p856b42a342)\" d=\"M 544.041135 387.72 \nL 557.706441 387.72 \nL 557.706441 329.367458 \nL 544.041135 329.367458 \nz\n\" style=\"fill:#50acbf;\"/>\n   </g>\n   <g id=\"patch_33\">\n    <path clip-path=\"url(#p856b42a342)\" d=\"M 561.122768 387.72 \nL 574.788074 387.72 \nL 574.788074 357.622373 \nL 561.122768 357.622373 \nz\n\" style=\"fill:#52acc7;\"/>\n   </g>\n   <g id=\"patch_34\">\n    <path clip-path=\"url(#p856b42a342)\" d=\"M 578.204401 387.72 \nL 591.869707 387.72 \nL 591.869707 358.23661 \nL 578.204401 358.23661 \nz\n\" style=\"fill:#54acd1;\"/>\n   </g>\n   <g id=\"patch_35\">\n    <path clip-path=\"url(#p856b42a342)\" d=\"M 595.286033 387.72 \nL 608.951339 387.72 \nL 608.951339 357.622373 \nL 595.286033 357.622373 \nz\n\" style=\"fill:#56addd;\"/>\n   </g>\n   <g id=\"patch_36\">\n    <path clip-path=\"url(#p856b42a342)\" d=\"M 612.367666 387.72 \nL 626.032972 387.72 \nL 626.032972 358.23661 \nL 612.367666 358.23661 \nz\n\" style=\"fill:#77aee4;\"/>\n   </g>\n   <g id=\"patch_37\">\n    <path clip-path=\"url(#p856b42a342)\" d=\"M 629.449298 387.72 \nL 643.114605 387.72 \nL 643.114605 358.23661 \nL 629.449298 358.23661 \nz\n\" style=\"fill:#8eaee7;\"/>\n   </g>\n   <g id=\"patch_38\">\n    <path clip-path=\"url(#p856b42a342)\" d=\"M 646.530931 387.72 \nL 660.196237 387.72 \nL 660.196237 358.850847 \nL 646.530931 358.850847 \nz\n\" style=\"fill:#a0adea;\"/>\n   </g>\n   <g id=\"patch_39\">\n    <path clip-path=\"url(#p856b42a342)\" d=\"M 663.612564 387.72 \nL 677.27787 387.72 \nL 677.27787 357.622373 \nL 663.612564 357.622373 \nz\n\" style=\"fill:#aeabeb;\"/>\n   </g>\n   <g id=\"patch_40\">\n    <path clip-path=\"url(#p856b42a342)\" d=\"M 680.694196 387.72 \nL 694.359503 387.72 \nL 694.359503 357.622373 \nL 680.694196 357.622373 \nz\n\" style=\"fill:#b9a7eb;\"/>\n   </g>\n   <g id=\"patch_41\">\n    <path clip-path=\"url(#p856b42a342)\" d=\"M 697.775829 387.72 \nL 711.441135 387.72 \nL 711.441135 358.23661 \nL 697.775829 358.23661 \nz\n\" style=\"fill:#c2a2ea;\"/>\n   </g>\n   <g id=\"patch_42\">\n    <path clip-path=\"url(#p856b42a342)\" d=\"M 714.857462 387.72 \nL 728.522768 387.72 \nL 728.522768 357.622373 \nL 714.857462 357.622373 \nz\n\" style=\"fill:#cc9ce9;\"/>\n   </g>\n   <g id=\"patch_43\">\n    <path clip-path=\"url(#p856b42a342)\" d=\"M 731.939094 387.72 \nL 745.604401 387.72 \nL 745.604401 372.978305 \nL 731.939094 372.978305 \nz\n\" style=\"fill:#d696e8;\"/>\n   </g>\n   <g id=\"patch_44\">\n    <path clip-path=\"url(#p856b42a342)\" d=\"M 749.020727 387.72 \nL 762.686033 387.72 \nL 762.686033 372.364068 \nL 749.020727 372.364068 \nz\n\" style=\"fill:#e08ee7;\"/>\n   </g>\n   <g id=\"patch_45\">\n    <path clip-path=\"url(#p856b42a342)\" d=\"M 766.10236 387.72 \nL 779.767666 387.72 \nL 779.767666 372.978305 \nL 766.10236 372.978305 \nz\n\" style=\"fill:#e78ae0;\"/>\n   </g>\n   <g id=\"patch_46\">\n    <path clip-path=\"url(#p856b42a342)\" d=\"M 783.183992 387.72 \nL 796.849298 387.72 \nL 796.849298 372.978305 \nL 783.183992 372.978305 \nz\n\" style=\"fill:#e78cd6;\"/>\n   </g>\n   <g id=\"patch_47\">\n    <path clip-path=\"url(#p856b42a342)\" d=\"M 800.265625 387.72 \nL 813.930931 387.72 \nL 813.930931 372.978305 \nL 800.265625 372.978305 \nz\n\" style=\"fill:#e88fcd;\"/>\n   </g>\n   <g id=\"patch_48\">\n    <path clip-path=\"url(#p856b42a342)\" d=\"M 817.347258 387.72 \nL 831.012564 387.72 \nL 831.012564 372.978305 \nL 817.347258 372.978305 \nz\n\" style=\"fill:#e890c5;\"/>\n   </g>\n   <g id=\"patch_49\">\n    <path clip-path=\"url(#p856b42a342)\" d=\"M 834.42889 387.72 \nL 848.094196 387.72 \nL 848.094196 372.978305 \nL 834.42889 372.978305 \nz\n\" style=\"fill:#e992bd;\"/>\n   </g>\n   <g id=\"patch_50\">\n    <path clip-path=\"url(#p856b42a342)\" d=\"M 851.510523 387.72 \nL 865.175829 387.72 \nL 865.175829 372.978305 \nL 851.510523 372.978305 \nz\n\" style=\"fill:#e993b5;\"/>\n   </g>\n   <g id=\"patch_51\">\n    <path clip-path=\"url(#p856b42a342)\" d=\"M 868.592156 387.72 \nL 882.257462 387.72 \nL 882.257462 372.978305 \nL 868.592156 372.978305 \nz\n\" style=\"fill:#e994ad;\"/>\n   </g>\n   <g id=\"matplotlib.axis_1\">\n    <g id=\"xtick_1\">\n     <g id=\"line2d_1\">\n      <defs>\n       <path d=\"M 0 0 \nL 0 3.5 \n\" id=\"m39e4f0eeb6\" style=\"stroke:#000000;stroke-width:0.8;\"/>\n      </defs>\n      <g>\n       <use style=\"stroke:#000000;stroke-width:0.8;\" x=\"55.506441\" xlink:href=\"#m39e4f0eeb6\" y=\"387.72\"/>\n      </g>\n     </g>\n     <g id=\"text_1\">\n      <!-- 1 -->\n      <g transform=\"translate(52.325191 402.318437)scale(0.1 -0.1)\">\n       <defs>\n        <path d=\"M 12.40625 8.296875 \nL 28.515625 8.296875 \nL 28.515625 63.921875 \nL 10.984375 60.40625 \nL 10.984375 69.390625 \nL 28.421875 72.90625 \nL 38.28125 72.90625 \nL 38.28125 8.296875 \nL 54.390625 8.296875 \nL 54.390625 0 \nL 12.40625 0 \nz\n\" id=\"DejaVuSans-49\"/>\n       </defs>\n       <use xlink:href=\"#DejaVuSans-49\"/>\n      </g>\n     </g>\n    </g>\n    <g id=\"xtick_2\">\n     <g id=\"line2d_2\">\n      <g>\n       <use style=\"stroke:#000000;stroke-width:0.8;\" x=\"72.588074\" xlink:href=\"#m39e4f0eeb6\" y=\"387.72\"/>\n      </g>\n     </g>\n     <g id=\"text_2\">\n      <!-- 2 -->\n      <g transform=\"translate(69.406824 402.318437)scale(0.1 -0.1)\">\n       <defs>\n        <path d=\"M 19.1875 8.296875 \nL 53.609375 8.296875 \nL 53.609375 0 \nL 7.328125 0 \nL 7.328125 8.296875 \nQ 12.9375 14.109375 22.625 23.890625 \nQ 32.328125 33.6875 34.8125 36.53125 \nQ 39.546875 41.84375 41.421875 45.53125 \nQ 43.3125 49.21875 43.3125 52.78125 \nQ 43.3125 58.59375 39.234375 62.25 \nQ 35.15625 65.921875 28.609375 65.921875 \nQ 23.96875 65.921875 18.8125 64.3125 \nQ 13.671875 62.703125 7.8125 59.421875 \nL 7.8125 69.390625 \nQ 13.765625 71.78125 18.9375 73 \nQ 24.125 74.21875 28.421875 74.21875 \nQ 39.75 74.21875 46.484375 68.546875 \nQ 53.21875 62.890625 53.21875 53.421875 \nQ 53.21875 48.921875 51.53125 44.890625 \nQ 49.859375 40.875 45.40625 35.40625 \nQ 44.1875 33.984375 37.640625 27.21875 \nQ 31.109375 20.453125 19.1875 8.296875 \nz\n\" id=\"DejaVuSans-50\"/>\n       </defs>\n       <use xlink:href=\"#DejaVuSans-50\"/>\n      </g>\n     </g>\n    </g>\n    <g id=\"xtick_3\">\n     <g id=\"line2d_3\">\n      <g>\n       <use style=\"stroke:#000000;stroke-width:0.8;\" x=\"89.669707\" xlink:href=\"#m39e4f0eeb6\" y=\"387.72\"/>\n      </g>\n     </g>\n     <g id=\"text_3\">\n      <!-- 3 -->\n      <g transform=\"translate(86.488457 402.318437)scale(0.1 -0.1)\">\n       <defs>\n        <path d=\"M 40.578125 39.3125 \nQ 47.65625 37.796875 51.625 33 \nQ 55.609375 28.21875 55.609375 21.1875 \nQ 55.609375 10.40625 48.1875 4.484375 \nQ 40.765625 -1.421875 27.09375 -1.421875 \nQ 22.515625 -1.421875 17.65625 -0.515625 \nQ 12.796875 0.390625 7.625 2.203125 \nL 7.625 11.71875 \nQ 11.71875 9.328125 16.59375 8.109375 \nQ 21.484375 6.890625 26.8125 6.890625 \nQ 36.078125 6.890625 40.9375 10.546875 \nQ 45.796875 14.203125 45.796875 21.1875 \nQ 45.796875 27.640625 41.28125 31.265625 \nQ 36.765625 34.90625 28.71875 34.90625 \nL 20.21875 34.90625 \nL 20.21875 43.015625 \nL 29.109375 43.015625 \nQ 36.375 43.015625 40.234375 45.921875 \nQ 44.09375 48.828125 44.09375 54.296875 \nQ 44.09375 59.90625 40.109375 62.90625 \nQ 36.140625 65.921875 28.71875 65.921875 \nQ 24.65625 65.921875 20.015625 65.03125 \nQ 15.375 64.15625 9.8125 62.3125 \nL 9.8125 71.09375 \nQ 15.4375 72.65625 20.34375 73.4375 \nQ 25.25 74.21875 29.59375 74.21875 \nQ 40.828125 74.21875 47.359375 69.109375 \nQ 53.90625 64.015625 53.90625 55.328125 \nQ 53.90625 49.265625 50.4375 45.09375 \nQ 46.96875 40.921875 40.578125 39.3125 \nz\n\" id=\"DejaVuSans-51\"/>\n       </defs>\n       <use xlink:href=\"#DejaVuSans-51\"/>\n      </g>\n     </g>\n    </g>\n    <g id=\"xtick_4\">\n     <g id=\"line2d_4\">\n      <g>\n       <use style=\"stroke:#000000;stroke-width:0.8;\" x=\"106.751339\" xlink:href=\"#m39e4f0eeb6\" y=\"387.72\"/>\n      </g>\n     </g>\n     <g id=\"text_4\">\n      <!-- 4 -->\n      <g transform=\"translate(103.570089 402.318437)scale(0.1 -0.1)\">\n       <defs>\n        <path d=\"M 37.796875 64.3125 \nL 12.890625 25.390625 \nL 37.796875 25.390625 \nz\nM 35.203125 72.90625 \nL 47.609375 72.90625 \nL 47.609375 25.390625 \nL 58.015625 25.390625 \nL 58.015625 17.1875 \nL 47.609375 17.1875 \nL 47.609375 0 \nL 37.796875 0 \nL 37.796875 17.1875 \nL 4.890625 17.1875 \nL 4.890625 26.703125 \nz\n\" id=\"DejaVuSans-52\"/>\n       </defs>\n       <use xlink:href=\"#DejaVuSans-52\"/>\n      </g>\n     </g>\n    </g>\n    <g id=\"xtick_5\">\n     <g id=\"line2d_5\">\n      <g>\n       <use style=\"stroke:#000000;stroke-width:0.8;\" x=\"123.832972\" xlink:href=\"#m39e4f0eeb6\" y=\"387.72\"/>\n      </g>\n     </g>\n     <g id=\"text_5\">\n      <!-- 5 -->\n      <g transform=\"translate(120.651722 402.318437)scale(0.1 -0.1)\">\n       <defs>\n        <path d=\"M 10.796875 72.90625 \nL 49.515625 72.90625 \nL 49.515625 64.59375 \nL 19.828125 64.59375 \nL 19.828125 46.734375 \nQ 21.96875 47.46875 24.109375 47.828125 \nQ 26.265625 48.1875 28.421875 48.1875 \nQ 40.625 48.1875 47.75 41.5 \nQ 54.890625 34.8125 54.890625 23.390625 \nQ 54.890625 11.625 47.5625 5.09375 \nQ 40.234375 -1.421875 26.90625 -1.421875 \nQ 22.3125 -1.421875 17.546875 -0.640625 \nQ 12.796875 0.140625 7.71875 1.703125 \nL 7.71875 11.625 \nQ 12.109375 9.234375 16.796875 8.0625 \nQ 21.484375 6.890625 26.703125 6.890625 \nQ 35.15625 6.890625 40.078125 11.328125 \nQ 45.015625 15.765625 45.015625 23.390625 \nQ 45.015625 31 40.078125 35.4375 \nQ 35.15625 39.890625 26.703125 39.890625 \nQ 22.75 39.890625 18.8125 39.015625 \nQ 14.890625 38.140625 10.796875 36.28125 \nz\n\" id=\"DejaVuSans-53\"/>\n       </defs>\n       <use xlink:href=\"#DejaVuSans-53\"/>\n      </g>\n     </g>\n    </g>\n    <g id=\"xtick_6\">\n     <g id=\"line2d_6\">\n      <g>\n       <use style=\"stroke:#000000;stroke-width:0.8;\" x=\"140.914605\" xlink:href=\"#m39e4f0eeb6\" y=\"387.72\"/>\n      </g>\n     </g>\n     <g id=\"text_6\">\n      <!-- 6 -->\n      <g transform=\"translate(137.733355 402.318437)scale(0.1 -0.1)\">\n       <defs>\n        <path d=\"M 33.015625 40.375 \nQ 26.375 40.375 22.484375 35.828125 \nQ 18.609375 31.296875 18.609375 23.390625 \nQ 18.609375 15.53125 22.484375 10.953125 \nQ 26.375 6.390625 33.015625 6.390625 \nQ 39.65625 6.390625 43.53125 10.953125 \nQ 47.40625 15.53125 47.40625 23.390625 \nQ 47.40625 31.296875 43.53125 35.828125 \nQ 39.65625 40.375 33.015625 40.375 \nz\nM 52.59375 71.296875 \nL 52.59375 62.3125 \nQ 48.875 64.0625 45.09375 64.984375 \nQ 41.3125 65.921875 37.59375 65.921875 \nQ 27.828125 65.921875 22.671875 59.328125 \nQ 17.53125 52.734375 16.796875 39.40625 \nQ 19.671875 43.65625 24.015625 45.921875 \nQ 28.375 48.1875 33.59375 48.1875 \nQ 44.578125 48.1875 50.953125 41.515625 \nQ 57.328125 34.859375 57.328125 23.390625 \nQ 57.328125 12.15625 50.6875 5.359375 \nQ 44.046875 -1.421875 33.015625 -1.421875 \nQ 20.359375 -1.421875 13.671875 8.265625 \nQ 6.984375 17.96875 6.984375 36.375 \nQ 6.984375 53.65625 15.1875 63.9375 \nQ 23.390625 74.21875 37.203125 74.21875 \nQ 40.921875 74.21875 44.703125 73.484375 \nQ 48.484375 72.75 52.59375 71.296875 \nz\n\" id=\"DejaVuSans-54\"/>\n       </defs>\n       <use xlink:href=\"#DejaVuSans-54\"/>\n      </g>\n     </g>\n    </g>\n    <g id=\"xtick_7\">\n     <g id=\"line2d_7\">\n      <g>\n       <use style=\"stroke:#000000;stroke-width:0.8;\" x=\"157.996237\" xlink:href=\"#m39e4f0eeb6\" y=\"387.72\"/>\n      </g>\n     </g>\n     <g id=\"text_7\">\n      <!-- 7 -->\n      <g transform=\"translate(154.814987 402.318437)scale(0.1 -0.1)\">\n       <defs>\n        <path d=\"M 8.203125 72.90625 \nL 55.078125 72.90625 \nL 55.078125 68.703125 \nL 28.609375 0 \nL 18.3125 0 \nL 43.21875 64.59375 \nL 8.203125 64.59375 \nz\n\" id=\"DejaVuSans-55\"/>\n       </defs>\n       <use xlink:href=\"#DejaVuSans-55\"/>\n      </g>\n     </g>\n    </g>\n    <g id=\"xtick_8\">\n     <g id=\"line2d_8\">\n      <g>\n       <use style=\"stroke:#000000;stroke-width:0.8;\" x=\"175.07787\" xlink:href=\"#m39e4f0eeb6\" y=\"387.72\"/>\n      </g>\n     </g>\n     <g id=\"text_8\">\n      <!-- 8 -->\n      <g transform=\"translate(171.89662 402.318437)scale(0.1 -0.1)\">\n       <defs>\n        <path d=\"M 31.78125 34.625 \nQ 24.75 34.625 20.71875 30.859375 \nQ 16.703125 27.09375 16.703125 20.515625 \nQ 16.703125 13.921875 20.71875 10.15625 \nQ 24.75 6.390625 31.78125 6.390625 \nQ 38.8125 6.390625 42.859375 10.171875 \nQ 46.921875 13.96875 46.921875 20.515625 \nQ 46.921875 27.09375 42.890625 30.859375 \nQ 38.875 34.625 31.78125 34.625 \nz\nM 21.921875 38.8125 \nQ 15.578125 40.375 12.03125 44.71875 \nQ 8.5 49.078125 8.5 55.328125 \nQ 8.5 64.0625 14.71875 69.140625 \nQ 20.953125 74.21875 31.78125 74.21875 \nQ 42.671875 74.21875 48.875 69.140625 \nQ 55.078125 64.0625 55.078125 55.328125 \nQ 55.078125 49.078125 51.53125 44.71875 \nQ 48 40.375 41.703125 38.8125 \nQ 48.828125 37.15625 52.796875 32.3125 \nQ 56.78125 27.484375 56.78125 20.515625 \nQ 56.78125 9.90625 50.3125 4.234375 \nQ 43.84375 -1.421875 31.78125 -1.421875 \nQ 19.734375 -1.421875 13.25 4.234375 \nQ 6.78125 9.90625 6.78125 20.515625 \nQ 6.78125 27.484375 10.78125 32.3125 \nQ 14.796875 37.15625 21.921875 38.8125 \nz\nM 18.3125 54.390625 \nQ 18.3125 48.734375 21.84375 45.5625 \nQ 25.390625 42.390625 31.78125 42.390625 \nQ 38.140625 42.390625 41.71875 45.5625 \nQ 45.3125 48.734375 45.3125 54.390625 \nQ 45.3125 60.0625 41.71875 63.234375 \nQ 38.140625 66.40625 31.78125 66.40625 \nQ 25.390625 66.40625 21.84375 63.234375 \nQ 18.3125 60.0625 18.3125 54.390625 \nz\n\" id=\"DejaVuSans-56\"/>\n       </defs>\n       <use xlink:href=\"#DejaVuSans-56\"/>\n      </g>\n     </g>\n    </g>\n    <g id=\"xtick_9\">\n     <g id=\"line2d_9\">\n      <g>\n       <use style=\"stroke:#000000;stroke-width:0.8;\" x=\"192.159503\" xlink:href=\"#m39e4f0eeb6\" y=\"387.72\"/>\n      </g>\n     </g>\n     <g id=\"text_9\">\n      <!-- 9 -->\n      <g transform=\"translate(188.978253 402.318437)scale(0.1 -0.1)\">\n       <defs>\n        <path d=\"M 10.984375 1.515625 \nL 10.984375 10.5 \nQ 14.703125 8.734375 18.5 7.8125 \nQ 22.3125 6.890625 25.984375 6.890625 \nQ 35.75 6.890625 40.890625 13.453125 \nQ 46.046875 20.015625 46.78125 33.40625 \nQ 43.953125 29.203125 39.59375 26.953125 \nQ 35.25 24.703125 29.984375 24.703125 \nQ 19.046875 24.703125 12.671875 31.3125 \nQ 6.296875 37.9375 6.296875 49.421875 \nQ 6.296875 60.640625 12.9375 67.421875 \nQ 19.578125 74.21875 30.609375 74.21875 \nQ 43.265625 74.21875 49.921875 64.515625 \nQ 56.59375 54.828125 56.59375 36.375 \nQ 56.59375 19.140625 48.40625 8.859375 \nQ 40.234375 -1.421875 26.421875 -1.421875 \nQ 22.703125 -1.421875 18.890625 -0.6875 \nQ 15.09375 0.046875 10.984375 1.515625 \nz\nM 30.609375 32.421875 \nQ 37.25 32.421875 41.125 36.953125 \nQ 45.015625 41.5 45.015625 49.421875 \nQ 45.015625 57.28125 41.125 61.84375 \nQ 37.25 66.40625 30.609375 66.40625 \nQ 23.96875 66.40625 20.09375 61.84375 \nQ 16.21875 57.28125 16.21875 49.421875 \nQ 16.21875 41.5 20.09375 36.953125 \nQ 23.96875 32.421875 30.609375 32.421875 \nz\n\" id=\"DejaVuSans-57\"/>\n       </defs>\n       <use xlink:href=\"#DejaVuSans-57\"/>\n      </g>\n     </g>\n    </g>\n    <g id=\"xtick_10\">\n     <g id=\"line2d_10\">\n      <g>\n       <use style=\"stroke:#000000;stroke-width:0.8;\" x=\"209.241135\" xlink:href=\"#m39e4f0eeb6\" y=\"387.72\"/>\n      </g>\n     </g>\n     <g id=\"text_10\">\n      <!-- 10 -->\n      <g transform=\"translate(202.878635 402.318437)scale(0.1 -0.1)\">\n       <defs>\n        <path d=\"M 31.78125 66.40625 \nQ 24.171875 66.40625 20.328125 58.90625 \nQ 16.5 51.421875 16.5 36.375 \nQ 16.5 21.390625 20.328125 13.890625 \nQ 24.171875 6.390625 31.78125 6.390625 \nQ 39.453125 6.390625 43.28125 13.890625 \nQ 47.125 21.390625 47.125 36.375 \nQ 47.125 51.421875 43.28125 58.90625 \nQ 39.453125 66.40625 31.78125 66.40625 \nz\nM 31.78125 74.21875 \nQ 44.046875 74.21875 50.515625 64.515625 \nQ 56.984375 54.828125 56.984375 36.375 \nQ 56.984375 17.96875 50.515625 8.265625 \nQ 44.046875 -1.421875 31.78125 -1.421875 \nQ 19.53125 -1.421875 13.0625 8.265625 \nQ 6.59375 17.96875 6.59375 36.375 \nQ 6.59375 54.828125 13.0625 64.515625 \nQ 19.53125 74.21875 31.78125 74.21875 \nz\n\" id=\"DejaVuSans-48\"/>\n       </defs>\n       <use xlink:href=\"#DejaVuSans-49\"/>\n       <use x=\"63.623047\" xlink:href=\"#DejaVuSans-48\"/>\n      </g>\n     </g>\n    </g>\n    <g id=\"xtick_11\">\n     <g id=\"line2d_11\">\n      <g>\n       <use style=\"stroke:#000000;stroke-width:0.8;\" x=\"226.322768\" xlink:href=\"#m39e4f0eeb6\" y=\"387.72\"/>\n      </g>\n     </g>\n     <g id=\"text_11\">\n      <!-- 11 -->\n      <g transform=\"translate(219.960268 402.318437)scale(0.1 -0.1)\">\n       <use xlink:href=\"#DejaVuSans-49\"/>\n       <use x=\"63.623047\" xlink:href=\"#DejaVuSans-49\"/>\n      </g>\n     </g>\n    </g>\n    <g id=\"xtick_12\">\n     <g id=\"line2d_12\">\n      <g>\n       <use style=\"stroke:#000000;stroke-width:0.8;\" x=\"243.404401\" xlink:href=\"#m39e4f0eeb6\" y=\"387.72\"/>\n      </g>\n     </g>\n     <g id=\"text_12\">\n      <!-- 12 -->\n      <g transform=\"translate(237.041901 402.318437)scale(0.1 -0.1)\">\n       <use xlink:href=\"#DejaVuSans-49\"/>\n       <use x=\"63.623047\" xlink:href=\"#DejaVuSans-50\"/>\n      </g>\n     </g>\n    </g>\n    <g id=\"xtick_13\">\n     <g id=\"line2d_13\">\n      <g>\n       <use style=\"stroke:#000000;stroke-width:0.8;\" x=\"260.486033\" xlink:href=\"#m39e4f0eeb6\" y=\"387.72\"/>\n      </g>\n     </g>\n     <g id=\"text_13\">\n      <!-- 13 -->\n      <g transform=\"translate(254.123533 402.318437)scale(0.1 -0.1)\">\n       <use xlink:href=\"#DejaVuSans-49\"/>\n       <use x=\"63.623047\" xlink:href=\"#DejaVuSans-51\"/>\n      </g>\n     </g>\n    </g>\n    <g id=\"xtick_14\">\n     <g id=\"line2d_14\">\n      <g>\n       <use style=\"stroke:#000000;stroke-width:0.8;\" x=\"277.567666\" xlink:href=\"#m39e4f0eeb6\" y=\"387.72\"/>\n      </g>\n     </g>\n     <g id=\"text_14\">\n      <!-- 14 -->\n      <g transform=\"translate(271.205166 402.318437)scale(0.1 -0.1)\">\n       <use xlink:href=\"#DejaVuSans-49\"/>\n       <use x=\"63.623047\" xlink:href=\"#DejaVuSans-52\"/>\n      </g>\n     </g>\n    </g>\n    <g id=\"xtick_15\">\n     <g id=\"line2d_15\">\n      <g>\n       <use style=\"stroke:#000000;stroke-width:0.8;\" x=\"294.649298\" xlink:href=\"#m39e4f0eeb6\" y=\"387.72\"/>\n      </g>\n     </g>\n     <g id=\"text_15\">\n      <!-- 15 -->\n      <g transform=\"translate(288.286798 402.318437)scale(0.1 -0.1)\">\n       <use xlink:href=\"#DejaVuSans-49\"/>\n       <use x=\"63.623047\" xlink:href=\"#DejaVuSans-53\"/>\n      </g>\n     </g>\n    </g>\n    <g id=\"xtick_16\">\n     <g id=\"line2d_16\">\n      <g>\n       <use style=\"stroke:#000000;stroke-width:0.8;\" x=\"311.730931\" xlink:href=\"#m39e4f0eeb6\" y=\"387.72\"/>\n      </g>\n     </g>\n     <g id=\"text_16\">\n      <!-- 16 -->\n      <g transform=\"translate(305.368431 402.318437)scale(0.1 -0.1)\">\n       <use xlink:href=\"#DejaVuSans-49\"/>\n       <use x=\"63.623047\" xlink:href=\"#DejaVuSans-54\"/>\n      </g>\n     </g>\n    </g>\n    <g id=\"xtick_17\">\n     <g id=\"line2d_17\">\n      <g>\n       <use style=\"stroke:#000000;stroke-width:0.8;\" x=\"328.812564\" xlink:href=\"#m39e4f0eeb6\" y=\"387.72\"/>\n      </g>\n     </g>\n     <g id=\"text_17\">\n      <!-- 17 -->\n      <g transform=\"translate(322.450064 402.318437)scale(0.1 -0.1)\">\n       <use xlink:href=\"#DejaVuSans-49\"/>\n       <use x=\"63.623047\" xlink:href=\"#DejaVuSans-55\"/>\n      </g>\n     </g>\n    </g>\n    <g id=\"xtick_18\">\n     <g id=\"line2d_18\">\n      <g>\n       <use style=\"stroke:#000000;stroke-width:0.8;\" x=\"345.894196\" xlink:href=\"#m39e4f0eeb6\" y=\"387.72\"/>\n      </g>\n     </g>\n     <g id=\"text_18\">\n      <!-- 18 -->\n      <g transform=\"translate(339.531696 402.318437)scale(0.1 -0.1)\">\n       <use xlink:href=\"#DejaVuSans-49\"/>\n       <use x=\"63.623047\" xlink:href=\"#DejaVuSans-56\"/>\n      </g>\n     </g>\n    </g>\n    <g id=\"xtick_19\">\n     <g id=\"line2d_19\">\n      <g>\n       <use style=\"stroke:#000000;stroke-width:0.8;\" x=\"362.975829\" xlink:href=\"#m39e4f0eeb6\" y=\"387.72\"/>\n      </g>\n     </g>\n     <g id=\"text_19\">\n      <!-- 19 -->\n      <g transform=\"translate(356.613329 402.318437)scale(0.1 -0.1)\">\n       <use xlink:href=\"#DejaVuSans-49\"/>\n       <use x=\"63.623047\" xlink:href=\"#DejaVuSans-57\"/>\n      </g>\n     </g>\n    </g>\n    <g id=\"xtick_20\">\n     <g id=\"line2d_20\">\n      <g>\n       <use style=\"stroke:#000000;stroke-width:0.8;\" x=\"380.057462\" xlink:href=\"#m39e4f0eeb6\" y=\"387.72\"/>\n      </g>\n     </g>\n     <g id=\"text_20\">\n      <!-- 20 -->\n      <g transform=\"translate(373.694962 402.318437)scale(0.1 -0.1)\">\n       <use xlink:href=\"#DejaVuSans-50\"/>\n       <use x=\"63.623047\" xlink:href=\"#DejaVuSans-48\"/>\n      </g>\n     </g>\n    </g>\n    <g id=\"xtick_21\">\n     <g id=\"line2d_21\">\n      <g>\n       <use style=\"stroke:#000000;stroke-width:0.8;\" x=\"397.139094\" xlink:href=\"#m39e4f0eeb6\" y=\"387.72\"/>\n      </g>\n     </g>\n     <g id=\"text_21\">\n      <!-- 21 -->\n      <g transform=\"translate(390.776594 402.318437)scale(0.1 -0.1)\">\n       <use xlink:href=\"#DejaVuSans-50\"/>\n       <use x=\"63.623047\" xlink:href=\"#DejaVuSans-49\"/>\n      </g>\n     </g>\n    </g>\n    <g id=\"xtick_22\">\n     <g id=\"line2d_22\">\n      <g>\n       <use style=\"stroke:#000000;stroke-width:0.8;\" x=\"414.220727\" xlink:href=\"#m39e4f0eeb6\" y=\"387.72\"/>\n      </g>\n     </g>\n     <g id=\"text_22\">\n      <!-- 22 -->\n      <g transform=\"translate(407.858227 402.318437)scale(0.1 -0.1)\">\n       <use xlink:href=\"#DejaVuSans-50\"/>\n       <use x=\"63.623047\" xlink:href=\"#DejaVuSans-50\"/>\n      </g>\n     </g>\n    </g>\n    <g id=\"xtick_23\">\n     <g id=\"line2d_23\">\n      <g>\n       <use style=\"stroke:#000000;stroke-width:0.8;\" x=\"431.30236\" xlink:href=\"#m39e4f0eeb6\" y=\"387.72\"/>\n      </g>\n     </g>\n     <g id=\"text_23\">\n      <!-- 23 -->\n      <g transform=\"translate(424.93986 402.318437)scale(0.1 -0.1)\">\n       <use xlink:href=\"#DejaVuSans-50\"/>\n       <use x=\"63.623047\" xlink:href=\"#DejaVuSans-51\"/>\n      </g>\n     </g>\n    </g>\n    <g id=\"xtick_24\">\n     <g id=\"line2d_24\">\n      <g>\n       <use style=\"stroke:#000000;stroke-width:0.8;\" x=\"448.383992\" xlink:href=\"#m39e4f0eeb6\" y=\"387.72\"/>\n      </g>\n     </g>\n     <g id=\"text_24\">\n      <!-- 24 -->\n      <g transform=\"translate(442.021492 402.318437)scale(0.1 -0.1)\">\n       <use xlink:href=\"#DejaVuSans-50\"/>\n       <use x=\"63.623047\" xlink:href=\"#DejaVuSans-52\"/>\n      </g>\n     </g>\n    </g>\n    <g id=\"xtick_25\">\n     <g id=\"line2d_25\">\n      <g>\n       <use style=\"stroke:#000000;stroke-width:0.8;\" x=\"465.465625\" xlink:href=\"#m39e4f0eeb6\" y=\"387.72\"/>\n      </g>\n     </g>\n     <g id=\"text_25\">\n      <!-- 25 -->\n      <g transform=\"translate(459.103125 402.318437)scale(0.1 -0.1)\">\n       <use xlink:href=\"#DejaVuSans-50\"/>\n       <use x=\"63.623047\" xlink:href=\"#DejaVuSans-53\"/>\n      </g>\n     </g>\n    </g>\n    <g id=\"xtick_26\">\n     <g id=\"line2d_26\">\n      <g>\n       <use style=\"stroke:#000000;stroke-width:0.8;\" x=\"482.547258\" xlink:href=\"#m39e4f0eeb6\" y=\"387.72\"/>\n      </g>\n     </g>\n     <g id=\"text_26\">\n      <!-- 26 -->\n      <g transform=\"translate(476.184758 402.318437)scale(0.1 -0.1)\">\n       <use xlink:href=\"#DejaVuSans-50\"/>\n       <use x=\"63.623047\" xlink:href=\"#DejaVuSans-54\"/>\n      </g>\n     </g>\n    </g>\n    <g id=\"xtick_27\">\n     <g id=\"line2d_27\">\n      <g>\n       <use style=\"stroke:#000000;stroke-width:0.8;\" x=\"499.62889\" xlink:href=\"#m39e4f0eeb6\" y=\"387.72\"/>\n      </g>\n     </g>\n     <g id=\"text_27\">\n      <!-- 27 -->\n      <g transform=\"translate(493.26639 402.318437)scale(0.1 -0.1)\">\n       <use xlink:href=\"#DejaVuSans-50\"/>\n       <use x=\"63.623047\" xlink:href=\"#DejaVuSans-55\"/>\n      </g>\n     </g>\n    </g>\n    <g id=\"xtick_28\">\n     <g id=\"line2d_28\">\n      <g>\n       <use style=\"stroke:#000000;stroke-width:0.8;\" x=\"516.710523\" xlink:href=\"#m39e4f0eeb6\" y=\"387.72\"/>\n      </g>\n     </g>\n     <g id=\"text_28\">\n      <!-- 28 -->\n      <g transform=\"translate(510.348023 402.318437)scale(0.1 -0.1)\">\n       <use xlink:href=\"#DejaVuSans-50\"/>\n       <use x=\"63.623047\" xlink:href=\"#DejaVuSans-56\"/>\n      </g>\n     </g>\n    </g>\n    <g id=\"xtick_29\">\n     <g id=\"line2d_29\">\n      <g>\n       <use style=\"stroke:#000000;stroke-width:0.8;\" x=\"533.792156\" xlink:href=\"#m39e4f0eeb6\" y=\"387.72\"/>\n      </g>\n     </g>\n     <g id=\"text_29\">\n      <!-- 29 -->\n      <g transform=\"translate(527.429656 402.318437)scale(0.1 -0.1)\">\n       <use xlink:href=\"#DejaVuSans-50\"/>\n       <use x=\"63.623047\" xlink:href=\"#DejaVuSans-57\"/>\n      </g>\n     </g>\n    </g>\n    <g id=\"xtick_30\">\n     <g id=\"line2d_30\">\n      <g>\n       <use style=\"stroke:#000000;stroke-width:0.8;\" x=\"550.873788\" xlink:href=\"#m39e4f0eeb6\" y=\"387.72\"/>\n      </g>\n     </g>\n     <g id=\"text_30\">\n      <!-- 30 -->\n      <g transform=\"translate(544.511288 402.318437)scale(0.1 -0.1)\">\n       <use xlink:href=\"#DejaVuSans-51\"/>\n       <use x=\"63.623047\" xlink:href=\"#DejaVuSans-48\"/>\n      </g>\n     </g>\n    </g>\n    <g id=\"xtick_31\">\n     <g id=\"line2d_31\">\n      <g>\n       <use style=\"stroke:#000000;stroke-width:0.8;\" x=\"567.955421\" xlink:href=\"#m39e4f0eeb6\" y=\"387.72\"/>\n      </g>\n     </g>\n     <g id=\"text_31\">\n      <!-- 31 -->\n      <g transform=\"translate(561.592921 402.318437)scale(0.1 -0.1)\">\n       <use xlink:href=\"#DejaVuSans-51\"/>\n       <use x=\"63.623047\" xlink:href=\"#DejaVuSans-49\"/>\n      </g>\n     </g>\n    </g>\n    <g id=\"xtick_32\">\n     <g id=\"line2d_32\">\n      <g>\n       <use style=\"stroke:#000000;stroke-width:0.8;\" x=\"585.037054\" xlink:href=\"#m39e4f0eeb6\" y=\"387.72\"/>\n      </g>\n     </g>\n     <g id=\"text_32\">\n      <!-- 32 -->\n      <g transform=\"translate(578.674554 402.318437)scale(0.1 -0.1)\">\n       <use xlink:href=\"#DejaVuSans-51\"/>\n       <use x=\"63.623047\" xlink:href=\"#DejaVuSans-50\"/>\n      </g>\n     </g>\n    </g>\n    <g id=\"xtick_33\">\n     <g id=\"line2d_33\">\n      <g>\n       <use style=\"stroke:#000000;stroke-width:0.8;\" x=\"602.118686\" xlink:href=\"#m39e4f0eeb6\" y=\"387.72\"/>\n      </g>\n     </g>\n     <g id=\"text_33\">\n      <!-- 33 -->\n      <g transform=\"translate(595.756186 402.318437)scale(0.1 -0.1)\">\n       <use xlink:href=\"#DejaVuSans-51\"/>\n       <use x=\"63.623047\" xlink:href=\"#DejaVuSans-51\"/>\n      </g>\n     </g>\n    </g>\n    <g id=\"xtick_34\">\n     <g id=\"line2d_34\">\n      <g>\n       <use style=\"stroke:#000000;stroke-width:0.8;\" x=\"619.200319\" xlink:href=\"#m39e4f0eeb6\" y=\"387.72\"/>\n      </g>\n     </g>\n     <g id=\"text_34\">\n      <!-- 34 -->\n      <g transform=\"translate(612.837819 402.318437)scale(0.1 -0.1)\">\n       <use xlink:href=\"#DejaVuSans-51\"/>\n       <use x=\"63.623047\" xlink:href=\"#DejaVuSans-52\"/>\n      </g>\n     </g>\n    </g>\n    <g id=\"xtick_35\">\n     <g id=\"line2d_35\">\n      <g>\n       <use style=\"stroke:#000000;stroke-width:0.8;\" x=\"636.281952\" xlink:href=\"#m39e4f0eeb6\" y=\"387.72\"/>\n      </g>\n     </g>\n     <g id=\"text_35\">\n      <!-- 35 -->\n      <g transform=\"translate(629.919452 402.318437)scale(0.1 -0.1)\">\n       <use xlink:href=\"#DejaVuSans-51\"/>\n       <use x=\"63.623047\" xlink:href=\"#DejaVuSans-53\"/>\n      </g>\n     </g>\n    </g>\n    <g id=\"xtick_36\">\n     <g id=\"line2d_36\">\n      <g>\n       <use style=\"stroke:#000000;stroke-width:0.8;\" x=\"653.363584\" xlink:href=\"#m39e4f0eeb6\" y=\"387.72\"/>\n      </g>\n     </g>\n     <g id=\"text_36\">\n      <!-- 36 -->\n      <g transform=\"translate(647.001084 402.318437)scale(0.1 -0.1)\">\n       <use xlink:href=\"#DejaVuSans-51\"/>\n       <use x=\"63.623047\" xlink:href=\"#DejaVuSans-54\"/>\n      </g>\n     </g>\n    </g>\n    <g id=\"xtick_37\">\n     <g id=\"line2d_37\">\n      <g>\n       <use style=\"stroke:#000000;stroke-width:0.8;\" x=\"670.445217\" xlink:href=\"#m39e4f0eeb6\" y=\"387.72\"/>\n      </g>\n     </g>\n     <g id=\"text_37\">\n      <!-- 37 -->\n      <g transform=\"translate(664.082717 402.318437)scale(0.1 -0.1)\">\n       <use xlink:href=\"#DejaVuSans-51\"/>\n       <use x=\"63.623047\" xlink:href=\"#DejaVuSans-55\"/>\n      </g>\n     </g>\n    </g>\n    <g id=\"xtick_38\">\n     <g id=\"line2d_38\">\n      <g>\n       <use style=\"stroke:#000000;stroke-width:0.8;\" x=\"687.526849\" xlink:href=\"#m39e4f0eeb6\" y=\"387.72\"/>\n      </g>\n     </g>\n     <g id=\"text_38\">\n      <!-- 38 -->\n      <g transform=\"translate(681.164349 402.318437)scale(0.1 -0.1)\">\n       <use xlink:href=\"#DejaVuSans-51\"/>\n       <use x=\"63.623047\" xlink:href=\"#DejaVuSans-56\"/>\n      </g>\n     </g>\n    </g>\n    <g id=\"xtick_39\">\n     <g id=\"line2d_39\">\n      <g>\n       <use style=\"stroke:#000000;stroke-width:0.8;\" x=\"704.608482\" xlink:href=\"#m39e4f0eeb6\" y=\"387.72\"/>\n      </g>\n     </g>\n     <g id=\"text_39\">\n      <!-- 39 -->\n      <g transform=\"translate(698.245982 402.318437)scale(0.1 -0.1)\">\n       <use xlink:href=\"#DejaVuSans-51\"/>\n       <use x=\"63.623047\" xlink:href=\"#DejaVuSans-57\"/>\n      </g>\n     </g>\n    </g>\n    <g id=\"xtick_40\">\n     <g id=\"line2d_40\">\n      <g>\n       <use style=\"stroke:#000000;stroke-width:0.8;\" x=\"721.690115\" xlink:href=\"#m39e4f0eeb6\" y=\"387.72\"/>\n      </g>\n     </g>\n     <g id=\"text_40\">\n      <!-- 40 -->\n      <g transform=\"translate(715.327615 402.318437)scale(0.1 -0.1)\">\n       <use xlink:href=\"#DejaVuSans-52\"/>\n       <use x=\"63.623047\" xlink:href=\"#DejaVuSans-48\"/>\n      </g>\n     </g>\n    </g>\n    <g id=\"xtick_41\">\n     <g id=\"line2d_41\">\n      <g>\n       <use style=\"stroke:#000000;stroke-width:0.8;\" x=\"738.771747\" xlink:href=\"#m39e4f0eeb6\" y=\"387.72\"/>\n      </g>\n     </g>\n     <g id=\"text_41\">\n      <!-- 41 -->\n      <g transform=\"translate(732.409247 402.318437)scale(0.1 -0.1)\">\n       <use xlink:href=\"#DejaVuSans-52\"/>\n       <use x=\"63.623047\" xlink:href=\"#DejaVuSans-49\"/>\n      </g>\n     </g>\n    </g>\n    <g id=\"xtick_42\">\n     <g id=\"line2d_42\">\n      <g>\n       <use style=\"stroke:#000000;stroke-width:0.8;\" x=\"755.85338\" xlink:href=\"#m39e4f0eeb6\" y=\"387.72\"/>\n      </g>\n     </g>\n     <g id=\"text_42\">\n      <!-- 42 -->\n      <g transform=\"translate(749.49088 402.318437)scale(0.1 -0.1)\">\n       <use xlink:href=\"#DejaVuSans-52\"/>\n       <use x=\"63.623047\" xlink:href=\"#DejaVuSans-50\"/>\n      </g>\n     </g>\n    </g>\n    <g id=\"xtick_43\">\n     <g id=\"line2d_43\">\n      <g>\n       <use style=\"stroke:#000000;stroke-width:0.8;\" x=\"772.935013\" xlink:href=\"#m39e4f0eeb6\" y=\"387.72\"/>\n      </g>\n     </g>\n     <g id=\"text_43\">\n      <!-- 43 -->\n      <g transform=\"translate(766.572513 402.318437)scale(0.1 -0.1)\">\n       <use xlink:href=\"#DejaVuSans-52\"/>\n       <use x=\"63.623047\" xlink:href=\"#DejaVuSans-51\"/>\n      </g>\n     </g>\n    </g>\n    <g id=\"xtick_44\">\n     <g id=\"line2d_44\">\n      <g>\n       <use style=\"stroke:#000000;stroke-width:0.8;\" x=\"790.016645\" xlink:href=\"#m39e4f0eeb6\" y=\"387.72\"/>\n      </g>\n     </g>\n     <g id=\"text_44\">\n      <!-- 44 -->\n      <g transform=\"translate(783.654145 402.318437)scale(0.1 -0.1)\">\n       <use xlink:href=\"#DejaVuSans-52\"/>\n       <use x=\"63.623047\" xlink:href=\"#DejaVuSans-52\"/>\n      </g>\n     </g>\n    </g>\n    <g id=\"xtick_45\">\n     <g id=\"line2d_45\">\n      <g>\n       <use style=\"stroke:#000000;stroke-width:0.8;\" x=\"807.098278\" xlink:href=\"#m39e4f0eeb6\" y=\"387.72\"/>\n      </g>\n     </g>\n     <g id=\"text_45\">\n      <!-- 45 -->\n      <g transform=\"translate(800.735778 402.318437)scale(0.1 -0.1)\">\n       <use xlink:href=\"#DejaVuSans-52\"/>\n       <use x=\"63.623047\" xlink:href=\"#DejaVuSans-53\"/>\n      </g>\n     </g>\n    </g>\n    <g id=\"xtick_46\">\n     <g id=\"line2d_46\">\n      <g>\n       <use style=\"stroke:#000000;stroke-width:0.8;\" x=\"824.179911\" xlink:href=\"#m39e4f0eeb6\" y=\"387.72\"/>\n      </g>\n     </g>\n     <g id=\"text_46\">\n      <!-- 46 -->\n      <g transform=\"translate(817.817411 402.318437)scale(0.1 -0.1)\">\n       <use xlink:href=\"#DejaVuSans-52\"/>\n       <use x=\"63.623047\" xlink:href=\"#DejaVuSans-54\"/>\n      </g>\n     </g>\n    </g>\n    <g id=\"xtick_47\">\n     <g id=\"line2d_47\">\n      <g>\n       <use style=\"stroke:#000000;stroke-width:0.8;\" x=\"841.261543\" xlink:href=\"#m39e4f0eeb6\" y=\"387.72\"/>\n      </g>\n     </g>\n     <g id=\"text_47\">\n      <!-- 47 -->\n      <g transform=\"translate(834.899043 402.318437)scale(0.1 -0.1)\">\n       <use xlink:href=\"#DejaVuSans-52\"/>\n       <use x=\"63.623047\" xlink:href=\"#DejaVuSans-55\"/>\n      </g>\n     </g>\n    </g>\n    <g id=\"xtick_48\">\n     <g id=\"line2d_48\">\n      <g>\n       <use style=\"stroke:#000000;stroke-width:0.8;\" x=\"858.343176\" xlink:href=\"#m39e4f0eeb6\" y=\"387.72\"/>\n      </g>\n     </g>\n     <g id=\"text_48\">\n      <!-- 48 -->\n      <g transform=\"translate(851.980676 402.318437)scale(0.1 -0.1)\">\n       <use xlink:href=\"#DejaVuSans-52\"/>\n       <use x=\"63.623047\" xlink:href=\"#DejaVuSans-56\"/>\n      </g>\n     </g>\n    </g>\n    <g id=\"xtick_49\">\n     <g id=\"line2d_49\">\n      <g>\n       <use style=\"stroke:#000000;stroke-width:0.8;\" x=\"875.424809\" xlink:href=\"#m39e4f0eeb6\" y=\"387.72\"/>\n      </g>\n     </g>\n     <g id=\"text_49\">\n      <!-- 49 -->\n      <g transform=\"translate(869.062309 402.318437)scale(0.1 -0.1)\">\n       <use xlink:href=\"#DejaVuSans-52\"/>\n       <use x=\"63.623047\" xlink:href=\"#DejaVuSans-57\"/>\n      </g>\n     </g>\n    </g>\n    <g id=\"text_50\">\n     <!-- 961 -->\n     <g transform=\"translate(455.921875 415.996562)scale(0.1 -0.1)\">\n      <use xlink:href=\"#DejaVuSans-57\"/>\n      <use x=\"63.623047\" xlink:href=\"#DejaVuSans-54\"/>\n      <use x=\"127.246094\" xlink:href=\"#DejaVuSans-49\"/>\n     </g>\n    </g>\n   </g>\n   <g id=\"matplotlib.axis_2\">\n    <g id=\"ytick_1\">\n     <g id=\"line2d_50\">\n      <defs>\n       <path d=\"M 0 0 \nL -3.5 0 \n\" id=\"m284494c0b1\" style=\"stroke:#000000;stroke-width:0.8;\"/>\n      </defs>\n      <g>\n       <use style=\"stroke:#000000;stroke-width:0.8;\" x=\"46.965625\" xlink:href=\"#m284494c0b1\" y=\"387.72\"/>\n      </g>\n     </g>\n     <g id=\"text_51\">\n      <!-- 0 -->\n      <g transform=\"translate(33.603125 391.519219)scale(0.1 -0.1)\">\n       <use xlink:href=\"#DejaVuSans-48\"/>\n      </g>\n     </g>\n    </g>\n    <g id=\"ytick_2\">\n     <g id=\"line2d_51\">\n      <g>\n       <use style=\"stroke:#000000;stroke-width:0.8;\" x=\"46.965625\" xlink:href=\"#m284494c0b1\" y=\"326.296271\"/>\n      </g>\n     </g>\n     <g id=\"text_52\">\n      <!-- 100 -->\n      <g transform=\"translate(20.878125 330.09549)scale(0.1 -0.1)\">\n       <use xlink:href=\"#DejaVuSans-49\"/>\n       <use x=\"63.623047\" xlink:href=\"#DejaVuSans-48\"/>\n       <use x=\"127.246094\" xlink:href=\"#DejaVuSans-48\"/>\n      </g>\n     </g>\n    </g>\n    <g id=\"ytick_3\">\n     <g id=\"line2d_52\">\n      <g>\n       <use style=\"stroke:#000000;stroke-width:0.8;\" x=\"46.965625\" xlink:href=\"#m284494c0b1\" y=\"264.872542\"/>\n      </g>\n     </g>\n     <g id=\"text_53\">\n      <!-- 200 -->\n      <g transform=\"translate(20.878125 268.671761)scale(0.1 -0.1)\">\n       <use xlink:href=\"#DejaVuSans-50\"/>\n       <use x=\"63.623047\" xlink:href=\"#DejaVuSans-48\"/>\n       <use x=\"127.246094\" xlink:href=\"#DejaVuSans-48\"/>\n      </g>\n     </g>\n    </g>\n    <g id=\"ytick_4\">\n     <g id=\"line2d_53\">\n      <g>\n       <use style=\"stroke:#000000;stroke-width:0.8;\" x=\"46.965625\" xlink:href=\"#m284494c0b1\" y=\"203.448814\"/>\n      </g>\n     </g>\n     <g id=\"text_54\">\n      <!-- 300 -->\n      <g transform=\"translate(20.878125 207.248032)scale(0.1 -0.1)\">\n       <use xlink:href=\"#DejaVuSans-51\"/>\n       <use x=\"63.623047\" xlink:href=\"#DejaVuSans-48\"/>\n       <use x=\"127.246094\" xlink:href=\"#DejaVuSans-48\"/>\n      </g>\n     </g>\n    </g>\n    <g id=\"ytick_5\">\n     <g id=\"line2d_54\">\n      <g>\n       <use style=\"stroke:#000000;stroke-width:0.8;\" x=\"46.965625\" xlink:href=\"#m284494c0b1\" y=\"142.025085\"/>\n      </g>\n     </g>\n     <g id=\"text_55\">\n      <!-- 400 -->\n      <g transform=\"translate(20.878125 145.824303)scale(0.1 -0.1)\">\n       <use xlink:href=\"#DejaVuSans-52\"/>\n       <use x=\"63.623047\" xlink:href=\"#DejaVuSans-48\"/>\n       <use x=\"127.246094\" xlink:href=\"#DejaVuSans-48\"/>\n      </g>\n     </g>\n    </g>\n    <g id=\"ytick_6\">\n     <g id=\"line2d_55\">\n      <g>\n       <use style=\"stroke:#000000;stroke-width:0.8;\" x=\"46.965625\" xlink:href=\"#m284494c0b1\" y=\"80.601356\"/>\n      </g>\n     </g>\n     <g id=\"text_56\">\n      <!-- 500 -->\n      <g transform=\"translate(20.878125 84.400575)scale(0.1 -0.1)\">\n       <use xlink:href=\"#DejaVuSans-53\"/>\n       <use x=\"63.623047\" xlink:href=\"#DejaVuSans-48\"/>\n       <use x=\"127.246094\" xlink:href=\"#DejaVuSans-48\"/>\n      </g>\n     </g>\n    </g>\n    <g id=\"ytick_7\">\n     <g id=\"line2d_56\">\n      <g>\n       <use style=\"stroke:#000000;stroke-width:0.8;\" x=\"46.965625\" xlink:href=\"#m284494c0b1\" y=\"19.177627\"/>\n      </g>\n     </g>\n     <g id=\"text_57\">\n      <!-- 600 -->\n      <g transform=\"translate(20.878125 22.976846)scale(0.1 -0.1)\">\n       <use xlink:href=\"#DejaVuSans-54\"/>\n       <use x=\"63.623047\" xlink:href=\"#DejaVuSans-48\"/>\n       <use x=\"127.246094\" xlink:href=\"#DejaVuSans-48\"/>\n      </g>\n     </g>\n    </g>\n    <g id=\"text_58\">\n     <!-- count -->\n     <g transform=\"translate(14.798438 211.56625)rotate(-90)scale(0.1 -0.1)\">\n      <defs>\n       <path d=\"M 48.78125 52.59375 \nL 48.78125 44.1875 \nQ 44.96875 46.296875 41.140625 47.34375 \nQ 37.3125 48.390625 33.40625 48.390625 \nQ 24.65625 48.390625 19.8125 42.84375 \nQ 14.984375 37.3125 14.984375 27.296875 \nQ 14.984375 17.28125 19.8125 11.734375 \nQ 24.65625 6.203125 33.40625 6.203125 \nQ 37.3125 6.203125 41.140625 7.25 \nQ 44.96875 8.296875 48.78125 10.40625 \nL 48.78125 2.09375 \nQ 45.015625 0.34375 40.984375 -0.53125 \nQ 36.96875 -1.421875 32.421875 -1.421875 \nQ 20.0625 -1.421875 12.78125 6.34375 \nQ 5.515625 14.109375 5.515625 27.296875 \nQ 5.515625 40.671875 12.859375 48.328125 \nQ 20.21875 56 33.015625 56 \nQ 37.15625 56 41.109375 55.140625 \nQ 45.0625 54.296875 48.78125 52.59375 \nz\n\" id=\"DejaVuSans-99\"/>\n       <path d=\"M 30.609375 48.390625 \nQ 23.390625 48.390625 19.1875 42.75 \nQ 14.984375 37.109375 14.984375 27.296875 \nQ 14.984375 17.484375 19.15625 11.84375 \nQ 23.34375 6.203125 30.609375 6.203125 \nQ 37.796875 6.203125 41.984375 11.859375 \nQ 46.1875 17.53125 46.1875 27.296875 \nQ 46.1875 37.015625 41.984375 42.703125 \nQ 37.796875 48.390625 30.609375 48.390625 \nz\nM 30.609375 56 \nQ 42.328125 56 49.015625 48.375 \nQ 55.71875 40.765625 55.71875 27.296875 \nQ 55.71875 13.875 49.015625 6.21875 \nQ 42.328125 -1.421875 30.609375 -1.421875 \nQ 18.84375 -1.421875 12.171875 6.21875 \nQ 5.515625 13.875 5.515625 27.296875 \nQ 5.515625 40.765625 12.171875 48.375 \nQ 18.84375 56 30.609375 56 \nz\n\" id=\"DejaVuSans-111\"/>\n       <path d=\"M 8.5 21.578125 \nL 8.5 54.6875 \nL 17.484375 54.6875 \nL 17.484375 21.921875 \nQ 17.484375 14.15625 20.5 10.265625 \nQ 23.53125 6.390625 29.59375 6.390625 \nQ 36.859375 6.390625 41.078125 11.03125 \nQ 45.3125 15.671875 45.3125 23.6875 \nL 45.3125 54.6875 \nL 54.296875 54.6875 \nL 54.296875 0 \nL 45.3125 0 \nL 45.3125 8.40625 \nQ 42.046875 3.421875 37.71875 1 \nQ 33.40625 -1.421875 27.6875 -1.421875 \nQ 18.265625 -1.421875 13.375 4.4375 \nQ 8.5 10.296875 8.5 21.578125 \nz\nM 31.109375 56 \nz\n\" id=\"DejaVuSans-117\"/>\n       <path d=\"M 54.890625 33.015625 \nL 54.890625 0 \nL 45.90625 0 \nL 45.90625 32.71875 \nQ 45.90625 40.484375 42.875 44.328125 \nQ 39.84375 48.1875 33.796875 48.1875 \nQ 26.515625 48.1875 22.3125 43.546875 \nQ 18.109375 38.921875 18.109375 30.90625 \nL 18.109375 0 \nL 9.078125 0 \nL 9.078125 54.6875 \nL 18.109375 54.6875 \nL 18.109375 46.1875 \nQ 21.34375 51.125 25.703125 53.5625 \nQ 30.078125 56 35.796875 56 \nQ 45.21875 56 50.046875 50.171875 \nQ 54.890625 44.34375 54.890625 33.015625 \nz\n\" id=\"DejaVuSans-110\"/>\n       <path d=\"M 18.3125 70.21875 \nL 18.3125 54.6875 \nL 36.8125 54.6875 \nL 36.8125 47.703125 \nL 18.3125 47.703125 \nL 18.3125 18.015625 \nQ 18.3125 11.328125 20.140625 9.421875 \nQ 21.96875 7.515625 27.59375 7.515625 \nL 36.8125 7.515625 \nL 36.8125 0 \nL 27.59375 0 \nQ 17.1875 0 13.234375 3.875 \nQ 9.28125 7.765625 9.28125 18.015625 \nL 9.28125 47.703125 \nL 2.6875 47.703125 \nL 2.6875 54.6875 \nL 9.28125 54.6875 \nL 9.28125 70.21875 \nz\n\" id=\"DejaVuSans-116\"/>\n      </defs>\n      <use xlink:href=\"#DejaVuSans-99\"/>\n      <use x=\"54.980469\" xlink:href=\"#DejaVuSans-111\"/>\n      <use x=\"116.162109\" xlink:href=\"#DejaVuSans-117\"/>\n      <use x=\"179.541016\" xlink:href=\"#DejaVuSans-110\"/>\n      <use x=\"242.919922\" xlink:href=\"#DejaVuSans-116\"/>\n     </g>\n    </g>\n   </g>\n   <g id=\"patch_52\">\n    <path d=\"M 46.965625 387.72 \nL 46.965625 7.2 \n\" style=\"fill:none;stroke:#000000;stroke-linecap:square;stroke-linejoin:miter;stroke-width:0.8;\"/>\n   </g>\n   <g id=\"patch_53\">\n    <path d=\"M 883.965625 387.72 \nL 883.965625 7.2 \n\" style=\"fill:none;stroke:#000000;stroke-linecap:square;stroke-linejoin:miter;stroke-width:0.8;\"/>\n   </g>\n   <g id=\"patch_54\">\n    <path d=\"M 46.965625 387.72 \nL 883.965625 387.72 \n\" style=\"fill:none;stroke:#000000;stroke-linecap:square;stroke-linejoin:miter;stroke-width:0.8;\"/>\n   </g>\n   <g id=\"patch_55\">\n    <path d=\"M 46.965625 7.2 \nL 883.965625 7.2 \n\" style=\"fill:none;stroke:#000000;stroke-linecap:square;stroke-linejoin:miter;stroke-width:0.8;\"/>\n   </g>\n  </g>\n </g>\n <defs>\n  <clipPath id=\"p856b42a342\">\n   <rect height=\"380.52\" width=\"837\" x=\"46.965625\" y=\"7.2\"/>\n  </clipPath>\n </defs>\n</svg>\n",
                        "image/png": "[encoded data removed]"
                    },
                    "metadata": {
                        "needs_background": "light"
                    }
                }
            ],
            "metadata": {}
        },
        {
            "cell_type": "code",
            "execution_count": 7,
            "source": [
                "# check for null values\n",
                "df.isnull().sum()"
            ],
            "outputs": [
                {
                    "output_type": "execute_result",
                    "data": {
                        "text/plain": [
                            "1      0\n",
                            "2      0\n",
                            "3      0\n",
                            "4      0\n",
                            "5      0\n",
                            "      ..\n",
                            "957    0\n",
                            "958    0\n",
                            "959    0\n",
                            "960    0\n",
                            "961    0\n",
                            "Length: 961, dtype: int64"
                        ]
                    },
                    "metadata": {},
                    "execution_count": 7
                }
            ],
            "metadata": {}
        },
        {
            "cell_type": "code",
            "execution_count": null,
            "source": [
                "\n",
                "# df = df.sample(frac = 1)\n",
                "x = df.iloc[:,:-1]\n",
                "y = df.iloc[:,-1]\n",
                "\n",
                "x_train, x_test, y_train, y_test = train_test_split(x, y, test_size=0.2, random_state=42)\n",
                "\n",
                "# x_test = test_df.iloc[:,:-1]\n",
                "# y_test = test_df.iloc[:,-1]\n",
                "print(\"x_train shape:\", x_train.shape, \"| y_train shape:\", y_train.shape)\n",
                "print(\"x_test shape:\", x_test.shape, \"| y_test shape:\", y_test.shape)"
            ],
            "outputs": [
                {
                    "output_type": "stream",
                    "name": "stdout",
                    "text": [
                        "x_train shape: (7510, 960) | y_train shape: (7510,)\n",
                        "x_test shape: (1878, 960) | y_test shape: (1878,)\n"
                    ]
                }
            ],
            "metadata": {}
        },
        {
            "cell_type": "code",
            "execution_count": 39,
            "source": [
                "# display(x_test)"
            ],
            "outputs": [],
            "metadata": {}
        },
        {
            "cell_type": "markdown",
            "source": [
                "# Resampling Technique\n",
                "\n",
                "We will use random undersampling, random oversampling, Tomek Links (Undersampling), and SMOTE for the first half of this experiment."
            ],
            "metadata": {}
        },
        {
            "cell_type": "code",
            "execution_count": 9,
            "source": [
                "\"\"\"\n",
                "1. Random Undersampling\n",
                "\"\"\"\n",
                "import imblearn\n",
                "from imblearn.under_sampling import RandomUnderSampler\n",
                "\n",
                "rus = RandomUnderSampler(random_state=42, replacement=True)\n",
                "\n",
                "# fit predictor and target varialbe\n",
                "x_rus, y_rus = rus.fit_resample(x_train, y_train)\n",
                "x_rus_train, x_rus_test, y_rus_train, y_rus_test = train_test_split(x_rus, y_rus, test_size=0.2, random_state=42)\n",
                "\n",
                "print('original dataset shape:', Counter(y_train))\n",
                "print('Resample dataset shape', Counter(y_rus))"
            ],
            "outputs": [
                {
                    "output_type": "stream",
                    "name": "stdout",
                    "text": [
                        "original dataset shape: Counter({5: 472, 3: 468, 7: 468, 6: 465, 4: 465, 2: 464, 9: 462, 1: 458, 8: 457, 10: 446, 14: 163, 17: 162, 12: 161, 19: 156, 16: 155, 20: 155, 18: 154, 15: 153, 11: 151, 13: 146, 22: 85, 29: 81, 25: 77, 23: 77, 27: 76, 21: 75, 26: 75, 28: 75, 24: 73, 30: 72, 33: 45, 37: 42, 34: 42, 38: 40, 35: 40, 32: 39, 39: 39, 40: 36, 31: 35, 36: 35, 41: 20, 49: 20, 44: 19, 43: 19, 42: 19, 48: 19, 47: 18, 46: 18, 45: 18})\n",
                        "Resample dataset shape Counter({1: 18, 2: 18, 3: 18, 4: 18, 5: 18, 6: 18, 7: 18, 8: 18, 9: 18, 10: 18, 11: 18, 12: 18, 13: 18, 14: 18, 15: 18, 16: 18, 17: 18, 18: 18, 19: 18, 20: 18, 21: 18, 22: 18, 23: 18, 24: 18, 25: 18, 26: 18, 27: 18, 28: 18, 29: 18, 30: 18, 31: 18, 32: 18, 33: 18, 34: 18, 35: 18, 36: 18, 37: 18, 38: 18, 39: 18, 40: 18, 41: 18, 42: 18, 43: 18, 44: 18, 45: 18, 46: 18, 47: 18, 48: 18, 49: 18})\n"
                    ]
                }
            ],
            "metadata": {}
        },
        {
            "cell_type": "code",
            "execution_count": 10,
            "source": [
                "\"\"\"\n",
                "2. Random Oversampling\n",
                "\"\"\"\n",
                "from imblearn.over_sampling import RandomOverSampler\n",
                "\n",
                "ros = RandomOverSampler(random_state=42)\n",
                "\n",
                "# fit predictor and target varaible\n",
                "x_ros, y_ros = ros.fit_resample(x_train, y_train)\n",
                "x_ros_train, x_ros_test, y_ros_train, y_ros_test = train_test_split(x_ros, y_ros, test_size=0.2, random_state=42)\n",
                "\n",
                "print('Original dataset shape', Counter(y_train))\n",
                "print('Resample dataset shape', Counter(y_ros))"
            ],
            "outputs": [
                {
                    "output_type": "stream",
                    "name": "stdout",
                    "text": [
                        "Original dataset shape Counter({5: 472, 3: 468, 7: 468, 6: 465, 4: 465, 2: 464, 9: 462, 1: 458, 8: 457, 10: 446, 14: 163, 17: 162, 12: 161, 19: 156, 16: 155, 20: 155, 18: 154, 15: 153, 11: 151, 13: 146, 22: 85, 29: 81, 25: 77, 23: 77, 27: 76, 21: 75, 26: 75, 28: 75, 24: 73, 30: 72, 33: 45, 37: 42, 34: 42, 38: 40, 35: 40, 32: 39, 39: 39, 40: 36, 31: 35, 36: 35, 41: 20, 49: 20, 44: 19, 43: 19, 42: 19, 48: 19, 47: 18, 46: 18, 45: 18})\n",
                        "Resample dataset shape Counter({15: 472, 3: 472, 6: 472, 1: 472, 47: 472, 16: 472, 18: 472, 25: 472, 20: 472, 46: 472, 14: 472, 7: 472, 4: 472, 10: 472, 8: 472, 9: 472, 2: 472, 24: 472, 12: 472, 29: 472, 5: 472, 30: 472, 32: 472, 22: 472, 21: 472, 17: 472, 37: 472, 26: 472, 23: 472, 19: 472, 44: 472, 13: 472, 31: 472, 41: 472, 49: 472, 11: 472, 28: 472, 39: 472, 45: 472, 36: 472, 43: 472, 40: 472, 33: 472, 38: 472, 35: 472, 42: 472, 34: 472, 27: 472, 48: 472})\n"
                    ]
                }
            ],
            "metadata": {}
        },
        {
            "cell_type": "code",
            "execution_count": 11,
            "source": [
                "\"\"\"\n",
                "3. Tomek Links Undersampling\n",
                "Tomek links are pairs of very close instances but of opposite classes. Removing the instances of the majority class of each pair \n",
                "increases the space between the two classes, facilitating the classification process.\n",
                "Tomek’s link exists if the two samples are the nearest neighbors of each other.\n",
                "We’ll use ratio='majority' to resample the majority class.\n",
                "\"\"\"\n",
                "from imblearn.under_sampling import TomekLinks\n",
                "\n",
                "tl = TomekLinks(sampling_strategy='majority')\n",
                "\n",
                "# fit predictor and target variable\n",
                "x_tl, y_tl = tl.fit_resample(x_train, y_train)\n",
                "x_tl_train, x_tl_test, y_tl_train, y_tl_test = train_test_split(x_tl, y_tl, test_size=0.2, random_state=42)\n",
                "\n",
                "print('Original dataset shape:', Counter(y_train))\n",
                "print('Resample dataset shape:', Counter(y_tl))"
            ],
            "outputs": [
                {
                    "output_type": "stream",
                    "name": "stdout",
                    "text": [
                        "Original dataset shape: Counter({5: 472, 3: 468, 7: 468, 6: 465, 4: 465, 2: 464, 9: 462, 1: 458, 8: 457, 10: 446, 14: 163, 17: 162, 12: 161, 19: 156, 16: 155, 20: 155, 18: 154, 15: 153, 11: 151, 13: 146, 22: 85, 29: 81, 25: 77, 23: 77, 27: 76, 21: 75, 26: 75, 28: 75, 24: 73, 30: 72, 33: 45, 37: 42, 34: 42, 38: 40, 35: 40, 32: 39, 39: 39, 40: 36, 31: 35, 36: 35, 41: 20, 49: 20, 44: 19, 43: 19, 42: 19, 48: 19, 47: 18, 46: 18, 45: 18})\n",
                        "Resample dataset shape: Counter({5: 469, 3: 468, 7: 468, 6: 465, 4: 465, 2: 464, 9: 462, 1: 458, 8: 457, 10: 446, 14: 163, 17: 162, 12: 161, 19: 156, 16: 155, 20: 155, 18: 154, 15: 153, 11: 151, 13: 146, 22: 85, 29: 81, 25: 77, 23: 77, 27: 76, 21: 75, 26: 75, 28: 75, 24: 73, 30: 72, 33: 45, 37: 42, 34: 42, 38: 40, 35: 40, 32: 39, 39: 39, 40: 36, 31: 35, 36: 35, 41: 20, 49: 20, 44: 19, 43: 19, 42: 19, 48: 19, 47: 18, 46: 18, 45: 18})\n"
                    ]
                }
            ],
            "metadata": {}
        },
        {
            "cell_type": "code",
            "execution_count": 12,
            "source": [
                "\n",
                "\"\"\"\n",
                "4. SMOTE (Synthetic Minority Oversampling Technique)\n",
                "This technique generates synthetic data for the minority class. SMOTE (Synthetic Minority Oversampling Technique) works by randomly picking a point \n",
                "from the minority class and computing the k-nearest neighbors for this point. The synthetic points are added between the chosen point and its neighbors.\n",
                "\n",
                "SMOTE algorithm works in 4 simple steps:\n",
                "\n",
                "Choose a minority class as the input vector\n",
                "Find its k nearest neighbors (k_neighbors is specified as an argument in the SMOTE() function)\n",
                "Choose one of these neighbors and place a synthetic point anywhere on the line joining the point under consideration and its chosen neighbor\n",
                "Repeat the steps until data is balanced\n",
                "\"\"\"\n",
                "from imblearn.over_sampling import SMOTE\n",
                "\n",
                "smote = SMOTE()\n",
                "\n",
                "# fit predictor and target variable\n",
                "x_smote, y_smote = smote.fit_resample(x_train, y_train)\n",
                "x_smote_train, x_smote_test, y_smote_train, y_smote_test = train_test_split(x_smote, y_smote, test_size=0.2, random_state=42)\n",
                "\n",
                "print('Original dataset shape', Counter(y_train))\n",
                "print('Resample dataset shape', Counter(y_ros))"
            ],
            "outputs": [
                {
                    "output_type": "stream",
                    "name": "stdout",
                    "text": [
                        "Original dataset shape Counter({5: 472, 3: 468, 7: 468, 6: 465, 4: 465, 2: 464, 9: 462, 1: 458, 8: 457, 10: 446, 14: 163, 17: 162, 12: 161, 19: 156, 16: 155, 20: 155, 18: 154, 15: 153, 11: 151, 13: 146, 22: 85, 29: 81, 25: 77, 23: 77, 27: 76, 21: 75, 26: 75, 28: 75, 24: 73, 30: 72, 33: 45, 37: 42, 34: 42, 38: 40, 35: 40, 32: 39, 39: 39, 40: 36, 31: 35, 36: 35, 41: 20, 49: 20, 44: 19, 43: 19, 42: 19, 48: 19, 47: 18, 46: 18, 45: 18})\n",
                        "Resample dataset shape Counter({15: 472, 3: 472, 6: 472, 1: 472, 47: 472, 16: 472, 18: 472, 25: 472, 20: 472, 46: 472, 14: 472, 7: 472, 4: 472, 10: 472, 8: 472, 9: 472, 2: 472, 24: 472, 12: 472, 29: 472, 5: 472, 30: 472, 32: 472, 22: 472, 21: 472, 17: 472, 37: 472, 26: 472, 23: 472, 19: 472, 44: 472, 13: 472, 31: 472, 41: 472, 49: 472, 11: 472, 28: 472, 39: 472, 45: 472, 36: 472, 43: 472, 40: 472, 33: 472, 38: 472, 35: 472, 42: 472, 34: 472, 27: 472, 48: 472})\n"
                    ]
                }
            ],
            "metadata": {}
        },
        {
            "cell_type": "markdown",
            "source": [
                "# Predictions"
            ],
            "metadata": {}
        },
        {
            "cell_type": "code",
            "execution_count": 84,
            "source": [
                "\"\"\"\n",
                "1. Using baseline Random Forest Classifier on the original imbalanced dataset\n",
                "\"\"\"\n",
                "\n",
                "from sklearn.ensemble import RandomForestClassifier\n",
                "\n",
                "rfc = RandomForestClassifier()\n",
                "\n",
                "# fit the predictor and target\n",
                "rfc.fit(x_train, y_train)\n",
                "\n",
                "# predict\n",
                "rfc_predict = rfc.predict(x_test)\n",
                "rfc_predict_prob = rfc.predict_proba(x_test)\n",
                "\n",
                "# check performance\n",
                "\n",
                "print('ROCAUC score:',roc_auc_score(y_test, rfc_predict_prob, multi_class='ovr'))\n",
                "print('Accuracy score:',accuracy_score(y_test, rfc_predict))\n",
                "print('Macro F1 score:',f1_score(y_test, rfc_predict, average='macro'))\n",
                "print('Micro F1 score:',f1_score(y_test, rfc_predict, average='micro'))"
            ],
            "outputs": [
                {
                    "output_type": "stream",
                    "name": "stdout",
                    "text": [
                        "ROCAUC score: 0.8349315165558232\n",
                        "Accuracy score: 0.43929712460063897\n",
                        "Macro F1 score: 0.2348129814340612\n",
                        "Micro F1 score: 0.43929712460063897\n"
                    ]
                }
            ],
            "metadata": {}
        },
        {
            "cell_type": "code",
            "execution_count": 86,
            "source": [
                "\"\"\"\n",
                "3. Using baseline Random Forest Classifier on the random oversampled dataset\n",
                "\"\"\"\n",
                "\n",
                "from sklearn.ensemble import RandomForestClassifier\n",
                "\n",
                "rfc = RandomForestClassifier()\n",
                "\n",
                "# fit the predictor and target\n",
                "rfc.fit(x_ros_train, y_ros_train)\n",
                "\n",
                "# predict\n",
                "rfc_predict = rfc.predict(x_ros_test)\n",
                "rfc_predict_prob = rfc.predict_proba(x_ros_test)\n",
                "\n",
                "# check performance\n",
                "\n",
                "print('ROCAUC score:',roc_auc_score(y_ros_test, rfc_predict_prob, multi_class='ovr'))\n",
                "print('Accuracy score:',accuracy_score(y_ros_test, rfc_predict))\n",
                "print('Macro F1 score:',f1_score(y_ros_test, rfc_predict, average='macro'))\n",
                "print('Micro F1 score:',f1_score(y_ros_test, rfc_predict, average='micro'))"
            ],
            "outputs": [
                {
                    "output_type": "stream",
                    "name": "stdout",
                    "text": [
                        "ROCAUC score: 0.9921842391573401\n",
                        "Accuracy score: 0.8875918720276696\n",
                        "Macro F1 score: 0.8791741270887801\n",
                        "Micro F1 score: 0.8875918720276698\n"
                    ]
                }
            ],
            "metadata": {}
        },
        {
            "cell_type": "code",
            "execution_count": 87,
            "source": [
                "\"\"\"\n",
                "4. Using baseline Random Forest Classifier on the Tomek Linked dataset\n",
                "\"\"\"\n",
                "\n",
                "from sklearn.ensemble import RandomForestClassifier\n",
                "\n",
                "rfc = RandomForestClassifier()\n",
                "\n",
                "# fit the predictor and target\n",
                "rfc.fit(x_tl_train, y_tl_train)\n",
                "\n",
                "# predict\n",
                "rfc_predict = rfc.predict(x_tl_test)\n",
                "rfc_predict_prob = rfc.predict_proba(x_tl_test)\n",
                "\n",
                "# check performance\n",
                "\n",
                "print('ROCAUC score:',roc_auc_score(y_tl_test, rfc_predict_prob, multi_class='ovr'))\n",
                "print('Accuracy score:',accuracy_score(y_tl_test, rfc_predict))\n",
                "print('Macro F1 score:',f1_score(y_tl_test, rfc_predict, average='macro'))\n",
                "print('Micro F1 score:',f1_score(y_tl_test, rfc_predict, average='micro'))"
            ],
            "outputs": [
                {
                    "output_type": "stream",
                    "name": "stdout",
                    "text": [
                        "ROCAUC score: 0.7938862208763775\n",
                        "Accuracy score: 0.4167776298268975\n",
                        "Macro F1 score: 0.20946141530134976\n",
                        "Micro F1 score: 0.4167776298268975\n"
                    ]
                }
            ],
            "metadata": {}
        },
        {
            "cell_type": "code",
            "execution_count": 88,
            "source": [
                "\"\"\"\n",
                "5. Using baseline Random Forest Classifier on the SMOTE resampled dataset\n",
                "\"\"\"\n",
                "\n",
                "from sklearn.ensemble import RandomForestClassifier\n",
                "\n",
                "rfc = RandomForestClassifier()\n",
                "\n",
                "# fit the predictor and target\n",
                "rfc.fit(x_smote_train, y_smote_train)\n",
                "\n",
                "# predict\n",
                "rfc_predict = rfc.predict(x_smote_test)\n",
                "rfc_predict_prob = rfc.predict_proba(x_smote_test)\n",
                "\n",
                "# check performance\n",
                "\n",
                "print('ROCAUC score:',roc_auc_score(y_smote_test, rfc_predict_prob, multi_class='ovr'))\n",
                "print('Accuracy score:',accuracy_score(y_smote_test, rfc_predict))\n",
                "print('Macro F1 score:',f1_score(y_smote_test, rfc_predict, average='macro'))\n",
                "print('Micro F1 score:',f1_score(y_smote_test, rfc_predict, average='micro'))"
            ],
            "outputs": [
                {
                    "output_type": "stream",
                    "name": "stdout",
                    "text": [
                        "ROCAUC score: 0.9826719826615402\n",
                        "Accuracy score: 0.8627323821876351\n",
                        "Macro F1 score: 0.8460969870843537\n",
                        "Micro F1 score: 0.8627323821876351\n"
                    ]
                }
            ],
            "metadata": {}
        },
        {
            "cell_type": "code",
            "execution_count": 74,
            "source": [
                "from sklearn.svm import SVC\n",
                "\n",
                "# we can add class_weight='balanced' to add panalize mistake\n",
                "svc_model = SVC(class_weight='balanced', probability=True)\n",
                "\n",
                "svc_model.fit(x_ros_train, y_ros_train)\n",
                "\n",
                "svc_predict = svc_model.predict(x_ros_test)\n",
                "svc_predict_prob = svc_model.predict_proba(x_ros_test)\n",
                "\n",
                "# check performance\n",
                "\n",
                "print('ROCAUC score:',roc_auc_score(y_ros_test, svc_predict_prob, multi_class='ovr'))\n",
                "print('Accuracy score:',accuracy_score(y_ros_test, svc_predict))\n",
                "print('Macro F1 score:',f1_score(y_ros_test, rfc_predict, average='macro'))\n",
                "print('Micro F1 score:',f1_score(y_ros_test, rfc_predict, average='micro'))"
            ],
            "outputs": [
                {
                    "output_type": "stream",
                    "name": "stdout",
                    "text": [
                        "ROCAUC score: 0.8282925906497677\n",
                        "Accuracy score: 0.31629392971246006\n",
                        "Macro F1 score: 0.22884620227269284\n",
                        "Micro F1 score: 0.4355697550585729\n"
                    ]
                }
            ],
            "metadata": {}
        },
        {
            "cell_type": "markdown",
            "source": [
                "Thus, it was observed that the random oversampling and SMOTE method produced the best results for the given class-imbalanced dataset. We will now apply these methods on the submission test set."
            ],
            "metadata": {}
        },
        {
            "cell_type": "code",
            "execution_count": 23,
            "source": [
                "\"\"\"\n",
                "1. Performing baseline Random Forest Classifier on the random oversampled dataset, without train_test_split.\n",
                "Then generate predictions for the submission test set\n",
                "\"\"\"\n",
                "\n",
                "from sklearn.ensemble import RandomForestClassifier\n",
                "\n",
                "rfc = RandomForestClassifier()\n",
                "\n",
                "# fit the predictor and target\n",
                "rfc.fit(x_ros, y_ros)\n",
                "\n",
                "# predict\n",
                "rfc_predict = rfc.predict(submission_test)\n",
                "rfc_predict_prob = rfc.predict_proba(submission_test)\n"
            ],
            "outputs": [],
            "metadata": {}
        },
        {
            "cell_type": "code",
            "execution_count": 27,
            "source": [
                "import os\n",
                "\n",
                "outname = 'RFC_ROS_output.csv'\n",
                "\n",
                "outdir = './submission'\n",
                "if not os.path.exists(outdir):\n",
                "    os.mkdir(outdir)\n",
                "\n",
                "fullname = os.path.join(outdir, outname)    \n",
                "\n",
                "Id = [i for i in range (0, 2959)]\n",
                "predict = pd.DataFrame(Id, columns = ['Id'])\n",
                "predict['Category'] = rfc_predict\n",
                "print(predict)\n",
                "predict.to_csv(fullname, index=False)"
            ],
            "outputs": [
                {
                    "output_type": "stream",
                    "name": "stdout",
                    "text": [
                        "        Id  Category\n",
                        "0        0         1\n",
                        "1        1        11\n",
                        "2        2         9\n",
                        "3        3         3\n",
                        "4        4        31\n",
                        "...    ...       ...\n",
                        "2954  2954         7\n",
                        "2955  2955         9\n",
                        "2956  2956         3\n",
                        "2957  2957         6\n",
                        "2958  2958        12\n",
                        "\n",
                        "[2959 rows x 2 columns]\n"
                    ]
                }
            ],
            "metadata": {}
        },
        {
            "cell_type": "code",
            "execution_count": 17,
            "source": [
                "\"\"\"\n",
                "2. Performing baseline Random Forest Classifier on the SMOTE resampled dataset, without train_test_split.\n",
                "Then generate predictions for the submission test set\n",
                "\"\"\"\n",
                "\n",
                "from sklearn.ensemble import RandomForestClassifier\n",
                "\n",
                "rfc = RandomForestClassifier()\n",
                "\n",
                "# fit the predictor and target\n",
                "rfc.fit(x_smote, y_smote)\n",
                "\n",
                "# predict\n",
                "rfc_predict = rfc.predict(submission_test)\n",
                "rfc_predict_prob = rfc.predict_proba(submission_test)\n"
            ],
            "outputs": [],
            "metadata": {}
        },
        {
            "cell_type": "code",
            "execution_count": 22,
            "source": [
                "import os\n",
                "\n",
                "outname = 'RFC_SMOTE_output.csv'\n",
                "\n",
                "outdir = './submission'\n",
                "if not os.path.exists(outdir):\n",
                "    os.mkdir(outdir)\n",
                "\n",
                "fullname = os.path.join(outdir, outname)    \n",
                "\n",
                "Id = [i for i in range (0, 2959)]\n",
                "predict = pd.DataFrame(Id, columns = ['Id'])\n",
                "predict['Category'] = rfc_predict\n",
                "print(predict)\n",
                "predict.to_csv(fullname, index=False)"
            ],
            "outputs": [
                {
                    "output_type": "stream",
                    "name": "stdout",
                    "text": [
                        "        Id  Category\n",
                        "0        0        47\n",
                        "1        1        11\n",
                        "2        2         9\n",
                        "3        3         3\n",
                        "4        4         4\n",
                        "...    ...       ...\n",
                        "2954  2954        16\n",
                        "2955  2955         9\n",
                        "2956  2956        14\n",
                        "2957  2957         1\n",
                        "2958  2958        12\n",
                        "\n",
                        "[2959 rows x 2 columns]\n"
                    ]
                }
            ],
            "metadata": {}
        },
        {
            "cell_type": "code",
            "execution_count": 29,
            "source": [
                "\"\"\"\n",
                "3. Utilised xgboost on the SMOTE resampled dataset, without train_test_split.\n",
                "Then generate predictions for the submission test set\n",
                "\"\"\"\n",
                "# fit the predictor and target\n",
                "model = xgboost.XGBClassifier()\n",
                "model.fit(x_smote, y_smote)\n",
                "\n",
                "# predict\n",
                "scaler = MinMaxScaler()\n",
                "X_test_scaled = scaler.transform(submission_test)\n",
                "y_predict = model.predict(X_test_scaled)\n",
                "print(y_predict)"
            ],
            "outputs": [
                {
                    "output_type": "stream",
                    "name": "stdout",
                    "text": [
                        "[18:29:46] WARNING: /tmp/build/80754af9/xgboost-split_1619724447847/work/src/learner.cc:1061: Starting in XGBoost 1.3.0, the default evaluation metric used with the objective 'multi:softprob' was changed from 'merror' to 'mlogloss'. Explicitly set eval_metric if you'd like to restore the old behavior.\n"
                    ]
                },
                {
                    "output_type": "error",
                    "ename": "NameError",
                    "evalue": "name 'scaler' is not defined",
                    "traceback": [
                        "\u001b[0;31m---------------------------------------------------------------------------\u001b[0m",
                        "\u001b[0;31mNameError\u001b[0m                                 Traceback (most recent call last)",
                        "\u001b[0;32m<ipython-input-29-4da956248209>\u001b[0m in \u001b[0;36m<module>\u001b[0;34m\u001b[0m\n\u001b[1;32m      8\u001b[0m \u001b[0;34m\u001b[0m\u001b[0m\n\u001b[1;32m      9\u001b[0m \u001b[0;31m# predict\u001b[0m\u001b[0;34m\u001b[0m\u001b[0;34m\u001b[0m\u001b[0;34m\u001b[0m\u001b[0m\n\u001b[0;32m---> 10\u001b[0;31m \u001b[0mX_test_scaled\u001b[0m \u001b[0;34m=\u001b[0m \u001b[0mscaler\u001b[0m\u001b[0;34m.\u001b[0m\u001b[0mtransform\u001b[0m\u001b[0;34m(\u001b[0m\u001b[0msubmission_test\u001b[0m\u001b[0;34m)\u001b[0m\u001b[0;34m\u001b[0m\u001b[0;34m\u001b[0m\u001b[0m\n\u001b[0m\u001b[1;32m     11\u001b[0m \u001b[0my_predict\u001b[0m \u001b[0;34m=\u001b[0m \u001b[0mmodel\u001b[0m\u001b[0;34m.\u001b[0m\u001b[0mpredict\u001b[0m\u001b[0;34m(\u001b[0m\u001b[0mX_test_scaled\u001b[0m\u001b[0;34m)\u001b[0m\u001b[0;34m\u001b[0m\u001b[0;34m\u001b[0m\u001b[0m\n\u001b[1;32m     12\u001b[0m \u001b[0mprint\u001b[0m\u001b[0;34m(\u001b[0m\u001b[0my_predict\u001b[0m\u001b[0;34m)\u001b[0m\u001b[0;34m\u001b[0m\u001b[0;34m\u001b[0m\u001b[0m\n",
                        "\u001b[0;31mNameError\u001b[0m: name 'scaler' is not defined"
                    ]
                }
            ],
            "metadata": {}
        },
        {
            "cell_type": "code",
            "execution_count": null,
            "source": [
                "import os\n",
                "\n",
                "outname = 'XGBOOST_SMOTE_output.csv'\n",
                "\n",
                "outdir = './submission'\n",
                "if not os.path.exists(outdir):\n",
                "    os.mkdir(outdir)\n",
                "\n",
                "fullname = os.path.join(outdir, outname)    \n",
                "\n",
                "Id = [i for i in range (0, 2959)]\n",
                "predict = pd.DataFrame(Id, columns = ['Id'])\n",
                "predict['Category'] = rfc_predict\n",
                "print(predict)\n",
                "predict.to_csv(fullname, index=False)"
            ],
            "outputs": [],
            "metadata": {}
        },
        {
            "cell_type": "markdown",
            "source": [
                "# Cross Validation"
            ],
            "metadata": {}
        },
        {
            "cell_type": "code",
            "execution_count": null,
            "source": [
                "from sklearn.model_selection import cross_validate\n",
                "myscore = make_scorer(roc_auc_score, multi_class='ovo',needs_proba=True)\n",
                "cross_validate(rfc, x, y, cv=10, scoring = myscore)"
            ],
            "outputs": [],
            "metadata": {}
        }
    ],
    "metadata": {
        "orig_nbformat": 4,
        "language_info": {
            "name": "python",
            "version": "3.6.13",
            "mimetype": "text/x-python",
            "codemirror_mode": {
                "name": "ipython",
                "version": 3
            },
            "pygments_lexer": "ipython3",
            "nbconvert_exporter": "python",
            "file_extension": ".py"
        },
        "kernelspec": {
            "name": "python3",
            "display_name": "Python 3.6.13 64-bit ('SML': conda)"
        },
        "interpreter": {
            "hash": "2aad38b272c115067aca7c2763626a41e209a4efedee411e5fae63cf6f4797c6"
        }
    },
    "nbformat": 4,
    "nbformat_minor": 2
}