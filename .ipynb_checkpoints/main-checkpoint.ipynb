{
 "cells": [
  {
   "cell_type": "code",
   "execution_count": 1,
   "id": "daabaeca",
   "metadata": {},
   "outputs": [
    {
     "name": "stdout",
     "output_type": "stream",
     "text": [
      "importing Jupyter notebook from STGCN.ipynb\n",
      "importing Jupyter notebook from skeleton.ipynb\n"
     ]
    }
   ],
   "source": [
    "import import_ipynb\n",
    "from STGCN import Model\n",
    "from tqdm import tqdm\n",
    "import tensorflow as tf\n",
    "import argparse\n",
    "import inspect\n",
    "import shutil\n",
    "import yaml\n",
    "import os\n",
    "import pandas as pd"
   ]
  },
  {
   "cell_type": "code",
   "execution_count": 2,
   "id": "a2268ba7",
   "metadata": {},
   "outputs": [],
   "source": [
    "def get_parser():\n",
    "    parser = argparse.ArgumentParser(\n",
    "        description='Spatial Temporal Graph Convolutional Neural Network for Skeleton-Based Action Recognition')\n",
    "    parser.add_argument(\n",
    "        '--base-lr', type=float, default=1e-1, help='initial learning rate')\n",
    "    parser.add_argument(\n",
    "        '--num-classes', type=int, default=49, help='number of classes in dataset')\n",
    "    parser.add_argument(\n",
    "        '--batch-size', type=int, default=64, help='training batch size')\n",
    "    parser.add_argument(\n",
    "        '--num-epochs', type=int, default=50, help='total epochs to train')\n",
    "    parser.add_argument(\n",
    "        '--save-freq', type=int, default=10, help='periodicity of saving model weights')\n",
    "    parser.add_argument(\n",
    "        '--checkpoint-path',\n",
    "        default=\"checkpoints\",\n",
    "        help='folder to store model weights')\n",
    "    parser.add_argument(\n",
    "        '--log-dir',\n",
    "        default=\"logs\",\n",
    "        help='folder to store model-definition/training-logs/hyperparameters')\n",
    "    parser.add_argument(\n",
    "        '--train-data-path',\n",
    "        default=\"tfrecord\",\n",
    "        help='path to folder with training dataset tfrecord files')\n",
    "    parser.add_argument(\n",
    "        '--test-data-path',\n",
    "        default=\"tfrecord\",\n",
    "        help='path to folder with testing dataset tfrecord files')\n",
    "    parser.add_argument(\n",
    "        '--steps',\n",
    "        type=int,\n",
    "        default=[10, 40],\n",
    "        nargs='+',\n",
    "        help='the epoch where optimizer reduce the learning rate, eg: 10 50')\n",
    "    parser.add_argument(\n",
    "        '--gpus',\n",
    "        default= None,\n",
    "        nargs='+',\n",
    "        help='list of gpus to use for training, eg: \"/gpu:0\" \"/gpu:1\"')\n",
    "\n",
    "    return parser\n"
   ]
  },
  {
   "cell_type": "code",
   "execution_count": 3,
   "id": "84a6ba62",
   "metadata": {},
   "outputs": [],
   "source": [
    "def get_dataset(directory, num_classes=49, batch_size=32, drop_remainder=False,\n",
    "                shuffle=False, shuffle_size=1000):\n",
    "    # dictionary describing the features.\n",
    "    feature_description = {\n",
    "        'features': tf.io.FixedLenFeature([], tf.string),\n",
    "        'label'     : tf.io.FixedLenFeature([], tf.int64)\n",
    "    }\n",
    "\n",
    "    # parse each proto and, the features within\n",
    "    def _parse_feature_function(example_proto):\n",
    "        features = tf.io.parse_single_example(example_proto, feature_description)\n",
    "        data =  tf.io.parse_tensor(features['features'], tf.float32)\n",
    "        index = tf.one_hot(features['label'], 2959)\n",
    "        label = tf.one_hot(features['label'], num_classes)\n",
    "        data = tf.reshape(data, (3, 16, 20, 1))\n",
    "        return data, label, index\n",
    "\n",
    "    records = [os.path.join(directory, file) for file in os.listdir(directory) if file.endswith(\"tfrecord\")]\n",
    "    dataset = tf.data.TFRecordDataset(records, num_parallel_reads=len(records))\n",
    "    dataset = dataset.map(_parse_feature_function)\n",
    "    dataset = dataset.batch(batch_size, drop_remainder=drop_remainder)\n",
    "    dataset = dataset.prefetch(batch_size)\n",
    "    if shuffle:\n",
    "        dataset = dataset.shuffle(shuffle_size)\n",
    "    return dataset"
   ]
  },
  {
   "cell_type": "code",
   "execution_count": 4,
   "id": "862c0830",
   "metadata": {},
   "outputs": [],
   "source": [
    "@tf.function\n",
    "def train_step(features, labels):\n",
    "    def step_fn(features, labels):\n",
    "        with tf.GradientTape() as tape:\n",
    "            logits = model(features, training=True)\n",
    "            cross_entropy = tf.nn.softmax_cross_entropy_with_logits(logits=logits,\n",
    "                                                              labels=labels)\n",
    "            loss = tf.reduce_sum(cross_entropy) * (1.0 / global_batch_size)\n",
    "\n",
    "        grads = tape.gradient(loss, model.trainable_variables)\n",
    "        optimizer.apply_gradients(list(zip(grads, model.trainable_variables)))\n",
    "        train_acc(labels, logits)\n",
    "        train_acc_top_5(labels, logits)\n",
    "        cross_entropy_loss(loss)\n",
    "    strategy.run(step_fn, args=(features, labels,))"
   ]
  },
  {
   "cell_type": "code",
   "execution_count": 5,
   "id": "44717555",
   "metadata": {},
   "outputs": [],
   "source": [
    "@tf.function\n",
    "def test_step(features):\n",
    "    logits = model(features, training=False)\n",
    "    return tf.nn.softmax(logits)"
   ]
  },
  {
   "cell_type": "code",
   "execution_count": null,
   "id": "fd9450d2",
   "metadata": {},
   "outputs": [
    {
     "name": "stdout",
     "output_type": "stream",
     "text": [
      "INFO:tensorflow:Using MirroredStrategy with devices ('/job:localhost/replica:0/task:0/device:GPU:0',)\n",
      "Num GPUs Available:  1\n",
      "%%%%%%%%%%%%%%%%%%%%%%%%%%%\n",
      "%%%%%%%%%%%%%%%%%%%%%%%%%%%\n",
      "INFO:tensorflow:Reduce to /job:localhost/replica:0/task:0/device:CPU:0 then broadcast to ('/job:localhost/replica:0/task:0/device:CPU:0',).\n",
      "INFO:tensorflow:Reduce to /job:localhost/replica:0/task:0/device:CPU:0 then broadcast to ('/job:localhost/replica:0/task:0/device:CPU:0',).\n",
      "INFO:tensorflow:Reduce to /job:localhost/replica:0/task:0/device:CPU:0 then broadcast to ('/job:localhost/replica:0/task:0/device:CPU:0',).\n",
      "INFO:tensorflow:Reduce to /job:localhost/replica:0/task:0/device:CPU:0 then broadcast to ('/job:localhost/replica:0/task:0/device:CPU:0',).\n",
      "INFO:tensorflow:Reduce to /job:localhost/replica:0/task:0/device:CPU:0 then broadcast to ('/job:localhost/replica:0/task:0/device:CPU:0',).\n",
      "INFO:tensorflow:Reduce to /job:localhost/replica:0/task:0/device:CPU:0 then broadcast to ('/job:localhost/replica:0/task:0/device:CPU:0',).\n",
      "INFO:tensorflow:Reduce to /job:localhost/replica:0/task:0/device:CPU:0 then broadcast to ('/job:localhost/replica:0/task:0/device:CPU:0',).\n",
      "INFO:tensorflow:Reduce to /job:localhost/replica:0/task:0/device:CPU:0 then broadcast to ('/job:localhost/replica:0/task:0/device:CPU:0',).\n",
      "INFO:tensorflow:Reduce to /job:localhost/replica:0/task:0/device:CPU:0 then broadcast to ('/job:localhost/replica:0/task:0/device:CPU:0',).\n",
      "INFO:tensorflow:Reduce to /job:localhost/replica:0/task:0/device:CPU:0 then broadcast to ('/job:localhost/replica:0/task:0/device:CPU:0',).\n",
      "Epoch: 1\n",
      "Training: \n"
     ]
    },
    {
     "name": "stderr",
     "output_type": "stream",
     "text": [
      "146it [00:20,  7.07it/s]\n"
     ]
    },
    {
     "name": "stdout",
     "output_type": "stream",
     "text": [
      "Testing: \n"
     ]
    },
    {
     "name": "stderr",
     "output_type": "stream",
     "text": [
      "2it [00:00, 14.97it/s]"
     ]
    },
    {
     "name": "stdout",
     "output_type": "stream",
     "text": [
      "[ 5  9 10  9 10  2 11 10 10  7 10 10  9 10  9  2  9  2  9 10 10  9 10 14\n",
      " 10  9 10 10  3 10 10 14  9 14  7  9 10 10 10  9  2  5 11 10  9 10  9 11\n",
      " 10 14 10  9  9 10  9  9  9  2 11  9 10  9 14  5] [13 19 25 27  4  2 40  4  9  6  4  6 18  5  8 20 27 32  1 13  1 18  8 17\n",
      "  1 12  3  5  7 22  5  3  8  3  5  8  6 34 38  7  4 15  3  9  7  8  7 40\n",
      "  9 14 24  4  7  4  5 10  9 32  3  1 44 25 35  5]\n",
      "test acc  tf.Tensor(0.0625, shape=(), dtype=float32)\n",
      "epoch test acc  tf.Tensor(0.0625, shape=(), dtype=float32)\n",
      "test acc top5 tf.Tensor(0.46875, shape=(), dtype=float32)\n",
      "epoch test acc top5  tf.Tensor(0.46875, shape=(), dtype=float32)\n",
      "[11 10  2  5 10 10 11 11  2  5  9 10 10  3  2  2  2 10 10 10 10 10 10  9\n",
      " 11  9  9 10 10 10  3 10 10  7  9 10  3  9 11 10 10  3 10  2  9  3  9 10\n",
      "  2  9  9  2  9 10 10 10  9 10 10  3 11  3  2 10] [46 18  7  5 12  5 32  3  2 30 16  7  4  8  2  2 14 10  7 23 10 10 19  3\n",
      " 25  7  7  8  5  9 28  7 19  5  4  4  3 12 11  6 10  6  1 26 14 26  4  6\n",
      "  2 28  8 14  5 15 29 15  4  5 10 31  2 20 37  7]\n",
      "test acc  tf.Tensor(0.1875, shape=(), dtype=float32)\n",
      "epoch test acc  tf.Tensor(0.125, shape=(), dtype=float32)\n",
      "test acc top5 tf.Tensor(0.421875, shape=(), dtype=float32)\n",
      "epoch test acc top5  tf.Tensor(0.4453125, shape=(), dtype=float32)\n",
      "[10 10 11 11 10 11  3  9  9 10  5 10  2  9  9 11  9 10  9 10  9  2 10 10\n",
      "  9  3 10  7 10 10 14 10  9  2  9  3  2 10 10 10 10  3  9 10  5 10  9  3\n",
      " 10  5 10  9 10 11 14 10  9  3 10  9  2  9  3  2] [22  7  3 14  8 11 11 10 10  6  5  5 30 12 12 48 24 38 22 39  7  2  1 13\n",
      " 20  9 19  3 36  6  4  6 43 30 12  6  2  8 10 45  5  9  1  6  5 10  7 17\n",
      " 17  5 28 16  6  2 17 28 12 36  8  9  2  6 34  1]\n"
     ]
    },
    {
     "name": "stderr",
     "output_type": "stream",
     "text": [
      "\r",
      "4it [00:00, 17.07it/s]"
     ]
    },
    {
     "name": "stdout",
     "output_type": "stream",
     "text": [
      "test acc  tf.Tensor(0.15625, shape=(), dtype=float32)\n",
      "epoch test acc  tf.Tensor(0.13541667, shape=(), dtype=float32)\n",
      "test acc top5 tf.Tensor(0.453125, shape=(), dtype=float32)\n",
      "epoch test acc top5  tf.Tensor(0.44791666, shape=(), dtype=float32)\n",
      "[10 10 10 10 10 10 10 10 10  5  7 10  9 10  5  2  2  9 10  2 10 10 10  2\n",
      "  9  9  9  5  2 10  2 14 10  9 10  3  9  9 14  2  9  2  9  9 10  2  9  9\n",
      " 11  2 10  9 10 10 10 10  2 10 10 10  9 10  2 10] [ 7  7 20  4 13  4 13  8 23  5 15  6  9  9 19  2  7  1 24  9  0 13 10  2\n",
      " 19 30 39  5 37 28 14  3 19  3  8 26  1  3  9 23  4  5 28 10 47  2 12 28\n",
      " 40  2  6  7 20 10  4  7  7 10  1  7  6 15 23  6]\n",
      "test acc  tf.Tensor(0.15625, shape=(), dtype=float32)\n",
      "epoch test acc  tf.Tensor(0.140625, shape=(), dtype=float32)\n",
      "test acc top5 tf.Tensor(0.484375, shape=(), dtype=float32)\n",
      "epoch test acc top5  tf.Tensor(0.45703125, shape=(), dtype=float32)\n"
     ]
    },
    {
     "name": "stderr",
     "output_type": "stream",
     "text": [
      "\r",
      "6it [00:00, 17.87it/s]"
     ]
    },
    {
     "name": "stdout",
     "output_type": "stream",
     "text": [
      "[14  9  9  2 11 10 10 10  9  3  9  5  5  2  9 10 10  9 11  9  2 10  3  9\n",
      " 14  9  9 10  2 11 10  9  2  2  9  3  9 10  9  9  9  9 10 10 11 10 10  9\n",
      " 10  2  9  2 10  2  3 10 11  3  7 11 10  9  9 10] [25  9 37 20 11 19 18 19  7  3 22  5  8 26  7 10 10  8  3  9  3  9  8  1\n",
      "  3  8  9 29 12 32 15  8 14  2 18  6 10 13 10 34 31  1  7  4 11 13  8  4\n",
      " 15 20 10 14 10  2  4 19 40  1  3 14  5  9 22 14]\n",
      "test acc  tf.Tensor(0.203125, shape=(), dtype=float32)\n",
      "epoch test acc  tf.Tensor(0.153125, shape=(), dtype=float32)\n",
      "test acc top5 tf.Tensor(0.578125, shape=(), dtype=float32)\n",
      "epoch test acc top5  tf.Tensor(0.48125, shape=(), dtype=float32)\n",
      "[ 9  9  2 10 10  9 10 10  9  9 11 10 10 10  2  9  9 10 10 10  9 14 10  9\n",
      " 14  2 10  9  3 10  9  5 10 10 10 10  9 10  9 10  2 10 10 10  9  2  7  2\n",
      "  9  3 10  3  9 10 11  9  2 10  2 14  2 10  9  2] [22  7  3 13  5  4 16 10  7 12 42  6  1  5 20  8  7  5 15  1 19  3  6 23\n",
      " 43 15 15 27  9  5  1 10  9  4 13  5 30  8 23  6 23  7  6  7  8  2  6 26\n",
      "  9  8  5  3  6  6 11 43  2 15  2 20 20 10  4 32]\n",
      "test acc  tf.Tensor(0.125, shape=(), dtype=float32)\n",
      "epoch test acc  tf.Tensor(0.1484375, shape=(), dtype=float32)\n",
      "test acc top5 tf.Tensor(0.53125, shape=(), dtype=float32)\n",
      "epoch test acc top5  tf.Tensor(0.48958334, shape=(), dtype=float32)\n"
     ]
    },
    {
     "name": "stderr",
     "output_type": "stream",
     "text": [
      "\r",
      "8it [00:00, 18.12it/s]"
     ]
    },
    {
     "name": "stdout",
     "output_type": "stream",
     "text": [
      "[10  2 25 10 10  9 10 10 10 10 10  3  9 10 10 10 11  2 14  9  9 10  2 10\n",
      "  9 11  3 14 11 10  9  9 10 10 10 10  9  2 10  9 10 10 14  2 10  9 10 10\n",
      " 10  9  9  9 10 10 10  5  5 10 10 10  2 10  9 10] [ 5 26 25  8  8 10  4  6 10 18 19 31 13 13  1  4 14  6 14 22  4 12 23  8\n",
      "  1  2 41 14 14  5  4  1  4 10 13  5 21 20  8 28  1  1  3 26  1  7  8  5\n",
      " 36 20 17  7 41  1 20 29  5  5 10  1  2 19  1  1]\n",
      "test acc  tf.Tensor(0.125, shape=(), dtype=float32)\n",
      "epoch test acc  tf.Tensor(0.14508928, shape=(), dtype=float32)\n",
      "test acc top5 tf.Tensor(0.59375, shape=(), dtype=float32)\n",
      "epoch test acc top5  tf.Tensor(0.50446427, shape=(), dtype=float32)\n",
      "[ 9 10 10 10  9  9  2 10 10 10 10  2 11  5  9  3 10 10 10 11 10  9  3 10\n",
      " 10  2  5 10 10  3  9 10  5  3  2  9 10  3  9 10 10  2 14 10  2 10  2 10\n",
      "  3  2 10  9 10  2  9  2 10  9  9 10 10  2 14  2] [41  9  9  5  6 10 35  7 10 19 10  2 14  6 20  7  4 10  8 11 10 17  3  9\n",
      " 10 26  5  4  4 42  1  4  5 25  6  9 13 17  8 20  8  2  6  8  2  8 20  8\n",
      "  1  2  7  6  1  2 22  2  1  7  1  9 10 42 31  3]\n",
      "test acc  tf.Tensor(0.265625, shape=(), dtype=float32)\n",
      "epoch test acc  tf.Tensor(0.16015625, shape=(), dtype=float32)\n",
      "test acc top5 tf.Tensor(0.625, shape=(), dtype=float32)\n",
      "epoch test acc top5  tf.Tensor(0.51953125, shape=(), dtype=float32)\n"
     ]
    },
    {
     "name": "stderr",
     "output_type": "stream",
     "text": [
      "\r",
      "10it [00:00, 18.34it/s]"
     ]
    },
    {
     "name": "stdout",
     "output_type": "stream",
     "text": [
      "[10 10  9  5 10  3  2 11 10 10  2  9 10 10 10 10 10  9 11  9 10  9 11 10\n",
      " 10  9  7  7  7  2 10 10  9 10 10 10 10 10  9 10  9  2  2  9  9 10 10  5\n",
      " 10 10  2 10  9 10  2  5  9  9 10 10  3  9  2 10] [33  3  7  2 24 10  2  4 21  6 26  8  1  7  0  6  1  4 11 17  8  9 46 39\n",
      "  7  0 20  6  4 12  4 25 12  4  5  6  9  4  5 39 15 40  2  4  7  4 30  5\n",
      " 47 19 10 10  9  9 35 18 24  4 12 19  2  4 14 38]\n",
      "test acc  tf.Tensor(0.109375, shape=(), dtype=float32)\n",
      "epoch test acc  tf.Tensor(0.1545139, shape=(), dtype=float32)\n",
      "test acc top5 tf.Tensor(0.390625, shape=(), dtype=float32)\n",
      "epoch test acc top5  tf.Tensor(0.5052083, shape=(), dtype=float32)\n",
      "[10 10 14  9  9 10  2 10  2  9 10 10  2 10  9 10 10 10 11 10  9 10 10 11\n",
      " 10 10  2 14  5 10 10 14  2 10  2  3 11  9 14  3 10  9 10  2 10  9  9 10\n",
      "  2 10  9 10 10  9  3 10 14 10  7 10  3  2 10 10] [18  9  3  1 27 22 14 45  2 17 15 13  2  8 30  1  4 10  3  8 31  5 10 25\n",
      " 16  6 23  3 12 19 18  3 43 30  2 15  1  1 37  4 13 47  7  2  1  5 30 34\n",
      " 31 12  5 30 12  8 26  1 15 13 10 21  7  4  4  8]\n",
      "test acc  tf.Tensor(0.09375, shape=(), dtype=float32)\n",
      "epoch test acc  tf.Tensor(0.1484375, shape=(), dtype=float32)\n",
      "test acc top5 tf.Tensor(0.34375, shape=(), dtype=float32)\n",
      "epoch test acc top5  tf.Tensor(0.4890625, shape=(), dtype=float32)\n"
     ]
    },
    {
     "name": "stderr",
     "output_type": "stream",
     "text": [
      "\r",
      "12it [00:00, 18.42it/s]"
     ]
    },
    {
     "name": "stdout",
     "output_type": "stream",
     "text": [
      "[ 9 14 10 10  2 10 10 11 10 11  9  9 10 10 10  5 11  2 10  9  9  7  9  9\n",
      "  2  9 10  9 10  2  3  9 11  9 11 10  5 10  2 11  2  9  9 10 10  9 10  2\n",
      " 10 10  2 10 11  3 10  3  5  3 14  9  2  9 10  2] [16  7  6 19 11  4  6 23 18 11 30 17  5  6 37 29 14 15  6  2  5  4 12 20\n",
      "  3 18 13  1 21  2  9 10  2 16  2 10  5 10 26  3  1 30  6 18  6  7  5  9\n",
      "  9 10 17 13  2  3 43 19  9 17 28  3 32 18 33 37]\n",
      "test acc  tf.Tensor(0.109375, shape=(), dtype=float32)\n",
      "epoch test acc  tf.Tensor(0.14488636, shape=(), dtype=float32)\n",
      "test acc top5 tf.Tensor(0.34375, shape=(), dtype=float32)\n",
      "epoch test acc top5  tf.Tensor(0.47585228, shape=(), dtype=float32)\n",
      "[10 10  9  9  2 14 10  9  9  9  9 10  9  2  9  9  9 10  9  5  3 10 11 11\n",
      " 10 10  9  9  2  9  2 10 11  3 11 10  9  9  2  9 10 10 10 10  9  9  9 10\n",
      " 10  9  9  2  9  9 10  9  9  9  9  2  9  9  2 11] [14 13 16 27 10  1 10 13 24  9 19 19  9 26  9 10  4 13  5  5 17 39 11 11\n",
      " 45  8  9 23 26  9 17  6 11  3  3 10  8  8  2 29 16 10  5 22 22 24  9  5\n",
      "  5 10 21  2 30 38  1  5  8 14 12 20 21  8 34 40]\n",
      "test acc  tf.Tensor(0.25, shape=(), dtype=float32)\n",
      "epoch test acc  tf.Tensor(0.15364583, shape=(), dtype=float32)\n",
      "test acc top5 tf.Tensor(0.40625, shape=(), dtype=float32)\n",
      "epoch test acc top5  tf.Tensor(0.4700521, shape=(), dtype=float32)\n"
     ]
    },
    {
     "name": "stderr",
     "output_type": "stream",
     "text": [
      "\r",
      "14it [00:00, 18.63it/s]"
     ]
    },
    {
     "name": "stdout",
     "output_type": "stream",
     "text": [
      "[14  9 10 10 10 11  9  2 10  2  5 10 11  9  5  7  5  9 11  9 10 11 10 10\n",
      "  2 14  5  3 10  9  2 10  3 10  2 10 10 10 10 14 11 10 10 11 10 10 10 10\n",
      "  7  2  7  2  9  9  7 10 10 10  2 10  9 10 11  9] [32 20  6  4  8 11  7  2  7  2  5 21 11 19  5 22 14  7 40  9 33  3  5 21\n",
      "  2 15  5 14  8 16 14  9  3  7 23  1  8 13 10  3 11 13  5  3  8  9  6  6\n",
      " 13  2  6 26 10  7  6  1 29  9  2  4  7 12 11  9]\n",
      "test acc  tf.Tensor(0.25, shape=(), dtype=float32)\n",
      "epoch test acc  tf.Tensor(0.1610577, shape=(), dtype=float32)\n",
      "test acc top5 tf.Tensor(0.609375, shape=(), dtype=float32)\n",
      "epoch test acc top5  tf.Tensor(0.48076922, shape=(), dtype=float32)\n",
      "[10  9  2  3  9 10  9  9 14 11  2  2  5 10  7  2 10 10 14 10  3  9 10 14\n",
      "  7  2  5  7  9  9 11 10  3 10 10  9  5  9  2 10  2  9 10 10  9 10  9 10\n",
      " 10 10 11 10  2 10 10  5 10  9 11  9 10 10 10 14] [ 6  4  2  6 15  9  8  8 25 32 37  2  5 16 29  3  4 18 36  8 17 10  1 12\n",
      " 36 20  4  1 41 20 11  5 42 39  0  6  7 28 27  5 31  9  9 13  8 10 42  3\n",
      "  8  6  3 10  3  9 10  5  1 10  3  7  8 18 15 40]\n",
      "test acc  tf.Tensor(0.140625, shape=(), dtype=float32)\n",
      "epoch test acc  tf.Tensor(0.15959822, shape=(), dtype=float32)\n",
      "test acc top5 tf.Tensor(0.390625, shape=(), dtype=float32)\n",
      "epoch test acc top5  tf.Tensor(0.47433037, shape=(), dtype=float32)\n"
     ]
    },
    {
     "name": "stderr",
     "output_type": "stream",
     "text": [
      "\r",
      "16it [00:00, 18.65it/s]"
     ]
    },
    {
     "name": "stdout",
     "output_type": "stream",
     "text": [
      "[10  9 10 10  2 10 11  9  5  9  2 10 10 10  9  5 10 10  5  3 14  7 10 10\n",
      " 14 11 10 10  3 10  9  2  2 14  2  3 11  9 10 10 10 10 10  9  9 10  9  5\n",
      "  2 11 10  7  2 10  2  3 10 10  2 10  9 10 10 14] [ 4 16 16  8  3  4  3 19 20 47 26 18  8  7 12  8 28 10 10  9 11  1  4  4\n",
      " 13 11 18  8  4  6  9 20  2 17 42 31 35  7 16  2  5  1  1  7 18  8 30  5\n",
      "  2  3  5  7 12  5 33 42  8 34  2  5  8  6  6 25]\n",
      "test acc  tf.Tensor(0.125, shape=(), dtype=float32)\n",
      "epoch test acc  tf.Tensor(0.15729167, shape=(), dtype=float32)\n",
      "test acc top5 tf.Tensor(0.484375, shape=(), dtype=float32)\n",
      "epoch test acc top5  tf.Tensor(0.475, shape=(), dtype=float32)\n",
      "[ 9  9  9  9 10 10 10 10 11  9 14 10 10  9 10 10  9  9  9 10  9  3 11 10\n",
      "  3 10 10 10  3  2  2  5  9  9 10 10 20 10  5 10  2  9  9 10 10  9  9  9\n",
      " 10 10 10  9 10 10 10  5  9  2 11 11  9 10  2 10] [ 6 38  7 37  6  2  7 18 40  1 32 17  4  4 18  1 16  6 33  5  4  3 40  8\n",
      " 17 28  4  6  7  2 37 30 18  9  7  4  4  8  4  4  2 18  1  9 10 19  7 15\n",
      "  4  4  8  9  8  1  6  2  9  9 40  3  8 47 23  8]\n",
      "test acc  tf.Tensor(0.109375, shape=(), dtype=float32)\n",
      "epoch test acc  tf.Tensor(0.15429688, shape=(), dtype=float32)\n",
      "test acc top5 tf.Tensor(0.484375, shape=(), dtype=float32)\n",
      "epoch test acc top5  tf.Tensor(0.47558594, shape=(), dtype=float32)\n"
     ]
    },
    {
     "name": "stderr",
     "output_type": "stream",
     "text": [
      "\r",
      "18it [00:00, 18.67it/s]"
     ]
    },
    {
     "name": "stdout",
     "output_type": "stream",
     "text": [
      "[ 5 10  2  9  2  2  9 10  9 10 11 10  9  9 11  3 10 10  3  5  2  3 11 10\n",
      "  3 10  2  5  9  9 10 10  9 10 10  2 10  2 11  2 10  3 10 10  7  9  9  9\n",
      " 10 10 10  9 10 10 10 14  2 11  2  9 10  3 10 14] [ 1 16 48 18  2  6 12  8  4  1  3 16  6 10 40 33  4 13 17 10  2  6 11 13\n",
      " 36  6  2 38  8  7  6  6  1  1  9  4  7  2 40  2 10  9  5 25  6  8  4  1\n",
      "  4  5  8  5  1  9  4  3 35 11  2  4  4 35 10  3]\n",
      "test acc  tf.Tensor(0.15625, shape=(), dtype=float32)\n",
      "epoch test acc  tf.Tensor(0.15441176, shape=(), dtype=float32)\n",
      "test acc top5 tf.Tensor(0.53125, shape=(), dtype=float32)\n",
      "epoch test acc top5  tf.Tensor(0.4788603, shape=(), dtype=float32)\n",
      "[14  7 10 10 10  9 10 10 10 10  9  9 10  5  5 10  3 10 10 10 10  9  9 10\n",
      " 10  5 14  3  3  9  9  9  9 10  3 10  2 10  9 10 10  9  2 10  3  2 10  9\n",
      "  5  9  2  7 14  9  7  2 11  9 10  9 14 10  5  5] [12  8  8 22  9 31  5 21 15 13  8 10 10  5  5  7  6  0  1 18  6  4  4  5\n",
      "  6  5 15 22  3  2 22 47  1  1  7 10  1  1  4  8 22  8  2  9 17  2  9  8\n",
      "  5  1 20 13 14  6  5 26 11 30  4 12  3  7  5  5]\n",
      "test acc  tf.Tensor(0.203125, shape=(), dtype=float32)\n",
      "epoch test acc  tf.Tensor(0.15711805, shape=(), dtype=float32)\n",
      "test acc top5 tf.Tensor(0.578125, shape=(), dtype=float32)\n",
      "epoch test acc top5  tf.Tensor(0.484375, shape=(), dtype=float32)\n"
     ]
    },
    {
     "name": "stderr",
     "output_type": "stream",
     "text": [
      "\r",
      "20it [00:01, 18.70it/s]"
     ]
    },
    {
     "name": "stdout",
     "output_type": "stream",
     "text": [
      "[10 10  2  2 10  9  3  2  2  3 14 10 10  2  3 10  2 10  9 10 10  9  9  9\n",
      "  9  9  3  3 10  9  7 10 10 10 10 10 10  2 10  9 14 10 10  3  3  2 11 10\n",
      " 10  2 10 10 10  3 10 10  3 10  2 10 10 10  9  3] [ 5  6 25  2 17 16 14  3  2 17  3  1  8 14  8  1  3  6 12 22  9  8 19  1\n",
      " 36  1 27  3  2  9 15  7 16 24  6  8  7  3  6  9 26  7  6 18  9  9 36 45\n",
      "  6  2  8  6  9  4 19 38  3 10 27  9  9 10  9 10]\n",
      "test acc  tf.Tensor(0.15625, shape=(), dtype=float32)\n",
      "epoch test acc  tf.Tensor(0.15707237, shape=(), dtype=float32)\n",
      "test acc top5 tf.Tensor(0.578125, shape=(), dtype=float32)\n",
      "epoch test acc top5  tf.Tensor(0.48930922, shape=(), dtype=float32)\n",
      "[11  9  9  5 11  9  2  9 14  9 10 10 10  2 11 11 11 10  9 10 10  9  3 10\n",
      " 10  2  9  9 10 10 10 14 10 10  2 10  2 10  9 10 10 10 10 10 10 14  9  5\n",
      " 10 10 10  9 10 10 11 10 10  3  9  3 10 14  2  2] [32  4 27  5 11  9  2  1  3  3  9  1 10 41 11 11  2  7 16  8  9  9 43  5\n",
      "  5  3  4 30  3  4 12 14  4  7  2 29  2  8  1 28 16  5  6  9  8 17  7  5\n",
      "  1 16 10 20  1  6 11 45  6 17  7 17 12  3 31  2]\n",
      "test acc  tf.Tensor(0.234375, shape=(), dtype=float32)\n",
      "epoch test acc  tf.Tensor(0.1609375, shape=(), dtype=float32)\n",
      "test acc top5 tf.Tensor(0.625, shape=(), dtype=float32)\n",
      "epoch test acc top5  tf.Tensor(0.49609375, shape=(), dtype=float32)\n",
      "[10 10  9 11 10 10 10 10 14  2  2  5 11 10 11  2 10 10 14 10  3 10 10 10\n",
      "  9  2  9  9 10  9  9 11  9  9  2  9  3 11  9 10  2  9 10  9  2  9  9 11\n",
      "  7  2 11 10 10  5  2 10 10  2 10 10  9 14 10 10] "
     ]
    },
    {
     "name": "stderr",
     "output_type": "stream",
     "text": [
      "\r",
      "22it [00:01, 18.75it/s]"
     ]
    },
    {
     "name": "stdout",
     "output_type": "stream",
     "text": [
      "[10  8 40 11 10 12  8  9 15 20  3 13  3  1  2  2  5  6 11  7 12 10 15  7\n",
      "  4  3 12 22 10 16 12 11  7  9  3 28 17 11 21 33  2  8 13 28 17 16  8  2\n",
      " 20  2 35 45  5  8  7  4  7 17 34  3 10 14 12 34]\n",
      "test acc  tf.Tensor(0.1875, shape=(), dtype=float32)\n",
      "epoch test acc  tf.Tensor(0.16220239, shape=(), dtype=float32)\n",
      "test acc top5 tf.Tensor(0.515625, shape=(), dtype=float32)\n",
      "epoch test acc top5  tf.Tensor(0.49702382, shape=(), dtype=float32)\n",
      "[10 10  3 10 14  2  2  2 11  9  5  7  2  9  2  9 11 10 11 11 10  9  9 10\n",
      " 11 14 11 10  9  9  3 10 10 11  9  9  2  2  9 10 14 14  9 10  9 10  9 14\n",
      "  2  3  9 10 14  9  9 11 10 10 10 11 14  9 10 10] [ 8  6 12  3 17  2 20  2 11  9 45  5 16 10 42  9  2 24  3  2  8  7  3 10\n",
      "  2  3  2 12 12 33 48 10  8  3 38  4  2  2  6 13 25 48  7  8  4  6 24 15\n",
      " 22 16  8  4 42 12 30 11 19  6  8  3 17  9  5  6]\n",
      "test acc  tf.Tensor(0.171875, shape=(), dtype=float32)\n",
      "epoch test acc  tf.Tensor(0.16264205, shape=(), dtype=float32)\n",
      "test acc top5 tf.Tensor(0.453125, shape=(), dtype=float32)\n",
      "epoch test acc top5  tf.Tensor(0.4950284, shape=(), dtype=float32)\n",
      "[ 2 11 10  9  2 10  9 11  9 10 10  9 11 10  5 10  5 10 10  9 11  3 10  9\n",
      "  9 11  9  5 10 10 10 14  7 10 10 11 10 10  5 14  7  7 10  5 10 10 10 10\n",
      " 11  9  9  9  7  9 10  9  9  9  2 10  2 10  2 10] [ 2 14  9 17  2 13  4 48  8  6 19  9  3 21  5  6  4  7  6  7 11 38  8 10\n",
      "  9  3  9  5 33 44 34  3  7 10  6 46 33 16 45 43 15  9  1  5  8 18 28  8\n",
      " 14  7  7 10 19  9 13  3  8 10  2 13  2 15  2  4]\n"
     ]
    },
    {
     "name": "stderr",
     "output_type": "stream",
     "text": [
      "\r",
      "24it [00:01, 18.54it/s]"
     ]
    },
    {
     "name": "stdout",
     "output_type": "stream",
     "text": [
      "test acc  tf.Tensor(0.234375, shape=(), dtype=float32)\n",
      "epoch test acc  tf.Tensor(0.16576087, shape=(), dtype=float32)\n",
      "test acc top5 tf.Tensor(0.4375, shape=(), dtype=float32)\n",
      "epoch test acc top5  tf.Tensor(0.4925272, shape=(), dtype=float32)\n",
      "[ 9  9 14  9  3  9  9  9 10  2  8  2  9 10  9  9  2 11  9 10  9  9 10  9\n",
      " 11  3  9 10  9  5 10 10 10 10  9  9 10 10  9  5 10  2  7  9  2 10 10  9\n",
      " 10  9 10 10  9 10  2  9 10  9 10  9 10  2  9  7] [ 9 18 17 17  4 22  8  7  5  2  9  2  7 10 16  1  2  3  4 19  1  7 29 24\n",
      "  3  3 21 34 27  5  1  4 19 22 28 34  6 19 17 18 10 23  4  8 37  1 10 20\n",
      "  6 23  9 13 10 17  2  3  6 10  6  7  3  9 33  1]\n",
      "test acc  tf.Tensor(0.15625, shape=(), dtype=float32)\n",
      "epoch test acc  tf.Tensor(0.16536458, shape=(), dtype=float32)\n",
      "test acc top5 tf.Tensor(0.390625, shape=(), dtype=float32)\n",
      "epoch test acc top5  tf.Tensor(0.48828125, shape=(), dtype=float32)\n"
     ]
    },
    {
     "name": "stderr",
     "output_type": "stream",
     "text": [
      "\r",
      "26it [00:01, 18.49it/s]"
     ]
    },
    {
     "name": "stdout",
     "output_type": "stream",
     "text": [
      "[10  9 10 10 14  2  9 14 10 10 10 14  9 10 10 11  9 14 10  2  7  9 10  9\n",
      " 11  9  2 10  9 10 10  5  9  9  3  2  9 10  9  9 10 11 11  2  3  9 10  2\n",
      " 10 10 10 10 10  9 10 10  9 11 10  9 10  2  3 10] [ 5  1  7  6 20  2 12  3  6  4 24 25 29  9 10 11  1  7 33  2  4  6  8 22\n",
      " 25  1 27  9 34 22 15 15  1  4  7  3 10  6  7  7 18 23  3 20 12  7  9  2\n",
      " 13  1  7  8 19  9  9 34 12  3  8  1 18 20  6  1]\n",
      "test acc  tf.Tensor(0.09375, shape=(), dtype=float32)\n",
      "epoch test acc  tf.Tensor(0.1625, shape=(), dtype=float32)\n",
      "test acc top5 tf.Tensor(0.46875, shape=(), dtype=float32)\n",
      "epoch test acc top5  tf.Tensor(0.4875, shape=(), dtype=float32)\n",
      "[10  3 11  9 10 10  9 10 10  9  9 10  3  2 10  2  2  7  2  7 10 10 10  5\n",
      "  9 10  2 14 14 10  9 10  2  5 10 10 10 10  2 10  9  9 14 14  9 10  7  7\n",
      "  2  2  9  7  3  2  2  9  9  9  2  9  2 10  9 11] [ 6  3  3 19 19 24  7 10  1  6 13  7 23 26  7  3  5 15 20  4  7 17 10  5\n",
      " 30  8  2 14  2 18 12 10  4  7  9  8  7 10 26  7 10  1  3 25  4  6 10 25\n",
      "  2  2  4  8 17 11 27  7  9 28  4 10  7 45  4 11]\n",
      "test acc  tf.Tensor(0.1875, shape=(), dtype=float32)\n",
      "epoch test acc  tf.Tensor(0.16346154, shape=(), dtype=float32)\n",
      "test acc top5 tf.Tensor(0.546875, shape=(), dtype=float32)\n",
      "epoch test acc top5  tf.Tensor(0.48978364, shape=(), dtype=float32)\n"
     ]
    },
    {
     "name": "stderr",
     "output_type": "stream",
     "text": [
      "\r",
      "28it [00:01, 18.49it/s]"
     ]
    },
    {
     "name": "stdout",
     "output_type": "stream",
     "text": [
      "[11 10  9 10  9  2  3  9 10  9  2  2  2  9  9 10 10  3  3 10  9  2 10 10\n",
      "  9 10 10  9 10 10  2 14  9 10 10  2 10 11 10 10  9 10  2 10 14  3  5 10\n",
      "  9  5  2  2  5  9  9 10 10 10 10  9 11  9 14  9] [ 3 13  9 29  7  4 18 18  3 16  2  2  2  9  4  1 13  7 16  9  3  2 18 24\n",
      " 33 36 17  9  6  9 26  3 15 24 18  2 10 11 22  6  6  1  2  6 20  2 21 19\n",
      "  5  5 28  4 29 12  9  5  5  7 12 22 25 18  9 23]\n",
      "test acc  tf.Tensor(0.203125, shape=(), dtype=float32)\n",
      "epoch test acc  tf.Tensor(0.16493055, shape=(), dtype=float32)\n",
      "test acc top5 tf.Tensor(0.375, shape=(), dtype=float32)\n",
      "epoch test acc top5  tf.Tensor(0.4855324, shape=(), dtype=float32)\n",
      "[10  2  7  2  3 11 10 10 10 10 10 11 10  9 10 10 10  7  9  2 14 10 10  9\n",
      " 10 10  5 10 14  2 10  2 10 10 10 10  2 10  9 10 10 11 11  2 14 10  9 14\n",
      " 11  9  7 10 10  9  9 10 10  9  9  9  5 10  9  2] [10  2  7  2  4  3 17 10 13  6  6 11 19  1 33 33  7 34  5 11  3  5  6  9\n",
      "  9 18  2  8 36  3  5 23  8 10  7  4  2 12 16 18  7  2  3  2 17 38  1 25\n",
      " 46 16  4  8  8  9  7  1  4  6 20  1  5  4  1  2]\n",
      "test acc  tf.Tensor(0.203125, shape=(), dtype=float32)\n",
      "epoch test acc  tf.Tensor(0.16629465, shape=(), dtype=float32)\n",
      "test acc top5 tf.Tensor(0.5625, shape=(), dtype=float32)\n",
      "epoch test acc top5  tf.Tensor(0.48828125, shape=(), dtype=float32)\n"
     ]
    },
    {
     "name": "stderr",
     "output_type": "stream",
     "text": [
      "\r",
      "30it [00:01, 18.59it/s]"
     ]
    },
    {
     "name": "stdout",
     "output_type": "stream",
     "text": [
      "[ 2  9  2  5  9  2 14 10  3 10 11 10  3 10 10 10 10 10  3  9 10  2 14 10\n",
      " 10  9  2  9  3  5  2 10  9  9 10  9  7  2  9  3  9  9  7 10  9 10  7  9\n",
      "  7  9 10  9 10 10  2  9 10 10  2 10 10 10 11  9] [ 2  6 20  8 15 32  3  4 15  4 11 35  3 29  6 10 18  1  4  1 19  2  7 13\n",
      "  6 22  2 18  3 18  3  4 30 30  6  8  5 26 22  4 18 37 44  8  6  6 17  9\n",
      " 39 10  8  1  7  8  2  6  9 16  2  9 24  5 11 34]\n",
      "test acc  tf.Tensor(0.171875, shape=(), dtype=float32)\n",
      "epoch test acc  tf.Tensor(0.16648707, shape=(), dtype=float32)\n",
      "test acc top5 tf.Tensor(0.34375, shape=(), dtype=float32)\n",
      "epoch test acc top5  tf.Tensor(0.4832974, shape=(), dtype=float32)\n",
      "[14  9  5  3 10 10  9  2 10 10 10  9 10 10  9  9  7 10 10  2 10  2 10 14\n",
      " 10 10 10  9 10 10  2 10 10 10 10  2  9 14  7 10 10 10 10  9  3 11 10  7\n",
      " 11  2 10 10 11  9 14 10  9 10 11 10 10  9 10  9] [14  1 30 15  8  4 17 46 15 15 10  4  8  6  9  5 10  4 13 26  4  9  5  3\n",
      "  7 36 34 27  5  6 14  6 15  8  4  2  9  3 21 13  9 10 21  1  3  3 19 17\n",
      " 11 27 25  6 14  1 14 13 10  8 11  8  7  7 12  4]\n",
      "test acc  tf.Tensor(0.15625, shape=(), dtype=float32)\n",
      "epoch test acc  tf.Tensor(0.16614583, shape=(), dtype=float32)\n",
      "test acc top5 tf.Tensor(0.5625, shape=(), dtype=float32)\n",
      "epoch test acc top5  tf.Tensor(0.4859375, shape=(), dtype=float32)\n"
     ]
    },
    {
     "name": "stderr",
     "output_type": "stream",
     "text": [
      "\r",
      "32it [00:01, 18.57it/s]"
     ]
    },
    {
     "name": "stdout",
     "output_type": "stream",
     "text": [
      "[10 10  2  2  9  9 10  9  9  9 10  9  2 10 10 10  9 10  9  2 10 11 10 11\n",
      " 10 10  7 10 11 10 10 10 10 10  9  9 10  2  2 10 10 10 11 10 10  2 10  9\n",
      "  7 10  3  9  2 10 11 10  5 10 14 10  2  2 14  9] [10  4  3 27 16  9  5 18  8  7  1  1  7  4 17 12  3  5 10  3  6 14 14  2\n",
      "  4 28  6  7 32  9 24  6  6  4  6 10 16 26 10  4  7 22  3  1  1  2  8 17\n",
      " 17 19 13  7  2  6 14 19  5  6  3  6  2 23 14  1]\n",
      "test acc  tf.Tensor(0.109375, shape=(), dtype=float32)\n",
      "epoch test acc  tf.Tensor(0.16431452, shape=(), dtype=float32)\n",
      "test acc top5 tf.Tensor(0.5, shape=(), dtype=float32)\n",
      "epoch test acc top5  tf.Tensor(0.48639113, shape=(), dtype=float32)\n",
      "[10  5 10 10  3  3 10  2  9  9  2  9 10 14 10  5  2  2  9 11  9 10 14 11\n",
      "  2  9 10 10  2  9  9 10 10  5 11  9  2  9 10  2  9 10  9  7  2 10  9 10\n",
      "  9  9  9  2  3 10  5 10  2 10 11  9 10 10 14 14] [12 18 21 10  8 16 28  7  8  8 26  7  6 34  6  5 14 14  1  3 28 31  4  2\n",
      " 20 20 15 10 26  4  7  7  1 15 11  7 17  8  8  3  7  6 16 30  2 15 39 43\n",
      " 10  1 19  2 17 22 29 36  2 12 25  4 36  1 25 26]\n",
      "test acc  tf.Tensor(0.109375, shape=(), dtype=float32)\n",
      "epoch test acc  tf.Tensor(0.16259766, shape=(), dtype=float32)\n",
      "test acc top5 tf.Tensor(0.453125, shape=(), dtype=float32)\n",
      "epoch test acc top5  tf.Tensor(0.48535156, shape=(), dtype=float32)\n"
     ]
    },
    {
     "name": "stderr",
     "output_type": "stream",
     "text": [
      "\r",
      "34it [00:01, 18.64it/s]"
     ]
    },
    {
     "name": "stdout",
     "output_type": "stream",
     "text": [
      "[ 2 10 10  9 10 10 10 10  3 11 11  9 10  9 11 10  9  9  9 10  9  2 14 10\n",
      " 10 11  9  2 10 14 10 14 10  9  9 25 10  2 14  9  9 10 10 10 10  2 14  3\n",
      " 10  9 14  3  9 11 11 10  5 10  5 10  2 10 10  3] [27 29  4  7 16  5  4  5  1 14 11 28 10  1  3  8  3 15  9 20 16 27 17  7\n",
      "  5  3  1  7  8  7 10  3 22 22  8 17  7  3  3  6  9  8 10  7 15  2 25  1\n",
      "  9  5  3 29  4 46  2 21  8  1  8 47  2 22  6 26]\n",
      "test acc  tf.Tensor(0.125, shape=(), dtype=float32)\n",
      "epoch test acc  tf.Tensor(0.16145833, shape=(), dtype=float32)\n",
      "test acc top5 tf.Tensor(0.515625, shape=(), dtype=float32)\n",
      "epoch test acc top5  tf.Tensor(0.48626894, shape=(), dtype=float32)\n",
      "[10  9 10  9 10 10  3 10  9  9 10  9 14  2  9  9 10 10 14  5 10  5  3 14\n",
      " 10  2 10  2  9 10  9  9  3  5  2 10  3 10  2 10  9 10 10 14  9  3  9 11\n",
      "  9 11  2  7 25  3 10  9 10 10 10  2  2 10 10  5] [20  9  5  9  5 18  2  6  8  8  1 27 43  2  4 30 10 12  3  4  6  5 31 34\n",
      "  6  2 45  2  4 18  6  1  3 25  2 13  3  5 14  5 19  1 17 25 16  9 10 11\n",
      " 15  2  2 41 17 34  5  9  6 12  5 20  2  4 10  5]\n",
      "test acc  tf.Tensor(0.25, shape=(), dtype=float32)\n",
      "epoch test acc  tf.Tensor(0.1640625, shape=(), dtype=float32)\n",
      "test acc top5 tf.Tensor(0.546875, shape=(), dtype=float32)\n",
      "epoch test acc top5  tf.Tensor(0.48805147, shape=(), dtype=float32)\n"
     ]
    },
    {
     "name": "stderr",
     "output_type": "stream",
     "text": [
      "\r",
      "36it [00:01, 18.66it/s]"
     ]
    },
    {
     "name": "stdout",
     "output_type": "stream",
     "text": [
      "[10 10 10 10 10 10 10  9 10  3 14 10  2 10 14  9  7  5 11  2 11 10 10 10\n",
      "  9 10 10 10 10  9  9 10  3  9 10 11  3 10  9 10 11  9 10 10 10  9 14  3\n",
      "  9  9 11 10  9  2  9  9  2 10 10 10  5 10  9 10] [14 29  1  6  9 10  5 18 25 23  3 18 27 38 20  8  5  5 14  2 23  7  4  4\n",
      "  4  6 19 23 24 15 23  9 27 28  8 14  7  9  4 13 40  1  9  6 10  3 14 10\n",
      "  8  7  3  6 30 12  8 16  2 18  8 22 10  5 30  9]\n",
      "test acc  tf.Tensor(0.09375, shape=(), dtype=float32)\n",
      "epoch test acc  tf.Tensor(0.16205357, shape=(), dtype=float32)\n",
      "test acc top5 tf.Tensor(0.453125, shape=(), dtype=float32)\n",
      "epoch test acc top5  tf.Tensor(0.48705357, shape=(), dtype=float32)\n",
      "[10  2 14 14  2  9 10  3  3  2 10 10 10  9  2 10  3 10  3  9 10 10  9  9\n",
      " 10 10  9  9 10 10 10  9 10 10 10 10  9 10 10  5 10  9 10 10  9 10  5  9\n",
      " 11  2 10  9 11  9  2  9 11 10  9  9  2  9 10 10] [ 4 14  4 13  9  5 19 15 17  2 13 13  9  6  2 10  6  1 17  8  7 19 38  7\n",
      "  5  7  4  1  5  6 18 16  5 19  5  9 17 15  8  6  8  7  5  9 37  9  5 19\n",
      "  3  2  6  8 11 38  2  5 11  6 16  6  3 33  1  8]\n",
      "test acc  tf.Tensor(0.125, shape=(), dtype=float32)\n",
      "epoch test acc  tf.Tensor(0.1610243, shape=(), dtype=float32)\n",
      "test acc top5 tf.Tensor(0.5625, shape=(), dtype=float32)\n",
      "epoch test acc top5  tf.Tensor(0.4891493, shape=(), dtype=float32)\n"
     ]
    },
    {
     "name": "stderr",
     "output_type": "stream",
     "text": [
      "\r",
      "38it [00:02, 18.74it/s]"
     ]
    },
    {
     "name": "stdout",
     "output_type": "stream",
     "text": [
      "[ 5 10  9 11  5  5 10 10 10 10 11 11 11 10 10 10 11 11  2  9  2 10  3  9\n",
      "  2 10  2 10 10 10 10  9  7 14 10  9  7 10  2 10  3  3  9 10 14 10  3  2\n",
      "  9  9 10  3 10 10 10 10  9  2  9  7  2  3 10  9] [ 5 10 24  3  5  5  9 10  8  8  2  6  2 16  1  7 11 25  2  1  2  8 22 16\n",
      "  2 39  3 10  5 10 22 44 12 22  4  5  7  5 10 13  3 17 17  9 25  5 17  2\n",
      " 10  8  1 19  6  8 13 10  3  3 18 31 28 15  8  3]\n",
      "test acc  tf.Tensor(0.234375, shape=(), dtype=float32)\n",
      "epoch test acc  tf.Tensor(0.16300675, shape=(), dtype=float32)\n",
      "test acc top5 tf.Tensor(0.546875, shape=(), dtype=float32)\n",
      "epoch test acc top5  tf.Tensor(0.49070945, shape=(), dtype=float32)\n",
      "[ 2 10 10  5  9  5  3 10  2 10  2  9 10 11  9  3  2  2  3  2  2 10  9  7\n",
      "  9  9 10 10 10 10 10  5 10 10 10  3  9 10 10 10  9  5  9 14  9  2 11 14\n",
      " 11  9 10  3  9 11  3 11  5  2 10  9 10  9 10  9] [ 2  9  5  5  7  5  3 10 28  5 20  6  9  2  1 31 20  5 31  2  2  1  1  3\n",
      "  6 12 15 24 21  7 10  5  8 24  9 15  4  8  7 33 12 42 18  6 39  2 25 14\n",
      "  2 28 10 17  1  2  3  3 10  9 10 12 16  4 29  9]\n",
      "test acc  tf.Tensor(0.234375, shape=(), dtype=float32)\n",
      "epoch test acc  tf.Tensor(0.16488487, shape=(), dtype=float32)\n",
      "test acc top5 tf.Tensor(0.578125, shape=(), dtype=float32)\n",
      "epoch test acc top5  tf.Tensor(0.49300987, shape=(), dtype=float32)\n"
     ]
    },
    {
     "name": "stderr",
     "output_type": "stream",
     "text": [
      "\r",
      "40it [00:02, 18.84it/s]"
     ]
    },
    {
     "name": "stdout",
     "output_type": "stream",
     "text": [
      "[ 7  9 10  2 10  2 10 10  2  2  9 11 14  2 10 11 10 10 10 10 11 10  5  9\n",
      "  9 10  2 10 10  7 10 10 10 14  7  3 10 11 10  2 10  3 10 10 10 10  9  2\n",
      " 10  9 10  2  9  2 14 10 10  9  9 10  5 11 10  2] [10  9  6  2  9 23  5 12 27  2 21  3  3  4  5 11  8  7 19  4  3  8  5  6\n",
      "  9 24 16  5  4  3 19  1  6 32  6 15  5 25 28 25 13  3 18 12  9  8  9  2\n",
      "  4  5  0 14  6 14  3 13  5 15 19  7  5  3  6  9]\n",
      "test acc  tf.Tensor(0.15625, shape=(), dtype=float32)\n",
      "epoch test acc  tf.Tensor(0.16466346, shape=(), dtype=float32)\n",
      "test acc top5 tf.Tensor(0.390625, shape=(), dtype=float32)\n",
      "epoch test acc top5  tf.Tensor(0.4903846, shape=(), dtype=float32)\n",
      "[10 11  9 11 10  3  9 10 14 10  9 10  3  2  9 10 10  9 10  9  2  9 10  2\n",
      "  2 10 10  3  9 10 10  9 10  2 10 10  9  9  2  9  3 10  9 10 10 10  9 10\n",
      " 10 10  7 10  5  9 10  9  2  2 10 10 10  9 14 10] [23  3  9  3 22 17 10 19  3  9 12  9  4  3  7 10 16  4  4  9  4  9 16  2\n",
      " 11  7 19 26 30  5  1  1  6  2  1  7  8 30  4 19  3 15 15  7  7 10  9  9\n",
      " 13  6  9  9 12  7  6  1 27  3  1  6  1 30  3 15]\n",
      "test acc  tf.Tensor(0.140625, shape=(), dtype=float32)\n",
      "epoch test acc  tf.Tensor(0.1640625, shape=(), dtype=float32)\n",
      "test acc top5 tf.Tensor(0.5, shape=(), dtype=float32)\n",
      "epoch test acc top5  tf.Tensor(0.490625, shape=(), dtype=float32)\n"
     ]
    },
    {
     "name": "stderr",
     "output_type": "stream",
     "text": [
      "\r",
      "42it [00:02, 18.92it/s]"
     ]
    },
    {
     "name": "stdout",
     "output_type": "stream",
     "text": [
      "[ 3 11 14  2 11  9 10  2  9 10 10  9 11 14 11 10 11 10  9  5 10  5  9  2\n",
      "  9 11 10  3 10 10 10 10  2  9  3  2 10  9 10  2 10 10  9 10  9  3 10 10\n",
      "  9  3  2 10  9  9 11 10  7 10 10 10  9  2 10  9] [17 25  3  2  3  6  6  2 10 29 12 27  2 14  3 10  3  9  9  5  5 29  1 12\n",
      "  7 14  6  3  9  4 10 13  3  4 16 20 37  9 10 26  7 16  6  9 15  9  1  8\n",
      " 29  9 32  1 28 15  2 13  5  6 16 10 15 26  6  3]\n",
      "test acc  tf.Tensor(0.171875, shape=(), dtype=float32)\n",
      "epoch test acc  tf.Tensor(0.16425306, shape=(), dtype=float32)\n",
      "test acc top5 tf.Tensor(0.484375, shape=(), dtype=float32)\n",
      "epoch test acc top5  tf.Tensor(0.49047256, shape=(), dtype=float32)\n",
      "[ 9 10 10 10 10 10 10 10  5 10 11  2  3  9  5  2 14  9 14  3 11  2  3  9\n",
      " 10 14 10 10  3 10 10 11 10  7 11  9  9 10  2 14  9  5 11  9  9  9 10  2\n",
      " 10  9  3 10 10 10  2  2 10  5 10  9  9  9 10  2] [18 12  6  9 15  1 10 29  8 19 24  1 17  7 10  1 10 20  6  7 17 17 17  1\n",
      "  8  4 10  8 27  5  6 25  4  7  3 41  4  8  6  7  8  5 11  7 10  6  7  2\n",
      "  3  6 11 30  9  6 35  2  1  5 16  1  9 38  6  2]\n",
      "test acc  tf.Tensor(0.15625, shape=(), dtype=float32)\n",
      "epoch test acc  tf.Tensor(0.1640625, shape=(), dtype=float32)\n",
      "test acc top5 tf.Tensor(0.5, shape=(), dtype=float32)\n",
      "epoch test acc top5  tf.Tensor(0.4906994, shape=(), dtype=float32)\n"
     ]
    },
    {
     "name": "stderr",
     "output_type": "stream",
     "text": [
      "\r",
      "44it [00:02, 18.92it/s]"
     ]
    },
    {
     "name": "stdout",
     "output_type": "stream",
     "text": [
      "[ 9  9  9  2 10 11  9 10 10  9 10 10 10 10 10 10 10 11  9  9  2 10 10  9\n",
      "  2 10  9  9 14 14  7  9  9  7  2  9  9  2 10  9  3 10 14  2  5 10 10 14\n",
      " 10  5  5  3 10  2  3  2  9 10 10 11  2  3  9 10] [10 21 30  2 29  2  4  8  6 27 39 10  5  6  9  4  5 25 17  6 35  7  8 12\n",
      " 20  7  6  9  3 14 21  4  9 23 32 12 18  2 15 12  6  1 25 20  5 15  8 25\n",
      "  9 13  5  5 13  2 18  3  4 45 16 14 23 17 30 16]\n",
      "test acc  tf.Tensor(0.140625, shape=(), dtype=float32)\n",
      "epoch test acc  tf.Tensor(0.16351745, shape=(), dtype=float32)\n",
      "test acc top5 tf.Tensor(0.46875, shape=(), dtype=float32)\n",
      "epoch test acc top5  tf.Tensor(0.49018896, shape=(), dtype=float32)\n",
      "[10 10 14 10 14 10 10 10 10 10  9  2 10  5  9 10  7  9  5 10 10  7 10 10\n",
      "  2 14 10 10 14  9 10 10 11  9  9  2 10  9 10  3 10  3 11  2 10  3  9  9\n",
      "  9  9 11  3  2  2  2 11  9 10 10  9  9  9 10 10] [13 10 27  1  3 13 19  5 13 10 42 16  7 29 28 10  8  3 10  9  7 12  8  8\n",
      "  2  9  8 10  7 36  1  6  2 21  7  2 15  1  1 10  7 23 11 32 47 13  3  6\n",
      " 17 28 11 18  2 12  2 15 22 13 22  8 10  4 24  4]\n",
      "test acc  tf.Tensor(0.15625, shape=(), dtype=float32)\n",
      "epoch test acc  tf.Tensor(0.16335227, shape=(), dtype=float32)\n",
      "test acc top5 tf.Tensor(0.453125, shape=(), dtype=float32)\n",
      "epoch test acc top5  tf.Tensor(0.4893466, shape=(), dtype=float32)\n",
      "[ 5  3  9 10 10 10 10  2 11 10  9 11 10 10 10  2  9  9 10  2  5  9  2 14\n",
      "  9 10  9 11  3  2  9  3 10 14 10 10  2  9  9  3  2 10  9  5 10 10  9  2\n",
      " 10 10  3  9  9 10  3 10 10  7  2 10 10 10  2  3] [10 26 18 15  7 44 46 27  3  9  9  3 13 10  6  3  9 12  7  2  4 23  2 25\n",
      "  4  7 24 11  3  2 16 14  6 11 10  6 30  7  8  9 32  1  1  5 13  4 17 20\n",
      "  7 29  7 12 10 41  3  6 21 10 23 10 14 34  2  6]\n"
     ]
    },
    {
     "name": "stderr",
     "output_type": "stream",
     "text": [
      "\r",
      "46it [00:02, 18.74it/s]"
     ]
    },
    {
     "name": "stdout",
     "output_type": "stream",
     "text": [
      "test acc  tf.Tensor(0.203125, shape=(), dtype=float32)\n",
      "epoch test acc  tf.Tensor(0.16423611, shape=(), dtype=float32)\n",
      "test acc top5 tf.Tensor(0.5, shape=(), dtype=float32)\n",
      "epoch test acc top5  tf.Tensor(0.48958334, shape=(), dtype=float32)\n",
      "[10 10 10  2 10  9 10  9  2 14  9  2 10 10 10 10 10  2  2  9 10 10  9 10\n",
      "  3  9 10  3  3  9 10 14  9 14  2 11 10  9 10 10 10  3  3 10 11  2 10  2\n",
      "  3 10  9 10  3  9 11 10 10  7  9 10  7  9  2 10] [14 38  8 12 16 12  4  9  5 14 24 25 10  6  6  1 12  2  2 30  1  4 19 10\n",
      "  3  9 10 26 17  6 12  3 15 15  2  3  8 27 18  6  8 17  4  1 14 35 29  3\n",
      " 10  8 16  5  3 20 14  4 10  4 22  5 17 34 26 12]\n",
      "test acc  tf.Tensor(0.1875, shape=(), dtype=float32)\n",
      "epoch test acc  tf.Tensor(0.16474184, shape=(), dtype=float32)\n",
      "test acc top5 tf.Tensor(0.515625, shape=(), dtype=float32)\n",
      "epoch test acc top5  tf.Tensor(0.49014947, shape=(), dtype=float32)\n"
     ]
    },
    {
     "name": "stderr",
     "output_type": "stream",
     "text": [
      "\r",
      "48it [00:02, 18.81it/s]"
     ]
    },
    {
     "name": "stdout",
     "output_type": "stream",
     "text": [
      "[ 2  2 10  7 10 10  5 10 10 10  2  9  9 10 10 10 10  2  9 10 10 14 10 10\n",
      "  2  9 10  9  9  9 10  5  9  2 10 11 10  3  2 11  9 10 10 10  2 10  2  9\n",
      "  7  7 10  9 10  9 11  9  9 10  2  5  9 14  5  9] [27  4 10 29  5  8 29 24  4  7  2  5  9  8 21  4  9  2 10  8  5 27 13  1\n",
      "  2  7  7  6  7  9 10 10 39  3  9 11 24  7 15  3 17 10  1  9  2  8 23 20\n",
      " 44 26  7  4 13 10 11 23  8  1 17  8  1  7 21 19]\n",
      "test acc  tf.Tensor(0.171875, shape=(), dtype=float32)\n",
      "epoch test acc  tf.Tensor(0.16489361, shape=(), dtype=float32)\n",
      "test acc top5 tf.Tensor(0.5625, shape=(), dtype=float32)\n",
      "epoch test acc top5  tf.Tensor(0.49168882, shape=(), dtype=float32)\n",
      "[10 10 14 10  9  2  9  9 10  9 10  2  9  9 10  2 10  9  9 10  9  9 10 10\n",
      "  2 10 10  9  3  7  9  3 10  9  7 10 10 10 10  5 11  5  2 10  9  9 14  9\n",
      " 10 10 10  9  9  9  9  9 10  2 10 10  2  2  9  9] [ 0 25 37 19  0  2  7 34  9  8 18 26 37  8  9  2  6 20 12 29 12 10  8  4\n",
      "  3  6  8 15 44 21 10 17 10 19  4  8  1  6  9 38 11  4  2  9 10  3 25 39\n",
      "  8  6 24  8 30 41 30 19 10  2  8 39 14  2 10  9]\n",
      "test acc  tf.Tensor(0.140625, shape=(), dtype=float32)\n",
      "epoch test acc  tf.Tensor(0.16438802, shape=(), dtype=float32)\n",
      "test acc top5 tf.Tensor(0.453125, shape=(), dtype=float32)\n",
      "epoch test acc top5  tf.Tensor(0.4908854, shape=(), dtype=float32)\n"
     ]
    },
    {
     "name": "stderr",
     "output_type": "stream",
     "text": [
      "\r",
      "50it [00:02, 18.71it/s]"
     ]
    },
    {
     "name": "stdout",
     "output_type": "stream",
     "text": [
      "[10 10  9 14  9 10 10  3  9 10 11 10 10  2 11  2  9 11  3  2  2 11  7 10\n",
      " 10 14  9 10  9 10  7  9 10  9  9 10  2  9 11 10  2 11  9 10 10  9 10  3\n",
      "  2 10 10  2  3  9 10 10  2 10  9  5  9  2  2  2] [44  1 27  3  4 24  1  4  8  4 11 12  8 37 11 37  6 11 42  4 17  2  7  6\n",
      "  8  3  9  7  3 10 18  4  7 43  1 45  3  1  3  7  7 40 16  8  7  7  5 13\n",
      "  2 16  5 27  3 38  6  8  2  1 37  5 23  9  3 23]\n",
      "test acc  tf.Tensor(0.15625, shape=(), dtype=float32)\n",
      "epoch test acc  tf.Tensor(0.16422194, shape=(), dtype=float32)\n",
      "test acc top5 tf.Tensor(0.484375, shape=(), dtype=float32)\n",
      "epoch test acc top5  tf.Tensor(0.49075255, shape=(), dtype=float32)\n",
      "[ 9 10 10  9 10  9 10 10  9  5  9  2  3 10  3 10 10 10  5 10  9  2  9  3\n",
      " 10  3  5 10 10  5 10  2  3 10 10  5 11 10  2 10 10  9  2 14  9  5  9  5\n",
      " 10  9  2  3 10  9  9 10  2  2 10  5 10  9 10  2] [ 1 24 18 30  9  7 15  5  3 17  4  2 27  4 18 16  1  4  8  8  1 27 22  3\n",
      " 16 17  5 29  6  5  6 14  3 19 12  0 11 20 20  9 24  9 14  3  9  5 39  5\n",
      "  1  9 46 36  8 15  9 10  2 30 19  1 20 34  8  3]\n",
      "test acc  tf.Tensor(0.21875, shape=(), dtype=float32)\n",
      "epoch test acc  tf.Tensor(0.1653125, shape=(), dtype=float32)\n",
      "test acc top5 tf.Tensor(0.546875, shape=(), dtype=float32)\n",
      "epoch test acc top5  tf.Tensor(0.491875, shape=(), dtype=float32)\n",
      "[ 9  9 11  7 14 11  9  9  2  9 10 10  9 10  2  3  9 10 10  9 10 10  9 10\n",
      " 10  5 14  9 10 10 11  9  9 10  9 11 10  5  9 10 10 11 10  2 10  9  3  2\n",
      " 10  9  9  2  2  9 10  9  9 10  9  2 14 10  2  9] [ 8  1 22 18 17 11 39 16 35  7  5 10  7  9 14 17 24  6 10 30  6 16  8  5\n",
      "  1 13 25  4 13 15 25  9  6  4 10 11 10 15 16  9  6  3 17  2 19  9  9 27\n",
      " 16  9  4 32  2 28 16 20  9 30 12  2 48  9  2 16]\n"
     ]
    },
    {
     "name": "stderr",
     "output_type": "stream",
     "text": [
      "\r",
      "52it [00:02, 18.52it/s]"
     ]
    },
    {
     "name": "stdout",
     "output_type": "stream",
     "text": [
      "test acc  tf.Tensor(0.203125, shape=(), dtype=float32)\n",
      "epoch test acc  tf.Tensor(0.16605392, shape=(), dtype=float32)\n",
      "test acc top5 tf.Tensor(0.5, shape=(), dtype=float32)\n",
      "epoch test acc top5  tf.Tensor(0.49203432, shape=(), dtype=float32)\n",
      "[10  5 10 11  9  8 10  2  9  2  2  9  3 10 10 10 10 10  2 10  9  5  9  9\n",
      "  9 10  9 14 14  9 10 10  9 11 14 10  5 11  9 10  7  9 10  2 10 10 10  9\n",
      " 10 14 11 10 10  9  9 10  7 10  3  3  2  5 14  2] [ 4 13 10  3  9 20 36 37  8 35 25  8  7 47 17  6  6  5  4  9  5 15 13 18\n",
      " 27  9 16 12 43  9  6 10  9 11  8  6  7 11 12  7  8  1  1  3  1 22  8 28\n",
      " 29 14 14  8  4 10  1  1  8  8 11 17  2  5 48 26]\n",
      "test acc  tf.Tensor(0.15625, shape=(), dtype=float32)\n",
      "epoch test acc  tf.Tensor(0.16586539, shape=(), dtype=float32)\n",
      "test acc top5 tf.Tensor(0.46875, shape=(), dtype=float32)\n",
      "epoch test acc top5  tf.Tensor(0.49158654, shape=(), dtype=float32)\n"
     ]
    },
    {
     "name": "stderr",
     "output_type": "stream",
     "text": [
      "\r",
      "54it [00:02, 18.58it/s]"
     ]
    },
    {
     "name": "stdout",
     "output_type": "stream",
     "text": [
      "[10 10 10  9  9 11 10  5 14  9 10  9  9 10  5 10  9 10  7 10 11 10 10  9\n",
      "  2  5  9 10  3 10  9 10 10 10 10 10  9 10  9  3  3  2 11  2 10  9 14  5\n",
      " 14  5  2 10  2  3 11 10  9  3 10  9  9 10 14  9] [ 8  7 19 20  4 14  4  7 26 27  6  1 21  4  7 12  8 19  4 15  3 10 24  7\n",
      " 20 13  8  1 10  1  4  8  6  6 19 10 12  1  7 15  6  2 11 46  7 33  3  6\n",
      "  4  5  3 24  3 26 36  1 37  7  6  1  8  6 25 22]\n",
      "test acc  tf.Tensor(0.078125, shape=(), dtype=float32)\n",
      "epoch test acc  tf.Tensor(0.1642099, shape=(), dtype=float32)\n",
      "test acc top5 tf.Tensor(0.421875, shape=(), dtype=float32)\n",
      "epoch test acc top5  tf.Tensor(0.49027124, shape=(), dtype=float32)\n",
      "[ 5  9  2  9 10 10 10 10  9 10 14  7  2 10 10  9  9 14 10  2  3  3  3  9\n",
      "  5  7  9  2 25  2  9 10  5 10  5 10  9 10  2  9 10  9 10  5  2 10 10 11\n",
      "  9  9  9 11  2  9 10  3 10  3 11  9  5 10  9 10] [ 5  4  7  4 20  1  8  9 13 39  3  6  2 13  7 19  7  7  5  2  9 10  7  9\n",
      "  5  6 24  2 17  2 19 21  5  8  1  1 27 47 23 16  8 18  8  5  2 21 30 48\n",
      "  9 33 35 11 35  3  1 17  9  3 11  4 18  1  7  7]\n",
      "test acc  tf.Tensor(0.21875, shape=(), dtype=float32)\n",
      "epoch test acc  tf.Tensor(0.1652199, shape=(), dtype=float32)\n",
      "test acc top5 tf.Tensor(0.59375, shape=(), dtype=float32)\n",
      "epoch test acc top5  tf.Tensor(0.4921875, shape=(), dtype=float32)\n"
     ]
    },
    {
     "name": "stderr",
     "output_type": "stream",
     "text": [
      "\r",
      "56it [00:03, 18.64it/s]"
     ]
    },
    {
     "name": "stdout",
     "output_type": "stream",
     "text": [
      "[ 2  3  9  2 14 10  5  9 10 10 10 10  9  2  6 10  3  9 10  9 14 10  9  3\n",
      " 10 14  3  9 10 14  2  9 10  9 11  2 14  2 10 10  3 14  2 14  5 11  9  3\n",
      "  9 10 11 10 10  9 10  2  2 14 10  2  3 10  2  2] [ 2  3  7  2  3 12  5  4  4 23 10 10  1 26  3 17 26  7  6 16  6  8  8 42\n",
      " 10 25  3  4 13 15  2  7 16 20  2 32  3 32  1  6  5 11 23 14  8  3  4 26\n",
      "  1 13  3 12  4 15  9  3 32 17  8  4 27  7  2 20]\n",
      "test acc  tf.Tensor(0.171875, shape=(), dtype=float32)\n",
      "epoch test acc  tf.Tensor(0.16534092, shape=(), dtype=float32)\n",
      "test acc top5 tf.Tensor(0.484375, shape=(), dtype=float32)\n",
      "epoch test acc top5  tf.Tensor(0.49204546, shape=(), dtype=float32)\n",
      "[ 2  9  9 10 10 14  9 10 10 10 10 10  9 10 10 11 10  9  9  5 11 10 10 10\n",
      " 10  9  5  2  9  9  9  9  8 10 10 11  9  5  5 10 10 10 14 10  9 11 10 11\n",
      " 10  2  9 10  2 10 10 11 10 10  7  2  2 10  5  3] [ 2 16  9 13  7  3  1 20 24  8  1  7 28 15 10  3  1 19  5  7  3  9 10  5\n",
      " 13  6 21 20  3 22  7 19 13 10 45  3  1  7 39 13  7  5 14 12 16 43 10  8\n",
      "  7 30  7 13 26  7  7 14 22 10  7 30  2 10  1 17]\n",
      "test acc  tf.Tensor(0.171875, shape=(), dtype=float32)\n",
      "epoch test acc  tf.Tensor(0.16545759, shape=(), dtype=float32)\n",
      "test acc top5 tf.Tensor(0.5, shape=(), dtype=float32)\n",
      "epoch test acc top5  tf.Tensor(0.4921875, shape=(), dtype=float32)\n"
     ]
    },
    {
     "name": "stderr",
     "output_type": "stream",
     "text": [
      "\r",
      "58it [00:03, 18.66it/s]"
     ]
    },
    {
     "name": "stdout",
     "output_type": "stream",
     "text": [
      "[ 9  9 11 10  9 10  2  2  3  3 10 10  3 10  3 11 10 10 11 10  9  5 10 14\n",
      " 10 11 10 10 11  2  9 14 10  2 10  2 10 10 10  2 11 10 10  2  5 11 10  2\n",
      "  9 14  2  2  9 14  7 10 10 10  9 10 10 10  9  9] [ 7 23 14  4 44 36 27 26 27  3 24  9  7 13  8 14  5  9 11 10 23  5  7 14\n",
      " 10 46 29  6 11  2 12  9 10 14  1  2  5  4  4  2 14  7  6  2  5  3  8  2\n",
      "  4  3  2 23  6 18  6  1  9 10 15  4  5  7  7  9]\n",
      "test acc  tf.Tensor(0.265625, shape=(), dtype=float32)\n",
      "epoch test acc  tf.Tensor(0.16721492, shape=(), dtype=float32)\n",
      "test acc top5 tf.Tensor(0.578125, shape=(), dtype=float32)\n",
      "epoch test acc top5  tf.Tensor(0.49369517, shape=(), dtype=float32)\n",
      "[ 9  3 10 10  5 11  9 10  9 10  8  2  9  3 10  7 10  3 11 10  9 10 10  9\n",
      "  3 10  3 11  3  9  3 11 10 10 11 10  7 10 10  5  2  9  9  2  2  7  9 10\n",
      " 14  2  2 10 14  2 10  9  2  2 10  7  2 10  2 10] [39  3 22  8  5 14  6  8  9  5  8  2  1  9  8  6 21 26 40  8  1 21  4  8\n",
      " 31 19 17 14  7  7  6 11  6 12  2  1  4 13 19  5  2 10  1  2 14 15  9 18\n",
      "  3  5 14 19  9 38  8 18 17  2 10  7  2 12  3 10]\n",
      "test acc  tf.Tensor(0.234375, shape=(), dtype=float32)\n",
      "epoch test acc  tf.Tensor(0.16837284, shape=(), dtype=float32)\n",
      "test acc top5 tf.Tensor(0.609375, shape=(), dtype=float32)\n",
      "epoch test acc top5  tf.Tensor(0.49568966, shape=(), dtype=float32)\n"
     ]
    },
    {
     "name": "stderr",
     "output_type": "stream",
     "text": [
      "\r",
      "60it [00:03, 18.78it/s]"
     ]
    },
    {
     "name": "stdout",
     "output_type": "stream",
     "text": [
      "[ 2 10 10 11 14 10 14 11  2  3 11  9  5 10 10 14 10 10  2 10 10 10 10  2\n",
      " 10 11 14 10  5  9 11 14  9 10 25 10 10  7 10 10 10  9  3  9  3 10  2  9\n",
      "  2  9  2  2  9  9 14 10 10 10 10  9 10  8 10  9] [ 2  8 36  3 14 12  7 11  2 19  2  1  5  8  6  3  9 13  7  8  9  9  4  3\n",
      " 14 14 21  9  5  4  3  6  7 13 17  6 18 16  1  1  7  3 25 10 17  8  2  7\n",
      "  4 37  3  2  8 16 18  6  4  7 31  9  5 28  5  7]\n",
      "test acc  tf.Tensor(0.140625, shape=(), dtype=float32)\n",
      "epoch test acc  tf.Tensor(0.16790254, shape=(), dtype=float32)\n",
      "test acc top5 tf.Tensor(0.53125, shape=(), dtype=float32)\n",
      "epoch test acc top5  tf.Tensor(0.49629238, shape=(), dtype=float32)\n",
      "[ 2 10  2  9 10 10 11  2 11  3 10 11  9  7 10  9  9  9 11  9  2 10  5  5\n",
      "  2 10 10  3  9  2 11  2  9 10  2 10  9  9  3  9 10 10 10 10  9 10 14 10\n",
      "  9 10 10 10 10 10 11 11 10  9  7  9 10 10 14 10] [ 2  8  2 24  4  9  3  1 11  2 33  3  5 34  6  8 35 15 26 23 20 24  5  8\n",
      "  2 30  4  6 12  2 11 23 23  7 26  9  8  9  3 31  9  8  8 28  7 29 25  4\n",
      "  7 16 24  4  6 17  3  3  6 10  6  5  4 10 14  8]\n",
      "test acc  tf.Tensor(0.171875, shape=(), dtype=float32)\n",
      "epoch test acc  tf.Tensor(0.16796875, shape=(), dtype=float32)\n",
      "test acc top5 tf.Tensor(0.390625, shape=(), dtype=float32)\n",
      "epoch test acc top5  tf.Tensor(0.49453124, shape=(), dtype=float32)\n",
      "[10 10 10 11 10 10 10  3 11  3  2 10 10  9  2  2  2  2  9  2  9  2  9 10\n",
      " 10 10 10  2  9 10  2  2  5  3  3  9 10  2 10  2 10  3 10 10  9 10  9 11\n",
      " 14 10  9  9  2  9  9 10  9  2  5 10  9 10 10 10] [16  6  5 11  4  6 18 26  3  3  7 10  7 34  8  2  2 21 17 27 19  2 16  6\n",
      "  5 33  3  3  8  6 15 23  3  6  3 30  5  1  1  3  5  6  6 21  4 21  0  3\n",
      "  3  6 21  9  2  6 17 24 30 27  9  5 12  8 31  4]\n"
     ]
    },
    {
     "name": "stderr",
     "output_type": "stream",
     "text": [
      "\r",
      "62it [00:03, 18.70it/s]"
     ]
    },
    {
     "name": "stdout",
     "output_type": "stream",
     "text": [
      "test acc  tf.Tensor(0.140625, shape=(), dtype=float32)\n",
      "epoch test acc  tf.Tensor(0.1675205, shape=(), dtype=float32)\n",
      "test acc top5 tf.Tensor(0.328125, shape=(), dtype=float32)\n",
      "epoch test acc top5  tf.Tensor(0.4918033, shape=(), dtype=float32)\n",
      "[ 9  2  9  2  9  2 10 14 10 10 14 10  9  3  9 10  9  2 11  9  9 10  9 10\n",
      " 14 10 10 10 10  9  3 10 10  9 10  2 10 10 10  2 10 10  2 10 10  5 10  2\n",
      " 10 10  9 10  9 10 11 11  9 11 10  7  9 14  9  9] [ 1 14  4 20  7  2  5 14  6 15  3  8  7 17  8 33  1  3 46 16 12  8  6  9\n",
      "  3 10  6  8 28  5 31  1  5 10  9 27 30  1 10 17  9  8  7  4 44  5  9 32\n",
      "  5 10  7 10  7  6 11  3 24  3  5 21  7  3 30 10]\n",
      "test acc  tf.Tensor(0.125, shape=(), dtype=float32)\n",
      "epoch test acc  tf.Tensor(0.16683468, shape=(), dtype=float32)\n",
      "test acc top5 tf.Tensor(0.5625, shape=(), dtype=float32)\n",
      "epoch test acc top5  tf.Tensor(0.49294356, shape=(), dtype=float32)\n"
     ]
    },
    {
     "name": "stderr",
     "output_type": "stream",
     "text": [
      "\r",
      "64it [00:03, 18.68it/s]"
     ]
    },
    {
     "name": "stdout",
     "output_type": "stream",
     "text": [
      "[10 10 10  2  9 10  2 10 10  9 10  9  3 10  2 10 10 10 10 10  3 10  9  9\n",
      "  9  9 10 10  2 10  3 10 10 10 11  7  9  5  9  9  9  9 11  9 10 10  5 14\n",
      " 10  9  9 11 10  9 11 10  3 10 10 10 10 11  2 11] [ 1 13  5  2 24 18  3 10  7  8 17 12  4  6 14 10 29  9  4  9  3  6 18 17\n",
      "  9 12  5 19  3  7  9  9  9  9 11 18  9  5  6 40  7  9 11 20  6  6  5  3\n",
      " 10  7 23  3 41 27 11 13 11 10  5  6 29 11  2 40]\n",
      "test acc  tf.Tensor(0.25, shape=(), dtype=float32)\n",
      "epoch test acc  tf.Tensor(0.16815476, shape=(), dtype=float32)\n",
      "test acc top5 tf.Tensor(0.53125, shape=(), dtype=float32)\n",
      "epoch test acc top5  tf.Tensor(0.49355158, shape=(), dtype=float32)\n",
      "[10  9  9  9  7 10 10 10  5 10  3 10 11 11 10 11 10  2 10 10 10  9  9 10\n",
      " 10  3  3  9  2  9  2  9  2 10  9 10  2  9  9 10 10  9 10 14  9 10  9  7\n",
      "  2  9 10  2 10 11  2 10  3  2  9 14  2  2  2 10] [18  1  3 22  7  8  7 18  5  9 48 10  3  3  7 11 10  6 21 29  4  3 18  1\n",
      "  1 17 14 22  5  7 32  5  3  8 10  7  3 15  4 10  5  7  6  6 20 19 37 10\n",
      "  3  8 10 27  9  3  2  4  8  2 13  3  2 15  2 21]\n",
      "test acc  tf.Tensor(0.171875, shape=(), dtype=float32)\n",
      "epoch test acc  tf.Tensor(0.16821289, shape=(), dtype=float32)\n",
      "test acc top5 tf.Tensor(0.546875, shape=(), dtype=float32)\n",
      "epoch test acc top5  tf.Tensor(0.49438477, shape=(), dtype=float32)\n"
     ]
    },
    {
     "name": "stderr",
     "output_type": "stream",
     "text": [
      "\r",
      "66it [00:03, 18.72it/s]"
     ]
    },
    {
     "name": "stdout",
     "output_type": "stream",
     "text": [
      "[ 2 11 10  7 14 10  2  2  9 14  3 10 10 10  9 10 10 10 10 10  5 10  3  5\n",
      " 10  3 10  9 11  2 10  2 10 10  2 11  5  9 11 10 10 10  9 10  7 10 10  5\n",
      "  3  9  9 10  5 10  3 10  2 10  9  9  9 10 10 10] [20 14  5  6 32  8 22 20 15  6  6  4 16 10 12 24 24  4  6 39  5  6 23  5\n",
      "  8  3 10  7  3  3  1  3  8  1  2 11  5  1  2  8 19  6  8 24  9  7 13  9\n",
      " 26  8 17  4  5 18 27  1  2  7 21  8  4  5  1  4]\n",
      "test acc  tf.Tensor(0.15625, shape=(), dtype=float32)\n",
      "epoch test acc  tf.Tensor(0.16802885, shape=(), dtype=float32)\n",
      "test acc top5 tf.Tensor(0.5625, shape=(), dtype=float32)\n",
      "epoch test acc top5  tf.Tensor(0.4954327, shape=(), dtype=float32)\n",
      "[10  2 10 10  9 10  9  9 10 10  9  2  9  9 10 10  3 10  9 10  5 10 10 10\n",
      "  2 10  7  5 10  9  9 10  3 10 11 10  3 10  9  2  2 10  2 10  5  5  3 10\n",
      " 10  9 10 10  5 10 10 10 10  9  9 10 10  2  9 10] [16 32 10 10  8 30  9  9 24 10 12 20 30  1  8  5  6  1 19  4  5  8 10  9\n",
      "  6  4 36 10 17  9 20  8 14 18 17  7 10  5  9  5 24  1  3  8 21  5 32  6\n",
      " 29 20  8 37  5  5  7  1 16  8 16 13 15 28 15  1]\n",
      "test acc  tf.Tensor(0.171875, shape=(), dtype=float32)\n",
      "epoch test acc  tf.Tensor(0.16808712, shape=(), dtype=float32)\n",
      "test acc top5 tf.Tensor(0.5, shape=(), dtype=float32)\n",
      "epoch test acc top5  tf.Tensor(0.4955019, shape=(), dtype=float32)\n",
      "[ 2  9  2 10  9  2 11  9  9  9 14 11 10 10 11 10  9 10 10  9  2  9 10  2\n",
      " 11  2  2 10  7  9 11  5  9  7  9  9 10  2 10 14  2 10 10 10  9 10 14 10\n",
      "  9 10  2  5 14 11 10 10 10  9 10 10 11  9  9  2] [ 2 15  2  8  1 14 14  1  9 22  1  2 34 13 46  8  7 10  5  7 26  4  1  2\n",
      " 25  2 35  7  4  6 11  5  8 11 25 10  5  2  1  3  3  4  9 10  7 38 15  7\n",
      " 20 12  2 19 25  3  5 24 16  7 18 29 14  9 37 14]\n"
     ]
    },
    {
     "name": "stderr",
     "output_type": "stream",
     "text": [
      "\r",
      "68it [00:03, 18.67it/s]"
     ]
    },
    {
     "name": "stdout",
     "output_type": "stream",
     "text": [
      "test acc  tf.Tensor(0.1875, shape=(), dtype=float32)\n",
      "epoch test acc  tf.Tensor(0.16837686, shape=(), dtype=float32)\n",
      "test acc top5 tf.Tensor(0.5625, shape=(), dtype=float32)\n",
      "epoch test acc top5  tf.Tensor(0.49650186, shape=(), dtype=float32)\n",
      "[10 10 10  2  2 10 10 10 10 10  9  9  2  3 10  9 10 11  2  5  3 10  9 11\n",
      " 10 10 10  7  3  9 10 10 14 11  9 10 10 10 10 10  2 10 10 10  9  2 10 14\n",
      " 10  2  3  2 11  9 11 10  3  2  7 11 10 10  3 10] [18  6  5  3 20  7  5 21 29  5  1  4  9 17  8 20 41 23  3  5  3 10 22  2\n",
      "  6  1  1  1  3  9 10 33  3 11  7  6 21  6 19  9  7  4  4 21  9  2  9 40\n",
      "  4  4 27  2 32 10 40  9  8  2  7 14 36  6 15 19]\n",
      "test acc  tf.Tensor(0.1875, shape=(), dtype=float32)\n",
      "epoch test acc  tf.Tensor(0.1686581, shape=(), dtype=float32)\n",
      "test acc top5 tf.Tensor(0.53125, shape=(), dtype=float32)\n",
      "epoch test acc top5  tf.Tensor(0.49701285, shape=(), dtype=float32)\n",
      "[ 5 10  9  2  9  9 10 10 14  3  9 10 10 10  2 10  2 10  9 11  2  9 11 10\n",
      " 10 11  9 10  3  5  9  9 25 14 10  2 10  9 11  9 10 10 10 10 10 11  7  7\n",
      " 10 25 10  2 10 10  9  9 10  3  7 10  9 10  9 10] [10 19  7  2 19  6 10 10  3  9  1 10  1 16  2  7  2  5 18 32 20  4 40  8\n",
      "  6 25 12  6 17 44  4  8 25 22  8 20  9  5 14  9  6  6  5 13 12 14  5  1\n",
      " 18 17  6  2  0 18  7  4 10 26  6  8  8  5  9  1]\n"
     ]
    },
    {
     "name": "stderr",
     "output_type": "stream",
     "text": [
      "\r",
      "70it [00:03, 18.76it/s]"
     ]
    },
    {
     "name": "stdout",
     "output_type": "stream",
     "text": [
      "test acc  tf.Tensor(0.171875, shape=(), dtype=float32)\n",
      "epoch test acc  tf.Tensor(0.1687047, shape=(), dtype=float32)\n",
      "test acc top5 tf.Tensor(0.59375, shape=(), dtype=float32)\n",
      "epoch test acc top5  tf.Tensor(0.49841484, shape=(), dtype=float32)\n",
      "[10  9 10  2 10  2 10 10  7 14  2  7  3 10  3  9 10  2 10  5  9 10 10 10\n",
      "  2 11 10  9 10  3  9  3 10 11 11  3 14 10  9  5 10 10 10  9 10 14  3 14\n",
      "  5  3  9 10 10 11 10 14  9 10  9  9 10  9  3 10] [ 4  7 39 27 29  2 19  9  7  6 48 13  3  9 27 30 21  2  9  1  4  4  4 29\n",
      " 30 40  7  3  8 29  8  3 10  2  3 20 11  6  9  5  4  5  9  5  8 12 17  3\n",
      "  3  6  4  6  8 25 15  3 43  8  3  7  7  6 17  7]\n",
      "test acc  tf.Tensor(0.125, shape=(), dtype=float32)\n",
      "epoch test acc  tf.Tensor(0.16808036, shape=(), dtype=float32)\n",
      "test acc top5 tf.Tensor(0.453125, shape=(), dtype=float32)\n",
      "epoch test acc top5  tf.Tensor(0.49776787, shape=(), dtype=float32)\n"
     ]
    },
    {
     "name": "stderr",
     "output_type": "stream",
     "text": [
      "\r",
      "72it [00:03, 18.75it/s]"
     ]
    },
    {
     "name": "stdout",
     "output_type": "stream",
     "text": [
      "[10 11  2  9 10  9  9  9 11 10  2 10  9  9  9  3  2  9 10 10  2  9  9 11\n",
      " 10  9  2  2  9  9 10 10 10  9 11 14 10 10 10  9  3  9  9 10 10  9  9 10\n",
      "  9  9 10  9 11 10  5  3 10 10 10 10 10 10  9  2] [13  3  2 28 10  9  4 18 11  5  2 28 18 39  4  7  2  4  4  8  4  8  1  3\n",
      "  9 10  2 27  4  1  1 13  8  6 11 35 10  8 19 27 17  1  3  1 21  7  9  9\n",
      "  7 16  1 12 11  9  5 26  4 13  1  7  9  7  7 22]\n",
      "test acc  tf.Tensor(0.1875, shape=(), dtype=float32)\n",
      "epoch test acc  tf.Tensor(0.16835387, shape=(), dtype=float32)\n",
      "test acc top5 tf.Tensor(0.515625, shape=(), dtype=float32)\n",
      "epoch test acc top5  tf.Tensor(0.49801937, shape=(), dtype=float32)\n",
      "[ 2 10  3 10  9  2 10 11  5 10 10 10  7 10  9 14 14  9  9 10 10 10 14 10\n",
      "  5 10  5 10  9  2  9 10 10  2 14 10  9  2  9  9 11 10 10 11  9  9  9 10\n",
      "  3  9 14  2  5  9  9  2  9 11 10 10  9 10 10  9] [ 2  7  5 38 39  1 29  3  8  1  8 28 20  9  8  3  3  9 15  1  7  9 14 10\n",
      "  5  4 10 10  6  9  9  1 10 26 26  5  9  3  9 15  2  4 15  2 37  1  5  1\n",
      " 16 19 31  3  5  9 47  2 16 11  9 16 18 20 28 15]\n",
      "test acc  tf.Tensor(0.21875, shape=(), dtype=float32)\n",
      "epoch test acc  tf.Tensor(0.16905382, shape=(), dtype=float32)\n",
      "test acc top5 tf.Tensor(0.5625, shape=(), dtype=float32)\n",
      "epoch test acc top5  tf.Tensor(0.49891493, shape=(), dtype=float32)\n",
      "[10 10 10  9 11  2 10  2 10  2 11 10  3  3 10 10 10 10  9 10  2 10 11 10\n",
      "  9  9  3 10  2 10  7  5 10  3  2  9  9 10 10  9  9  9  2  9 11  7 10 10\n",
      "  9  2 10  9  9 10 10  2 10  5 10 10  3  9  3  9] [18  8  5  2  2  2  1  2  1  5  4  6  9 10 13 10 13  6 47  4 20 13 11 29\n",
      "  1  7 17  1  2  8  6  5  4 26 20 22  6 10 18 19  1  7  3 12 11 16  6 10\n",
      "  8  2  9 15  8  9  9  2  9  5 10  4 35 19  6  7]\n"
     ]
    },
    {
     "name": "stderr",
     "output_type": "stream",
     "text": [
      "\r",
      "74it [00:03, 18.85it/s]"
     ]
    },
    {
     "name": "stdout",
     "output_type": "stream",
     "text": [
      "test acc  tf.Tensor(0.203125, shape=(), dtype=float32)\n",
      "epoch test acc  tf.Tensor(0.16952054, shape=(), dtype=float32)\n",
      "test acc top5 tf.Tensor(0.484375, shape=(), dtype=float32)\n",
      "epoch test acc top5  tf.Tensor(0.49871576, shape=(), dtype=float32)\n",
      "[ 9 10 10 14 10 10  2 14  9 10  5  2  2  3  9 10  3  5 10 10  3  9 10  2\n",
      " 10 10 10  9 10  9  2  7  9 10  3  2  9 10  3  2 10  9  9 10 10  3 10 10\n",
      "  2 10  2 10  9  9 10  2 10 11  9 10  5 25  2  3] [ 1  7  2  6 10  1  2 37  1  5 29  3  2 31 36  5  8 29 15 16 10  9 15  2\n",
      " 21  4  1 19 16 44  2  1 23  7  1  2  9  9  4 20 29  8  4  8  1 35  9  5\n",
      "  2 10 15  4  8 19  7  2 28  3 22  5  9 35 35 17]\n",
      "test acc  tf.Tensor(0.171875, shape=(), dtype=float32)\n",
      "epoch test acc  tf.Tensor(0.16955237, shape=(), dtype=float32)\n",
      "test acc top5 tf.Tensor(0.5, shape=(), dtype=float32)\n",
      "epoch test acc top5  tf.Tensor(0.4987331, shape=(), dtype=float32)\n"
     ]
    },
    {
     "name": "stderr",
     "output_type": "stream",
     "text": [
      "\r",
      "76it [00:04, 18.82it/s]"
     ]
    },
    {
     "name": "stdout",
     "output_type": "stream",
     "text": [
      "[10 10  9  2 10 10  2 10 10  9 10  9  2  9 10  2 10 10  9  9  9 14  9  9\n",
      "  3  9  9  2 10 10  9 10  3  9  2  9  2 10 14  9 10 10 10  2  9  5 14 14\n",
      " 10 10  9 10  7 10 10  2 10  2  2  9  2 10 10 10] [29  9  8  3  6  6 23 15 10  7  5  9 23 22 10  2  8  5 12 20  9 14  9 20\n",
      " 26  7  9  2 15 20  9  9  7 18 41  7 12  9 21  1 10  6 24  4 21 10 26  6\n",
      " 13  1  8  8  9  6  6  2 10 23  2  4  3  6  4 39]\n",
      "test acc  tf.Tensor(0.21875, shape=(), dtype=float32)\n",
      "epoch test acc  tf.Tensor(0.17020833, shape=(), dtype=float32)\n",
      "test acc top5 tf.Tensor(0.546875, shape=(), dtype=float32)\n",
      "epoch test acc top5  tf.Tensor(0.499375, shape=(), dtype=float32)\n",
      "[11 10  5 10  5 11  5 10 10 11 10 10  2 11 10 10 10  9 10 10  9 14  2 10\n",
      "  9  7  3  2 10  5  5 10  9  9  3 11  9  5 10  3 10  2 10  9 10  9  9 10\n",
      "  9 10 10  2 11  9  9  9 10 10 10  5  9  2 10 10] [ 3  4 10  4  5  3  5 10  7 11  7  8 27 23  4 30 38 17 10  9 37 14  2  8\n",
      "  4  7  1 28 16 29  5 19 19 19  7 11  7  5  1 20  1  7  8  8  5 12 12  6\n",
      "  4 23 33  2 27 18 19 18 12  4  5 18 30 12  6  1]\n",
      "test acc  tf.Tensor(0.1875, shape=(), dtype=float32)\n",
      "epoch test acc  tf.Tensor(0.17043586, shape=(), dtype=float32)\n",
      "test acc top5 tf.Tensor(0.453125, shape=(), dtype=float32)\n",
      "epoch test acc top5  tf.Tensor(0.49876645, shape=(), dtype=float32)\n"
     ]
    },
    {
     "name": "stderr",
     "output_type": "stream",
     "text": [
      "\r",
      "78it [00:04, 18.79it/s]"
     ]
    },
    {
     "name": "stdout",
     "output_type": "stream",
     "text": [
      "[14 14  9 10  9 10  2 10  5  2 10  9  9 10  9  9  9 11 10 10 10 10 10  2\n",
      "  7  2 10  5  9 10  9  3  2 10  2  5  9 10  9 10  5 10 10  2 10 10 10  9\n",
      " 10  3  9 14  9 14  9 10  2  5 11 10  9 10 10  9] [ 3  3 16 12  9 10  2  5 13  2  8 15  8 12 16  1 24  3  6  9  1 10  8 26\n",
      "  1 32 45  5  7 19  9  8  7  6  5  1 10  4 28  7 15 39 16 31  8 18  1 28\n",
      "  4 15  7 25 12  3 27 18 23  7  3 18  1 19  4  9]\n",
      "test acc  tf.Tensor(0.125, shape=(), dtype=float32)\n",
      "epoch test acc  tf.Tensor(0.16984577, shape=(), dtype=float32)\n",
      "test acc top5 tf.Tensor(0.484375, shape=(), dtype=float32)\n",
      "epoch test acc top5  tf.Tensor(0.49857953, shape=(), dtype=float32)\n",
      "[ 9 10 10  9 10 10 10 10 25 11  9 11  9 10 10  5 10  9 10 10  3  9 10  9\n",
      "  2  2  9 11  9  5  7 10  9 11  9  2  9  2  9 14  9 10 14  2  9  2 10  9\n",
      " 10 10  2 10 10  2 10  2  8  2 10  9  9 10  5 10] [ 9  4  7  5  8  6  9  8 17  2 12 11  7  6  6 29  9 17  5  4 17  3  4 18\n",
      "  2  4  6 36  4 10  5  8 35 14  1  2  9  2 30 20  1  5 48  2 19  2  5  8\n",
      "  8 24  8  8  1  2 16 17 20  2 12  7 12  4  5  1]\n",
      "test acc  tf.Tensor(0.171875, shape=(), dtype=float32)\n",
      "epoch test acc  tf.Tensor(0.16987179, shape=(), dtype=float32)\n",
      "test acc top5 tf.Tensor(0.5, shape=(), dtype=float32)\n",
      "epoch test acc top5  tf.Tensor(0.49859777, shape=(), dtype=float32)\n",
      "[ 2  9 10  9  7 10  2  9  9 10 11  3 10 10  9  2 10 10 11  9  9  3  9 11\n",
      " 10  3  2  9  9 10 10  9  9 10  2  2 11 10 14 10  3 10  9  7  2 10  2  5\n",
      " 10  9 10  9  5  2 10 14  9  9 10  9  3  5  9 10] [ 2  1  5 10  6  6 16  4 20  7 23  9 22 18  7  7  6 10  3  9  9 35 30 11\n",
      " 19  8 23  1  8  1  5  8  7  6  4  7  3  8  3  5 17  1 10 36 23  8 20  5\n",
      "  1 10  5 41  5 27  1 40  8 33 13 16 14  8  8  5]\n"
     ]
    },
    {
     "name": "stderr",
     "output_type": "stream",
     "text": [
      "\r",
      "80it [00:04, 18.73it/s]"
     ]
    },
    {
     "name": "stdout",
     "output_type": "stream",
     "text": [
      "test acc  tf.Tensor(0.109375, shape=(), dtype=float32)\n",
      "epoch test acc  tf.Tensor(0.169106, shape=(), dtype=float32)\n",
      "test acc top5 tf.Tensor(0.5, shape=(), dtype=float32)\n",
      "epoch test acc top5  tf.Tensor(0.4986155, shape=(), dtype=float32)\n",
      "[ 3 10  3  9 10 10  2 10 10 10 10  9  2  9 10  9  9 10 11 10 10  9 10 10\n",
      "  9  2  3 10  2  3 10 10  9  3 10  2  3 11 14  9  2  2 10  9 14  2  2 10\n",
      "  2 10 10 10  9  2 10 11  2 10  5 10 10  9  9 10] [ 2 10 10  7  8  1  2 22 21 34  1 10  2 19 20 44  1  5 40 16  7 37  8 16\n",
      "  9  3 22  4  2 34 16  6 30 10  7 20 27  2 14  7  6  2  1  4 14  2 19 13\n",
      "  2 12  1 21  1  2  6 40  2  1  5  4  2  1  4 28]\n",
      "test acc  tf.Tensor(0.203125, shape=(), dtype=float32)\n",
      "epoch test acc  tf.Tensor(0.16953126, shape=(), dtype=float32)\n",
      "test acc top5 tf.Tensor(0.5625, shape=(), dtype=float32)\n",
      "epoch test acc top5  tf.Tensor(0.49941406, shape=(), dtype=float32)\n"
     ]
    },
    {
     "name": "stderr",
     "output_type": "stream",
     "text": [
      "\r",
      "82it [00:04, 18.82it/s]"
     ]
    },
    {
     "name": "stdout",
     "output_type": "stream",
     "text": [
      "[10 10 10  9  9 10  9 14 10 10  2  7  9  2  9  9 11 10  9 10 10  2 10  3\n",
      "  2  2  2 10  9  2  3 10  3 10 10  5 10  3  9  3  9  9  9  7  3  5 10  7\n",
      " 10  2 11  9  3 11  9 10  9 14 10  9 10  2 10 10] [13  8  8  8 23  9  8 22 10 10  2  9  7 14 20  8 11 23  7 13 10  3 10 37\n",
      "  2  2  2  5 12  2  9 19  6 47 12  8  8  3  7 18 20  1 30  8  3 19  1  1\n",
      " 10  2 11  6  3 11  4 21  7 14  4  9 21  2 19 18]\n",
      "test acc  tf.Tensor(0.3125, shape=(), dtype=float32)\n",
      "epoch test acc  tf.Tensor(0.1712963, shape=(), dtype=float32)\n",
      "test acc top5 tf.Tensor(0.59375, shape=(), dtype=float32)\n",
      "epoch test acc top5  tf.Tensor(0.5005787, shape=(), dtype=float32)\n",
      "[10 10  5  3  3  9 10 10 14 10 14  2  9 14  9  9  9  3  8  9 10 10 10  9\n",
      " 10  9 10  9  5  9  9  9  3 11 10  7  9 10 10 10  9  9 10 10  3  3  9 10\n",
      "  9  9  5  9  3 10  9 11  2 11  3  9 10  9  2 10] [31  6  5 25 17  4  4 38  3  6  3  3  9 27 34  4  9  3  4  4  4  5 18 12\n",
      "  8  9 24  9  5 30  6  8 26 40 10 48  4  6  6 10  8  9  9  6  3  1  7 10\n",
      "  9 39 24 24  6  6  1 11  9  3  6 19  0  9  2 13]\n",
      "test acc  tf.Tensor(0.25, shape=(), dtype=float32)\n",
      "epoch test acc  tf.Tensor(0.1722561, shape=(), dtype=float32)\n",
      "test acc top5 tf.Tensor(0.46875, shape=(), dtype=float32)\n",
      "epoch test acc top5  tf.Tensor(0.50019056, shape=(), dtype=float32)\n",
      "[ 2  9  9  5  3  9  2  2  2 10  9  2  2  2  9 10 10  9  2  7  2 10  3 10\n",
      " 10  2  9  3 10  9  9  5  5  3  2 14 10  9  2  9 10  2  9 10 11 11  2 11\n",
      "  2 10  9  9 11  9  9 10  2  9 10  9  2 10 10 10] [ 5  5  5 45  3  5  2 17  7  6  9 37  2  2 21 10  8 39  2 28  2 28 31  6\n",
      "  5  2  8  3 10 18  7 18 18 11  2 14 19 17  3 10 19  2 18  9  3  3  3 11\n",
      "  2 31  4 30 11 15  9  7 26  8 10  6 20 13 34 14]\n"
     ]
    },
    {
     "name": "stderr",
     "output_type": "stream",
     "text": [
      "\r",
      "84it [00:04, 18.80it/s]"
     ]
    },
    {
     "name": "stdout",
     "output_type": "stream",
     "text": [
      "test acc  tf.Tensor(0.296875, shape=(), dtype=float32)\n",
      "epoch test acc  tf.Tensor(0.17375752, shape=(), dtype=float32)\n",
      "test acc top5 tf.Tensor(0.421875, shape=(), dtype=float32)\n",
      "epoch test acc top5  tf.Tensor(0.49924698, shape=(), dtype=float32)\n",
      "[10 10  9  2 11  5  8  9  2  9  9  9  9  2 10  9  5 10 10  7  5 10  2  9\n",
      "  2 10  7  7  2 10 10  9  2 10 10 10  3 11 10  9 14 11  9  2  2  3 10 10\n",
      "  7 10 10  9  9 11  3  9  9  2  3  7  9 10 10  3] [ 9  8 22 25  2  5  9  6  2 15  4 12  4  7  5  9 16  4  7  1  5  1 35 44\n",
      "  2  6  6  4  5  5  9 18  2  4 13  1  3 11 19  4 20 11 21 14  3  4  6  6\n",
      " 28  5  5  7  1 46  3 12  7 43  9  9 19  1  4 35]\n",
      "test acc  tf.Tensor(0.15625, shape=(), dtype=float32)\n",
      "epoch test acc  tf.Tensor(0.1735491, shape=(), dtype=float32)\n",
      "test acc top5 tf.Tensor(0.515625, shape=(), dtype=float32)\n",
      "epoch test acc top5  tf.Tensor(0.49944195, shape=(), dtype=float32)\n"
     ]
    },
    {
     "name": "stderr",
     "output_type": "stream",
     "text": [
      "\r",
      "86it [00:04, 18.78it/s]"
     ]
    },
    {
     "name": "stdout",
     "output_type": "stream",
     "text": [
      "[ 9 11  9  5  3  9  9 10  9  3  2  9  3  5 10  9  9 10 14  5 10 10 10 10\n",
      "  2  5  9 10  2 10  3 10 10  9 10 10 10 11 14 10 11 10 10  2 10  9 10 11\n",
      "  5 10 10 10  9  2 10 10 10  9 10 10 14 10  9  9] [ 6 14  4  5  3 10  8  9 16  3 20 15  4 10  4  1 15  8  4  6 10  9 19  4\n",
      " 20  5 45  6 27 13 15 10 10 22  9  7  1  3 18 28 11  9 15  2  6  4  5 46\n",
      "  5 39  7  9  4 40  4  5  8 16 24  7  3  1 19 19]\n",
      "test acc  tf.Tensor(0.15625, shape=(), dtype=float32)\n",
      "epoch test acc  tf.Tensor(0.1733456, shape=(), dtype=float32)\n",
      "test acc top5 tf.Tensor(0.53125, shape=(), dtype=float32)\n",
      "epoch test acc top5  tf.Tensor(0.49981618, shape=(), dtype=float32)\n",
      "[ 2  9  9  2 10  2 10 10  7  9  2  9 10 10  3 10 10 10  2  2  2 10 10 10\n",
      " 10  2  2  3  9 10 10  9 11 14  5 11 11 14  9  9 11 10  2  9  3 10  2  2\n",
      " 10  5  9  2  5 14 10 11  9 10  7  2 10  9 10 10] [23  6  9  1  6 20  4  5  8 20 28 10  6 10  7  4 38 19  3  2 35  6  5 10\n",
      "  7  2  9 31  1  8  1 20 40 14 36 14 11 25  6 10 32  4 27 18  6  4  3 27\n",
      "  5  5  4  8 10  3 13 11 10 15 41 27 10 16  9 22]\n",
      "test acc  tf.Tensor(0.15625, shape=(), dtype=float32)\n",
      "epoch test acc  tf.Tensor(0.1731468, shape=(), dtype=float32)\n",
      "test acc top5 tf.Tensor(0.546875, shape=(), dtype=float32)\n",
      "epoch test acc top5  tf.Tensor(0.50036335, shape=(), dtype=float32)\n"
     ]
    },
    {
     "name": "stderr",
     "output_type": "stream",
     "text": [
      "\r",
      "88it [00:04, 18.72it/s]"
     ]
    },
    {
     "name": "stdout",
     "output_type": "stream",
     "text": [
      "[ 3 10  3 10  5  2 10  5 10  9 10  2  5 10  9  9 10 10  2 10  9  2  5  9\n",
      " 14  9  3 10 11  9  2 10 14 14 10  9  9  9  3 10 10  3  9 14 10  3 10 10\n",
      " 10  9 10 10  9 14 10  9 10  9 10 10 11 10 10  2] [22  4 30  3  5  2 15  5  6  4 10  7 10 10  5 30 18  1  3  4  8 23 18  4\n",
      " 29 16 31 47 25 33  2 15 25  3  1 31 19 34 23  8  6  7  8 26  1 37  8 13\n",
      " 18 15  6 38  6 25  7  1 10 19  7  1  3  4 13 17]\n",
      "test acc  tf.Tensor(0.109375, shape=(), dtype=float32)\n",
      "epoch test acc  tf.Tensor(0.1724138, shape=(), dtype=float32)\n",
      "test acc top5 tf.Tensor(0.375, shape=(), dtype=float32)\n",
      "epoch test acc top5  tf.Tensor(0.4989224, shape=(), dtype=float32)\n",
      "[ 9 10  2 10  9 10  7  3 10 10 10  5 11 11 10 10  3 10 10 10 10 10 10 14\n",
      "  2  9 10 10 10  3  2 14 10  2  9 10 10  2 10 10  9 10 10 10  9  5 10  9\n",
      " 10  3  5 10 10  2 11 10  7  7 10 10 11 10  7  7] [23 19 20  5  6 33 10 26 29  1  8  5  3 11  9 44 10 22  9  4  8 21  4  3\n",
      "  2  4 13  8  4 17  2 14  8  6 33 10  8 14  1 28 28  8  6  8 23  6  1 31\n",
      "  8  3  9 13  4  3  3 10 28 13  6  9 23  9  7 24]\n",
      "test acc  tf.Tensor(0.140625, shape=(), dtype=float32)\n",
      "epoch test acc  tf.Tensor(0.17205256, shape=(), dtype=float32)\n",
      "test acc top5 tf.Tensor(0.5, shape=(), dtype=float32)\n",
      "epoch test acc top5  tf.Tensor(0.49893466, shape=(), dtype=float32)\n",
      "[ 2 10 10 10 10  7  2  9  9  2  2  5  9 10 10 10 10 11  9  9  9  2 10  2\n",
      "  2 10  5  2 10  2  2  2  9 10  9  2  9 10  2  2  9 14  2  9 10  5 10 10\n",
      "  9  9  2 10  9  3  2  3 10  9 10  2 10  9  9  9] [25  7  8 19  8 24  2  4 28 35 14  5  4 16  4 24 19 11 21  9 48  2 22  3\n",
      " 14  7  5  2  8 20  6 26  6 10 23  2 18  3 23 20  8  8 26  9 10  5 19  8\n",
      "  9  5 26 10 28 26 23 17 10  1  4  7  9  4  8  9]\n"
     ]
    },
    {
     "name": "stderr",
     "output_type": "stream",
     "text": [
      "\r",
      "90it [00:04, 18.62it/s]"
     ]
    },
    {
     "name": "stdout",
     "output_type": "stream",
     "text": [
      "test acc  tf.Tensor(0.25, shape=(), dtype=float32)\n",
      "epoch test acc  tf.Tensor(0.17292838, shape=(), dtype=float32)\n",
      "test acc top5 tf.Tensor(0.53125, shape=(), dtype=float32)\n",
      "epoch test acc top5  tf.Tensor(0.49929774, shape=(), dtype=float32)\n",
      "[10 10  3  9 10 14 10 10  9  9  2  9  7 11  3  9  9 11 10  3 10 10  7 10\n",
      "  2  9  2  7 11  5  9 10 10  9  2 10  9  9 11  3 14 14  7  5  9  9  9  9\n",
      "  9 10  9 14  3 11  3 11  9  2  3  2 10  2 11  2] [ 4 21  3  4  7  3 10 10  7  7  7 19 29 46  2 20 16  3  9  6 12  6  4  7\n",
      " 14  3 43 10  2  5 12 10  8  8 27 21 30  7  3 21 27  3 13 10  8 19 18  1\n",
      "  1 41  4  3  3 14  9 11  9  2 29  2 10  2 14 26]\n",
      "test acc  tf.Tensor(0.1875, shape=(), dtype=float32)\n",
      "epoch test acc  tf.Tensor(0.17309028, shape=(), dtype=float32)\n",
      "test acc top5 tf.Tensor(0.609375, shape=(), dtype=float32)\n",
      "epoch test acc top5  tf.Tensor(0.5005208, shape=(), dtype=float32)\n",
      "[11  9  9 10  2  5  9  2  2  2  9  9 10  9  9 11 10  5 10  2  9 10 10  9\n",
      "  9  9  9  9  7 10  3  5  2 10  9  3 10 14  2  9 10 10  9 10  3  9  9  2\n",
      " 10 10 10  9  9 10  2 10  9  2  9  5 10 10  9 10] [11 27  9 10 31  5 28 20  2  8  8 39  4 29 12  3  1  5  9  2 10  7 10  8\n",
      "  4 10  9 20 15  9  6  8  3  6 16 13  1  6  2  6 12  6 10  1  7 30  7 17\n",
      "  8  1  6  9  7 13  2  5 10  3 20  5  3  4 41  5]\n"
     ]
    },
    {
     "name": "stderr",
     "output_type": "stream",
     "text": [
      "\r",
      "92it [00:04, 18.66it/s]"
     ]
    },
    {
     "name": "stdout",
     "output_type": "stream",
     "text": [
      "test acc  tf.Tensor(0.203125, shape=(), dtype=float32)\n",
      "epoch test acc  tf.Tensor(0.17342032, shape=(), dtype=float32)\n",
      "test acc top5 tf.Tensor(0.5625, shape=(), dtype=float32)\n",
      "epoch test acc top5  tf.Tensor(0.5012019, shape=(), dtype=float32)\n",
      "[ 9  9 10 10  3 10  9 10 11  9  3 10 11 10 10 10 11  2 10 11 10 11 10 10\n",
      " 11  5 10 10 10  2  2 10  9  2  9 14 11  9  2 10 10 10  9 10 10 10  5 10\n",
      " 10  3  9  9  2 10 10 10 10 10 10 10 14 10  2 10] [39  8  6  4  9 10 15  5 14 18 26  6  3  4  8  0 48 20  4  3 16  3  9 24\n",
      " 11  8 16 10 17 27  9  6  7 14  8  5 32  7  2  9  7 16  6  8  1  5  5 16\n",
      "  6 25 33  4  4  1  7  9  9  7 24  6  3 13  2 29]\n",
      "test acc  tf.Tensor(0.09375, shape=(), dtype=float32)\n",
      "epoch test acc  tf.Tensor(0.17255434, shape=(), dtype=float32)\n",
      "test acc top5 tf.Tensor(0.5625, shape=(), dtype=float32)\n",
      "epoch test acc top5  tf.Tensor(0.5018682, shape=(), dtype=float32)\n"
     ]
    },
    {
     "name": "stderr",
     "output_type": "stream",
     "text": [
      "\r",
      "94it [00:05, 18.67it/s]"
     ]
    },
    {
     "name": "stdout",
     "output_type": "stream",
     "text": [
      "[10 10 10 10 10 10 10  9  9 10 11  9 10  9  5 10  9  9 11 10  9  3 10 10\n",
      "  5 10 10 10 10 10  3  2  9  9  2 10 10  9 10 10 10 10 10  3  7 11  2 11\n",
      "  9 10 10 11 10  9 10 10 10  2  9 10 10 11 11  9] [ 6 10 47 10  7 13  9 28  7  1 14  9 13 16 15  9 19 10 14 10  4  3  5  6\n",
      "  1  9 18  6  4  5 42  2  8  7 40  9 12 47 12 10 34  7  4 19 13 31  2  3\n",
      " 10  5  6 46  6  7  8 18  1 20 24  5  3 25 11 19]\n",
      "test acc  tf.Tensor(0.140625, shape=(), dtype=float32)\n",
      "epoch test acc  tf.Tensor(0.17221102, shape=(), dtype=float32)\n",
      "test acc top5 tf.Tensor(0.453125, shape=(), dtype=float32)\n",
      "epoch test acc top5  tf.Tensor(0.5013441, shape=(), dtype=float32)\n",
      "[11  3  3 14 10 10 10 10 10  9 11  9  9  9  9 10  9 10  9  2  2 10  2 10\n",
      "  2 10  3 14  5 14 11 10  9  9  3  9  2 10  5 10  9 10 10  2 10 11 10 10\n",
      "  9  2 10  9 10 10  9  2 10 10 11 10 10  2  9  9] [14 14 10  3  6  7  1 21  4 16  3  7  9  1 23  4  1  6  1  9  2 10 35  8\n",
      "  4 10 17 15  5  3  2  4 16  9  3  6 26  4  5  5  9  5  4 37 47  3 29  7\n",
      "  9  2 29  7  8 24  9  2 36  8 11 17  9 26 33 12]\n",
      "test acc  tf.Tensor(0.21875, shape=(), dtype=float32)\n",
      "epoch test acc  tf.Tensor(0.17270611, shape=(), dtype=float32)\n",
      "test acc top5 tf.Tensor(0.515625, shape=(), dtype=float32)\n",
      "epoch test acc top5  tf.Tensor(0.501496, shape=(), dtype=float32)\n"
     ]
    },
    {
     "name": "stderr",
     "output_type": "stream",
     "text": [
      "\r",
      "96it [00:05, 18.72it/s]"
     ]
    },
    {
     "name": "stdout",
     "output_type": "stream",
     "text": [
      "[ 3 11  9 10 10  7 10 10 10  9 14 10 10  2 10 10 14  2 10 10  2  9 10  2\n",
      "  9  2 10  2 10  3 10 10  9 10 10  2 10  2 10 10 10  5  9  9  3 10  5  9\n",
      "  9  2  9 10  9 10  3  2  9 10  7  5 10  9  5  9] [ 3  2  8  5 13  4  9  1  6  6 17  5 15 20 12  8  3  3 10  5  3 12 10 20\n",
      " 10 32  8 20 10  4 10 19 39  0 18 20  3 29  4 28  7  5  1  6 31  9  5  9\n",
      "  8 14 30 13  9 15  7  4  7  9 14  5 21  1  5  1]\n",
      "test acc  tf.Tensor(0.171875, shape=(), dtype=float32)\n",
      "epoch test acc  tf.Tensor(0.17269737, shape=(), dtype=float32)\n",
      "test acc top5 tf.Tensor(0.59375, shape=(), dtype=float32)\n",
      "epoch test acc top5  tf.Tensor(0.5024671, shape=(), dtype=float32)\n",
      "[ 9 10  5 10 10  2  2  9 10  2 10  2 10  7  3 14  9  7  2 11 14  9  9  3\n",
      "  7 10 10 11  9 10 10 10  9 10 10  9 10  2  2  9 10 10  5 11  9  9 10  2\n",
      " 11  9 10 10  5  3 10 10 10 10 10 10 10 10 10 10] [36  1 13 10 18 23  2 13  9 23 30  2  1 13  6 25  1  8  2 46 20  1  6  3\n",
      "  6  7  1  3 44  7 10  5  4 13  6 10 19  2  4  5 18 24 17  2  8  6  1 43\n",
      " 25  7  7 19 10  9 13 29 10  1  6  6  9 33 28  7]\n",
      "test acc  tf.Tensor(0.125, shape=(), dtype=float32)\n",
      "epoch test acc  tf.Tensor(0.17220052, shape=(), dtype=float32)\n",
      "test acc top5 tf.Tensor(0.5, shape=(), dtype=float32)\n",
      "epoch test acc top5  tf.Tensor(0.5024414, shape=(), dtype=float32)\n"
     ]
    },
    {
     "name": "stderr",
     "output_type": "stream",
     "text": [
      "\r",
      "98it [00:05, 18.71it/s]"
     ]
    },
    {
     "name": "stdout",
     "output_type": "stream",
     "text": [
      "[ 2 10 10  9 10  9  9 10  9 10 10 14 10 10  9 10 10 11  9 10  2  9 10 10\n",
      " 10  2 10 10 10 10  9 10  9  9 14 10 10 10 14  2 10 10  9 10  2  2  5 10\n",
      "  2 10 10 10  2  2 11 11  5  9 11 10 10  9  3 10] [26 13 15  7 21 10 10 18  6  7  6 14  1 36  9  1 18  3  1  9  2  4 28  1\n",
      "  8  3  5 15  8 10 16  9  1  7 17 13 10 15 23  2  5 33  5 18 26  2  6 10\n",
      " 20 18 17 24  2  2 11  3  7 24 11  5 29  3  7  1]\n",
      "test acc  tf.Tensor(0.1875, shape=(), dtype=float32)\n",
      "epoch test acc  tf.Tensor(0.17235824, shape=(), dtype=float32)\n",
      "test acc top5 tf.Tensor(0.53125, shape=(), dtype=float32)\n",
      "epoch test acc top5  tf.Tensor(0.5027384, shape=(), dtype=float32)\n",
      "[ 9  2 10  5  3 10  9 11  5 10  9 10 10  9 10 14 11 11 11  9 10 11  9  3\n",
      "  9 10  5 10  9  9 14  2  9 11 14 10  9 10  9 10  9  9  9 14  9 10 10  9\n",
      "  2 14 10  9 14 10 10 10  9  9 10 10 10  2  7 10] [ 9  2  5  5  3 28 19  3  5 18  1 15 10  5  8 36 11 11  3  4 28 11  4  3\n",
      "  1  5  8  8  1 19 32  2 16  3 48 39 20 16  8  4 15 19  5  3 19 12 16  4\n",
      " 26 36  7 10  3  6 16  5  7  7 10 10  4 31  5  6]\n",
      "test acc  tf.Tensor(0.203125, shape=(), dtype=float32)\n",
      "epoch test acc  tf.Tensor(0.1726722, shape=(), dtype=float32)\n",
      "test acc top5 tf.Tensor(0.484375, shape=(), dtype=float32)\n",
      "epoch test acc top5  tf.Tensor(0.502551, shape=(), dtype=float32)\n"
     ]
    },
    {
     "name": "stderr",
     "output_type": "stream",
     "text": [
      "\r",
      "100it [00:05, 18.68it/s]"
     ]
    },
    {
     "name": "stdout",
     "output_type": "stream",
     "text": [
      "[10 10  9 11  9 10 14 10 10  9 14 10 10 10 10 11 11  9 10  9  2 10  5  9\n",
      " 11 10  9  2  7  5  5 11 10  9  2 14 10  9 10 10 10  2 10  2 11 10 10 10\n",
      " 10  5 10 10  9  2  9 14 10  2  9 10  9 10  7  9] [12  4  1 40  1  1 15 18  5 20 31 29  4  4  4  2  3  4 25  9  2  1 13 33\n",
      "  3  1 20 23  7  5  5 32  5  9 32 15  7 16 13  1  7 22  1  2 11 10  1  1\n",
      "  1 21  9 12  6 15  5 17 15  2 19 20  6 10  6  7]\n",
      "test acc  tf.Tensor(0.171875, shape=(), dtype=float32)\n",
      "epoch test acc  tf.Tensor(0.17266414, shape=(), dtype=float32)\n",
      "test acc top5 tf.Tensor(0.515625, shape=(), dtype=float32)\n",
      "epoch test acc top5  tf.Tensor(0.5026831, shape=(), dtype=float32)\n",
      "[ 9 11  9  9  2  9 10 10 10 10 10  2  9  9  2  2 10  2 10  2 10  9  2 10\n",
      " 10  3  9  9 14 11 10  9  9  5 11 10 10 10  9 11  3 10  2 10  5 10  9 10\n",
      "  9  7  9 10  9  2 10  3 10 10 10 10 10  3 10 10] [12 11 31  7  7  9  1  4 19 18  4 12  9  9  2 26  6 20 21 42  4 34  1 22\n",
      " 15 35  9 10 32  3 21 18  5  5 11 15  5 21  1 11 31  1 14  9  5  8  1  9\n",
      " 37  5  6  4 34  7  4  9  7  1  1  5  6  3  9  4]\n",
      "test acc  tf.Tensor(0.171875, shape=(), dtype=float32)\n",
      "epoch test acc  tf.Tensor(0.17265625, shape=(), dtype=float32)\n",
      "test acc top5 tf.Tensor(0.40625, shape=(), dtype=float32)\n",
      "epoch test acc top5  tf.Tensor(0.50171876, shape=(), dtype=float32)\n"
     ]
    },
    {
     "name": "stderr",
     "output_type": "stream",
     "text": [
      "\r",
      "102it [00:05, 18.75it/s]"
     ]
    },
    {
     "name": "stdout",
     "output_type": "stream",
     "text": [
      "[ 2 10 10  2 10 10  2  5  2  9  9  9 10 10 10  9 10  2 10 10  2 10 10  2\n",
      "  9 10  9 11  2 10 10  9 10 10  9 10  9 10 10  9 10 10  3 11 10 10  7 10\n",
      " 10 10 11 10  9 10  3  5 10  9  2  3 11 10 10 10] [17  1 12  2  7  8 30  5  2 44 19  1  6  7 15  4  6  2 10  1  2  1 34 20\n",
      " 47  7 18  3  3  1  4 41  1  8 34  9  4  6  5  6  1 16  3 11 36  3  6  6\n",
      " 10  5 11 13  9  3  3 18  5  1  4 35  9  1  7 10]\n",
      "test acc  tf.Tensor(0.203125, shape=(), dtype=float32)\n",
      "epoch test acc  tf.Tensor(0.17295793, shape=(), dtype=float32)\n",
      "test acc top5 tf.Tensor(0.515625, shape=(), dtype=float32)\n",
      "epoch test acc top5  tf.Tensor(0.50185645, shape=(), dtype=float32)\n",
      "[ 7  9  2 10 10  5  9  9  9 10 10 10  2  2  9  5  9 14 10 10  2  3  9  9\n",
      "  9 11  2  2  5  9  3 10 10 10  9 10  5 11 10  2  5  9  9  9  9 10 10  2\n",
      " 10 11 10  3  2 11 10 10  9  9  9 10 10  9 10  9] [ 9  8  7  0  7  8 19  1 30  0  9 19 11 18  1 19 38 31  7  6 37  3 10  7\n",
      " 20  3 42 28  8  1 17  1  4  8  6  7  5 11 45 42  1 30 28  8 19 24  1  9\n",
      "  4  3  6  7  4 32 10  6  3  1  4 10 19 16 16  9]\n",
      "test acc  tf.Tensor(0.09375, shape=(), dtype=float32)\n",
      "epoch test acc  tf.Tensor(0.17218137, shape=(), dtype=float32)\n",
      "test acc top5 tf.Tensor(0.4375, shape=(), dtype=float32)\n",
      "epoch test acc top5  tf.Tensor(0.5012255, shape=(), dtype=float32)\n",
      "[ 3  9  9 10  2 10 10 10 10 10  9  9  9  9 10  9 10 10 10 10  9  2 10 10\n",
      "  5 11 11 10  9  9 10 11 14 11 10 10 10  9 10 10 10 10  3 10  9  2 10 10\n",
      "  7  2 10 11 10 10 10 11  7  2 10 10 10 10 10 11] [ 7  8 10  6 35  4  8 37 16  7 18  9  4 37 38 30 24 19 13 12  4  7  9 16\n",
      " 10 11 25  1  1  6 10  4 48  3 28  4  8 15  1 30 16 10 17 12 10  3 10  5\n",
      "  8 46 12 11  9 10 19  3 25  2 29 10  7  0  6  3]\n"
     ]
    },
    {
     "name": "stderr",
     "output_type": "stream",
     "text": [
      "\r",
      "104it [00:05, 18.77it/s]"
     ]
    },
    {
     "name": "stdout",
     "output_type": "stream",
     "text": [
      "test acc  tf.Tensor(0.140625, shape=(), dtype=float32)\n",
      "epoch test acc  tf.Tensor(0.171875, shape=(), dtype=float32)\n",
      "test acc top5 tf.Tensor(0.375, shape=(), dtype=float32)\n",
      "epoch test acc top5  tf.Tensor(0.5, shape=(), dtype=float32)\n",
      "[ 9 11  9  2 10 10 11 10 11  9 10 10 11 10 10  2  5  5 10 10  9  9 14 10\n",
      "  9  5  9  9 10 10  5 10  2 10  9 10  9  9  9  9 11 10  2  5  3 10  9 11\n",
      " 10  2 11 11 10 10 14 10 10 10 10 14  3 10 10  9] [ 1 11  9 14  1 12  3 10  3  4 10  8  3  6 24 14 43 29 36 19 24 16 20  1\n",
      " 20 10  8  1  4  7 10  9  1  1  9  6  9  1 17  8 11 10 37  5 17 10  7  3\n",
      "  8  2  3  2 10  4  3  6  6  1 16 11  3 20  9 19]\n",
      "test acc  tf.Tensor(0.203125, shape=(), dtype=float32)\n",
      "epoch test acc  tf.Tensor(0.17217548, shape=(), dtype=float32)\n",
      "test acc top5 tf.Tensor(0.546875, shape=(), dtype=float32)\n",
      "epoch test acc top5  tf.Tensor(0.50045073, shape=(), dtype=float32)\n"
     ]
    },
    {
     "name": "stderr",
     "output_type": "stream",
     "text": [
      "\r",
      "106it [00:05, 18.72it/s]"
     ]
    },
    {
     "name": "stdout",
     "output_type": "stream",
     "text": [
      "[ 2  2 10  7 10  3  9  2  3  2 10 10  2  2 11 10  3  2 11  9  2  9 10  2\n",
      " 10 14 10 14  3 10 14 10 10  5 10 10 11  5  2  9 10  3 10 10 10 11 10  9\n",
      "  9 10 10  9 10 10 10  9 10 10 10 10  9  9  9  9] [ 2 20  4 25 38 17  4 35 17  2  4  4 27 26  3  6 20 14 11 27 20 18  5 18\n",
      " 20 14  8 36  8  8 25 24  1  5 10  7 14  0 22  8  6 15  8 24  7 40 36  8\n",
      " 27  1  8 35  6  1 21 20 29  6  6  8 16  9  8  8]\n",
      "test acc  tf.Tensor(0.109375, shape=(), dtype=float32)\n",
      "epoch test acc  tf.Tensor(0.17157738, shape=(), dtype=float32)\n",
      "test acc top5 tf.Tensor(0.46875, shape=(), dtype=float32)\n",
      "epoch test acc top5  tf.Tensor(0.50014883, shape=(), dtype=float32)\n",
      "[ 2 14  9 10  2 10 10  5 10  3  9  9 10  3 11  9  9 10  2 10 11  2  2 10\n",
      "  2  7  5 11 11  3 10 10 11  9  9  9  3 10 10 10  2  9  9 10  7 10  9  2\n",
      " 10 11  9  9  2 10 10  9  5 10  8  9 10  9 10 10] [ 2 25  8  0 35 10  1 16  7 17 15  9  5 17 40  7 35  8 20 34 11 23 42 19\n",
      " 14  3 30 11  3 27  6 15 11  5 12  5 17  5 19  8  2 16 18 11  6 28 33  2\n",
      " 10  3 10 16 35  7  4 34  8 13  7  1 29  8  4 18]\n",
      "test acc  tf.Tensor(0.140625, shape=(), dtype=float32)\n",
      "epoch test acc  tf.Tensor(0.17128538, shape=(), dtype=float32)\n",
      "test acc top5 tf.Tensor(0.4375, shape=(), dtype=float32)\n",
      "epoch test acc top5  tf.Tensor(0.4995578, shape=(), dtype=float32)\n"
     ]
    },
    {
     "name": "stderr",
     "output_type": "stream",
     "text": [
      "\r",
      "108it [00:05, 18.74it/s]"
     ]
    },
    {
     "name": "stdout",
     "output_type": "stream",
     "text": [
      "[10  9  2  5 10  9  9 10  2 10 10 14 10 10 10 10  9 10  2  9 11  9  9 10\n",
      " 10 10  9  8 10  9 10 10 10 10 10 10 10 10 14 14  9  3  2 10  9  2 10  2\n",
      "  9  2 10  2 10 10 11 10 10  9  9 11 11 10 10  9] [ 5 28  6  6 13  1  4  5 14  6  1 31  1 10  1  7 16 15  2  1  3  7 28 10\n",
      " 22  5 15  8  6  8 44  4  7  7  8  8  1 29 14  3  8  7 26 28 10 30 18 14\n",
      " 19  2  8 22  9  4 40  4 10 28 22 11  4 10 13 42]\n",
      "test acc  tf.Tensor(0.140625, shape=(), dtype=float32)\n",
      "epoch test acc  tf.Tensor(0.17099883, shape=(), dtype=float32)\n",
      "test acc top5 tf.Tensor(0.46875, shape=(), dtype=float32)\n",
      "epoch test acc top5  tf.Tensor(0.49926987, shape=(), dtype=float32)\n",
      "[ 2 10 10 10 10 10  2 14  5  9 10  9  7  2  9  3  5  2 10 11 10 10  9 14\n",
      "  9 10  9 10  2  9  9  9 10  2  9  9  9 10  2 10  5  2  7  5 10 10  9  9\n",
      " 10  9  9 10  7  9 10 14  9  9  9 10 10 10  5 10] [20 10 10  9 10  6  2 20  1 39 29  5 10  2 20 25  8 32  7  3 10  4  6 10\n",
      " 17 24 18  4 31  7  7 10  5 17  7  9  4  8 14  8 39 14  4  5  1 19  7 33\n",
      " 10 34  6  1  2  7 12 13 10  8 21  4  7  4  6 18]\n",
      "test acc  tf.Tensor(0.140625, shape=(), dtype=float32)\n",
      "epoch test acc  tf.Tensor(0.1707176, shape=(), dtype=float32)\n",
      "test acc top5 tf.Tensor(0.546875, shape=(), dtype=float32)\n",
      "epoch test acc top5  tf.Tensor(0.49971065, shape=(), dtype=float32)\n"
     ]
    },
    {
     "name": "stderr",
     "output_type": "stream",
     "text": [
      "\r",
      "110it [00:05, 18.64it/s]"
     ]
    },
    {
     "name": "stdout",
     "output_type": "stream",
     "text": [
      "[ 9 10  7 10  9  2 11 10 10  9 10 10 10  9 10 10 10  7 10  9 14  9  5 10\n",
      "  9  9  2  2 10 10  9  2  9  9  2  2  2  9 10  9  7  9  9  9  9 10  9  9\n",
      " 10 14  9 10 10  7  9 10  9 11 10 11 10 11  9  2] [34  4  8  5  6 27  3 15 19  4  4  4  7  7  6 24  7 15 18  7 14 10  5  4\n",
      " 12 13  2 26  4 10 18  2  7 27  2  2 20  9 21  4  4  1  5  1 19  1  1  4\n",
      "  1  3 17 29  5  7 23 33 18 11 18 11 10  3  5  2]\n",
      "test acc  tf.Tensor(0.203125, shape=(), dtype=float32)\n",
      "epoch test acc  tf.Tensor(0.1710149, shape=(), dtype=float32)\n",
      "test acc top5 tf.Tensor(0.4375, shape=(), dtype=float32)\n",
      "epoch test acc top5  tf.Tensor(0.4991399, shape=(), dtype=float32)\n",
      "[ 9  9 10  9  9  3  9  2  9  2 10  2 10 10 11  2 10  9  9 14 11  2  2 10\n",
      " 10  9 10 10 10  3 10  3 10 10  5 10  2 10 11  7 10 10 11 10 10 10  3 14\n",
      " 14  9 11 14 10 10  9  9  9 11 14 10 10  9 10 10] [ 6  1 16  1  9  4  1  5 15 10 13  2  9 10  3  2  5  5 12  3  2  3  2  9\n",
      "  1 10 13  5  8  3  5  3 18 10 13  5  2 36 14  6 16  6 40  1 10  8  2  3\n",
      " 48  4  3 14  5 24  1  8 23 11 14  8 21 30  1  4]\n",
      "test acc  tf.Tensor(0.203125, shape=(), dtype=float32)\n",
      "epoch test acc  tf.Tensor(0.17130682, shape=(), dtype=float32)\n",
      "test acc top5 tf.Tensor(0.59375, shape=(), dtype=float32)\n",
      "epoch test acc top5  tf.Tensor(0.5, shape=(), dtype=float32)\n"
     ]
    },
    {
     "name": "stderr",
     "output_type": "stream",
     "text": [
      "\r",
      "112it [00:06, 18.67it/s]"
     ]
    },
    {
     "name": "stdout",
     "output_type": "stream",
     "text": [
      "[ 9 10  9 10 10  9 10  9 14 10  2  9 10  2 10 10  9 10 10 10  9  2  9  3\n",
      "  9 10  2  9  3 10 10 10 10  9 10  3 10 10 10 10 10  2  9 10  2 10 10  9\n",
      " 10  2  9  7 11  2 10  9  9  9 10 10  9  3  9 10] [ 8 13  1  4  9 13 15  9 36 29  2  4 19  3  5 18 19  5 30  9  7 15 22  9\n",
      "  6 10 23 17  9 10  8  5  8 31 13  1  7  5  5 19 16 20  8  1  2 10 29 37\n",
      " 15  9  9 15  2 26  6  7  9 38 21  7  5  3 16 41]\n",
      "test acc  tf.Tensor(0.140625, shape=(), dtype=float32)\n",
      "epoch test acc  tf.Tensor(0.1710304, shape=(), dtype=float32)\n",
      "test acc top5 tf.Tensor(0.5, shape=(), dtype=float32)\n",
      "epoch test acc top5  tf.Tensor(0.5, shape=(), dtype=float32)\n",
      "[10  9  5  9  2  2  3 10  9 10  2 11 10 10 11 10 10 10  2  9  9  9  5  3\n",
      "  9 10 10 10 10  9 10 11  9  2  9  2  9 10 10  9  9 10  5  9  9  9 10 10\n",
      " 10  9  9  9 10  2  5 11 10 11  2 10  3 10 11  9] [ 9 13 29 17 20  2 23  4  7 33  3 46 38  8  3 10  6 29 14 36  6  1 25  3\n",
      "  4  8 19  5 25 10  1 11  5  2 37  2  1  9  5  8  1 24 10  9  6 13  8  1\n",
      "  1  7  6 10  1  1  5  3  9  2  2 18  7 29  2  5]\n",
      "test acc  tf.Tensor(0.140625, shape=(), dtype=float32)\n",
      "epoch test acc  tf.Tensor(0.17075893, shape=(), dtype=float32)\n",
      "test acc top5 tf.Tensor(0.484375, shape=(), dtype=float32)\n",
      "epoch test acc top5  tf.Tensor(0.4998605, shape=(), dtype=float32)\n"
     ]
    },
    {
     "name": "stderr",
     "output_type": "stream",
     "text": [
      "\r",
      "114it [00:06, 18.72it/s]"
     ]
    },
    {
     "name": "stdout",
     "output_type": "stream",
     "text": [
      "[ 9  2 10  9  9 11 10 10 11 14 14 11  2 14 10 10  9 11  2 10  7 10  3  9\n",
      " 10  3 14 10  9 14  9 11 14 10  2 11  9  9  9 10 10  9 10  3 10  2  9 10\n",
      " 10  2  2 11  7 14 14 10  9 10  2 10 14 14 10  9] [12  2  5 12  9  2  5  6  2 15  3 14  2 32  1  4  1 14 23  1 10  9 14  8\n",
      "  1 17 14  1  6 15 47  3  3 10 26  2  1  7 19 24  5  4  4 17  5 23  1  8\n",
      " 16 27  3  3  6  3  6 19  9 23 20 10  3 43 19 41]\n",
      "test acc  tf.Tensor(0.109375, shape=(), dtype=float32)\n",
      "epoch test acc  tf.Tensor(0.17021571, shape=(), dtype=float32)\n",
      "test acc top5 tf.Tensor(0.578125, shape=(), dtype=float32)\n",
      "epoch test acc top5  tf.Tensor(0.5005531, shape=(), dtype=float32)\n",
      "[ 9 10 10  5 10  3 11  2 14 10  2  9 10 11  2 10  9  9 11 10 10  9 10  9\n",
      " 11 11 10  2 10 11  9  2  5  9  3 10  2 10 14  3 10  2  9 10  9  2  9 14\n",
      " 10  9  9  2  5 11 10  2  3 10 10 11  2 11  2 10] [12  6  7  5  5 17 11  2  3 18 27  9 45  2  2 10 10  9  3 16  4  8 12 19\n",
      "  3  4 29  3  2  7 23  3  5 10 10  1  5 10 14  3  1 27 18 13  8 31  6 27\n",
      " 10  4  9  2  4 11 20  7  3  4 16  3  2 20  2 19]\n",
      "test acc  tf.Tensor(0.28125, shape=(), dtype=float32)\n",
      "epoch test acc  tf.Tensor(0.1711897, shape=(), dtype=float32)\n",
      "test acc top5 tf.Tensor(0.484375, shape=(), dtype=float32)\n",
      "epoch test acc top5  tf.Tensor(0.5004112, shape=(), dtype=float32)\n"
     ]
    },
    {
     "name": "stderr",
     "output_type": "stream",
     "text": [
      "\r",
      "116it [00:06, 18.67it/s]"
     ]
    },
    {
     "name": "stdout",
     "output_type": "stream",
     "text": [
      "[ 5 10  2  9  7 10  9  5 10 10 10  2 10 10 10  9 10  9  2 10  5  9  3 10\n",
      "  9 10 10  2 10 10  2  2  9 10 10  3 10 11  2 10 10 14 10 10 14  5  9 10\n",
      " 10 10 10  9 10  7  9  7  9 10  2 14 14  9 10 10] [ 5  8  2  7 12 15  7  5  9  6 10 20  5 12 29  7  7  3 20  8  5 20  3  9\n",
      "  8 18 16  2  8  4  2  2 10  6 10 10  4  3  2  1 24 25  0 10  3  5  1  7\n",
      "  4  7  8  7 12  8 16  4  7 38 20  3 17  5  1  9]\n",
      "test acc  tf.Tensor(0.203125, shape=(), dtype=float32)\n",
      "epoch test acc  tf.Tensor(0.1714674, shape=(), dtype=float32)\n",
      "test acc top5 tf.Tensor(0.59375, shape=(), dtype=float32)\n",
      "epoch test acc top5  tf.Tensor(0.50122285, shape=(), dtype=float32)\n",
      "[ 9  2 10  5 10 10  3  5  9 10 10  2 10  9 10  9 10 10 10  5  9  9  2 10\n",
      "  5  9  9 10  9 10  9 14 10 10  5 10 10 10 10  9  2  9 10 10 10  9 10  9\n",
      " 10  9 10 10  9  9  9  9 10  5 11  9 11 11  9 10] [21  3  9  5 10  1  9 10 23  8  8  2 12 19  8  7  8  9 10  5  7  4 20 19\n",
      " 23 12 24  4 12  4 22  3  7  9 16  4  7  6  6  9 26  8  5 30 39  7  8 22\n",
      "  1 39 10  6  9  4  6 12  6  8  1 12 40 40  7 34]\n",
      "test acc  tf.Tensor(0.125, shape=(), dtype=float32)\n",
      "epoch test acc  tf.Tensor(0.1710668, shape=(), dtype=float32)\n",
      "test acc top5 tf.Tensor(0.515625, shape=(), dtype=float32)\n",
      "epoch test acc top5  tf.Tensor(0.501347, shape=(), dtype=float32)\n"
     ]
    },
    {
     "name": "stderr",
     "output_type": "stream",
     "text": [
      "\r",
      "118it [00:06, 18.75it/s]"
     ]
    },
    {
     "name": "stdout",
     "output_type": "stream",
     "text": [
      "[ 9 10 10  2  9  9 10  9  3 10  5 10 10  9 10 10  3 14 10  9 10 10  5 10\n",
      " 11 10  9 10  9  7 11 10  2  7  9 10 14  9 10 10 10  9 10  3 10  9  9  9\n",
      "  9 10  5  2 10 11  9  9  9 10 10  3  2  9 11 11] [ 7 16  9  2  8 19  7 28 29  8  5  8 28  4 18  5 42 25  7  4  8 15 29 10\n",
      "  3  5  7  8 20 12  3 22  2 10  9  7  9  1  7  6 16  6 36 17 43  6  9 16\n",
      "  1  4  6  2 10 40 17  6  9  7  4 17  9  7 11  3]\n",
      "test acc  tf.Tensor(0.15625, shape=(), dtype=float32)\n",
      "epoch test acc  tf.Tensor(0.17094018, shape=(), dtype=float32)\n",
      "test acc top5 tf.Tensor(0.5625, shape=(), dtype=float32)\n",
      "epoch test acc top5  tf.Tensor(0.5018697, shape=(), dtype=float32)\n",
      "[10 11 11 10 10  7 10 14  9  9 10 11  7  9  7  2  5 10  3 10  9 10  5  7\n",
      " 10  2  9  5  3 14 10 10 10  3 10  9  7 10  2 10 10 10  2  9 10 10  9 10\n",
      " 10  9 10  2 10 11 10  3  9 10  9 14 10  9  2  9] [38 17  3  8  5 38 10 21 10 10  6  4  5 28  5 15  1  4 17  6  9 18  5  6\n",
      " 10  2 19  5  7 14  6  5  1 17  4 16 18 28 23 18 33 29  2 16 22 19 21  1\n",
      "  5 36  5  4 17  2 30  9  8 24 23 14  8  1 20 20]\n",
      "test acc  tf.Tensor(0.140625, shape=(), dtype=float32)\n",
      "epoch test acc  tf.Tensor(0.17068326, shape=(), dtype=float32)\n",
      "test acc top5 tf.Tensor(0.484375, shape=(), dtype=float32)\n",
      "epoch test acc top5  tf.Tensor(0.5017214, shape=(), dtype=float32)\n"
     ]
    },
    {
     "name": "stderr",
     "output_type": "stream",
     "text": [
      "\r",
      "120it [00:06, 18.80it/s]"
     ]
    },
    {
     "name": "stdout",
     "output_type": "stream",
     "text": [
      "[ 3  2  9 10 14 10  9  9 10 10  2 10  7 14  7  9 10  3 14  9  2 10 11  9\n",
      "  9 10  2  9  9  2  9 14 10 10 11 10 10  9  5 10  9  5 11 10  9  5  2 10\n",
      " 10  9  9  5 14 10  9 10 10 10  7  9  2  2 10 10] [ 3 12 44 12 25  7  4 12 28 34 25  1 44  5  6  7  8  1  3  8 15  7  2 12\n",
      " 19  7 27  1 24 22  1 25  6  6 10  6  6  8  8 16  4  1 11 16 37  8 22  9\n",
      " 10 30  9  5 12 10  9  6  6 24 21  9  2 10  6  5]\n",
      "test acc  tf.Tensor(0.140625, shape=(), dtype=float32)\n",
      "epoch test acc  tf.Tensor(0.17043068, shape=(), dtype=float32)\n",
      "test acc top5 tf.Tensor(0.46875, shape=(), dtype=float32)\n",
      "epoch test acc top5  tf.Tensor(0.50144434, shape=(), dtype=float32)\n",
      "[ 3  2 10  9 10  8 10 10 14 14  7  3  9  2 10  2  9  2  3 10 10 10 10  9\n",
      "  9  7  9 10 14 11  9 10 10  2 10 10 11  2 10 10 11  3  2  3  5  2 10  2\n",
      " 10  2 10 10  3 10  2 11 14 11 10  9  9  2 11  2] [ 7  7 10 16  3  9 12  5 25 14 10  6  9 20  1  4 17 12 17  8 10 29 10  1\n",
      " 28 18  1 24  3 32  7  6 18 26  8 10 11  3 28  5 11  3  2 36  5  3  6 20\n",
      " 22  3  8 39  9 23  2 40  3 11  7  9  7  2 46 26]\n",
      "test acc  tf.Tensor(0.234375, shape=(), dtype=float32)\n",
      "epoch test acc  tf.Tensor(0.17096354, shape=(), dtype=float32)\n",
      "test acc top5 tf.Tensor(0.609375, shape=(), dtype=float32)\n",
      "epoch test acc top5  tf.Tensor(0.5023438, shape=(), dtype=float32)\n"
     ]
    },
    {
     "name": "stderr",
     "output_type": "stream",
     "text": [
      "\r",
      "122it [00:06, 18.79it/s]"
     ]
    },
    {
     "name": "stdout",
     "output_type": "stream",
     "text": [
      "[10  9 10 10  9 10  2  9 10 14 10 14 10 10 10  2 10  7 14  9  2 10 10 10\n",
      " 11  9 10 10 10  9  7  9  2 10  9 10  2  7 10  9  9  2  2  2 10  2 10 10\n",
      "  9 10  9  9 10  9 10  9  9 14 10  5 14 10  2 10] [ 7  4  8  1  5  5  2 10 21 14 47 26  1 10 18 14 20  6 14 33 26  8  9 16\n",
      "  3 27 10 24  6 13  9  1  2  9  4 24 19  3 15  1  4  2  4  9  6  2 10  5\n",
      "  4  1 18  9  1  4 10  8  5  3  8  5  3 13 37  1]\n",
      "test acc  tf.Tensor(0.1875, shape=(), dtype=float32)\n",
      "epoch test acc  tf.Tensor(0.1711002, shape=(), dtype=float32)\n",
      "test acc top5 tf.Tensor(0.546875, shape=(), dtype=float32)\n",
      "epoch test acc top5  tf.Tensor(0.5027118, shape=(), dtype=float32)\n",
      "[10  2  2 14  3 10  9  9 10 14  9  2  7  9  9 10  3  3 10 10 10  3  2  5\n",
      " 10  2  9  7  3  9  9  9 10 10  9 11  9 10 10  9 11  2  9  9 11  2  2  9\n",
      "  2 10 10 11 10  5  3  9  9  2  9 10 10 10  2 10] [18 20  3  3  8  8  9 16 13 27  7  2 43 37 10 21 17  3 38  1  6 48  2  6\n",
      " 10  2 10 15 23  1 33 31  8  9 19 12  7 38 45  9  3  2  9 15  3  9  2 44\n",
      "  2  8  5  3  1  5 48  8  6  2  3  8  9 15  2  1]\n",
      "test acc  tf.Tensor(0.21875, shape=(), dtype=float32)\n",
      "epoch test acc  tf.Tensor(0.17149077, shape=(), dtype=float32)\n",
      "test acc top5 tf.Tensor(0.546875, shape=(), dtype=float32)\n",
      "epoch test acc top5  tf.Tensor(0.50307375, shape=(), dtype=float32)\n"
     ]
    },
    {
     "name": "stderr",
     "output_type": "stream",
     "text": [
      "\r",
      "124it [00:06, 18.78it/s]"
     ]
    },
    {
     "name": "stdout",
     "output_type": "stream",
     "text": [
      "[ 9  9 10 10  9  2 11  9  2 14  3  5  9  7  2  2 10  9 11  9 10 10 10  7\n",
      " 14 10 11 10 14  9 10  9  2  5  9  9 10 14 10 10  2  2  2 11  3  5 10 10\n",
      " 10  9  9  9 10  9  9 10 10  2  5 10  9 10  9  2] [ 6  8  4  9  5 20 11  6 35  3  3 13  9 17 37 35  9  1 27 42  8 16  8 36\n",
      "  7  6  2  6 11  6  4 13 20 34 39 15 22 20  7  1  2  3 14 11 17  5  6  4\n",
      " 29  4 38 10 14 10 16 21  6  3 29 10 27  5  7  2]\n",
      "test acc  tf.Tensor(0.125, shape=(), dtype=float32)\n",
      "epoch test acc  tf.Tensor(0.1711128, shape=(), dtype=float32)\n",
      "test acc top5 tf.Tensor(0.484375, shape=(), dtype=float32)\n",
      "epoch test acc top5  tf.Tensor(0.50292176, shape=(), dtype=float32)\n",
      "[10 14  9 10 11 10  9  2  9 10  5 10  3 10 10  5 10  7 10 10  2  9 10 10\n",
      "  9  9 11 10  3 10  9 10  2 10  9 10 11 10  5  3 10 10 10  3  5 11 10  7\n",
      "  9  9 10  9  9  7  2  9  9 10 10  2  2  9  7 10] [ 4 15  9  8 11 10 20  9  4 10  7  6 17  8  4  8 30 13  4  2 34 30  5  6\n",
      "  1  9 25 10 17  3  5  4  7 13 19 12 11  1 11  7  6  4  8 27 10 11  1 13\n",
      " 30 33 43 16  8  2 26  3  4 16  8 20  2 45 10  4]\n",
      "test acc  tf.Tensor(0.140625, shape=(), dtype=float32)\n",
      "epoch test acc  tf.Tensor(0.17086694, shape=(), dtype=float32)\n",
      "test acc top5 tf.Tensor(0.5, shape=(), dtype=float32)\n",
      "epoch test acc top5  tf.Tensor(0.50289816, shape=(), dtype=float32)\n"
     ]
    },
    {
     "name": "stderr",
     "output_type": "stream",
     "text": [
      "\r",
      "126it [00:06, 18.83it/s]"
     ]
    },
    {
     "name": "stdout",
     "output_type": "stream",
     "text": [
      "[ 5  2  9 10  5  3 10  3 11  2 10  9 10 10  9  5 10 10  2  9  2  9  2 11\n",
      "  3 10 11 11 10  2  2  2  2 10  9 10 10 10 10 11  2 10 10  9  9 11  3  9\n",
      " 10 11  9 10  9  9  9 10  8 10  9  9  9  1 10 10] [ 8  2  6  6  5 17 10 14  2 17 21  7  1  7 10  5  1 10  2 10 20  5 35 11\n",
      " 14  6  3  3 18 48 15  2  2  1  9  4  6 15 10  3  2  8 10  9  4 11 15  1\n",
      " 18  1  4 10  5 19  3 16  4  8 12  7 21  1  9  5]\n",
      "test acc  tf.Tensor(0.265625, shape=(), dtype=float32)\n",
      "epoch test acc  tf.Tensor(0.171625, shape=(), dtype=float32)\n",
      "test acc top5 tf.Tensor(0.609375, shape=(), dtype=float32)\n",
      "epoch test acc top5  tf.Tensor(0.50375, shape=(), dtype=float32)\n",
      "[11 10 14 11 10  9  5 10 14  5 11  3  2 10  9 10  9 10 10 11  7 10  9  3\n",
      " 14 14  9  7  3 11 10 10 10 10  2  3  9 10  9 10 10 10  2 10 10  3  9 10\n",
      " 10 10  9  9  2  9  2 10 10  9  9 10  7 11  2  9] [ 3 10  3  3 38  9 18 30  4  5  2  7  2  6  9 21 10  6  5 11  7 28 10  3\n",
      "  3 25 33 10 35 32  4  8 10 10 25 20  9  8 16  2  8  7  2 16  7 15 35  5\n",
      " 24 15  9  5 26  4  3  9  7 10 47  1  7  3 23  5]\n",
      "test acc  tf.Tensor(0.21875, shape=(), dtype=float32)\n",
      "epoch test acc  tf.Tensor(0.17199901, shape=(), dtype=float32)\n",
      "test acc top5 tf.Tensor(0.609375, shape=(), dtype=float32)\n",
      "epoch test acc top5  tf.Tensor(0.5045883, shape=(), dtype=float32)\n"
     ]
    },
    {
     "name": "stderr",
     "output_type": "stream",
     "text": [
      "\r",
      "128it [00:06, 18.85it/s]"
     ]
    },
    {
     "name": "stdout",
     "output_type": "stream",
     "text": [
      "[ 2  2 10 10  2 11 10  7  2 10  9  9  9 10 10  5 11 10 14  2 10 10  9  5\n",
      " 10  9 10  5  2  9 10 10  2  2 10  9 10 10 10  2  9  3  2  3  5  9 11 10\n",
      "  9 10 10  9 11 10 10  9 10 10 11  5  9  3 10 10] [ 2 20  5  6 14 14  5 13 25  4  9  9 10  4 15 38  3  8 35  3 22 18 47 45\n",
      " 10  6  9  5  2  1  1 10 26 37  5 10 21  1 10 20  9 27  2  7  5 28 14 18\n",
      "  4  4  8 14 11  6  8 16 45  1 11 10 27  7  8 18]\n",
      "test acc  tf.Tensor(0.203125, shape=(), dtype=float32)\n",
      "epoch test acc  tf.Tensor(0.1722441, shape=(), dtype=float32)\n",
      "test acc top5 tf.Tensor(0.515625, shape=(), dtype=float32)\n",
      "epoch test acc top5  tf.Tensor(0.5046752, shape=(), dtype=float32)\n",
      "[10  5 10 10 11 10 10 14 10 14 10  9 10 10 10 10 10 10 10  2 10 10  2  9\n",
      " 11  9  9 10 10  9  9  9  7  2 10 10  9 10 10 10  2  9 10 10  2 10 10  2\n",
      " 10  2  5  9  9  2  2 10  2 10 14  9  9 10 10 10] [ 9  5 16 10 40  6 34  3  1 31 19 10  1  5 13 13 16  1  8  2  1 10  2 30\n",
      "  3  8  7 10  1  9  1 10  9  2 10  1  7 21  6  4  2 10 24 10  2  9  8  4\n",
      "  1 20 13  9  5  2  5  7 20 15 32 12  6  5 13  6]\n",
      "test acc  tf.Tensor(0.21875, shape=(), dtype=float32)\n",
      "epoch test acc  tf.Tensor(0.17260742, shape=(), dtype=float32)\n",
      "test acc top5 tf.Tensor(0.65625, shape=(), dtype=float32)\n",
      "epoch test acc top5  tf.Tensor(0.5058594, shape=(), dtype=float32)\n"
     ]
    },
    {
     "name": "stderr",
     "output_type": "stream",
     "text": [
      "\r",
      "130it [00:06, 18.83it/s]"
     ]
    },
    {
     "name": "stdout",
     "output_type": "stream",
     "text": [
      "[ 2 10  3 10  3  3 10  9  2 10  7  5  9 14 10  3 10 10  9 10  9  2 10 10\n",
      " 10 10 10  7 10 10 10 11  9 11  9 10  2  9 10 14  3  2  3  9 10  5  9 10\n",
      "  5  9 10 14 11  9 10  9  9  2 10 10 10 11 10 10] [ 3  4 17  4 22  6  5  3  2  4 21  5  9 23 16 40 10 22 18  4 10 28  8  1\n",
      " 42 16  4  6  9  5  5 11  4  3  1  7  2  5  5  3  4 26 17  7 19  5 18  5\n",
      " 10 12 29  6 11 20 12  7 28 27 15  4  7 11  8  6]\n",
      "test acc  tf.Tensor(0.140625, shape=(), dtype=float32)\n",
      "epoch test acc  tf.Tensor(0.1723595, shape=(), dtype=float32)\n",
      "test acc top5 tf.Tensor(0.484375, shape=(), dtype=float32)\n",
      "epoch test acc top5  tf.Tensor(0.50569284, shape=(), dtype=float32)\n",
      "[11  3 10 10 10  3 11  9 10 10 10  3 10  2 10 11  3  2  5  2  7  2 10  7\n",
      " 10 10 10 10 10 10  5 10 10 10  7 10  9  9  7  9  2 14 10 10 10 10  2  2\n",
      " 10  9 10 11 10 10  9  9  3 14 10 11 10 10 10 14] [14 34 18 10  5  6 11 10 29  9 10 38 16 26  1 11  3 28  8  2 15 32  7  1\n",
      " 10 16  4  9  7  4  5 19  1  4  7 16  4 18  7 18 12 17 10  3 10  1  2  2\n",
      " 36  7 10 17  9  6 20 19 27  4  8 14  8  8 24  7]\n",
      "test acc  tf.Tensor(0.234375, shape=(), dtype=float32)\n",
      "epoch test acc  tf.Tensor(0.17283654, shape=(), dtype=float32)\n",
      "test acc top5 tf.Tensor(0.59375, shape=(), dtype=float32)\n",
      "epoch test acc top5  tf.Tensor(0.5063702, shape=(), dtype=float32)\n",
      "[10 10  9 10 11 10  9  3 10 10 11 11  5  7 10 10 11 10 10 10  7 10 14  9\n",
      " 11 10 11 10 10  2 10 10 10  9 10  2 10 10 10 10  9 14 10  9  5 10  9 10\n",
      " 10  9  9 10 10  5 10 14  9  3 10  9 10  2  2 25] [16  7  4 10 11 20  9 31 37 29 14  2  5 13  6  3  3  5 13 38 10  4  3  8\n",
      "  3 13 25  6  9  2  5 39  6 10  1  2  4  4 28  3 15 17  1  1  5 36  6 47\n",
      " 25 10 23  6 24  5  5 17 18  3  5 28 21  2  2 25]\n"
     ]
    },
    {
     "name": "stderr",
     "output_type": "stream",
     "text": [
      "\r",
      "132it [00:07, 18.81it/s]"
     ]
    },
    {
     "name": "stdout",
     "output_type": "stream",
     "text": [
      "test acc  tf.Tensor(0.1875, shape=(), dtype=float32)\n",
      "epoch test acc  tf.Tensor(0.17294848, shape=(), dtype=float32)\n",
      "test acc top5 tf.Tensor(0.4375, shape=(), dtype=float32)\n",
      "epoch test acc top5  tf.Tensor(0.5058445, shape=(), dtype=float32)\n",
      "[10 10  7  9 14 11 10  2  9 14 14 10  2 14  2  9 14  9  2  3 10  9 10 10\n",
      "  9  9  3  9 10 10 10 10  9 10 10  2  7 14 10  2 10 10 11  9  9 10 10 10\n",
      " 10  9  9 10 10 11  9 10 10  9  9 10 11  3 10  9] [16  4 39  9 14  2 10  3  9 40  3 15  2  3 46 12  7  1  1 10  6  1  5  4\n",
      "  1  4  3 19  1 20 28 10 20 12 21  1 13 25 13 26  6 10  3  4  8  4  9  4\n",
      "  1  7 30 15 29 46 28 10  7  5  6 12  3  4  6  8]\n",
      "test acc  tf.Tensor(0.140625, shape=(), dtype=float32)\n",
      "epoch test acc  tf.Tensor(0.1727036, shape=(), dtype=float32)\n",
      "test acc top5 tf.Tensor(0.390625, shape=(), dtype=float32)\n",
      "epoch test acc top5  tf.Tensor(0.50497156, shape=(), dtype=float32)\n"
     ]
    },
    {
     "name": "stderr",
     "output_type": "stream",
     "text": [
      "\r",
      "134it [00:07, 18.75it/s]"
     ]
    },
    {
     "name": "stdout",
     "output_type": "stream",
     "text": [
      "[10 10  2 10 11 10  3 10  9 10  9  9  9  3  9  9  9  9  2 10 10 10  9 10\n",
      " 10 14  3  9 14 11 10  9 10 10  9  7  9  9 11 10 10  9 10 10  2 10 14 10\n",
      " 10  9  9 10  2  2  9 10  7 11 10 10  9 11  9 10] [ 5 19 35  9 40  5 17 13  1 38  9 10 10 27 10 10 16 20  2 10  4  8  4  8\n",
      "  8 14 15  1 36 11  5  4 10 29 10 45  7 47 14  1  5 33  5  7  3  8 20 15\n",
      "  3  1 28 29  2  2 39  6 13  3  1  9 30 11  9 20]\n",
      "test acc  tf.Tensor(0.15625, shape=(), dtype=float32)\n",
      "epoch test acc  tf.Tensor(0.17257988, shape=(), dtype=float32)\n",
      "test acc top5 tf.Tensor(0.59375, shape=(), dtype=float32)\n",
      "epoch test acc top5  tf.Tensor(0.5056391, shape=(), dtype=float32)\n",
      "[ 9 10  2  3  9  2 14  2 10  9 11 14 10 14  9  2  5  5  9  9  3  2  9  9\n",
      " 14  9 10 10 11 10  9  9 10  9 10 11 11  2 10 14 10  7 10 10  9  9  5  2\n",
      " 10 11  2  3  9  5 10 10  9  3 11  7 10 10  2  3] [ 1 12 27 17  6 35  3  2 38  2  2 15 18 15  1  3  1 13 19 16 18  2 43 19\n",
      "  3  7  5  1  2  8 18  6 41 10  5  3  3  3  9 26 29  4  9  6 12 13  5 14\n",
      "  1 11 32 31 10 10  6 41 12  4 11  6  1 19 26 14]\n",
      "test acc  tf.Tensor(0.078125, shape=(), dtype=float32)\n",
      "epoch test acc  tf.Tensor(0.171875, shape=(), dtype=float32)\n",
      "test acc top5 tf.Tensor(0.484375, shape=(), dtype=float32)\n",
      "epoch test acc top5  tf.Tensor(0.5054804, shape=(), dtype=float32)\n",
      "[ 3 10 10  2  9  2  9 10 10  2  3  9  9 10  2  9  3 10 10 10 10  5 14 10\n",
      " 10  2  9  9 10  9  2 10 10 10  2 10 10  5  2  9 10  2  9  2  9  9  9 10\n",
      " 10  2  9 11  9  3 10  2  9 10 10 11 10  9 11 11] [ 3  9 30  2  5 16  7  6  8  2  7 21 10 13  9  8 15 10 30  6  1 16  3 10\n",
      "  4 14 18 21 24  8  9 10  7  9  9  5 21  4  7  1  7  2 20  2 20  7 10  6\n",
      "  5 12  9 25 13 31  1  2 16  1 45  3 10  9 14  3]\n"
     ]
    },
    {
     "name": "stderr",
     "output_type": "stream",
     "text": [
      "\r",
      "136it [00:07, 18.75it/s]"
     ]
    },
    {
     "name": "stdout",
     "output_type": "stream",
     "text": [
      "test acc  tf.Tensor(0.1875, shape=(), dtype=float32)\n",
      "epoch test acc  tf.Tensor(0.17199074, shape=(), dtype=float32)\n",
      "test acc top5 tf.Tensor(0.53125, shape=(), dtype=float32)\n",
      "epoch test acc top5  tf.Tensor(0.5056713, shape=(), dtype=float32)\n",
      "[10 10  3 10 10 11  9  9  9 10 10  7 10  2 10 10 10  2 10 14  2 10  3 10\n",
      " 10  2  2  2 10  9  5 14 10 10 10 10 14  2 10 10  2 10  9 25  9  2  3  9\n",
      " 10 14 11 10  5 14  2  2 10  3  9 10 10  8 11 10] [ 8  4 17  8 29  9  9  4 10  1  1 29  9 20 29 19  6 20  1 23  2  6 27 19\n",
      "  5  2  2  2 19 10 22 30  8  8 38  7 14  2  1  8  2 10  7 25 37  2 14 13\n",
      " 12  3  2  7 17  3 14  2  4  3 17  8  9  7  2 18]\n",
      "test acc  tf.Tensor(0.203125, shape=(), dtype=float32)\n",
      "epoch test acc  tf.Tensor(0.17221966, shape=(), dtype=float32)\n",
      "test acc top5 tf.Tensor(0.671875, shape=(), dtype=float32)\n",
      "epoch test acc top5  tf.Tensor(0.5068934, shape=(), dtype=float32)\n"
     ]
    },
    {
     "name": "stderr",
     "output_type": "stream",
     "text": [
      "\r",
      "138it [00:07, 18.82it/s]"
     ]
    },
    {
     "name": "stdout",
     "output_type": "stream",
     "text": [
      "[10 10  9  2 10  2  3  2  9  9  2  3 10  9 11 10  9  9 11  3 10  2 10 11\n",
      " 10 10  3 10 10  2 10  5 10 10 10  2  9 11 14 14 10  9 14 10  2 10  5 11\n",
      "  2  3  9  9 10 14  9  2 10 10 10  9  3 10 10  9] [ 6  9 19 35  9 18 35 20 12 19 27 26  7 24 11 12  9  5 11  9  9  2  9  2\n",
      "  4  6  3  8  5  2 18  5  4  1 10  2  4  3 41  3 30 33 26  7  2  7  0  3\n",
      "  2  6 37 30 22 27 30 20  0 21 22  4 17 25 44 19]\n",
      "test acc  tf.Tensor(0.171875, shape=(), dtype=float32)\n",
      "epoch test acc  tf.Tensor(0.17221716, shape=(), dtype=float32)\n",
      "test acc top5 tf.Tensor(0.4375, shape=(), dtype=float32)\n",
      "epoch test acc top5  tf.Tensor(0.5063869, shape=(), dtype=float32)\n",
      "[ 9  2 10  9  9 10  5 14 10  2 10 11  3  3 11 10  9 10 10  9  9 10 10 10\n",
      " 10 11  2 10  9 10  2  2  9  9  5  9  9  9 10  3 10  9  7 10  9  9  3  9\n",
      " 14 11  5  9 10  2 10 10  9  9  7 10  7 10 14 10] [10  3  8 38  8 16 10 17  3  2 10  2  3 15  3  8 23  9  6  5 15  6 24 13\n",
      "  7 11 17  9 10  6 48 38  1  4  5 19  9  7  1 37  7 12  6  4  9  8 28 39\n",
      "  8  2  0  9  5  2  5 18  1  7  7  6  6  7 17  1]\n",
      "test acc  tf.Tensor(0.15625, shape=(), dtype=float32)\n",
      "epoch test acc  tf.Tensor(0.17210145, shape=(), dtype=float32)\n",
      "test acc top5 tf.Tensor(0.53125, shape=(), dtype=float32)\n",
      "epoch test acc top5  tf.Tensor(0.506567, shape=(), dtype=float32)\n"
     ]
    },
    {
     "name": "stderr",
     "output_type": "stream",
     "text": [
      "\r",
      "140it [00:07, 18.79it/s]"
     ]
    },
    {
     "name": "stdout",
     "output_type": "stream",
     "text": [
      "[ 3  2 10  9  5 14  9 11  9  7 10  2  2 10 10  9 14 11 10  5 14 10 10  9\n",
      " 10  2 10  9 10  9  5  2  2  3  9 10  9  9 14 10 10 10  2  2  9 11  9  9\n",
      "  2  2  9 10  9 10 10  9 10 11  9  2  7 10  9 10] [ 3 26  6  9 29 15 19 14 38 39  7  4  2  1  8  4 32  2 21 13 25  9  4  6\n",
      "  9  3  7  7  8  9  5 25  2  3  7  7 20  9 36 15  5 15  2  3  5  3 15  4\n",
      "  2  2  7  5  4  6 29  3  4  2 12  3  2  6  1 21]\n",
      "test acc  tf.Tensor(0.171875, shape=(), dtype=float32)\n",
      "epoch test acc  tf.Tensor(0.17209981, shape=(), dtype=float32)\n",
      "test acc top5 tf.Tensor(0.546875, shape=(), dtype=float32)\n",
      "epoch test acc top5  tf.Tensor(0.50685704, shape=(), dtype=float32)\n",
      "[10 10  2  9  3  9  9 10 10 10 10 10 11 10 10 14 14 11  9  5 10  2  5 10\n",
      "  6  9  9  3 14  5  3  5  9  2  9  2  7  2 10 10 10  3 14  9  5 10 10 11\n",
      "  2  5  9  9 10  3 10 10 14  3  9 10  9  3  2 10] [ 4  4 32 38 27  9  7  6 12  9 22 20  3  6 21  3  3 20  8 39  1  2 36  9\n",
      " 17 42 10 15 40  5  1  5 16 46 10  2 20  2  8  9 16 48 42  5  5 18  6 46\n",
      " 14  5  3  7 22  3 13 10 14  1 38 16 12  8 20 10]\n",
      "test acc  tf.Tensor(0.1875, shape=(), dtype=float32)\n",
      "epoch test acc  tf.Tensor(0.17220981, shape=(), dtype=float32)\n",
      "test acc top5 tf.Tensor(0.421875, shape=(), dtype=float32)\n",
      "epoch test acc top5  tf.Tensor(0.50625, shape=(), dtype=float32)\n",
      "[ 2 14  9 10  5  7 10 10  5 10 10 10  3  2  9 14  9  9  3 10  2 10 10 14\n",
      "  3  2  9  9 10 10  9  9  9  2  2  9 11 10 10 10 10  5  9  2 10  9  2 11\n",
      "  9 10 10  9  9 11 11  3 10  9 11  2 10 10  9 10] [ 2 25  9 21 15  6 13 22 10 39  7 19 27  2  1 17  4  5  1  8 20 13  5 33\n",
      " 20  2  1  1 10 12  7 30  9 20  3  7 40  9  9  0 10  5  8  2 22 20  2  3\n",
      " 39 10  5  6 23 40 14  7 21  1  2  2  6 18 18  5]\n"
     ]
    },
    {
     "name": "stderr",
     "output_type": "stream",
     "text": [
      "\r",
      "142it [00:07, 18.77it/s]"
     ]
    },
    {
     "name": "stdout",
     "output_type": "stream",
     "text": [
      "test acc  tf.Tensor(0.1875, shape=(), dtype=float32)\n",
      "epoch test acc  tf.Tensor(0.17231826, shape=(), dtype=float32)\n",
      "test acc top5 tf.Tensor(0.5625, shape=(), dtype=float32)\n",
      "epoch test acc top5  tf.Tensor(0.50664896, shape=(), dtype=float32)\n",
      "[11 14  2 11 10 10  9  9  9  7 11  9 10 10  3 10 10  9  3 10  5 14 14 10\n",
      " 10 10 10 10  2 10  3  3 10  9 11  2  2  2 11 11  9  9  9  9 10  3 10 10\n",
      "  9  2 10  2 10 10 10 10  9 10 10 14  5  9  3 10] [20  9 27  3 28 34 29 23 31 28  3 34  1 13  6  5  4 16 27 10  5  3  3  5\n",
      " 12 10 13 18 32  1 14 17  7  8 11  6 32 35 11  2 20 17  5 16 16 17  1  4\n",
      " 14 40  6  2 10  1 10  9  9  9  8 14  5  8  3  8]\n",
      "test acc  tf.Tensor(0.1875, shape=(), dtype=float32)\n",
      "epoch test acc  tf.Tensor(0.17242518, shape=(), dtype=float32)\n",
      "test acc top5 tf.Tensor(0.4375, shape=(), dtype=float32)\n",
      "epoch test acc top5  tf.Tensor(0.506162, shape=(), dtype=float32)\n"
     ]
    },
    {
     "name": "stderr",
     "output_type": "stream",
     "text": [
      "\r",
      "144it [00:07, 18.87it/s]"
     ]
    },
    {
     "name": "stdout",
     "output_type": "stream",
     "text": [
      "[11 10 10  3 11  3  9  9 10 10 10  2 10  5  9  9 10 10  9 10  9  9 10  9\n",
      " 10 10 10  2  9 10  9 11  9  9 10 10 10  9 11  9  9  9 10  2 10 10  9 10\n",
      " 10  7 10 10 10  2 10 10 10 10  2  9 11  2  9  3] [48  1 24  3  3  7 17 44 17  6  2  5  8 19 12  4 15  6  7  9  9  8 18  1\n",
      "  7  1 39  2 28 22 16 20  4  9  6 15 15  9  3 41 30 10  9  2 10 13 31 30\n",
      "  1 30  5 38 10  2 39 16 18  7  9 11 11 26 22 15]\n",
      "test acc  tf.Tensor(0.15625, shape=(), dtype=float32)\n",
      "epoch test acc  tf.Tensor(0.17231207, shape=(), dtype=float32)\n",
      "test acc top5 tf.Tensor(0.375, shape=(), dtype=float32)\n",
      "epoch test acc top5  tf.Tensor(0.50524473, shape=(), dtype=float32)\n",
      "[10  9  3 11  5 10 10 11 10 10  9  9  9 10  9 10 10 10  9  9 11 10  2 10\n",
      " 10 10 10  2 10  2 10  9 14  3  5  9  9 10 11  9 10  2 10 11  3  9 10  9\n",
      " 14 10  9  2 10 11  2 14  9 10  9  2  9 14 10  9] [16  8  1  2  5 13  5  3  8 26  4 16  1 28  4 10 24  4 13 16  2 10 14 10\n",
      "  7  6  4 26 10 14  4  5 17 17 44  7  4 33  3 10 10  2  1  3  3 28  8 18\n",
      " 25 15  8  2 24 40 29 18  9 10  9 20  7  3  8  6]\n",
      "test acc  tf.Tensor(0.1875, shape=(), dtype=float32)\n",
      "epoch test acc  tf.Tensor(0.17241754, shape=(), dtype=float32)\n",
      "test acc top5 tf.Tensor(0.515625, shape=(), dtype=float32)\n",
      "epoch test acc top5  tf.Tensor(0.50531685, shape=(), dtype=float32)\n",
      "[ 9 10 10  3 10 10 10  9 10  2  3  3 10 10  3 10 10 11 10 10  3  2 10  9\n",
      "  3  5 14 10 10  2  9  2 10  9  2  9 11  9 10 14 10  3 10 10  9 11 10 10\n",
      "  9 10  5 10  5 10  7  5 11  9 10 10 10 10  9  9] [ 6  4  6  1 10 12 10  7  7  2 14 27 19 10 10 28  5 48  1  4  5 14  5  3\n",
      "  3 24  3  7  6 26 12  2  9 33  3  4 40  9  1 11  8 17  5 10 18  3 19  9\n",
      "  1 17  5  7  5 19 15  5  3 10 22  9 29  6  9 10]\n"
     ]
    },
    {
     "name": "stderr",
     "output_type": "stream",
     "text": [
      "\r",
      "146it [00:07, 18.78it/s]"
     ]
    },
    {
     "name": "stdout",
     "output_type": "stream",
     "text": [
      "test acc  tf.Tensor(0.1875, shape=(), dtype=float32)\n",
      "epoch test acc  tf.Tensor(0.17252155, shape=(), dtype=float32)\n",
      "test acc top5 tf.Tensor(0.453125, shape=(), dtype=float32)\n",
      "epoch test acc top5  tf.Tensor(0.5049569, shape=(), dtype=float32)\n",
      "[11 10  2 10 10  9  7  9  9 10  3 10  2  9  9 10  2 10  2 10 10  7 10  2\n",
      " 11 10 10  3 10 14 10 10  2  9  2  7 10 10  3 10  9  9 11  9 10 10  9 11\n",
      " 11 10 10 10 14  3 10 10 10 11 10  9  2 10  3  2] [ 3  5  2 16 13  8  9 19  9  7  8  4 23  4 13  6 27  9  2 12  9  6 10 20\n",
      " 11 24  3 18 43 43  3  4  5 10  2 25  1  6  6  5 37 10 11  8 13  1 41 11\n",
      " 14 22 21  8  1 22  5 12 13  3 12  8  3 15  3 42]\n",
      "test acc  tf.Tensor(0.140625, shape=(), dtype=float32)\n",
      "epoch test acc  tf.Tensor(0.17230308, shape=(), dtype=float32)\n",
      "test acc top5 tf.Tensor(0.359375, shape=(), dtype=float32)\n",
      "epoch test acc top5  tf.Tensor(0.5039598, shape=(), dtype=float32)\n"
     ]
    },
    {
     "name": "stderr",
     "output_type": "stream",
     "text": [
      "147it [00:08, 16.87it/s]\n"
     ]
    },
    {
     "name": "stdout",
     "output_type": "stream",
     "text": [
      "[ 2 10  3 10 10  2  9  3 11 10 10 14 10 10  9  5  9 10  2 10 10  7  9  3\n",
      "  9  9 10  2 10  2  9 10  3 11  9  2 10  2 14 10  7 10  5  9] [ 2  6 16  1 38  3  6  4  2  6 18 27 10  7 12  5  8 16  3 13 13  6 10  6\n",
      "  1 28  8 33  7  2 36  6  4 14  5  3  1  2  3 33  4 13 10  1]\n",
      "test acc  tf.Tensor(0.11363637, shape=(), dtype=float32)\n",
      "epoch test acc  tf.Tensor(0.17202812, shape=(), dtype=float32)\n",
      "test acc top5 tf.Tensor(0.5, shape=(), dtype=float32)\n",
      "epoch test acc top5  tf.Tensor(0.5039412, shape=(), dtype=float32)\n",
      "Epoch: 2\n",
      "Training: \n"
     ]
    },
    {
     "name": "stderr",
     "output_type": "stream",
     "text": [
      "146it [00:18,  8.02it/s]\n"
     ]
    },
    {
     "name": "stdout",
     "output_type": "stream",
     "text": [
      "Testing: \n"
     ]
    },
    {
     "name": "stderr",
     "output_type": "stream",
     "text": [
      "2it [00:00, 15.19it/s]"
     ]
    },
    {
     "name": "stdout",
     "output_type": "stream",
     "text": [
      "[ 5  9 13 13  8  2 11  8  4 13  1  1  8  5  8  3 10 26  1  8  1  1  8 25\n",
      "  1 12 13  1  6 13  5  3  8  3  6  9  8  1  8  9  7  5  3 13  1  1  1  3\n",
      "  1  3  1  9  7  1 13  9  1  3 11  9  8 17  3  5] [13 19 25 27  4  2 40  4  9  6  4  6 18  5  8 20 27 32  1 13  1 18  8 17\n",
      "  1 12  3  5  7 22  5  3  8  3  5  8  6 34 38  7  4 15  3  9  7  8  7 40\n",
      "  9 14 24  4  7  4  5 10  9 32  3  1 44 25 35  5]\n",
      "test acc  tf.Tensor(0.234375, shape=(), dtype=float32)\n",
      "epoch test acc  tf.Tensor(0.234375, shape=(), dtype=float32)\n",
      "test acc top5 tf.Tensor(0.59375, shape=(), dtype=float32)\n",
      "epoch test acc top5  tf.Tensor(0.59375, shape=(), dtype=float32)\n",
      "[ 3  8 20  5  8  6  3  3  2  5  7  9  1 17  2  2 26  8  1  1  1  1  1  8\n",
      " 25  7  1  8  1  1  6  1  1  6  9  1  3  9 11  8  1  6  1 26  3  3  8  8\n",
      "  2  1  8  3  1  1  1 13  7  1  1 17  3  3 23  9] [46 18  7  5 12  5 32  3  2 30 16  7  4  8  2  2 14 10  7 23 10 10 19  3\n",
      " 25  7  7  8  5  9 28  7 19  5  4  4  3 12 11  6 10  6  1 26 14 26  4  6\n",
      "  2 28  8 14  5 15 29 15  4  5 10 31  2 20 37  7]\n",
      "test acc  tf.Tensor(0.234375, shape=(), dtype=float32)\n",
      "epoch test acc  tf.Tensor(0.234375, shape=(), dtype=float32)\n",
      "test acc top5 tf.Tensor(0.609375, shape=(), dtype=float32)\n",
      "epoch test acc top5  tf.Tensor(0.6015625, shape=(), dtype=float32)\n",
      "[ 8  1  3 25  8  3  3  1  9  1  5  1  9 12  9  3  9  1  1  9  9  2  1  1\n",
      " 23  1  1  6  6  6  3  1  9 23  4  1  2  1  1  8  1  3  8  8  5  8  1 17\n",
      " 13  5  1  9  8  3 25  8  9  3  8  9  2  6  3 20] [22  7  3 14  8 11 11 10 10  6  5  5 30 12 12 48 24 38 22 39  7  2  1 13\n",
      " 20  9 19  3 36  6  4  6 43 30 12  6  2  8 10 45  5  9  1  6  5 10  7 17\n",
      " 17  5 28 16  6  2 17 28 12 36  8  9  2  6 34  1]\n",
      "test acc  tf.Tensor(0.234375, shape=(), dtype=float32)\n",
      "epoch test acc  tf.Tensor(0.234375, shape=(), dtype=float32)\n",
      "test acc top5 tf.Tensor(0.625, shape=(), dtype=float32)\n",
      "epoch test acc top5  tf.Tensor(0.609375, shape=(), dtype=float32)\n"
     ]
    },
    {
     "name": "stderr",
     "output_type": "stream",
     "text": [
      "\r",
      "4it [00:00, 17.36it/s]"
     ]
    },
    {
     "name": "stdout",
     "output_type": "stream",
     "text": [
      "[ 1  8  1  8  8  1  1  8  1  5  6  1 12  8  1  3  1 10  8 12  8  1  5  3\n",
      "  6 12  1  5  9  1  3  3  1  3  1 17  8  6 17  7  8  4  8  6  8  2 20  4\n",
      "  3  2  1  9  1  1  1  6  9  1  1  1  6  1  9  1] [ 7  7 20  4 13  4 13  8 23  5 15  6  9  9 19  2  7  1 24  9  0 13 10  2\n",
      " 19 30 39  5 37 28 14  3 19  3  8 26  1  3  9 23  4  5 28 10 47  2 12 28\n",
      " 40  2  6  7 20 10  4  7  7 10  1  7  6 15 23  6]\n",
      "test acc  tf.Tensor(0.140625, shape=(), dtype=float32)\n",
      "epoch test acc  tf.Tensor(0.2109375, shape=(), dtype=float32)\n",
      "test acc top5 tf.Tensor(0.578125, shape=(), dtype=float32)\n",
      "epoch test acc top5  tf.Tensor(0.6015625, shape=(), dtype=float32)\n"
     ]
    },
    {
     "name": "stderr",
     "output_type": "stream",
     "text": [
      "\r",
      "6it [00:00, 17.67it/s]"
     ]
    },
    {
     "name": "stdout",
     "output_type": "stream",
     "text": [
      "[17  7  6  3 11  8  6  9  9 17 12  5  5 26  7  8  1  8  3  9  3  9  3  1\n",
      "  3  8  1  1 12  3 13  8  3  2  3  3  8  1 12  9 13  1  1  1 11  1  8  1\n",
      "  6  3  8  3  8  2 17  1  3 17  6  3 13  9 12  1] [25  9 37 20 11 19 18 19  7  3 22  5  8 26  7 10 10  8  3  9  3  9  8  1\n",
      "  3  8  9 29 12 32 15  8 14  2 18  6 10 13 10 34 31  1  7  4 11 13  8  4\n",
      " 15 20 10 14 10  2  4 19 40  1  3 14  5  9 22 14]\n",
      "test acc  tf.Tensor(0.3125, shape=(), dtype=float32)\n",
      "epoch test acc  tf.Tensor(0.23125, shape=(), dtype=float32)\n",
      "test acc top5 tf.Tensor(0.640625, shape=(), dtype=float32)\n",
      "epoch test acc top5  tf.Tensor(0.609375, shape=(), dtype=float32)\n",
      "[ 8  1  3 13  5  6  1  9  8  8 25  1  6  1 20  8  1  8  1  1  1  3  1  9\n",
      "  3  3  6  9  9  8  1  5  1  1  6  5 12  8  9  6 23  1  1  1  8  2  6 26\n",
      "  9 17  5  3  1  8 11  1  2  6  2  1  2  8  9  3] [22  7  3 13  5  4 16 10  7 12 42  6  1  5 20  8  7  5 15  1 19  3  6 23\n",
      " 43 15 15 27  9  5  1 10  9  4 13  5 30  8 23  6 23  7  6  7  8  2  6 26\n",
      "  9  8  5  3  6  6 11 43  2 15  2 20 20 10  4 32]\n",
      "test acc  tf.Tensor(0.359375, shape=(), dtype=float32)\n",
      "epoch test acc  tf.Tensor(0.25260416, shape=(), dtype=float32)\n",
      "test acc top5 tf.Tensor(0.65625, shape=(), dtype=float32)\n",
      "epoch test acc top5  tf.Tensor(0.6171875, shape=(), dtype=float32)\n",
      "[ 1 26 17  8  8 13  1  6  8  9  9 17 17  1 12  8  3  3  3  8  1  1  9  8\n",
      "  8  3  3  3  3 13  3  9  1  8 13  5  1 20  8  1  8  8  3 26  1  6  8 13\n",
      "  5  7  3  3  8  1  1  1  5  5  8  8  2  9  1  1] [ 5 26 25  8  8 10  4  6 10 18 19 31 13 13  1  4 14  6 14 22  4 12 23  8\n",
      "  1  2 41 14 14  5  4  1  4 10 13  5 21 20  8 28  1  1  3 26  1  7  8  5\n",
      " 36 20 17  7 41  1 20 29  5  5 10  1  2 19  1  1]\n",
      "test acc  tf.Tensor(0.296875, shape=(), dtype=float32)\n",
      "epoch test acc  tf.Tensor(0.25892857, shape=(), dtype=float32)\n",
      "test acc top5 tf.Tensor(0.71875, shape=(), dtype=float32)\n",
      "epoch test acc top5  tf.Tensor(0.6316964, shape=(), dtype=float32)\n"
     ]
    },
    {
     "name": "stderr",
     "output_type": "stream",
     "text": [
      "\r",
      "8it [00:00, 18.25it/s]"
     ]
    },
    {
     "name": "stdout",
     "output_type": "stream",
     "text": [
      "[ 1  1  1  6  6  1  3  1  8  8  8  2  3  1 20 17  8  1  6 11  9  3 17  1\n",
      "  9 26  5  8  8  3  8  8  5  3  4  9  8 17  9  1  8  3  3  8  2  8 20  8\n",
      " 17  2  1  9  1  2 13  2  8  1  1  1  6  3  3  3] [41  9  9  5  6 10 35  7 10 19 10  2 14  6 20  7  4 10  8 11 10 17  3  9\n",
      " 10 26  5  4  4 42  1  4  5 25  6  9 13 17  8 20  8  2  6  8  2  8 20  8\n",
      "  1  2  7  6  1  2 22  2  1  7  1  9 10 42 31  3]\n",
      "test acc  tf.Tensor(0.328125, shape=(), dtype=float32)\n",
      "epoch test acc  tf.Tensor(0.26757812, shape=(), dtype=float32)\n",
      "test acc top5 tf.Tensor(0.6875, shape=(), dtype=float32)\n",
      "epoch test acc top5  tf.Tensor(0.6386719, shape=(), dtype=float32)\n"
     ]
    },
    {
     "name": "stderr",
     "output_type": "stream",
     "text": [
      "\r",
      "10it [00:00, 18.56it/s]"
     ]
    },
    {
     "name": "stdout",
     "output_type": "stream",
     "text": [
      "[ 6  1  1  5  1  9  2  1  8  1 26  8 13  1  6  8  1  6 11 13  8  9 11  9\n",
      " 13  8  1 13  6  4  1  1  9  9  1 13  1 13  1  5  3  3  2  1  1  8  1  5\n",
      "  8  6  1  1  1  8  3 13  1  9  8  1  3  1  3  8] [33  3  7  2 24 10  2  4 21  6 26  8  1  7  0  6  1  4 11 17  8  9 46 39\n",
      "  7  0 20  6  4 12  4 25 12  4  5  6  9  4  5 39 15 40  2  4  7  4 30  5\n",
      " 47 19 10 10  9  9 35 18 24  4 12 19  2  4 14 38]\n",
      "test acc  tf.Tensor(0.140625, shape=(), dtype=float32)\n",
      "epoch test acc  tf.Tensor(0.2534722, shape=(), dtype=float32)\n",
      "test acc top5 tf.Tensor(0.484375, shape=(), dtype=float32)\n",
      "epoch test acc top5  tf.Tensor(0.6215278, shape=(), dtype=float32)\n",
      "[ 8  9  3  6  7  1  3  5  2 17  1 13  2  1  9  1  1  1  3  1  4 13  6 25\n",
      "  6  8  3  3  1  8  6 17  3  8  2  1  1  9  3  8  5  9  1  2  1  6  9  1\n",
      " 26  8  6  5  1  8  3  8 25  1  6  1 17  7  1  8] [18  9  3  1 27 22 14 45  2 17 15 13  2  8 30  1  4 10  3  8 31  5 10 25\n",
      " 16  6 23  3 12 19 18  3 43 30  2 15  1  1 37  4 13 47  7  2  1  5 30 34\n",
      " 31 12  5 30 12  8 26  1 15 13 10 21  7  4  4  8]\n",
      "test acc  tf.Tensor(0.25, shape=(), dtype=float32)\n",
      "epoch test acc  tf.Tensor(0.253125, shape=(), dtype=float32)\n",
      "test acc top5 tf.Tensor(0.53125, shape=(), dtype=float32)\n",
      "epoch test acc top5  tf.Tensor(0.6125, shape=(), dtype=float32)\n",
      "[ 1  3  6  1  3  1  1  3  8 11  9 17 13  1  1  1  3  3  1  6  1 17  1  3\n",
      "  3  9  8  9  8  2  9 17  3  1  3  1  5  1 26  3  7  9  6  1  8  9  1  3\n",
      "  9  1 17  8  3  3  1  9  5 25  1  7  3  7  1  9] [16  7  6 19 11  4  6 23 18 11 30 17  5  6 37 29 14 15  6  2  5  4 12 20\n",
      "  3 18 13  1 21  2  9 10  2 16  2 10  5 10 26  3  1 30  6 18  6  7  5  9\n",
      "  9 10 17 13  2  3 43 19  9 17 28  3 32 18 33 37]\n",
      "test acc  tf.Tensor(0.203125, shape=(), dtype=float32)\n",
      "epoch test acc  tf.Tensor(0.24857955, shape=(), dtype=float32)\n",
      "test acc top5 tf.Tensor(0.53125, shape=(), dtype=float32)\n",
      "epoch test acc top5  tf.Tensor(0.6051136, shape=(), dtype=float32)\n"
     ]
    },
    {
     "name": "stderr",
     "output_type": "stream",
     "text": [
      "\r",
      "12it [00:00, 18.64it/s]"
     ]
    },
    {
     "name": "stdout",
     "output_type": "stream",
     "text": [
      "[ 8  8  9  4  9 17  1  8  9  9  1  1 10 26  1  8  1  8  1  5 17  5 11 11\n",
      "  1  8  1  1 26  9 17  8 11 17  3  8  9  8  2  6  1  1 13  8 12  1  1  1\n",
      "  8  9  9  2  8  8  5  1  8  1  9 20  1  8  9  3] [14 13 16 27 10  1 10 13 24  9 19 19  9 26  9 10  4 13  5  5 17 39 11 11\n",
      " 45  8  9 23 26  9 17  6 11  3  3 10  8  8  2 29 16 10  5 22 22 24  9  5\n",
      "  5 10 21  2 30 38  1  5  8 14 12 20 21  8 34 40]\n",
      "test acc  tf.Tensor(0.28125, shape=(), dtype=float32)\n",
      "epoch test acc  tf.Tensor(0.2513021, shape=(), dtype=float32)\n",
      "test acc top5 tf.Tensor(0.484375, shape=(), dtype=float32)\n",
      "epoch test acc top5  tf.Tensor(0.59505206, shape=(), dtype=float32)\n"
     ]
    },
    {
     "name": "stderr",
     "output_type": "stream",
     "text": [
      "\r",
      "14it [00:00, 18.62it/s]"
     ]
    },
    {
     "name": "stdout",
     "output_type": "stream",
     "text": [
      "[ 3  4  1  8  1 11  3  2 13  2  5  1 11  8  5  6  5 13  3  1  1 11  1  1\n",
      "  2  3  5  3  1  1  3  9  3  1 20  1  8  5  9  3  3 13  5  3  8  1  1  8\n",
      "  6  2  3 26 17  8  8  8  1  9  2  8  8 13 11 12] [32 20  6  4  8 11  7  2  7  2  5 21 11 19  5 22 14  7 40  9 33  3  5 21\n",
      "  2 15  5 14  8 16 14  9  3  7 23  1  8 13 10  3 11 13  5  3  8  9  6  6\n",
      " 13  2  6 26 10  7  6  1 29  9  2  4  7 12 11  9]\n",
      "test acc  tf.Tensor(0.34375, shape=(), dtype=float32)\n",
      "epoch test acc  tf.Tensor(0.25841346, shape=(), dtype=float32)\n",
      "test acc top5 tf.Tensor(0.703125, shape=(), dtype=float32)\n",
      "epoch test acc top5  tf.Tensor(0.60336536, shape=(), dtype=float32)\n",
      "[ 8  9  2  3  1  1  9  8 25  3 20  2  5  1  6  3  8 13  3  1 17  8  1  3\n",
      " 13 26  5 13  1  7 11  1 17  1 13  8  1  7  3  5 27  3  1 13  9  8  3 13\n",
      "  1  6 11  8  3  1  1  5  1  6  3  1 10  8  8  3] [ 6  4  2  6 15  9  8  8 25 32 37  2  5 16 29  3  4 18 36  8 17 10  1 12\n",
      " 36 20  4  1 41 20 11  5 42 39  0  6  7 28 27  5 31  9  9 13  8 10 42  3\n",
      "  8  6  3 10  3  9 10  5  1 10  3  7  8 18 15 40]\n",
      "test acc  tf.Tensor(0.25, shape=(), dtype=float32)\n",
      "epoch test acc  tf.Tensor(0.2578125, shape=(), dtype=float32)\n",
      "test acc top5 tf.Tensor(0.59375, shape=(), dtype=float32)\n",
      "epoch test acc top5  tf.Tensor(0.6026786, shape=(), dtype=float32)\n",
      "[ 1  1  1  8 26  1  3  9  5 12 26  1  8  1  9  5  1  1  1 17 17  8  1  6\n",
      "  3 11  1  8  6  6  9 20  3  3  2 17  3  1  1  1  5  8  8  9  9  8  8  5\n",
      "  2  3  5  4 20  1 20  3  8  5  2  1  8  8  1 25] [ 4 16 16  8  3  4  3 19 20 47 26 18  8  7 12  8 28 10 10  9 11  1  4  4\n",
      " 13 11 18  8  4  6  9 20  2 17 42 31 35  7 16  2  5  1  1  7 18  8 30  5\n",
      "  2  3  5  7 12  5 33 42  8 34  2  5  8  6  6 25]\n",
      "test acc  tf.Tensor(0.296875, shape=(), dtype=float32)\n",
      "epoch test acc  tf.Tensor(0.26041666, shape=(), dtype=float32)\n",
      "test acc top5 tf.Tensor(0.5625, shape=(), dtype=float32)\n",
      "epoch test acc top5  tf.Tensor(0.6, shape=(), dtype=float32)\n",
      "[ 3  4 20  7  1  1 13  1  3  7  3 10  8  1  1  8  9  3 20  5  9  6  3  1\n",
      " 17  1  1  8  3  2  7  5  9  9  1  1  1 13  5  1  2  9  1  1  8  7  6  6\n",
      "  1  1  8  9  8  1 13  5  8  2  3 11  9  8  9  8] [ 6 38  7 37  6  2  7 18 40  1 32 17  4  4 18  1 16  6 33  5  4  3 40  8\n",
      " 17 28  4  6  7  2 37 30 18  9  7  4  4  8  4  4  2 18  1  9 10 19  7 15\n",
      "  4  4  8  9  8  1  6  2  9  9 40  3  8 47 23  8]\n"
     ]
    },
    {
     "name": "stderr",
     "output_type": "stream",
     "text": [
      "\r",
      "16it [00:00, 18.61it/s]"
     ]
    },
    {
     "name": "stdout",
     "output_type": "stream",
     "text": [
      "test acc  tf.Tensor(0.171875, shape=(), dtype=float32)\n",
      "epoch test acc  tf.Tensor(0.2548828, shape=(), dtype=float32)\n",
      "test acc top5 tf.Tensor(0.59375, shape=(), dtype=float32)\n",
      "epoch test acc top5  tf.Tensor(0.5996094, shape=(), dtype=float32)\n"
     ]
    },
    {
     "name": "stderr",
     "output_type": "stream",
     "text": [
      "\r",
      "18it [00:00, 18.63it/s]"
     ]
    },
    {
     "name": "stdout",
     "output_type": "stream",
     "text": [
      "[ 5  5  3  9  2  3 12  1  9  6  3  1  1  1  3  3  1  6 17  1  3  6 11 13\n",
      "  3  8  2  1  8  1  8  1 12  1  1  3  1  2  3  2  8  9  6  6  6  8  9  1\n",
      "  1  1  8  6  8  1  9  3  3 11  2  6  8  3  8  3] [ 1 16 48 18  2  6 12  8  4  1  3 16  6 10 40 33  4 13 17 10  2  6 11 13\n",
      " 36  6  2 38  8  7  6  6  1  1  9  4  7  2 40  2 10  9  5 25  6  8  4  1\n",
      "  4  5  8  5  1  9  4  3 35 11  2  4  4 35 10  3]\n",
      "test acc  tf.Tensor(0.328125, shape=(), dtype=float32)\n",
      "epoch test acc  tf.Tensor(0.2591912, shape=(), dtype=float32)\n",
      "test acc top5 tf.Tensor(0.625, shape=(), dtype=float32)\n",
      "epoch test acc top5  tf.Tensor(0.60110295, shape=(), dtype=float32)\n",
      "[17  1  1  1  9  1  5  8  1  1 12  8  8  5  1  1  6  1  1  1  8  8 12 13\n",
      "  1  5  3 17  3  7  1  9 12  8  3 13 20  8  1  1  8  9  2  8 17  2  1  1\n",
      "  1  8 20  8  3  1 13 26 11  9  1 12 17  1  1  5] [12  8  8 22  9 31  5 21 15 13  8 10 10  5  5  7  6  0  1 18  6  4  4  5\n",
      "  6  5 15 22  3  2 22 47  1  1  7 10  1  1  4  8 22  8  2  9 17  2  9  8\n",
      "  5  1 20 13 14  6  5 26 11 30  4 12  3  7  5  5]\n",
      "test acc  tf.Tensor(0.234375, shape=(), dtype=float32)\n",
      "epoch test acc  tf.Tensor(0.2578125, shape=(), dtype=float32)\n",
      "test acc top5 tf.Tensor(0.640625, shape=(), dtype=float32)\n",
      "epoch test acc top5  tf.Tensor(0.6032986, shape=(), dtype=float32)\n",
      "[ 5  1 25  2 10  1  3 26  2 17  3  1  8  3  3  1  3  1  8  8  1  8  9  9\n",
      " 17  1  3  3 13  7 17  1  1  1  1  1 13  3 13  9  3  9  1  3  3  3  3  8\n",
      "  6  2  5  1  1  3  8  1  3  1 20  8  9  8  9 17] [ 5  6 25  2 17 16 14  3  2 17  3  1  8 14  8  1  3  6 12 22  9  8 19  1\n",
      " 36  1 27  3  2  9 15  7 16 24  6  8  7  3  6  9 26  7  6 18  9  9 36 45\n",
      "  6  2  8  6  9  4 19 38  3 10 27  9  9 10  9 10]\n",
      "test acc  tf.Tensor(0.3125, shape=(), dtype=float32)\n",
      "epoch test acc  tf.Tensor(0.26069078, shape=(), dtype=float32)\n",
      "test acc top5 tf.Tensor(0.53125, shape=(), dtype=float32)\n",
      "epoch test acc top5  tf.Tensor(0.59950656, shape=(), dtype=float32)\n"
     ]
    },
    {
     "name": "stderr",
     "output_type": "stream",
     "text": [
      "\r",
      "20it [00:01, 18.65it/s]"
     ]
    },
    {
     "name": "stdout",
     "output_type": "stream",
     "text": [
      "[ 3 12  8  5 11 20  2  1  3  1  1  8  8  3 11  3  3  1  8  6  1  7  3  1\n",
      "  6  3  4  9 13  9 28  3  8  9  2  1  2  8 17  8  1  1  1  1  1  3  7  5\n",
      "  8  9  1 20  8  6 11  8  1 17  1 17  6  3  3  2] [32  4 27  5 11  9  2  1  3  3  9  1 10 41 11 11  2  7 16  8  9  9 43  5\n",
      "  5  3  4 30  3  4 12 14  4  7  2 29  2  8  1 28 16  5  6  9  8 17  7  5\n",
      "  1 16 10 20  1  6 11 45  6 17  7 17 12  3 31  2]\n",
      "test acc  tf.Tensor(0.3125, shape=(), dtype=float32)\n",
      "epoch test acc  tf.Tensor(0.26328126, shape=(), dtype=float32)\n",
      "test acc top5 tf.Tensor(0.65625, shape=(), dtype=float32)\n",
      "epoch test acc top5  tf.Tensor(0.60234374, shape=(), dtype=float32)\n"
     ]
    },
    {
     "name": "stderr",
     "output_type": "stream",
     "text": [
      "\r",
      "22it [00:01, 18.65it/s]"
     ]
    },
    {
     "name": "stdout",
     "output_type": "stream",
     "text": [
      "[ 8  1  6 11  8  1  8  1  7  7  3  5  3  1  3  2  8  1  3  1 10  9  1  1\n",
      "  9 26  7  8  8  7  1 11  1  9 26  8 17 11  8  8  2  1 13  1 17  1  8  3\n",
      "  1  2  3  8  1  5  4  1  1 17  1  1  1  3  1  8] [10  8 40 11 10 12  8  9 15 20  3 13  3  1  2  2  5  6 11  7 12 10 15  7\n",
      "  4  3 12 22 10 16 12 11  7  9  3 28 17 11 21 33  2  8 13 28 17 16  8  2\n",
      " 20  2 35 45  5  8  7  4  7 17 34  3 10 14 12 34]\n",
      "test acc  tf.Tensor(0.25, shape=(), dtype=float32)\n",
      "epoch test acc  tf.Tensor(0.26264882, shape=(), dtype=float32)\n",
      "test acc top5 tf.Tensor(0.546875, shape=(), dtype=float32)\n",
      "epoch test acc top5  tf.Tensor(0.59970236, shape=(), dtype=float32)\n",
      "[ 8  1  1 13 25  2 20  2 11 17  5  1  9  8  2  9  3  1  3  3  8  1  6  8\n",
      "  3  3  3  1 20  1 17  1  8 11  7  1  2  2  6  8 25  3  9  8  9  6  1  3\n",
      "  3  6  8  1  3  8  9 11  1  1  9  3 17  9  5  1] [ 8  6 12  3 17  2 20  2 11  9 45  5 16 10 42  9  2 24  3  2  8  7  3 10\n",
      "  2  3  2 12 12 33 48 10  8  3 38  4  2  2  6 13 25 48  7  8  4  6 24 15\n",
      " 22 16  8  4 42 12 30 11 19  6  8  3 17  9  5  6]\n",
      "test acc  tf.Tensor(0.34375, shape=(), dtype=float32)\n",
      "epoch test acc  tf.Tensor(0.26633522, shape=(), dtype=float32)\n",
      "test acc top5 tf.Tensor(0.609375, shape=(), dtype=float32)\n",
      "epoch test acc top5  tf.Tensor(0.60014206, shape=(), dtype=float32)\n",
      "[ 2  3  1 10  2 13  8 11  9  6  1  9  3  1  5  1  5  1  8  7 11  9  8 17\n",
      "  9  3  9  5  1  8  8  3  6  8  8 11  1  8  5  3  6  8  6  5  8  9  1  1\n",
      "  3  9  7  1 13  1  1  1  8  1  2  6  2  1  2  1] [ 2 14  9 17  2 13  4 48  8  6 19  9  3 21  5  6  4  7  6  7 11 38  8 10\n",
      "  9  3  9  5 33 44 34  3  7 10  6 46 33 16 45 43 15  9  1  5  8 18 28  8\n",
      " 14  7  7 10 19  9 13  3  8 10  2 13  2 15  2  4]\n",
      "test acc  tf.Tensor(0.34375, shape=(), dtype=float32)\n",
      "epoch test acc  tf.Tensor(0.2697011, shape=(), dtype=float32)\n",
      "test acc top5 tf.Tensor(0.65625, shape=(), dtype=float32)\n",
      "epoch test acc top5  tf.Tensor(0.6025815, shape=(), dtype=float32)\n"
     ]
    },
    {
     "name": "stderr",
     "output_type": "stream",
     "text": [
      "\r",
      "24it [00:01, 18.67it/s]"
     ]
    },
    {
     "name": "stdout",
     "output_type": "stream",
     "text": [
      "[ 7  8 17 17  3  8  4  7  1  2  1  2  9  8  9  8  2  3  8  1  1  6  1  9\n",
      " 11  3  7  9 12  5  1  1  1  8 12  9  6  8 10  5  8  7  6  8  7  8  8  1\n",
      "  8  9  1  8  9 13  2  3  1  9  8  9 13 20  1 13] [ 9 18 17 17  4 22  8  7  5  2  9  2  7 10 16  1  2  3  4 19  1  7 29 24\n",
      "  3  3 21 34 27  5  1  4 19 22 28 34  6 19 17 18 10 23  4  8 37  1 10 20\n",
      "  6 23  9 13 10 17  2  3  6 10  6  7  3  9 33  1]\n",
      "test acc  tf.Tensor(0.234375, shape=(), dtype=float32)\n",
      "epoch test acc  tf.Tensor(0.26822916, shape=(), dtype=float32)\n",
      "test acc top5 tf.Tensor(0.5625, shape=(), dtype=float32)\n",
      "epoch test acc top5  tf.Tensor(0.60091144, shape=(), dtype=float32)\n"
     ]
    },
    {
     "name": "stderr",
     "output_type": "stream",
     "text": [
      "\r",
      "26it [00:01, 18.59it/s]"
     ]
    },
    {
     "name": "stdout",
     "output_type": "stream",
     "text": [
      "[ 5  9  1  6  3  2  8  3 13  8  8 25  1 13  9 11  1  3  8  2  6  6 13  1\n",
      " 25  9 26 13  7  8 13 13  6  4  7  3  8  1  1  9  8  3  3  9  6  6  1  2\n",
      "  1  8  1  8  8  9  1  1  9 11  8  3  1  2  3  1] [ 5  1  7  6 20  2 12  3  6  4 24 25 29  9 10 11  1  7 33  2  4  6  8 22\n",
      " 25  1 27  9 34 22 15 15  1  4  7  3 10  6  7  7 18 23  3 20 12  7  9  2\n",
      " 13  1  7  8 19  9  9 34 12  3  8  1 18 20  6  1]\n",
      "test acc  tf.Tensor(0.296875, shape=(), dtype=float32)\n",
      "epoch test acc  tf.Tensor(0.269375, shape=(), dtype=float32)\n",
      "test acc top5 tf.Tensor(0.609375, shape=(), dtype=float32)\n",
      "epoch test acc top5  tf.Tensor(0.60125, shape=(), dtype=float32)\n",
      "[ 1 17 11  1  8  1  1  1 13  1  8  1  3  3  1 26  7 13  2 17  1 13  1  5\n",
      "  9  8  2  3  3  8 12  8  7  5  1  8  1  8 26  1  8  7  3 25  9  8  6  6\n",
      "  2  2  8  8 17 25  3  7  1  4  9  8 20  5  1 11] [ 6  3  3 19 19 24  7 10  1  6 13  7 23 26  7  3  5 15 20  4  7 17 10  5\n",
      " 30  8  2 14  2 18 12 10  4  7  9  8  7 10 26  7 10  1  3 25  4  6 10 25\n",
      "  2  2  4  8 17 11 27  7  9 28  4 10  7 45  4 11]\n",
      "test acc  tf.Tensor(0.21875, shape=(), dtype=float32)\n",
      "epoch test acc  tf.Tensor(0.2674279, shape=(), dtype=float32)\n",
      "test acc top5 tf.Tensor(0.71875, shape=(), dtype=float32)\n",
      "epoch test acc top5  tf.Tensor(0.6057692, shape=(), dtype=float32)\n",
      "[11 13  1  1  7  7  3  8  6  1  2  2  2  3  1  1  5  6  9  8  6  2  1  1\n",
      "  1  1 10  1  8  8 26  3  1  1  6  2  1 11 13  1  1  8  2  1  3  3  5  8\n",
      "  6  5 28  3  1  3  9 13  1  1 12 13 25  1  3  9] [ 3 13  9 29  7  4 18 18  3 16  2  2  2  9  4  1 13  7 16  9  3  2 18 24\n",
      " 33 36 17  9  6  9 26  3 15 24 18  2 10 11 22  6  6  1  2  6 20  2 21 19\n",
      "  5  5 28  4 29 12  9  5  5  7 12 22 25 18  9 23]\n",
      "test acc  tf.Tensor(0.265625, shape=(), dtype=float32)\n",
      "epoch test acc  tf.Tensor(0.2673611, shape=(), dtype=float32)\n",
      "test acc top5 tf.Tensor(0.46875, shape=(), dtype=float32)\n",
      "epoch test acc top5  tf.Tensor(0.6006944, shape=(), dtype=float32)\n",
      "[13  2  6  2  6 11  8  8  1  1  8 11  8  1  1  1  1  9  7  3  3  1  1  9\n",
      "  8  9  5 13  3  3  5 26  8  6  1  1  2  8  9  1  1  3  3  2 17  8  1 25\n",
      " 11  9 13 13  8  7  1  8  1  1 20  1  5  6 12  2] [10  2  7  2  4  3 17 10 13  6  6 11 19  1 33 33  7 34  5 11  3  5  6  9\n",
      "  9 18  2  8 36  3  5 23  8 10  7  4  2 12 16 18  7  2  3  2 17 38  1 25\n",
      " 46 16  4  8  8  9  7  1  4  6 20  1  5  4  1  2]\n"
     ]
    },
    {
     "name": "stderr",
     "output_type": "stream",
     "text": [
      "\r",
      "28it [00:01, 18.63it/s]"
     ]
    },
    {
     "name": "stdout",
     "output_type": "stream",
     "text": [
      "test acc  tf.Tensor(0.3125, shape=(), dtype=float32)\n",
      "epoch test acc  tf.Tensor(0.2689732, shape=(), dtype=float32)\n",
      "test acc top5 tf.Tensor(0.65625, shape=(), dtype=float32)\n",
      "epoch test acc top5  tf.Tensor(0.6026786, shape=(), dtype=float32)\n"
     ]
    },
    {
     "name": "stderr",
     "output_type": "stream",
     "text": [
      "\r",
      "30it [00:01, 18.58it/s]"
     ]
    },
    {
     "name": "stdout",
     "output_type": "stream",
     "text": [
      "[ 2  1  1  1  8  3  3  1 17  1 11 13  3  1  1  1  8  8  8  6  9  2  3  8\n",
      "  5  6  2  9  3  5 20  8  9  9  6 12  1  3  7  3  9  1  6  8  6  8  8  9\n",
      "  1 12  8 30  1 12  2  6  1  1  2  1  5  6 11  1] [ 2  6 20  8 15 32  3  4 15  4 11 35  3 29  6 10 18  1  4  1 19  2  7 13\n",
      "  6 22  2 18  3 18  3  4 30 30  6  8  5 26 22  4 18 37 44  8  6  6 17  9\n",
      " 39 10  8  1  7  8  2  6  9 16  2  9 24  5 11 34]\n",
      "test acc  tf.Tensor(0.25, shape=(), dtype=float32)\n",
      "epoch test acc  tf.Tensor(0.26831895, shape=(), dtype=float32)\n",
      "test acc top5 tf.Tensor(0.59375, shape=(), dtype=float32)\n",
      "epoch test acc top5  tf.Tensor(0.6023707, shape=(), dtype=float32)\n",
      "[25  8  5 17  8  1 17 26  1 13  1  8  1  6  1  1  6  6  1 26  1  9 13 26\n",
      " 13 13  9  9  5  1  3  6  1  8  1  2 17 25  6  1 13  1  8  7 17  3  8 17\n",
      " 11  3 13  6  3  1  3  1  1  1 11  8 13  7  1  8] [14  1 30 15  8  4 17 46 15 15 10  4  8  6  9  5 10  4 13 26  4  9  5  3\n",
      "  7 36 34 27  5  6 14  6 15  8  4  2  9  3 21 13  9 10 21  1  3  3 19 17\n",
      " 11 27 25  6 14  1 14 13 10  8 11  8  7  7 12  4]\n",
      "test acc  tf.Tensor(0.265625, shape=(), dtype=float32)\n",
      "epoch test acc  tf.Tensor(0.26822916, shape=(), dtype=float32)\n",
      "test acc top5 tf.Tensor(0.640625, shape=(), dtype=float32)\n",
      "epoch test acc top5  tf.Tensor(0.60364586, shape=(), dtype=float32)\n",
      "[ 8  8  3  3  9  9  1  1  8  9  8  1  3  1  6  8  6  5  8  3  1  3 13  3\n",
      "  1  1  6  9  3  1  1  1  1  1 13  1  1 26 26  1  5  1  3  1  1  2  8  3\n",
      " 13  8 17  9  2  6  3  1  5  1  3  1  2 23  3  1] [10  4  3 27 16  9  5 18  8  7  1  1  7  4 17 12  3  5 10  3  6 14 14  2\n",
      "  4 28  6  7 32  9 24  6  6  4  6 10 16 26 10  4  7 22  3  1  1  2  8 17\n",
      " 17 19 13  7  2  6 14 19  5  6  3  6  2 23 14  1]\n",
      "test acc  tf.Tensor(0.3125, shape=(), dtype=float32)\n",
      "epoch test acc  tf.Tensor(0.26965725, shape=(), dtype=float32)\n",
      "test acc top5 tf.Tensor(0.703125, shape=(), dtype=float32)\n",
      "epoch test acc top5  tf.Tensor(0.60685486, shape=(), dtype=float32)\n",
      "[ 8  5  8  6 17  3  1 20  8  9 26  9 13  3  1  5  3  3  8  3  4  1  3  3\n",
      " 20  7  6  1 26  6  1  1  8  5 11  8 25  1  1  3  9  8  1  8  2  6  9  9\n",
      "  1 12  1  2 17  8  5  1  2  8 25  1  6  8 25 26] [12 18 21 10  8 16 28  7  8  8 26  7  6 34  6  5 14 14  1  3 28 31  4  2\n",
      " 20 20 15 10 26  4  7  7  1 15 11  7 17  8  8  3  7  6 16 30  2 15 39 43\n",
      " 10  1 19  2 17 22 29 36  2 12 25  4 36  1 25 26]\n"
     ]
    },
    {
     "name": "stderr",
     "output_type": "stream",
     "text": [
      "\r",
      "32it [00:01, 18.47it/s]"
     ]
    },
    {
     "name": "stdout",
     "output_type": "stream",
     "text": [
      "test acc  tf.Tensor(0.234375, shape=(), dtype=float32)\n",
      "epoch test acc  tf.Tensor(0.2685547, shape=(), dtype=float32)\n",
      "test acc top5 tf.Tensor(0.609375, shape=(), dtype=float32)\n",
      "epoch test acc top5  tf.Tensor(0.6069336, shape=(), dtype=float32)\n"
     ]
    },
    {
     "name": "stderr",
     "output_type": "stream",
     "text": [
      "\r",
      "34it [00:01, 18.48it/s]"
     ]
    },
    {
     "name": "stdout",
     "output_type": "stream",
     "text": [
      "[ 3  8 13  9  1  1  1 13  1 11 11  1  8  9  3  8  3  9  8  1  9  3 25  9\n",
      " 13 11  8  3  8  3  5  3  1  1  9 17  1  3  3 13  9  8  5  8  8  2 25  9\n",
      "  1  1  3 17  1  3  3 13  1  6  1  8  2  8  8  3] [27 29  4  7 16  5  4  5  1 14 11 28 10  1  3  8  3 15  9 20 16 27 17  7\n",
      "  5  3  1  7  8  7 10  3 22 22  8 17  7  3  3  6  9  8 10  7 15  2 25  1\n",
      "  9  5  3 29  4 46  2 21  8  1  8 47  2 22  6 26]\n",
      "test acc  tf.Tensor(0.25, shape=(), dtype=float32)\n",
      "epoch test acc  tf.Tensor(0.26799244, shape=(), dtype=float32)\n",
      "test acc top5 tf.Tensor(0.578125, shape=(), dtype=float32)\n",
      "epoch test acc top5  tf.Tensor(0.6060606, shape=(), dtype=float32)\n",
      "[ 9  9  6  9  5  1  3  8 10  1  1  9 17  2  1  9  1  1  3  1  6  1  3  3\n",
      "  8  2  1  2  8  9  8  1  3  5  2  8 17  1  3  1  9  8 13 25  1  9  8 11\n",
      "  1  3  2  7 17  8  1  9  1  8  1  2  2  1  8  5] [20  9  5  9  5 18  2  6  8  8  1 27 43  2  4 30 10 12  3  4  6  5 31 34\n",
      "  6  2 45  2  4 18  6  1  3 25  2 13  3  5 14  5 19  1 17 25 16  9 10 11\n",
      " 15  2  2 41 17 34  5  9  6 12  5 20  2  4 10  5]\n",
      "test acc  tf.Tensor(0.3125, shape=(), dtype=float32)\n",
      "epoch test acc  tf.Tensor(0.26930147, shape=(), dtype=float32)\n",
      "test acc top5 tf.Tensor(0.625, shape=(), dtype=float32)\n",
      "epoch test acc top5  tf.Tensor(0.6066176, shape=(), dtype=float32)\n",
      "[ 6  1  1  1  8  1  5  3 13 26  3  5  3  1  3  8  6 13  3  2 26  1  1  1\n",
      "  6  8  1  6  1  8  1  8 17 20  1  3  3  1  1  1  3  1  8  6  1  3  3  3\n",
      "  8  1  3  6  9 12  6  1  2  8  8  8  5  6  9  5] [14 29  1  6  9 10  5 18 25 23  3 18 27 38 20  8  5  5 14  2 23  7  4  4\n",
      "  4  6 19 23 24 15 23  9 27 28  8 14  7  9  4 13 40  1  9  6 10  3 14 10\n",
      "  8  7  3  6 30 12  8 16  2 18  8 22 10  5 30  9]\n",
      "test acc  tf.Tensor(0.21875, shape=(), dtype=float32)\n",
      "epoch test acc  tf.Tensor(0.26785713, shape=(), dtype=float32)\n",
      "test acc top5 tf.Tensor(0.59375, shape=(), dtype=float32)\n",
      "epoch test acc top5  tf.Tensor(0.60625, shape=(), dtype=float32)\n"
     ]
    },
    {
     "name": "stderr",
     "output_type": "stream",
     "text": [
      "\r",
      "36it [00:01, 18.47it/s]"
     ]
    },
    {
     "name": "stdout",
     "output_type": "stream",
     "text": [
      "[ 1  3 26 17  9  1  8  3 17 32 13  8  1  6  2  1 17  8 17  8  1  9  1  1\n",
      "  1  1  8  9  5  1  1  9  1  8  1  1 10  1  1  5  1  1  1  1 20  8  5  1\n",
      " 11  2  8  8 11  1  2  1 11 13  7  1 26  9  8  1] [ 4 14  4 13  9  5 19 15 17  2 13 13  9  6  2 10  6  1 17  8  7 19 38  7\n",
      "  5  7  4  1  5  6 18 16  5 19  5  9 17 15  8  6  8  7  5  9 37  9  5 19\n",
      "  3  2  6  8 11 38  2  5 11  6 16  6  3 33  1  8]\n",
      "test acc  tf.Tensor(0.21875, shape=(), dtype=float32)\n",
      "epoch test acc  tf.Tensor(0.26649305, shape=(), dtype=float32)\n",
      "test acc top5 tf.Tensor(0.65625, shape=(), dtype=float32)\n",
      "epoch test acc top5  tf.Tensor(0.6076389, shape=(), dtype=float32)\n"
     ]
    },
    {
     "name": "stderr",
     "output_type": "stream",
     "text": [
      "\r",
      "38it [00:02, 18.47it/s]"
     ]
    },
    {
     "name": "stdout",
     "output_type": "stream",
     "text": [
      "[ 5  8  1  3  5  5  1  1  8  1  3  3  3  1  1  1 11 25  2  4  2  8  8  9\n",
      "  3  1  3  1  5  5 13  8  1  3  1  8  3  1 12 13  3 17 17  1 25 13 17  2\n",
      "  1  1  6  3  8  8  6  6  6  3  9 17  2  6  6  3] [ 5 10 24  3  5  5  9 10  8  8  2  6  2 16  1  7 11 25  2  1  2  8 22 16\n",
      "  2 39  3 10  5 10 22 44 12 22  4  5  7  5 10 13  3 17 17  9 25  5 17  2\n",
      " 10  8  1 19  6  8 13 10  3  3 18 31 28 15  8  3]\n",
      "test acc  tf.Tensor(0.359375, shape=(), dtype=float32)\n",
      "epoch test acc  tf.Tensor(0.2690034, shape=(), dtype=float32)\n",
      "test acc top5 tf.Tensor(0.703125, shape=(), dtype=float32)\n",
      "epoch test acc top5  tf.Tensor(0.6102196, shape=(), dtype=float32)\n",
      "[ 2  1  5  5  4  5  3  1 20  1 20  1  1  3 13 17 20  3 17  2  2 13  7  3\n",
      "  1 12  1  1  8  1  1  5  8  1  1  3  8  8  8  1 12  5  9  3  9  2 25  3\n",
      "  3  9  1  3  6  3 26  3  5 23  8  9  1  6  1  6] [ 2  9  5  5  7  5  3 10 28  5 20  6  9  2  1 31 20  5 31  2  2  1  1  3\n",
      "  6 12 15 24 21  7 10  5  8 24  9 15  4  8  7 33 12 42 18  6 39  2 25 14\n",
      "  2 28 10 17  1  2  3  3 10  9 10 12 16  4 29  9]\n",
      "test acc  tf.Tensor(0.28125, shape=(), dtype=float32)\n",
      "epoch test acc  tf.Tensor(0.26932564, shape=(), dtype=float32)\n",
      "test acc top5 tf.Tensor(0.671875, shape=(), dtype=float32)\n",
      "epoch test acc top5  tf.Tensor(0.6118421, shape=(), dtype=float32)\n",
      "[13  9  1  2  1 26 13  8  9  2  8  3  3  7 13 11  8  1  8  8  3  8  5  6\n",
      "  7  8  9  6  1  1  9  1  8  3  3 17  1 25  1 25  1  3  9 12  1  8  9  2\n",
      "  1  5  8  2  6  3  3  1  1  6  1  1  5  3  1  3] [10  9  6  2  9 23  5 12 27  2 21  3  3  4  5 11  8  7 19  4  3  8  5  6\n",
      "  9 24 16  5  4  3 19  1  6 32  6 15  5 25 28 25 13  3 18 12  9  8  9  2\n",
      "  4  5  0 14  6 14  3 13  5 15 19  7  5  3  6  9]\n",
      "test acc  tf.Tensor(0.375, shape=(), dtype=float32)\n",
      "epoch test acc  tf.Tensor(0.27203527, shape=(), dtype=float32)\n",
      "test acc top5 tf.Tensor(0.671875, shape=(), dtype=float32)\n",
      "epoch test acc top5  tf.Tensor(0.6133814, shape=(), dtype=float32)\n"
     ]
    },
    {
     "name": "stderr",
     "output_type": "stream",
     "text": [
      "\r",
      "40it [00:02, 18.55it/s]"
     ]
    },
    {
     "name": "stdout",
     "output_type": "stream",
     "text": [
      "[ 1  3  9  3  8 17  9  1  3  1  8  6  3 26  6  1  1  8  8  1  1  8  1  2\n",
      "  3  1  8 26  9 13  8  1  1  2  6  1  8  9  7  1  3  1 13  1  1 13  9  1\n",
      "  1  1  1  8 13  1  1  3  3  3  1  1  8  9  3  6] [23  3  9  3 22 17 10 19  3  9 12  9  4  3  7 10 16  4  4  9  4  9 16  2\n",
      " 11  7 19 26 30  5  1  1  6  2  1  7  8 30  4 19  3 15 15  7  7 10  9  9\n",
      " 13  6  9  9 12  7  6  1 27  3  1  6  1 30  3 15]\n",
      "test acc  tf.Tensor(0.234375, shape=(), dtype=float32)\n",
      "epoch test acc  tf.Tensor(0.27109376, shape=(), dtype=float32)\n",
      "test acc top5 tf.Tensor(0.578125, shape=(), dtype=float32)\n",
      "epoch test acc top5  tf.Tensor(0.6125, shape=(), dtype=float32)\n"
     ]
    },
    {
     "name": "stderr",
     "output_type": "stream",
     "text": [
      "\r",
      "42it [00:02, 18.61it/s]"
     ]
    },
    {
     "name": "stdout",
     "output_type": "stream",
     "text": [
      "[17 25  3  2  3  8  1  2  6  1  1  6  3  3 11  5  3  1  1  5  1  5  8 20\n",
      "  9  3  1  3  1  1  1  1  3 10  8 20  8  7  1 26  8  1  1  9  6  9  8  8\n",
      "  8  7  3  8  4  1  3  8  5  1  1  1  1 26  8  4] [17 25  3  2  3  6  6  2 10 29 12 27  2 14  3 10  3  9  9  5  5 29  1 12\n",
      "  7 14  6  3  9  4 10 13  3  4 16 20 37  9 10 26  7 16  6  9 15  9  1  8\n",
      " 29  9 32  1 28 15  2 13  5  6 16 10 15 26  6  3]\n",
      "test acc  tf.Tensor(0.265625, shape=(), dtype=float32)\n",
      "epoch test acc  tf.Tensor(0.27096036, shape=(), dtype=float32)\n",
      "test acc top5 tf.Tensor(0.65625, shape=(), dtype=float32)\n",
      "epoch test acc top5  tf.Tensor(0.61356705, shape=(), dtype=float32)\n",
      "[ 9  1  8 13  1  8  5  1  5  1  9  9 17  1  1  4  3  1  3  6  3  3 17  9\n",
      "  8  3  1  8  3  5  6 25  8  6  3  9  9  8  3  3  8  5 11  7  1  1  1  2\n",
      "  8  6  3  1  1  1  3  2  8  5  8 13  9  8  6  3] [18 12  6  9 15  1 10 29  8 19 24  1 17  7 10  1 10 20  6  7 17 17 17  1\n",
      "  8  4 10  8 27  5  6 25  4  7  3 41  4  8  6  7  8  5 11  7 10  6  7  2\n",
      "  3  6 11 30  9  6 35  2  1  5 16  1  9 38  6  2]\n",
      "test acc  tf.Tensor(0.296875, shape=(), dtype=float32)\n",
      "epoch test acc  tf.Tensor(0.2715774, shape=(), dtype=float32)\n",
      "test acc top5 tf.Tensor(0.6875, shape=(), dtype=float32)\n",
      "epoch test acc top5  tf.Tensor(0.61532736, shape=(), dtype=float32)\n",
      "[ 8  8  9  2  8  3  8  8  8  9  1  1  1  8  9 13 13 25 17  6  3  1  1  8\n",
      "  7  1  3  9  3  3 13  8  9  8  3 12  1  2  6  9 17  1 25  3  5 13  8 25\n",
      "  8  1  5  7  1  2  3 26 12  1  8  3  3  3 12  1] [10 21 30  2 29  2  4  8  6 27 39 10  5  6  9  4  5 25 17  6 35  7  8 12\n",
      " 20  7  6  9  3 14 21  4  9 23 32 12 18  2 15 12  6  1 25 20  5 15  8 25\n",
      "  9 13  5  5 13  2 18  3  4 45 16 14 23 17 30 16]\n",
      "test acc  tf.Tensor(0.28125, shape=(), dtype=float32)\n",
      "epoch test acc  tf.Tensor(0.27180234, shape=(), dtype=float32)\n",
      "test acc top5 tf.Tensor(0.6875, shape=(), dtype=float32)\n",
      "epoch test acc top5  tf.Tensor(0.6170058, shape=(), dtype=float32)\n"
     ]
    },
    {
     "name": "stderr",
     "output_type": "stream",
     "text": [
      "\r",
      "44it [00:02, 18.45it/s]"
     ]
    },
    {
     "name": "stdout",
     "output_type": "stream",
     "text": [
      "[ 8  1  3  8 17  8  8  5 13  1  1 20  1  1 28  1  8  6  5  9  1  1  8  8\n",
      "  2  3  8  1  3  1  1  1  3  8 13  2  5  6  1  3  1  9 11  3  8 17  6  1\n",
      " 13  1 11  7  2  7  2 11 12  1  8  8  6  1  5  8] [13 10 27  1  3 13 19  5 13 10 42 16  7 29 28 10  8  3 10  9  7 12  8  8\n",
      "  2  9  8 10  7 36  1  6  2 21  7  2 15  1  1 10  7 23 11 32 47 13  3  6\n",
      " 17 28 11 18  2 12  2 15 22 13 22  8 10  4 24  4]\n",
      "test acc  tf.Tensor(0.265625, shape=(), dtype=float32)\n",
      "epoch test acc  tf.Tensor(0.27166194, shape=(), dtype=float32)\n",
      "test acc top5 tf.Tensor(0.65625, shape=(), dtype=float32)\n",
      "epoch test acc top5  tf.Tensor(0.61789775, shape=(), dtype=float32)\n"
     ]
    },
    {
     "name": "stderr",
     "output_type": "stream",
     "text": [
      "\r",
      "46it [00:02, 18.60it/s]"
     ]
    },
    {
     "name": "stdout",
     "output_type": "stream",
     "text": [
      "[ 5 17  1 13  1  8  1  9 11  6  9 11 13  9  1  3  9  9  1  2  1  9 32 17\n",
      "  9  1  8 11  3  2  8  3  8  3  1  1  9  1  8  9  3  5  4  5  8  1 13 20\n",
      "  9  1  3 12  1  1 17  1  8 13 26  1  8  8  2  6] [10 26 18 15  7 44 46 27  3  9  9  3 13 10  6  3  9 12  7  2  4 23  2 25\n",
      "  4  7 24 11  3  2 16 14  6 11 10  6 30  7  8  9 32  1  1  5 13  4 17 20\n",
      "  7 29  7 12 10 41  3  6 21 10 23 10 14 34  2  6]\n",
      "test acc  tf.Tensor(0.234375, shape=(), dtype=float32)\n",
      "epoch test acc  tf.Tensor(0.27083334, shape=(), dtype=float32)\n",
      "test acc top5 tf.Tensor(0.6875, shape=(), dtype=float32)\n",
      "epoch test acc top5  tf.Tensor(0.61944443, shape=(), dtype=float32)\n",
      "[ 1  1  8 23  1  9  6  8  3  3  1 25  8  8  1  1  8  2  3  7  1  1  9  1\n",
      "  3 17  8 26 17  9  8  3  1  3  2  3  8  1  1 13  8 17  3  6  3  3  5  3\n",
      "  3  6  1  5  3 20  3  1  1  6  1  1  8  9 26  1] [14 38  8 12 16 12  4  9  5 14 24 25 10  6  6  1 12  2  2 30  1  4 19 10\n",
      "  3  9 10 26 17  6 12  3 15 15  2  3  8 27 18  6  8 17  4  1 14 35 29  3\n",
      " 10  8 16  5  3 20 14  4 10  4 22  5 17 34 26 12]\n",
      "test acc  tf.Tensor(0.296875, shape=(), dtype=float32)\n",
      "epoch test acc  tf.Tensor(0.27139947, shape=(), dtype=float32)\n",
      "test acc top5 tf.Tensor(0.59375, shape=(), dtype=float32)\n",
      "epoch test acc top5  tf.Tensor(0.6188859, shape=(), dtype=float32)\n",
      "[ 7  7  1  6  1  1  5  1  1  8  2  1  9  1  1  1  6  2  6  8  6  3  6  8\n",
      "  2  8  1 10  7  7  1  1  9 26  1 11  8  9  7 11 17  1  1  1  2  1 26  4\n",
      "  6 17  1  1  1  8 11  9  8  8 17  1  1  3  5  1] [27  4 10 29  5  8 29 24  4  7  2  5  9  8 21  4  9  2 10  8  5 27 13  1\n",
      "  2  7  7  6  7  9 10 10 39  3  9 11 24  7 15  3 17 10  1  9  2  8 23 20\n",
      " 44 26  7  4 13 10 11 23  8  1 17  8  1  7 21 19]\n",
      "test acc  tf.Tensor(0.21875, shape=(), dtype=float32)\n",
      "epoch test acc  tf.Tensor(0.27027926, shape=(), dtype=float32)\n",
      "test acc top5 tf.Tensor(0.609375, shape=(), dtype=float32)\n",
      "epoch test acc top5  tf.Tensor(0.6186835, shape=(), dtype=float32)\n",
      "[ 1  6  1  1  6  2  7  9  1  8 13  3  1  8  8  2  8  7  1  1  7  8  1  1\n",
      "  3  6  8  8 17  1  9 17  8  9  1 13  1  8  9  5 11  1  2  1  3  3 25  9\n",
      "  8  8  1  8  9  9  9  9  8  2  1  1  3  2  8  1] [ 0 25 37 19  0  2  7 34  9  8 18 26 37  8  9  2  6 20 12 29 12 10  8  4\n",
      "  3  6  8 15 44 21 10 17 10 19  4  8  1  6  9 38 11  4  2  9 10  3 25 39\n",
      "  8  6 24  8 30 41 30 19 10  2  8 39 14  2 10  9]\n",
      "test acc  tf.Tensor(0.296875, shape=(), dtype=float32)\n",
      "epoch test acc  tf.Tensor(0.27083334, shape=(), dtype=float32)\n",
      "test acc top5 tf.Tensor(0.578125, shape=(), dtype=float32)\n",
      "epoch test acc top5  "
     ]
    },
    {
     "name": "stderr",
     "output_type": "stream",
     "text": [
      "50it [00:02, 17.88it/s]"
     ]
    },
    {
     "name": "stdout",
     "output_type": "stream",
     "text": [
      "tf.Tensor(0.61783856, shape=(), dtype=float32)\n",
      "[ 1  8  9  3  1  1  9  4 12  6 11  8  1  9 11  2  6 11 17  2 17  3  6  8\n",
      "  8  3  9  1  1  6 17  8  1  1 10  5  3  6  3  1  3  3  8  1  1  9  5 17\n",
      "  2  1  5  7  3  1  1  8  2  1  8  5  9  9  3  9] [44  1 27  3  4 24  1  4  8  4 11 12  8 37 11 37  6 11 42  4 17  2  7  6\n",
      "  8  3  9  7  3 10 18  4  7 43  1 45  3  1  3  7  7 40 16  8  7  7  5 13\n",
      "  2 16  5 27  3 38  6  8  2  1 37  5 23  9  3 23]\n",
      "test acc  tf.Tensor(0.34375, shape=(), dtype=float32)\n",
      "epoch test acc  tf.Tensor(0.27232143, shape=(), dtype=float32)\n",
      "test acc top5 tf.Tensor(0.65625, shape=(), dtype=float32)\n",
      "epoch test acc top5  tf.Tensor(0.6186224, shape=(), dtype=float32)\n",
      "[ 6  1  1  9  1  9  1  5  3  5  9  2 17  1  1  1  5  1  1  8  1 26  8  3\n",
      "  1 17  1  5  1  1  8  3 17  8  1  1 11  8  2  8  1  8  2  3  9  5  8  5\n",
      "  1  1 26  3  8  1  7  8  2 23  9  1  1  9  1  3] [ 1 24 18 30  9  7 15  5  3 17  4  2 27  4 18 16  1  4  8  8  1 27 22  3\n",
      " 16 17  5 29  6  5  6 14  3 19 12  0 11 20 20  9 24  9 14  3  9  5 39  5\n",
      "  1  9 46 36  8 15  9 10  2 30 19  1 20 34  8  3]\n",
      "test acc  tf.Tensor(0.265625, shape=(), dtype=float32)\n",
      "epoch test acc  tf.Tensor(0.2721875, shape=(), dtype=float32)\n",
      "test acc top5 tf.Tensor(0.609375, shape=(), dtype=float32)\n",
      "epoch test acc top5  tf.Tensor(0.6184375, shape=(), dtype=float32)\n",
      "[ 8  1  3  1  3 11  9  9  3  1 13  1  3  8  3 17  9  8  8  9  8  8  9  5\n",
      " 12  1 25  4  1  6  3  3  1  8  9 11  9  5  1  9  8 11 13  2  8  9 17  2\n",
      "  1  7  8 26  2  1  1  4  9  8 12  2  3  9  3  9] [ 8  1 22 18 17 11 39 16 35  7  5 10  7  9 14 17 24  6 10 30  6 16  8  5\n",
      "  1 13 25  4 13 15 25  9  6  4 10 11 10 15 16  9  6  3 17  2 19  9  9 27\n",
      " 16  9  4 32  2 28 16 20  9 30 12  2 48  9  2 16]\n",
      "test acc  tf.Tensor(0.25, shape=(), dtype=float32)\n",
      "epoch test acc  tf.Tensor(0.27175245, shape=(), dtype=float32)\n",
      "test acc top5 tf.Tensor(0.65625, shape=(), dtype=float32)\n",
      "epoch test acc top5  tf.Tensor(0.61917895, shape=(), dtype=float32)\n"
     ]
    },
    {
     "name": "stderr",
     "output_type": "stream",
     "text": [
      "\r",
      "52it [00:02, 17.60it/s]"
     ]
    },
    {
     "name": "stdout",
     "output_type": "stream",
     "text": [
      "[ 1  5  1 11  9  1  1 20 12  3 25  8  3  8 13  1  6 13  9  9  6 13  8  9\n",
      "  8  1  1  3  3  7  1  6  1 11  8  8  1 11 20  1 13 12  8  3  8  8  8  8\n",
      "  8  3  3  8  1  8  9  1  5  8 26 17  2  5 25 26] [ 4 13 10  3  9 20 36 37  8 35 25  8  7 47 17  6  6  5  4  9  5 15 13 18\n",
      " 27  9 16 12 43  9  6 10  9 11  8  6  7 11 12  7  8  1  1  3  1 22  8 28\n",
      " 29 14 14  8  4 10  1  1  8  8 11 17  2  5 48 26]\n",
      "test acc  tf.Tensor(0.265625, shape=(), dtype=float32)\n",
      "epoch test acc  tf.Tensor(0.2716346, shape=(), dtype=float32)\n",
      "test acc top5 tf.Tensor(0.609375, shape=(), dtype=float32)\n",
      "epoch test acc top5  tf.Tensor(0.61899036, shape=(), dtype=float32)\n",
      "[ 1  1  5 20  9  3  1  5  3 12 13  1  1  1  1  9  8  8  1 13 11  8  1  9\n",
      "  9 13  8 13  3  1  7  8 13  8  6  8  8  8  1  6 17  2 11 26  9  1 26  5\n",
      " 20  5  3  1  3 17  3  1  9  9  8  9  8  1 25  1] [ 8  7 19 20  4 14  4  7 26 27  6  1 21  4  7 12  8 19  4 15  3 10 24  7\n",
      " 20 13  8  1 10  1  4  8  6  6 19 10 12  1  7 15  6  2 11 46  7 33  3  6\n",
      "  4  5  3 24  3 26 36  1 37  7  6  1  8  6 25 22]\n",
      "test acc  tf.Tensor(0.234375, shape=(), dtype=float32)\n",
      "epoch test acc  tf.Tensor(0.2709316, shape=(), dtype=float32)\n",
      "test acc top5 tf.Tensor(0.65625, shape=(), dtype=float32)\n",
      "epoch test acc top5  tf.Tensor(0.6196934, shape=(), dtype=float32)\n",
      "[ 5  9  7  8  1  9  1  8  8  1  3  6  2 13 13  8  9  3  1  2 13  1 17  7\n",
      "  5  6  9  2 17  3  9  8  5  8  5  8  9  6  9  8  8  8  8  5  2  8  8  3\n",
      "  9  1  3 11  3  6  1 17 13  3 11  4  5  1  9  6] [ 5  4  7  4 20  1  8  9 13 39  3  6  2 13  7 19  7  7  5  2  9 10  7  9\n",
      "  5  6 24  2 17  2 19 21  5  8  1  1 27 47 23 16  8 18  8  5  2 21 30 48\n",
      "  9 33 35 11 35  3  1 17  9  3 11  4 18  1  7  7]\n",
      "test acc  tf.Tensor(0.390625, shape=(), dtype=float32)\n",
      "epoch test acc  tf.Tensor(0.27314815, shape=(), dtype=float32)\n",
      "test acc top5 tf.Tensor(0.578125, shape=(), dtype=float32)\n",
      "epoch test acc top5  tf.Tensor(0.6189236, shape=(), dtype=float32)\n"
     ]
    },
    {
     "name": "stderr",
     "output_type": "stream",
     "text": [
      "\r",
      "54it [00:02, 17.32it/s]"
     ]
    },
    {
     "name": "stdout",
     "output_type": "stream",
     "text": [
      "[ 2  3  1  2  3 12  5  8 13  8  8  1  9 26 13 10 26  1  1 12  3  8  8  3\n",
      "  1 25 17  1  1  3  2  3  9  4  3  3 25  3  1  1  7  3 23 17  1  3  7  3\n",
      " 12 13  3  8  8  6  1  3 26 17  8  3  3 13  3 20] [ 2  3  7  2  3 12  5  4  4 23 10 10  1 26  3 17 26  7  6 16  6  8  8 42\n",
      " 10 25  3  4 13 15  2  7 16 20  2 32  3 32  1  6  5 11 23 14  8  3  4 26\n",
      "  1 13  3 12  4 15  9  3 32 17  8  4 27  7  2 20]\n",
      "test acc  tf.Tensor(0.328125, shape=(), dtype=float32)\n"
     ]
    },
    {
     "name": "stderr",
     "output_type": "stream",
     "text": [
      "58it [00:03, 17.66it/s]"
     ]
    },
    {
     "name": "stdout",
     "output_type": "stream",
     "text": [
      "epoch test acc  tf.Tensor(0.27414772, shape=(), dtype=float32)\n",
      "test acc top5 tf.Tensor(0.75, shape=(), dtype=float32)\n",
      "epoch test acc top5  tf.Tensor(0.62130684, shape=(), dtype=float32)\n",
      "[ 2  9 12 13  1  3 13  1  5  8  8 13  7  6  8 11  1  8  1  1 11  8  1  6\n",
      "  5  6  5 20  3  1  8  1  6  1 13 11  6  5  5  1 13  1  3  9  9  3  1 12\n",
      "  6 20  9 13 26  8  1 25  1  1  1  4  3  1  1 17] [ 2 16  9 13  7  3  1 20 24  8  1  7 28 15 10  3  1 19  5  7  3  9 10  5\n",
      " 13  6 21 20  3 22  7 19 13 10 45  3  1  7 39 13  7  5 14 12 16 43 10  8\n",
      "  7 30  7 13 26  7  7 14 22 10  7 30  2 10  1 17]\n",
      "test acc  tf.Tensor(0.1875, shape=(), dtype=float32)\n",
      "epoch test acc  tf.Tensor(0.27260044, shape=(), dtype=float32)\n",
      "test acc top5 tf.Tensor(0.5, shape=(), dtype=float32)\n",
      "epoch test acc top5  tf.Tensor(0.6191406, shape=(), dtype=float32)\n",
      "[ 7  7  3  5  8  6 23 26  3  3  1  1  1  8 17  3 13  1 11  1  9  1  1  3\n",
      "  6 11  1  8 11  2  9  3  8  3  8  3  6  1  1  2 25  5  1  2  1  3  1  2\n",
      "  8  3  2 26  6  3 13  6  8  8  9  8  1  1  1  1] [ 7 23 14  4 44 36 27 26 27  3 24  9  7 13  8 14  5  9 11 10 23  5  7 14\n",
      " 10 46 29  6 11  2 12  9 10 14  1  2  5  4  4  2 14  7  6  2  5  3  8  2\n",
      "  4  3  2 23  6 18  6  1  9 10 15  4  5  7  7  9]\n",
      "test acc  tf.Tensor(0.203125, shape=(), dtype=float32)\n",
      "epoch test acc  tf.Tensor(0.2713816, shape=(), dtype=float32)\n",
      "test acc top5 tf.Tensor(0.71875, shape=(), dtype=float32)\n",
      "epoch test acc top5  tf.Tensor(0.6208882, shape=(), dtype=float32)\n",
      "[ 9 17  8  1  5  3  1  8  1  5  1  2  9  3  1  6  5 17 11  1  1  1  5  9\n",
      "  3  8 17 25  3  3 17  3  1  1  3  1  6  8  1  1  2  9  9  2  3 13  9 13\n",
      "  3  3  3  1  4  7  8  9  3  2  8 17  2  8  3  1] [39  3 22  8  5 14  6  8  9  5  8  2  1  9  8  6 21 26 40  8  1 21  4  8\n",
      " 31 19 17 14  7  7  6 11  6 12  2  1  4 13 19  5  2 10  1  2 14 15  9 18\n",
      "  3  5 14 19  9 38  8 18 17  2 10  7  2 12  3 10]\n",
      "test acc  tf.Tensor(0.25, shape=(), dtype=float32)\n",
      "epoch test acc  tf.Tensor(0.27101293, shape=(), dtype=float32)\n",
      "test acc top5 tf.Tensor(0.59375, shape=(), dtype=float32)\n",
      "epoch test acc top5  tf.Tensor(0.6204203, shape=(), dtype=float32)\n"
     ]
    },
    {
     "name": "stderr",
     "output_type": "stream",
     "text": [
      "62it [00:03, 17.98it/s]"
     ]
    },
    {
     "name": "stdout",
     "output_type": "stream",
     "text": [
      "[ 2  1  8 11  3 12  3 11  2  6  3  1  5  8  1  3  1  8  3  8  8  1  1  3\n",
      "  8 11  3  1  5  7 11  3  6 13 17  8  1  1  8  8  6 13 17  3 17  8  2  1\n",
      " 20  1  3  2  8  7  6 13  1  6  8  8  5  1  1  1] [ 2  8 36  3 14 12  7 11  2 19  2  1  5  8  6  3  9 13  7  8  9  9  4  3\n",
      " 14 14 21  9  5  4  3  6  7 13 17  6 18 16  1  1  7  3 25 10 17  8  2  7\n",
      "  4 37  3  2  8 16 18  6  4  7 31  9  5 28  5  7]\n",
      "test acc  tf.Tensor(0.3125, shape=(), dtype=float32)\n",
      "epoch test acc  tf.Tensor(0.2717161, shape=(), dtype=float32)\n",
      "test acc top5 tf.Tensor(0.65625, shape=(), dtype=float32)\n",
      "epoch test acc top5  tf.Tensor(0.6210275, shape=(), dtype=float32)\n",
      "[ 2  8  2  8  6  8  3  3 11  3  1 11  5  1  1  8  3  3  3  1 20  8  1  1\n",
      "  2  5  1  3 12  2 11  3  9  1 26  1  8  7 17  4  1  8  8  1  1  1 25  1\n",
      "  3  1  1  1  1 13  3  3  8 12  6  6  1  1  3  1] [ 2  8  2 24  4  9  3  1 11  2 33  3  5 34  6  8 35 15 26 23 20 24  5  8\n",
      "  2 30  4  6 12  2 11 23 23  7 26  9  8  9  3 31  9  8  8 28  7 29 25  4\n",
      "  7 16 24  4  6 17  3  3  6 10  6  5  4 10 14  8]\n",
      "test acc  tf.Tensor(0.3125, shape=(), dtype=float32)\n",
      "epoch test acc  tf.Tensor(0.27239582, shape=(), dtype=float32)\n",
      "test acc top5 tf.Tensor(0.640625, shape=(), dtype=float32)\n",
      "epoch test acc top5  tf.Tensor(0.62135416, shape=(), dtype=float32)\n",
      "[ 9  1 13 11  8  1 13  3  3  6  3  8 13  9  2  2  2  3  8  3  1  2  9  8\n",
      "  1  6 13  3  8  6  3  3  5 10 17  9  1  7  1 26  1  3  8 13 13  6  8  3\n",
      "  3  1  8  9  2 13 17  1  9  3  1  1 12  8  8 13] [16  6  5 11  4  6 18 26  3  3  7 10  7 34  8  2  2 21 17 27 19  2 16  6\n",
      "  5 33  3  3  8  6 15 23  3  6  3 30  5  1  1  3  5  6  6 21  4 21  0  3\n",
      "  3  6 21  9  2  6 17 24 30 27  9  5 12  8 31  4]\n",
      "test acc  tf.Tensor(0.25, shape=(), dtype=float32)\n",
      "epoch test acc  tf.Tensor(0.27202868, shape=(), dtype=float32)\n",
      "test acc top5 tf.Tensor(0.609375, shape=(), dtype=float32)\n",
      "epoch test acc top5  tf.Tensor(0.62115777, shape=(), dtype=float32)\n",
      "[17  3  9 20  9  2  1  3  5  8  3  9  7 17  8  8 12 17  3  1  1  1  8  1\n",
      "  3  1  1  8  8  6  3  5  1  8  9  3  9  1  8 17  8  8  9  1  8  5  1  3\n",
      "  5  8  1  8  9  8  3 11  4 11  5  6  8  3  9 13] [ 1 14  4 20  7  2  5 14  6 15  3  8  7 17  8 33  1  3 46 16 12  8  6  9\n",
      "  3 10  6  8 28  5 31  1  5 10  9 27 30  1 10 17  9  8  7  4 44  5  9 32\n",
      "  5 10  7 10  7  6 11  3 24  3  5 21  7  3 30 10]\n",
      "test acc  tf.Tensor(0.25, shape=(), dtype=float32)\n",
      "epoch test acc  tf.Tensor(0.27167338, shape=(), dtype=float32)\n",
      "test acc top5 tf.Tensor(0.671875, shape=(), dtype=float32)\n",
      "epoch test acc top5  tf.Tensor(0.6219758, shape=(), dtype=float32)\n"
     ]
    },
    {
     "name": "stderr",
     "output_type": "stream",
     "text": [
      "66it [00:03, 18.08it/s]"
     ]
    },
    {
     "name": "stdout",
     "output_type": "stream",
     "text": [
      "[ 6 13  1  2  6  1  3  1  1  8  1  1  3 13  3  8  1  1  1  9 17  1  9 17\n",
      "  9 20  1  1  3  9  3  1  9  9 11  6  9  5  6  1  9  9 11 20  6  1  5  3\n",
      "  1  7  7  3  9  3 11  1 17  1  1  1  1 11  2  3] [ 1 13  5  2 24 18  3 10  7  8 17 12  4  6 14 10 29  9  4  9  3  6 18 17\n",
      "  9 12  5 19  3  7  9  9  9  9 11 18  9  5  6 40  7  9 11 20  6  6  5  3\n",
      " 10  7 23  3 41 27 11 13 11 10  5  6 29 11  2 40]\n",
      "test acc  tf.Tensor(0.390625, shape=(), dtype=float32)\n",
      "epoch test acc  tf.Tensor(0.2735615, shape=(), dtype=float32)\n",
      "test acc top5 tf.Tensor(0.671875, shape=(), dtype=float32)\n",
      "epoch test acc top5  tf.Tensor(0.62276787, shape=(), dtype=float32)\n",
      "[ 1  9  3  1  1  5  9  8  5  5  3  1  3 11  1 11  1  3  8  1  1 17  7  6\n",
      "  1 17  3  8  3  1  3  6  3  8  9  1 26  6  1  8 13  7  6  3  1  8  9  1\n",
      "  3  8 10  2  1  3  2  6  9  2  1  3  2  3  2  1] [18  1  3 22  7  8  7 18  5  9 48 10  3  3  7 11 10  6 21 29  4  3 18  1\n",
      "  1 17 14 22  5  7 32  5  3  8 10  7  3 15  4 10  5  7  6  6 20 19 37 10\n",
      "  3  8 10 27  9  3  2  4  8  2 13  3  2 15  2 21]\n",
      "test acc  tf.Tensor(0.296875, shape=(), dtype=float32)\n",
      "epoch test acc  tf.Tensor(0.27392578, shape=(), dtype=float32)\n",
      "test acc top5 tf.Tensor(0.59375, shape=(), dtype=float32)\n",
      "epoch test acc top5  tf.Tensor(0.62231445, shape=(), dtype=float32)\n",
      "[20 25  5  6  3  1 20 20  6  3 17  1  1  8 20  1  1  8  1  9  5  1 26  5\n",
      "  1  3  9  3 11  3  1  3  1  1  2 11  5  9  3  8  9  1  8  1  1 13 13  1\n",
      " 26  8 17 13  5  1  3  6  3  8  1  8  1 13  9  1] [20 14  5  6 32  8 22 20 15  6  6  4 16 10 12 24 24  4  6 39  5  6 23  5\n",
      "  8  3 10  7  3  3  1  3  8  1  2 11  5  1  2  8 19  6  8 24  9  7 13  9\n",
      " 26  8 17  4  5 18 27  1  2  7 21  8  4  5  1  4]\n",
      "test acc  tf.Tensor(0.34375, shape=(), dtype=float32)\n",
      "epoch test acc  tf.Tensor(0.275, shape=(), dtype=float32)\n",
      "test acc top5 tf.Tensor(0.703125, shape=(), dtype=float32)\n",
      "epoch test acc top5  tf.Tensor(0.6235577, shape=(), dtype=float32)\n",
      "[ 8  3  1  8  9  1  9  1  8  5  9 20  9  8  1  5  3  1  9  8  5  8  1  1\n",
      "  3  8 13  5 13  9  7  8  3  1  3  1  3  6  1  7  7  1  3  8  1  5 26  1\n",
      "  8  4  8  6  5  5 13  1  1  8  1  1  5 20  8  1] [16 32 10 10  8 30  9  9 24 10 12 20 30  1  8  5  6  1 19  4  5  8 10  9\n",
      "  6  4 36 10 17  9 20  8 14 18 17  7 10  5  9  5 24  1  3  8 21  5 32  6\n",
      " 29 20  8 37  5  5  7  1 16  8 16 13 15 28 15  1]\n",
      "test acc  tf.Tensor(0.28125, shape=(), dtype=float32)\n",
      "epoch test acc  tf.Tensor(0.2750947, shape=(), dtype=float32)\n",
      "test acc top5 tf.Tensor(0.546875, shape=(), dtype=float32)\n",
      "epoch test acc top5  tf.Tensor(0.6223958, shape=(), dtype=float32)\n"
     ]
    },
    {
     "name": "stderr",
     "output_type": "stream",
     "text": [
      "70it [00:03, 17.72it/s]"
     ]
    },
    {
     "name": "stdout",
     "output_type": "stream",
     "text": [
      "[ 2  6  2  8  8  3  3 12  9  4  6  3  1  6  3  1  9  8  6  1 26  1  1  2\n",
      " 25  2 17  1  1  6 11  5 12 13  6  1  1  2  8 26  3  8  1  8  9  8  3  1\n",
      "  1  1  2  1 17  3  1  1 12  3  8  5  3  8  9  3] [ 2 15  2  8  1 14 14  1  9 22  1  2 34 13 46  8  7 10  5  7 26  4  1  2\n",
      " 25  2 35  7  4  6 11  5  8 11 25 10  5  2  1  3  3  4  9 10  7 38 15  7\n",
      " 20 12  2 19 25  3  5 24 16  7 18 29 14  9 37 14]\n",
      "test acc  tf.Tensor(0.25, shape=(), dtype=float32)\n",
      "epoch test acc  tf.Tensor(0.27472016, shape=(), dtype=float32)\n",
      "test acc top5 tf.Tensor(0.671875, shape=(), dtype=float32)\n",
      "epoch test acc top5  tf.Tensor(0.6231343, shape=(), dtype=float32)\n",
      "[ 1  8  1  3 20  1 13  1  8  1  1 20  3 17  1  8  9  1  3  5  3  1  1  3\n",
      " 13  9 13  6 26  7  8  1  3 11  1  1  1  6  1  1  9  1  8  1  1  2  9  3\n",
      "  8  3  3  2  3  8  3  1  8  2  1  3  1  6  3  1] [18  6  5  3 20  7  5 21 29  5  1  4  9 17  8 20 41 23  3  5  3 10 22  2\n",
      "  6  1  1  1  3  9 10 33  3 11  7  6 21  6 19  9  7  4  4 21  9  2  9 40\n",
      "  4  4 27  2 32 10 40  9  8  2  7 14 36  6 15 19]\n",
      "test acc  tf.Tensor(0.25, shape=(), dtype=float32)\n",
      "epoch test acc  tf.Tensor(0.2743566, shape=(), dtype=float32)\n",
      "test acc top5 tf.Tensor(0.640625, shape=(), dtype=float32)\n",
      "epoch test acc top5  tf.Tensor(0.62339157, shape=(), dtype=float32)\n",
      "[ 5  8  1  2  8  7  8  8  3 17  9  8  1  1  2  1  2 13  9  3 20 10  3  1\n",
      "  1 11  9  1 17  5  8  8 17 17 12  3  1  6  3  9  8  1  5  1 13  3  6 10\n",
      "  6 17  1  2  1  8  1  9  8 26  6  8  6  5  9  1] [10 19  7  2 19  6 10 10  3  9  1 10  1 16  2  7  2  5 18 32 20  4 40  8\n",
      "  6 25 12  6 17 44  4  8 25 22  8 20  9  5 14  9  6  6  5 13 12 14  5  1\n",
      " 18 17  6  2  0 18  7  4 10 26  6  8  8  5  9  1]\n",
      "test acc  tf.Tensor(0.28125, shape=(), dtype=float32)\n",
      "epoch test acc  tf.Tensor(0.27445653, shape=(), dtype=float32)\n",
      "test acc top5 tf.Tensor(0.734375, shape=(), dtype=float32)\n",
      "epoch test acc top5  tf.Tensor(0.625, shape=(), dtype=float32)\n",
      "[ 1  9  1  3  1  2  8  8  6  3  3  1 17  1  3  9  8  2  8  5  6  8  1  8\n",
      "  9 11  1  3  8  6  8  3  1  3  3  3 26  8  7  5  1  8  8 13  8  7 17  3\n",
      "  5 17  7 13  8 11 13  3  1  8  1  1  6  1 17  8] [ 4  7 39 27 29  2 19  9  7  6 48 13  3  9 27 30 21  2  9  1  4  4  4 29\n",
      " 30 40  7  3  8 29  8  3 10  2  3 20 11  6  9  5  4  5  9  5  8 12 17  3\n",
      "  3  6  4  6  8 25 15  3 43  8  3  7  7  6 17  7]\n",
      "test acc  tf.Tensor(0.234375, shape=(), dtype=float32)\n",
      "epoch test acc  tf.Tensor(0.27388394, shape=(), dtype=float32)\n",
      "test acc top5 tf.Tensor(0.609375, shape=(), dtype=float32)\n",
      "epoch test acc top5  tf.Tensor(0.6247768, shape=(), dtype=float32)\n"
     ]
    },
    {
     "name": "stderr",
     "output_type": "stream",
     "text": [
      "\r",
      "72it [00:03, 17.63it/s]"
     ]
    },
    {
     "name": "stdout",
     "output_type": "stream",
     "text": [
      "[ 1 11  2 20  1 10 10  1 11  1  2  1  9  6  9 17  2  1  1  1  7  8  6  3\n",
      "  1 10  2 20  9  8  8  6  1  3 11  3  9  1  1  9 17  8  3  8  8  1  6  6\n",
      "  1  8 13  1 11  1  1 26  1  5  9  8  1  1  1 20] [13  3  2 28 10  9  4 18 11  5  2 28 18 39  4  7  2  4  4  8  4  8  1  3\n",
      "  9 10  2 27  4  1  1 13  8  6 11 35 10  8 19 27 17  1  3  1 21  7  9  9\n",
      "  7 16  1 12 11  9  5 26  4 13  1  7  9  7  7 22]\n",
      "test acc  tf.Tensor(0.203125, shape=(), dtype=float32)\n",
      "epoch test acc  tf.Tensor(0.27288732, shape=(), dtype=float32)\n",
      "test acc top5 tf.Tensor(0.6875, shape=(), dtype=float32)\n",
      "epoch test acc top5  tf.Tensor(0.62566024, shape=(), dtype=float32)\n",
      "[ 2  1  3  8  9  2  8  3  1  1  8  1  1  9  8  3  3  9  1 13  8  1  3  1\n",
      "  5  1  5  8  1  9  1  1  1 26 26  5  1  3  9  6  3  6  6  3  6  1  6  8\n",
      "  1  9  3  2  1  1  8  2  7 11  1  1  1 13  1  3] [ 2  7  5 38 39  1 29  3  8  1  8 28 20  9  8  3  3  9 15  1  7  9 14 10\n",
      "  5  4 10 10  6  9  9  1 10 26 26  5  9  3  9 15  2  4 15  2 37  1  5  1\n",
      " 16 19 31  3  5  9 47  2 16 11  9 16 18 20 28 15]\n",
      "test acc  tf.Tensor(0.3125, shape=(), dtype=float32)\n",
      "epoch test acc  tf.Tensor(0.2734375, shape=(), dtype=float32)\n",
      "test acc top5 tf.Tensor(0.546875, shape=(), dtype=float32)\n",
      "epoch test acc top5  tf.Tensor(0.62456596, shape=(), dtype=float32)\n",
      "[ 1  6  1  6  3  2  8  2  1  7  6  1  3  3  1  1  8  6  8  1  3  8 11  1\n",
      "  9  9 17  8  2  8  6  5 13  3  2  8  1  1 12  6  9  9  3  9 11  8  1  8\n",
      "  8  2  1  1  1  1  1  2  1  5  8  8  3  9 17  9] [18  8  5  2  2  2  1  2  1  5  4  6  9 10 13 10 13  6 47  4 20 13 11 29\n",
      "  1  7 17  1  2  8  6  5  4 26 20 22  6 10 18 19  1  7  3 12 11 16  6 10\n",
      "  8  2  9 15  8  9  9  2  9  5 10  4 35 19  6  7]\n",
      "test acc  tf.Tensor(0.25, shape=(), dtype=float32)\n",
      "epoch test acc  tf.Tensor(0.27311644, shape=(), dtype=float32)\n",
      "test acc top5 tf.Tensor(0.6875, shape=(), dtype=float32)\n",
      "epoch test acc top5  tf.Tensor(0.6254281, shape=(), dtype=float32)\n",
      "[ 1  8  1  3  1  1  2  3  6  6  5  3  2 26  6  1  3  5  8  1 17  1  6  2\n",
      "  8  1  1  1  1  9  2  1  9  8  8  2 13  1  8 20  6  8  9  1  1  3  6  6\n",
      "  2 13 26  9  8  9  1  2  8  3  1  1  1  3  2 17] [ 1  7  2  6 10  1  2 37  1  5 29  3  2 31 36  5  8 29 15 16 10  9 15  2\n",
      " 21  4  1 19 16 44  2  1 23  7  1  2  9  9  4 20 29  8  4  8  1 35  9  5\n",
      "  2 10 15  4  8 19  7  2 28  3 22  5  9 35 35 17]\n",
      "test acc  tf.Tensor(0.28125, shape=(), dtype=float32)\n",
      "epoch test acc  "
     ]
    },
    {
     "name": "stderr",
     "output_type": "stream",
     "text": [
      "76it [00:04, 17.74it/s]"
     ]
    },
    {
     "name": "stdout",
     "output_type": "stream",
     "text": [
      "tf.Tensor(0.27322635, shape=(), dtype=float32)\n",
      "test acc top5 tf.Tensor(0.4375, shape=(), dtype=float32)\n",
      "epoch test acc top5  tf.Tensor(0.6228885, shape=(), dtype=float32)\n",
      "[13  8  8  3  6  8 26  1  6  7  5  8  7  8  8  2  8 13  1 20  1  3  7  1\n",
      " 26  6  9  2  1  1  7  1  7  9  3  7 20  1  6  6  1  1  9  2  9  1 25  3\n",
      "  8  8  6  8  1  8  6  2  9 20  2  9  3  8  1  1] [29  9  8  3  6  6 23 15 10  7  5  9 23 22 10  2  8  5 12 20  9 14  9 20\n",
      " 26  7  9  2 15 20  9  9  7 18 41  7 12  9 21  1 10  6 24  4 21 10 26  6\n",
      " 13  1  8  8  9  6  6  2 10 23  2  4  3  6  4 39]\n",
      "test acc  tf.Tensor(0.28125, shape=(), dtype=float32)\n",
      "epoch test acc  tf.Tensor(0.27333334, shape=(), dtype=float32)\n",
      "test acc top5 tf.Tensor(0.59375, shape=(), dtype=float32)\n",
      "epoch test acc top5  tf.Tensor(0.6225, shape=(), dtype=float32)\n",
      "[11  1 13  1 13  3  5  1  8 11  9  8  3  1  8  8  1 17  8  9  9 17  2  8\n",
      "  8  7  4 20  9  5  1  8  6  8 20 11 20 13  6  3  1  3  8  8  6 12 12  1\n",
      "  8  1  8  2  3  9  9  1  8  6 13  5  9 20  1 13] [ 3  4 10  4  5  3  5 10  7 11  7  8 27 23  4 30 38 17 10  9 37 14  2  8\n",
      "  4  7  1 28 16 29  5 19 19 19  7 11  7  5  1 20  1  7  8  8  5 12 12  6\n",
      "  4 23 33  2 27 18 19 18 12  4  5 18 30 12  6  1]\n",
      "test acc  tf.Tensor(0.25, shape=(), dtype=float32)\n",
      "epoch test acc  tf.Tensor(0.27302632, shape=(), dtype=float32)\n",
      "test acc top5 tf.Tensor(0.59375, shape=(), dtype=float32)\n",
      "epoch test acc top5  tf.Tensor(0.6221217, shape=(), dtype=float32)\n",
      "[ 3 17  1  9  6  8  2  1  5  2  8  7  8  8  9  4  9 11 13  8  1  1  8 26\n",
      "  1  3 13  5  7  1  9 17  3  1  3 13  8  1  3  1  1  5  1  3  8  9  6  4\n",
      "  1  3  6 25 12  3  3  1 20  5 11  1  8  8  1  1] [ 3  3 16 12  9 10  2  5 13  2  8 15  8 12 16  1 24  3  6  9  1 10  8 26\n",
      "  1 32 45  5  7 19  9  8  7  6  5  1 10  4 28  7 15 39 16 31  8 18  1 28\n",
      "  4 15  7 25 12  3 27 18 23  7  3 18  1 19  4  9]\n",
      "test acc  tf.Tensor(0.25, shape=(), dtype=float32)\n",
      "epoch test acc  tf.Tensor(0.27272728, shape=(), dtype=float32)\n",
      "test acc top5 tf.Tensor(0.609375, shape=(), dtype=float32)\n",
      "epoch test acc top5  tf.Tensor(0.62195617, shape=(), dtype=float32)\n"
     ]
    },
    {
     "name": "stderr",
     "output_type": "stream",
     "text": [
      "80it [00:04, 18.04it/s]"
     ]
    },
    {
     "name": "stdout",
     "output_type": "stream",
     "text": [
      "[ 9  8  6  1  5  8  1  8 17  3 12 11  7  6  1  1  9 13  5  1 17  8  8  9\n",
      "  2  9  1  3  7  5 13  8  6  3  9  2  6  2  8  3 12  1  3  2  9  2 13  6\n",
      "  1  1  1  8 13  2  1 25  1  2  8  9  8  1  5  8] [ 9  4  7  5  8  6  9  8 17  2 12 11  7  6  6 29  9 17  5  4 17  3  4 18\n",
      "  2  4  6 36  4 10  5  8 35 14  1  2  9  2 30 20  1  5 48  2 19  2  5  8\n",
      "  8 24  8  8  1  2 16 17 20  2 12  7 12  4  5  1]\n",
      "test acc  tf.Tensor(0.3125, shape=(), dtype=float32)\n",
      "epoch test acc  tf.Tensor(0.27323717, shape=(), dtype=float32)\n",
      "test acc top5 tf.Tensor(0.65625, shape=(), dtype=float32)\n",
      "epoch test acc top5  tf.Tensor(0.6223958, shape=(), dtype=float32)\n",
      "[ 2  9  5  8  6  1  9  9 20  9  3 17  1  9  9  9  8  8  3  9  1  3  9 11\n",
      "  8  3 23  9  8 13  1  4  6  6  9  7  3  8  3  5  3  1  9  6  2  1  2  5\n",
      "  1  8 13  9  5  2  6 17  8  8  1  9  3  5  8  1] [ 2  1  5 10  6  6 16  4 20  7 23  9 22 18  7  7  6 10  3  9  9 35 30 11\n",
      " 19  8 23  1  8  1  5  8  7  6  4  7  3  8  3  5 17  1 10 36 23  8 20  5\n",
      "  1 10  5 41  5 27  1 40  8 33 13 16 14  8  8  5]\n",
      "test acc  tf.Tensor(0.328125, shape=(), dtype=float32)\n",
      "epoch test acc  tf.Tensor(0.27393195, shape=(), dtype=float32)\n",
      "test acc top5 tf.Tensor(0.609375, shape=(), dtype=float32)\n",
      "epoch test acc top5  tf.Tensor(0.622231, shape=(), dtype=float32)\n",
      "[ 3  8 17  7  1  1  2  6  8  8  8  8  2  9 10  8  9  1  3  8  8  9  8  1\n",
      "  9  3 10  8  2  3  1  8  9  3  1 20  1  3  3 10  3  2  1  9  3  2  9  8\n",
      "  2  1  1  8  8  2  1  3  2  5  5  1 13  1  9  1] [ 2 10 10  7  8  1  2 22 21 34  1 10  2 19 20 44  1  5 40 16  7 37  8 16\n",
      "  9  3 22  4  2 34 16  6 30 10  7 20 27  2 14  7  6  2  1  4 14  2 19 13\n",
      "  2 12  1 21  1  2  6 40  2  1  5  4  2  1  4 28]\n",
      "test acc  tf.Tensor(0.28125, shape=(), dtype=float32)\n",
      "epoch test acc  tf.Tensor(0.27402344, shape=(), dtype=float32)\n",
      "test acc top5 tf.Tensor(0.59375, shape=(), dtype=float32)\n",
      "epoch test acc top5  tf.Tensor(0.621875, shape=(), dtype=float32)\n",
      "[13  8  8  8  6  8  8  3 13  8  3 13  1  3  9  1 11  6  9  1  1  3  8  7\n",
      "  2  2  2  5  4  2  3  1 17  1  8  1  8 17  1 17  7  6  9  6 17  5  9  6\n",
      "  1  2 11  8  3 11  1  1  8  3  1  9  5  2  1  1] [13  8  8  8 23  9  8 22 10 10  2  9  7 14 20  8 11 23  7 13 10  3 10 37\n",
      "  2  2  2  5 12  2  9 19  6 47 12  8  8  3  7 18 20  1 30  8  3 19  1  1\n",
      " 10  2 11  6  3 11  4 21  7 14  4  9 21  2 19 18]\n",
      "test acc  tf.Tensor(0.296875, shape=(), dtype=float32)\n",
      "epoch test acc  tf.Tensor(0.27430555, shape=(), dtype=float32)\n",
      "test acc top5 tf.Tensor(0.65625, shape=(), dtype=float32)\n",
      "epoch test acc top5  tf.Tensor(0.6222994, shape=(), dtype=float32)\n"
     ]
    },
    {
     "name": "stderr",
     "output_type": "stream",
     "text": [
      "84it [00:04, 17.63it/s]"
     ]
    },
    {
     "name": "stdout",
     "output_type": "stream",
     "text": [
      "[ 1  1  5  3 17  1  8  1  3  6  3  3  1  3  1  8  7  3  1 17  1  8  1  9\n",
      "  8  7  1  9  5  9  9  8 26  3  8  6  1  1  8  1  8  9  1  8  3 10  4  8\n",
      "  9  9 13  8  3  1  1 11  3 11 17  8  6  1  2  1] [31  6  5 25 17  4  4 38  3  6  3  3  9 27 34  4  9  3  4  4  4  5 18 12\n",
      "  8  9 24  9  5 30  6  8 26 40 10 48  4  6  6 10  8  9  9  6  3  1  7 10\n",
      "  9 39 24 24  6  6  1 11  9  3  6 19  0  9  2 13]\n",
      "test acc  tf.Tensor(0.296875, shape=(), dtype=float32)\n",
      "epoch test acc  tf.Tensor(0.2745808, shape=(), dtype=float32)\n",
      "test acc top5 tf.Tensor(0.6875, shape=(), dtype=float32)\n",
      "epoch test acc top5  tf.Tensor(0.6230945, shape=(), dtype=float32)\n",
      "[ 5 13  1  5  3  3  2  3  2  5  9  3  2  2  8  8  8  3  2  1  3  4  3  1\n",
      " 13  2  9 26  8  1  8  1  5  3  2  3  1 17  3  6  1  2  9  1  3  3  3 11\n",
      "  2  8  9  7 11  7  1  1 26  8  1  3  3  6  1  1] [ 5  5  5 45  3  5  2 17  7  6  9 37  2  2 21 10  8 39  2 28  2 28 31  6\n",
      "  5  2  8  3 10 18  7 18 18 11  2 14 19 17  3 10 19  2 18  9  3  3  3 11\n",
      "  2 31  4 30 11 15  9  7 26  8 10  6 20 13 34 14]\n",
      "test acc  tf.Tensor(0.328125, shape=(), dtype=float32)\n",
      "epoch test acc  tf.Tensor(0.2752259, shape=(), dtype=float32)\n",
      "test acc top5 tf.Tensor(0.609375, shape=(), dtype=float32)\n",
      "epoch test acc top5  tf.Tensor(0.6229292, shape=(), dtype=float32)\n",
      "[ 6 13  6 25  3  5  1  8  2  1  8  9  9  9  5  9  1  8  1  6  5  6  7  8\n",
      "  2  1 17  1  2  1  9  1  2  8  1  1  3  3  8  9  3 25  8  3  3  3  1  8\n",
      "  1  8  5  7  6 11  3  9  9  3  3 17 13  8  4  3] [ 9  8 22 25  2  5  9  6  2 15  4 12  4  7  5  9 16  4  7  1  5  1 35 44\n",
      "  2  6  6  4  5  5  9 18  2  4 13  1  3 11 19  4 20 11 21 14  3  4  6  6\n",
      " 28  5  5  7  1 46  3 12  7 43  9  9 19  1  4 35]\n",
      "test acc  tf.Tensor(0.25, shape=(), dtype=float32)\n",
      "epoch test acc  tf.Tensor(0.2749256, shape=(), dtype=float32)\n",
      "test acc top5 tf.Tensor(0.609375, shape=(), dtype=float32)\n",
      "epoch test acc top5  tf.Tensor(0.62276787, shape=(), dtype=float32)\n",
      "[ 6 11  6  5  3  9  9 13  8  3 20 17  9  5  1  7  3  8  6  5  8  8  9  8\n",
      " 20  5  1  1  3  6  3  8  8  8  1  1  1 11  3  1 11  1  6  2  8  7 17  3\n",
      "  5  9  1  1  9  3  5  5  8  9  1  8  3  1 10  1] [ 6 14  4  5  3 10  8  9 16  3 20 15  4 10  4  1 15  8  4  6 10  9 19  4\n",
      " 20  5 45  6 27 13 15 10 10 22  9  7  1  3 18 28 11  9 15  2  6  4  5 46\n",
      "  5 39  7  9  4 40  4  5  8 16 24  7  3  1 19 19]\n",
      "test acc  tf.Tensor(0.25, shape=(), dtype=float32)\n",
      "epoch test acc  tf.Tensor(0.27463236, shape=(), dtype=float32)\n",
      "test acc top5 tf.Tensor(0.625, shape=(), dtype=float32)\n",
      "epoch test acc top5  tf.Tensor(0.6227941, shape=(), dtype=float32)\n"
     ]
    },
    {
     "name": "stderr",
     "output_type": "stream",
     "text": [
      "88it [00:04, 17.34it/s]"
     ]
    },
    {
     "name": "stdout",
     "output_type": "stream",
     "text": [
      "[ 7  7  1 10  6  2  9  5  8  7 12  8  8  1  6  1  1  1 26  2  3  6  1  8\n",
      "  1  2  9  1  8  1  1 20  3  3  5 11 11  3  3  1  3  1 27  1  3  1  3  7\n",
      " 13 13  8 12  1  3  8 11  8  8  1  3  8 10  9  8] [23  6  9  1  6 20  4  5  8 20 28 10  6 10  7  4 38 19  3  2 35  6  5 10\n",
      "  7  2  9 31  1  8  1 20 40 14 36 14 11 25  6 10 32  4 27 18  6  4  3 27\n",
      "  5  5  4  8 10  3 13 11 10 15 41 27 10 16  9 22]\n",
      "test acc  tf.Tensor(0.234375, shape=(), dtype=float32)\n",
      "epoch test acc  tf.Tensor(0.27416423, shape=(), dtype=float32)\n",
      "test acc top5 tf.Tensor(0.671875, shape=(), dtype=float32)\n",
      "epoch test acc top5  tf.Tensor(0.6233648, shape=(), dtype=float32)\n",
      "[ 3  8  1  6  1  2  1  1 13 13  1  7  1  1  1  9  5  8  3  8  8 26  5  1\n",
      "  3  1 17  1 25  9  2  1 25  3  1  3  9  9  3  8  8  3  8  3  1  3  6  8\n",
      "  1 13  8  8  1 25  8  8  1  9  1  1 11  8  6  3] [22  4 30  3  5  2 15  5  6  4 10  7 10 10  5 30 18  1  3  4  8 23 18  4\n",
      " 29 16 31 47 25 33  2 15 25  3  1 31 19 34 23  8  6  7  8 26  1 37  8 13\n",
      " 18 15  6 38  6 25  7  1 10 19  7  1  3  4 13 17]\n",
      "test acc  tf.Tensor(0.21875, shape=(), dtype=float32)\n",
      "epoch test acc  tf.Tensor(0.2735273, shape=(), dtype=float32)\n",
      "test acc top5 tf.Tensor(0.5625, shape=(), dtype=float32)\n",
      "epoch test acc top5  tf.Tensor(0.6226652, shape=(), dtype=float32)\n",
      "[ 7  8 20  5  7 13 13 26  1  1  8  5  3 11  1 13 17  8  1  8  1  1  6  3\n",
      "  2  1  8  8  1 17  2  3  8  1  9  8  8  3  1  1 20  8  8  8  9  6  1  1\n",
      "  1  3  1  8 13  3 11  8  1  6  8  1  3  6  1  6] [23 19 20  5  6 33 10 26 29  1  8  5  3 11  9 44 10 22  9  4  8 21  4  3\n",
      "  2  4 13  8  4 17  2 14  8  6 33 10  8 14  1 28 28  8  6  8 23  6  1 31\n",
      "  8  3  9 13  4  3  3 10 28 13  6  9 23  9  7 24]\n",
      "test acc  tf.Tensor(0.34375, shape=(), dtype=float32)\n",
      "epoch test acc  tf.Tensor(0.27432528, shape=(), dtype=float32)\n",
      "test acc top5 tf.Tensor(0.65625, shape=(), dtype=float32)\n",
      "epoch test acc top5  tf.Tensor(0.6230469, shape=(), dtype=float32)\n",
      "[ 3  9  1  1  1 13  2  1 12  3  3  1 12  1  1  1  6 11  8  9  6  2  8  3\n",
      "  3  1  5  2  8  2  3 26  6  1  9  2  1  8  3 20  9  1 26  9 12  5  1  1\n",
      "  7  7 26 13 20 26 26 17  1  8  8  7  1  1  1  9] [25  7  8 19  8 24  2  4 28 35 14  5  4 16  4 24 19 11 21  9 48  2 22  3\n",
      " 14  7  5  2  8 20  6 26  6 10 23  2 18  3 23 20  8  8 26  9 10  5 19  8\n",
      "  9  5 26 10 28 26 23 17 10  1  4  7  9  4  8  9]\n",
      "test acc  tf.Tensor(0.3125, shape=(), dtype=float32)\n",
      "epoch test acc  tf.Tensor(0.27475423, shape=(), dtype=float32)\n",
      "test acc top5 "
     ]
    },
    {
     "name": "stderr",
     "output_type": "stream",
     "text": [
      "92it [00:05, 17.37it/s]"
     ]
    },
    {
     "name": "stdout",
     "output_type": "stream",
     "text": [
      "tf.Tensor(0.671875, shape=(), dtype=float32)\n",
      "epoch test acc top5  tf.Tensor(0.6235955, shape=(), dtype=float32)\n",
      "[ 8  1  3  1  1  3  1  1  3  9  7  9 13  3  3 20  1  3  9 17  1  1  6  1\n",
      "  3  3  3  6  3  5 28  1  8  8  7  6  9  1  3  1  3  3  5  5  8  3  9  1\n",
      "  8  1  9  3  3 11  9 11  9  2  9  2  8  2  3 26] [ 4 21  3  4  7  3 10 10  7  7  7 19 29 46  2 20 16  3  9  6 12  6  4  7\n",
      " 14  3 43 10  2  5 12 10  8  8 27 21 30  7  3 21 27  3 13 10  8 19 18  1\n",
      "  1 41  4  3  3 14  9 11  9  2 29  2 10  2 14 26]\n",
      "test acc  tf.Tensor(0.359375, shape=(), dtype=float32)\n",
      "epoch test acc  tf.Tensor(0.27569443, shape=(), dtype=float32)\n",
      "test acc top5 tf.Tensor(0.6875, shape=(), dtype=float32)\n",
      "epoch test acc top5  tf.Tensor(0.62430555, shape=(), dtype=float32)\n",
      "[11  9  8  8  2  5 12 20  2  3  8  9  8  8 12 11  1  5  1  2  1  1  1  1\n",
      "  1  1  8  7  6  1 17  5  3  8  9 17  1  3  2  1  8  8  8  8  4  9  6 25\n",
      "  8  8  1 17  8 13  2  6  3  3 23  5 13  8  8  1] [11 27  9 10 31  5 28 20  2  8  8 39  4 29 12  3  1  5  9  2 10  7 10  8\n",
      "  4 10  9 20 15  9  6  8  3  6 16 13  1  6  2  6 12  6 10  1  7 30  7 17\n",
      "  8  1  6  9  7 13  2  5 10  3 20  5  3  4 41  5]\n",
      "test acc  tf.Tensor(0.265625, shape=(), dtype=float32)\n",
      "epoch test acc  tf.Tensor(0.2755838, shape=(), dtype=float32)\n",
      "test acc top5 tf.Tensor(0.65625, shape=(), dtype=float32)\n",
      "epoch test acc top5  tf.Tensor(0.6246566, shape=(), dtype=float32)\n",
      "[ 9  8  1  1  3  8  1  5  3  9 26  1  3  6  1  1  3 20  1  3  9  3  9  1\n",
      " 11  5  1  1 13  3  3  6  9  3  8  3  3  1  2  9  6  1  8  6  1  5  5  1\n",
      "  6 17  1  1  2  1  1  1  8  1 13  1 17  6  2  1] [39  8  6  4  9 10 15  5 14 18 26  6  3  4  8  0 48 20  4  3 16  3  9 24\n",
      " 11  8 16 10 17 27  9  6  7 14  8  5 32  7  2  9  7 16  6  8  1  5  5 16\n",
      "  6 25 33  4  4  1  7  9  9  7 24  6  3 13  2 29]\n",
      "test acc  tf.Tensor(0.296875, shape=(), dtype=float32)\n",
      "epoch test acc  tf.Tensor(0.27581522, shape=(), dtype=float32)\n",
      "test acc top5 tf.Tensor(0.609375, shape=(), dtype=float32)\n",
      "epoch test acc top5  tf.Tensor(0.6244905, shape=(), dtype=float32)\n"
     ]
    },
    {
     "name": "stderr",
     "output_type": "stream",
     "text": [
      "96it [00:05, 17.88it/s]"
     ]
    },
    {
     "name": "stdout",
     "output_type": "stream",
     "text": [
      "[ 6  8  8  5  6  1  9  8  7  8  3  9  6  9  1  1  9  9  3  9  9 17  5 13\n",
      "  5  1  1  8  1 13 10  3  9  9  3  8  8  8  1  9  9  5  1  3 10  3  2  3\n",
      "  1  5  8  3  6  7  1  1  8 20  9 13  6 25 11 12] [ 6 10 47 10  7 13  9 28  7  1 14  9 13 16 15  9 19 10 14 10  4  3  5  6\n",
      "  1  9 18  6  4  5 42  2  8  7 40  9 12 47 12 10 34  7  4 19 13 31  2  3\n",
      " 10  5  6 46  6  7  8 18  1 20 24  5  3 25 11 19]\n",
      "test acc  tf.Tensor(0.203125, shape=(), dtype=float32)\n",
      "epoch test acc  tf.Tensor(0.2750336, shape=(), dtype=float32)\n",
      "test acc top5 tf.Tensor(0.578125, shape=(), dtype=float32)\n",
      "epoch test acc top5  tf.Tensor(0.6239919, shape=(), dtype=float32)\n",
      "[ 3  3  3  3 13  1  1 13  1  9  3  1  4  1  9  1 17  8  1  3  2  1 26  8\n",
      " 12  9 17  3  5  3  3  1  1  9 17  1 26 13  5  1  9  1  1 20  8  3  5  1\n",
      "  9  2  5  6  1  1  8  3  8  8 11  6  6 26  9 20] [14 14 10  3  6  7  1 21  4 16  3  7  9  1 23  4  1  6  1  9  2 10 35  8\n",
      "  4 10 17 15  5  3  2  4 16  9  3  6 26  4  5  5  9  5  4 37 47  3 29  7\n",
      "  9  2 29  7  8 24  9  2 36  8 11 17  9 26 33 12]\n",
      "test acc  tf.Tensor(0.3125, shape=(), dtype=float32)\n",
      "epoch test acc  tf.Tensor(0.27543217, shape=(), dtype=float32)\n",
      "test acc top5 tf.Tensor(0.703125, shape=(), dtype=float32)\n",
      "epoch test acc top5  tf.Tensor(0.62483376, shape=(), dtype=float32)\n",
      "[ 3 11  1  5  8  6  1  1 13  6  3  5  1  2  9  1  3 26  6  5  3  9  8  3\n",
      "  4  3  6 20  8 17  1  1  3  5  6 20  1  5  1  1  6  5  1  1  3  1  5  9\n",
      " 12  3  9 13  9  5  3  3  7  1  1  5  8  1  1  1] [ 3  2  8  5 13  4  9  1  6  6 17  5 15 20 12  8  3  3 10  5  3 12 10 20\n",
      " 10 32  8 20 10  4 10 19 39  0 18 20  3 29  4 28  7  5  1  6 31  9  5  9\n",
      "  8 14 30 13  9 15  7  4  7  9 14  5 21  1  5  1]\n",
      "test acc  tf.Tensor(0.3125, shape=(), dtype=float32)\n",
      "epoch test acc  tf.Tensor(0.27582237, shape=(), dtype=float32)\n",
      "test acc top5 tf.Tensor(0.671875, shape=(), dtype=float32)\n",
      "epoch test acc top5  tf.Tensor(0.62532896, shape=(), dtype=float32)\n",
      "[ 3  1  1  1  1  3  2  3  9 20  1  2  8  6  6 25  6  6  2  3  1  1  6 17\n",
      "  6  8  1  3  1  1  8  1  9  8 13  6  8  2  7  1  1  8 13  3  8  8  1  3\n",
      " 25  8  5  1  5  3  1  8  1  8  1  8  1  1  8  1] [36  1 13 10 18 23  2 13  9 23 30  2  1 13  6 25  1  8  2 46 20  1  6  3\n",
      "  6  7  1  3 44  7 10  5  4 13  6 10 19  2  4  5 18 24 17  2  8  6  1 43\n",
      " 25  7  7 19 10  9 13 29 10  1  6  6  9 33 28  7]\n",
      "test acc  tf.Tensor(0.25, shape=(), dtype=float32)\n",
      "epoch test acc  tf.Tensor(0.27555338, shape=(), dtype=float32)\n",
      "test acc top5 tf.Tensor(0.578125, shape=(), dtype=float32)\n",
      "epoch test acc top5  tf.Tensor(0.6248372, shape=(), dtype=float32)\n"
     ]
    },
    {
     "name": "stderr",
     "output_type": "stream",
     "text": [
      "100it [00:05, 17.90it/s]"
     ]
    },
    {
     "name": "stdout",
     "output_type": "stream",
     "text": [
      "[26  5  6  4  1  8  9  1  6  1  6  3  1  5  7  1  1 11  8  1  3 20  1  8\n",
      "  8  3  6 13  8  1  7  1  7  9 17  1  1 17 26  2  1  1  5  9 26  2  1  8\n",
      " 20  1 10  1  2  2 11 11  5  1 11  5  5  6  3  1] [26 13 15  7 21 10 10 18  6  7  6 14  1 36  9  1 18  3  1  9  2  4 28  1\n",
      "  8  3  5 15  8 10 16  9  1  7 17 13 10 15 23  2  5 33  5 18 26  2  6 10\n",
      " 20 18 17 24  2  2 11  3  7 24 11  5 29  3  7  1]\n",
      "test acc  tf.Tensor(0.3125, shape=(), dtype=float32)\n",
      "epoch test acc  tf.Tensor(0.27593428, shape=(), dtype=float32)\n",
      "test acc top5 tf.Tensor(0.6875, shape=(), dtype=float32)\n",
      "epoch test acc top5  tf.Tensor(0.6254833, shape=(), dtype=float32)\n",
      "[ 9  2 13  5  3  8 12 11  5  6  1  1  1  1  1  3 11  3 11  1  1 11  1  3\n",
      "  6  1  1  1  8  1  3  2  1  3  3  1  3  1  8  8  1  9  5  3  8  8  1  8\n",
      " 26  3  1  9  3 13  1  6  1  3  8  8  8  3 13  1] [ 9  2  5  5  3 28 19  3  5 18  1 15 10  5  8 36 11 11  3  4 28 11  4  3\n",
      "  1  5  8  8  1 19 32  2 16  3 48 39 20 16  8  4 15 19  5  3 19 12 16  4\n",
      " 26 36  7 10  3  6 16  5  7  7 10 10  4 31  5  6]\n",
      "test acc  tf.Tensor(0.25, shape=(), dtype=float32)\n",
      "epoch test acc  tf.Tensor(0.27566963, shape=(), dtype=float32)\n",
      "test acc top5 tf.Tensor(0.609375, shape=(), dtype=float32)\n",
      "epoch test acc top5  tf.Tensor(0.6253189, shape=(), dtype=float32)\n",
      "[ 8  8  9  3  9  1  3  1 13 20 10  1  1  1  8  3  3  1  5  1  2  1  1  9\n",
      "  3  8 12 23  6  5  5  3  6  9 26  3  1  1 13  8  1  7  6  2 11  1  1  1\n",
      " 13  1  1 12  1  3  7 17 13  2  1  1  6  8  6  7] [12  4  1 40  1  1 15 18  5 20 31 29  4  4  4  2  3  4 25  9  2  1 13 33\n",
      "  3  1 20 23  7  5  5 32  5  9 32 15  7 16 13  1  7 22  1  2 11 10  1  1\n",
      "  1 21  9 12  6 15  5 17 15  2 19 20  6 10  6  7]\n",
      "test acc  tf.Tensor(0.328125, shape=(), dtype=float32)\n",
      "epoch test acc  tf.Tensor(0.2761995, shape=(), dtype=float32)\n",
      "test acc top5 tf.Tensor(0.625, shape=(), dtype=float32)\n",
      "epoch test acc top5  tf.Tensor(0.62531567, shape=(), dtype=float32)\n",
      "[ 8 11  6  6  3  9  1  1  8  5  1 20  7  4  2 26  8  2  5  2  8  9  9  8\n",
      "  6  3  3  7  3 11 13  9  6  5 11  1  1  1 12 11  3  1  3  1  1  8  9  1\n",
      "  7  6  1  1  1  3  1 17 13  6  1  5  8  3  9  1] [12 11 31  7  7  9  1  4 19 18  4 12  9  9  2 26  6 20 21 42  4 34  1 22\n",
      " 15 35  9 10 32  3 21 18  5  5 11 15  5 21  1 11 31  1 14  9  5  8  1  9\n",
      " 37  5  6  4 34  7  4  9  7  1  1  5  6  3  9  4]\n",
      "test acc  tf.Tensor(0.21875, shape=(), dtype=float32)\n",
      "epoch test acc  tf.Tensor(0.275625, shape=(), dtype=float32)\n",
      "test acc top5 tf.Tensor(0.5625, shape=(), dtype=float32)\n",
      "epoch test acc top5  tf.Tensor(0.6246875, shape=(), dtype=float32)\n"
     ]
    },
    {
     "name": "stderr",
     "output_type": "stream",
     "text": [
      "104it [00:05, 17.95it/s]"
     ]
    },
    {
     "name": "stdout",
     "output_type": "stream",
     "text": [
      "[25  6 12  2  1  6  2  1  2 12  8  8  6  1  8  9  1  2  9  1  2  5 10 20\n",
      " 12  1  9  3  3  6  1  9  1  1  9  6  8  8  5  1  1  1  3 11  6 13  6  8\n",
      "  8 13 11  1  9  1 17  1  1  1  3  3  3 13  1  8] [17  1 12  2  7  8 30  5  2 44 19  1  6  7 15  4  6  2 10  1  2  1 34 20\n",
      " 47  7 18  3  3  1  4 41  1  8 34  9  4  6  5  6  1 16  3 11 36  3  6  6\n",
      " 10  5 11 13  9  3  3 18  5  1  4 35  9  1  7 10]\n",
      "test acc  tf.Tensor(0.296875, shape=(), dtype=float32)\n",
      "epoch test acc  tf.Tensor(0.2758354, shape=(), dtype=float32)\n",
      "test acc top5 tf.Tensor(0.6875, shape=(), dtype=float32)\n",
      "epoch test acc top5  tf.Tensor(0.6253094, shape=(), dtype=float32)\n",
      "[ 6  9  3  1  8  1  9  1  9  1  1  1  3  7  1  1  4  3  1  6 26 17  6  1\n",
      "  1 11 20 20  1  1 17  1  8  8 13 13  1 11  1  2  1  9  4  8  9  1  1 20\n",
      "  1  3  1  3  7  3  9  1  3  8  4  1  1  1  5  1] [ 9  8  7  0  7  8 19  1 30  0  9 19 11 18  1 19 38 31  7  6 37  3 10  7\n",
      " 20  3 42 28  8  1 17  1  4  8  6  7  5 11 45 42  1 30 28  8 19 24  1  9\n",
      "  4  3  6  7  4 32 10  6  3  1  4 10 19 16 16  9]\n",
      "test acc  tf.Tensor(0.21875, shape=(), dtype=float32)\n",
      "epoch test acc  tf.Tensor(0.27527574, shape=(), dtype=float32)\n",
      "test acc top5 tf.Tensor(0.578125, shape=(), dtype=float32)\n",
      "epoch test acc top5  tf.Tensor(0.6248468, shape=(), dtype=float32)\n",
      "[ 3  8 10  6  3  1  8  8  9  1  1  9  1  9  8  9  1  8  1  1  7  4  4  1\n",
      "  1 11 25  1  1  6  8  3  3  3  1  1  8  1  5  9  8  8 17  1  1  3  1  1\n",
      "  8 26  8 11  1  1 13  3  6  2  1  8 13  1  8 11] [ 7  8 10  6 35  4  8 37 16  7 18  9  4 37 38 30 24 19 13 12  4  7  9 16\n",
      " 10 11 25  1  1  6 10  4 48  3 28  4  8 15  1 30 16 10 17 12 10  3 10  5\n",
      "  8 46 12 11  9 10 19  3 25  2 29 10  7  0  6  3]\n",
      "test acc  tf.Tensor(0.28125, shape=(), dtype=float32)\n",
      "epoch test acc  tf.Tensor(0.27533373, shape=(), dtype=float32)\n",
      "test acc top5 tf.Tensor(0.53125, shape=(), dtype=float32)\n",
      "epoch test acc top5  tf.Tensor(0.6239381, shape=(), dtype=float32)\n",
      "[ 9 11  1  3  1  8  3  8  3  9  8  8  3  1  1  3  1  5  1  6  9  8  3  6\n",
      " 20  5  8  7  1  1  1  1  9  8  1  1  1  9 17  8 11  1 20  5 17  1  9 11\n",
      "  8  2  3  3  8  1  3  1  1  6  1 25 26  1  8  1] [ 1 11  9 14  1 12  3 10  3  4 10  8  3  6 24 14 43 29 36 19 24 16 20  1\n",
      " 20 10  8  1  4  7 10  9  1  1  9  6  9  1 17  8 11 10 37  5 17 10  7  3\n",
      "  8  2  3  2 10  4  3  6  6  1 16 11  3 20  9 19]\n",
      "test acc  tf.Tensor(0.265625, shape=(), dtype=float32)\n",
      "epoch test acc  tf.Tensor(0.2752404, shape=(), dtype=float32)\n",
      "test acc top5 tf.Tensor(0.609375, shape=(), dtype=float32)\n",
      "epoch test acc top5  tf.Tensor(0.6237981, shape=(), dtype=float32)\n"
     ]
    },
    {
     "name": "stderr",
     "output_type": "stream",
     "text": [
      "108it [00:05, 18.10it/s]"
     ]
    },
    {
     "name": "stdout",
     "output_type": "stream",
     "text": [
      "[ 2  7  1  6  4 17  9  3 17  3  1 13  3 26 11  1  3 32 11  9  2  9  5  1\n",
      "  1 17  8  3 17  8 25  8  1  5  8  1  3  1 12  8  1  3  1  6  9  3 13  1\n",
      "  9  1  8  3  1  1  1  7  6  8  8  8  7  9  8  9] [ 2 20  4 25 38 17  4 35 17  2  4  4 27 26  3  6 20 14 11 27 20 18  5 18\n",
      " 20 14  8 36  8  8 25 24  1  5 10  7 14  0 22  8  6 15  8 24  7 40 36  8\n",
      " 27  1  8 35  6  1 21 20 29  6  6  8 16  9  8  8]\n",
      "test acc  tf.Tensor(0.28125, shape=(), dtype=float32)\n",
      "epoch test acc  tf.Tensor(0.2752976, shape=(), dtype=float32)\n",
      "test acc top5 tf.Tensor(0.625, shape=(), dtype=float32)\n",
      "epoch test acc top5  tf.Tensor(0.6238095, shape=(), dtype=float32)\n",
      "[ 2 25 12  8  2  8  1  5  1 17  1  9  1 17 11  6  6  1 23  1 11  2  3  8\n",
      "  3  6  5 11 11  3  8  5 11  6  7  1 17  1  9  1  2  7  8  1  6  1  1  2\n",
      "  6  3  8  1  2  9  1  9  1  5  1  9  5  8  1  9] [ 2 25  8  0 35 10  1 16  7 17 15  9  5 17 40  7 35  8 20 34 11 23 42 19\n",
      " 14  3 30 11  3 27  6 15 11  5 12  5 17  5 19  8  2 16 18 11  6 28 33  2\n",
      " 10  3 10 16 35  7  4 34  8 13  7  1 29  8  4 18]\n",
      "test acc  tf.Tensor(0.234375, shape=(), dtype=float32)\n",
      "epoch test acc  tf.Tensor(0.27491155, shape=(), dtype=float32)\n",
      "test acc top5 tf.Tensor(0.515625, shape=(), dtype=float32)\n",
      "epoch test acc top5  tf.Tensor(0.6227889, shape=(), dtype=float32)\n",
      "[13  4 10  1  1  1  4  5  3  6  1  3  6  8  8  1  8  8  2  9 11  1 20  8\n",
      "  8 13  9  8  1  8  1  8  9 13  1  8  8  1  3  3  8  3 26  1  8 23 13  3\n",
      "  9  3  8 20  1  1 11  1  9 12  1  3  8  8  8  9] [ 5 28  6  6 13  1  4  5 14  6  1 31  1 10  1  7 16 15  2  1  3  7 28 10\n",
      " 22  5 15  8  6  8 44  4  7  7  8  8  1 29 14  3  8  7 26 28 10 30 18 14\n",
      " 19  2  8 22  9  4 40  4 10 28 22 11  4 10 13 42]\n",
      "test acc  tf.Tensor(0.203125, shape=(), dtype=float32)\n",
      "epoch test acc  tf.Tensor(0.27424064, shape=(), dtype=float32)\n",
      "test acc top5 tf.Tensor(0.640625, shape=(), dtype=float32)\n",
      "epoch test acc top5  tf.Tensor(0.6229556, shape=(), dtype=float32)\n",
      "[20  9  1  1  8  1  2  1  5  7  8  1  1  3 20 26  5  3  1 11  1  1 13 17\n",
      " 17  1 10  8 17  7  7  4  1 17  9  9  1  8  3  8  5  3  6  5  1  1  6  8\n",
      " 13  8  1  1  6  9  1  3 10  8  6  8  6  5  1  1] [20 10 10  9 10  6  2 20  1 39 29  5 10  2 20 25  8 32  7  3 10  4  6 10\n",
      " 17 24 18  4 31  7  7 10  5 17  7  9  4  8 14  8 39 14  4  5  1 19  7 33\n",
      " 10 34  6  1  2  7 12 13 10  8 21  4  7  4  6 18]\n",
      "test acc  tf.Tensor(0.234375, shape=(), dtype=float32)\n",
      "epoch test acc  tf.Tensor(0.27387154, shape=(), dtype=float32)\n",
      "test acc top5 tf.Tensor(0.640625, shape=(), dtype=float32)\n",
      "epoch test acc top5  tf.Tensor(0.62311924, shape=(), dtype=float32)\n"
     ]
    },
    {
     "name": "stderr",
     "output_type": "stream",
     "text": [
      "112it [00:06, 18.08it/s]"
     ]
    },
    {
     "name": "stdout",
     "output_type": "stream",
     "text": [
      "[ 9  8  6 13  3  3 11  8  8  1  1  6  1  6  8  1 13  1  5  7  3  1  1  1\n",
      "  8  8  2 26  1  9  9  2  1  9  2  2 20 17  6 12  6  9  6  6  7  8 12  8\n",
      "  1  3 17  1  6  1  7  8  1 11  1 11  8 11  1  2] [34  4  8  5  6 27  3 15 19  4  4  4  7  7  6 24  7 15 18  7 14 10  5  4\n",
      " 12 13  2 26  4 10 18  2  7 27  2  2 20  9 21  4  4  1  5  1 19  1  1  4\n",
      "  1  3 17 29  5  7 23 33 18 11 18 11 10  3  5  2]\n",
      "test acc  tf.Tensor(0.203125, shape=(), dtype=float32)\n",
      "epoch test acc  tf.Tensor(0.27322248, shape=(), dtype=float32)\n",
      "test acc top5 tf.Tensor(0.5625, shape=(), dtype=float32)\n",
      "epoch test acc top5  tf.Tensor(0.62256306, shape=(), dtype=float32)\n",
      "[ 6 12  1  1  9 10  1  3 17  1  8  2  9  8  3  2  1  1  1  3  3  3  2  9\n",
      "  1  1  1  1  6  3  1 26  8  6  1  5  2  1  3 17  6 13  3  8  8  8  3 17\n",
      "  3 13  3  3  1  1  1  8  8 11  3  8  1  8  8  8] [ 6  1 16  1  9  4  1  5 15 10 13  2  9 10  3  2  5  5 12  3  2  3  2  9\n",
      "  1 10 13  5  8  3  5  3 18 10 13  5  2 36 14  6 16  6 40  1 10  8  2  3\n",
      " 48  4  3 14  5 24  1  8 23 11 14  8 21 30  1  4]\n",
      "test acc  tf.Tensor(0.34375, shape=(), dtype=float32)\n",
      "epoch test acc  tf.Tensor(0.27386364, shape=(), dtype=float32)\n",
      "test acc top5 tf.Tensor(0.734375, shape=(), dtype=float32)\n",
      "epoch test acc top5  tf.Tensor(0.62357956, shape=(), dtype=float32)\n",
      "[ 9  6  9  1  1  8  6  9  3  8  2  9  8  3  5  1  9  6  1  9  9  3  9  3\n",
      "  6  6 26 17  3  1  8  5  1 13  8 17  8  1 13  8  8 20  1  1  2  8  5  1\n",
      "  1  9  9 13  3 26  1 10  9  4  8  1  6 17  9  5] [ 8 13  1  4  9 13 15  9 36 29  2  4 19  3  5 18 19  5 30  9  7 15 22  9\n",
      "  6 10 23 17  9 10  8  5  8 31 13  1  7  5  5 19 16 20  8  1  2 10 29 37\n",
      " 15  9  9 15  2 26  6  7  9 38 21  7  5  3 16 41]\n",
      "test acc  tf.Tensor(0.25, shape=(), dtype=float32)\n",
      "epoch test acc  tf.Tensor(0.27364865, shape=(), dtype=float32)\n",
      "test acc top5 tf.Tensor(0.53125, shape=(), dtype=float32)\n",
      "epoch test acc top5  tf.Tensor(0.6227477, shape=(), dtype=float32)\n",
      "[ 1  3  5 17 20  2 26  8  9  1  3 11  1  1 11  1  8  5  3  6  1  9  5  3\n",
      "  9  1  1  1  6  8  1 11  1  2  7  2  8  1  1  8  1  1  1  8  8  1  8  1\n",
      "  1  7  9  1  9  2  1  3  1  3  2  1  3  1  3  6] [ 9 13 29 17 20  2 23  4  7 33  3 46 38  8  3 10  6 29 14 36  6  1 25  3\n",
      "  4  8 19  5 25 10  1 11  5  2 37  2  1  9  5  8  1 24 10  9  6 13  8  1\n",
      "  1  7  6 10  1  1  5  3  9  2  2 18  7 29  2  5]\n",
      "test acc  tf.Tensor(0.265625, shape=(), dtype=float32)\n",
      "epoch test acc  tf.Tensor(0.273577, shape=(), dtype=float32)\n",
      "test acc top5 tf.Tensor(0.578125, shape=(), dtype=float32)\n",
      "epoch test acc top5  tf.Tensor(0.6223493, shape=(), dtype=float32)\n"
     ]
    },
    {
     "name": "stderr",
     "output_type": "stream",
     "text": [
      "\r",
      "114it [00:06, 18.03it/s]"
     ]
    },
    {
     "name": "stdout",
     "output_type": "stream",
     "text": [
      "[ 7  2  5 20  9  3  5  8  3  3  3 11  2  3  1  8  4  3  3  8 13  9  3  8\n",
      "  1 17  3  8 13  3  9  3 17  1  3  3  7  1  9  1  5  9  9 17  1 20  8  8\n",
      "  1  9 26  3 13  3  3  1  1  8 20  8  3  3  1  9] [12  2  5 12  9  2  5  6  2 15  3 14  2 32  1  4  1 14 23  1 10  9 14  8\n",
      "  1 17 14  1  6 15 47  3  3 10 26  2  1  7 19 24  5  4  4 17  5 23  1  8\n",
      " 16 27  3  3  6  3  6 19  9 23 20 10  3 43 19 41]\n",
      "test acc  tf.Tensor(0.296875, shape=(), dtype=float32)\n",
      "epoch test acc  tf.Tensor(0.27378318, shape=(), dtype=float32)\n",
      "test acc top5 tf.Tensor(0.734375, shape=(), dtype=float32)\n",
      "epoch test acc top5  tf.Tensor(0.6233407, shape=(), dtype=float32)\n",
      "[ 9 13  1  5  1 17 11  2  3  9  2  1  8  3  2  1  1  9 11  8  8  6  1 10\n",
      "  3  8  5  3  6  1  9  3  1  1  9  8  3  9  3 17  1  2  9  1  1  3  7  3\n",
      "  1  1  8  2  1 11  1  9 17  1  1 11  2  3  2  9] [12  6  7  5  5 17 11  2  3 18 27  9 45  2  2 10 10  9  3 16  4  8 12 19\n",
      "  3  4 29  3  2  7 23  3  5 10 10  1  5 10 14  3  1 27 18 13  8 31  6 27\n",
      " 10  4  9  2  4 11 20  7  3  4 16  3  2 20  2 19]\n",
      "test acc  tf.Tensor(0.234375, shape=(), dtype=float32)\n",
      "epoch test acc  tf.Tensor(0.2734375, shape=(), dtype=float32)\n",
      "test acc top5 tf.Tensor(0.640625, shape=(), dtype=float32)\n",
      "epoch test acc top5  tf.Tensor(0.6234923, shape=(), dtype=float32)\n",
      "[ 5  8  2  4  1  1  7  5  6  8  9  2  6  5  1  6  5  1 20  8  5  7  3  1\n",
      "  1  8  1  2  1  9  2  2  9  8  8  3  1 11  2  4  1 25  1  1  3  5  1  1\n",
      "  8 13  8  1  1  1  9  6  3  1  2  3  3  6  1  1] [ 5  8  2  7 12 15  7  5  9  6 10 20  5 12 29  7  7  3 20  8  5 20  3  9\n",
      "  8 18 16  2  8  4  2  2 10  6 10 10  4  3  2  1 24 25  0 10  3  5  1  7\n",
      "  4  7  8  7 12  8 16  4  7 38 20  3 17  5  1  9]\n",
      "test acc  tf.Tensor(0.3125, shape=(), dtype=float32)\n",
      "epoch test acc  tf.Tensor(0.2737772, shape=(), dtype=float32)\n",
      "test acc top5 tf.Tensor(0.6875, shape=(), dtype=float32)\n",
      "epoch test acc top5  tf.Tensor(0.6240489, shape=(), dtype=float32)\n",
      "[ 1  3  1  5  1  1  3  1  9  6  1  2 13  1  1  1  8  1  6  5  1  8 20  1\n",
      "  1  9  9  8  8  1 12  3  1  8  5  1  6  6  1  7 26  9  1  1  9  1  1  1\n",
      "  1  9  8 13  1  1  6  1  8  5  8  8  3  3  3  1] [21  3  9  5 10  1  9 10 23  8  8  2 12 19  8  7  8  9 10  5  7  4 20 19\n",
      " 23 12 24  4 12  4 22  3  7  9 16  4  7  6  6  9 26  8  5 30 39  7  8 22\n",
      "  1 39 10  6  9  4  6 12  6  8  1 12 40 40  7 34]\n"
     ]
    },
    {
     "name": "stderr",
     "output_type": "stream",
     "text": [
      "118it [00:06, 16.97it/s]"
     ]
    },
    {
     "name": "stdout",
     "output_type": "stream",
     "text": [
      "test acc  tf.Tensor(0.1875, shape=(), dtype=float32)\n",
      "epoch test acc  tf.Tensor(0.2730334, shape=(), dtype=float32)\n",
      "test acc top5 tf.Tensor(0.546875, shape=(), dtype=float32)\n",
      "epoch test acc top5  tf.Tensor(0.62338364, shape=(), dtype=float32)\n",
      "[ 9  1  9  2  9  9  1 28 17  8  5  1  1  9  5  1  3 17  1  1  1 13  5  1\n",
      "  3  8  1  8  4  1 11  1  2 13  1  1  3  9  6  8  1  1  8 17 13  8  9  8\n",
      "  1  8  1  2  8  3 17 20  9  8 13  3  3  1 11 11] [ 7 16  9  2  8 19  7 28 29  8  5  8 28  4 18  5 42 25  7  4  8 15 29 10\n",
      "  3  5  7  8 20 12  3 22  2 10  9  7  9  1  7  6 16  6 36 17 43  6  9 16\n",
      "  1  4  6  2 10 40 17  6  9  7  4 17  9  7 11  3]\n",
      "test acc  tf.Tensor(0.234375, shape=(), dtype=float32)\n",
      "epoch test acc  tf.Tensor(0.272703, shape=(), dtype=float32)\n",
      "test acc top5 tf.Tensor(0.5625, shape=(), dtype=float32)\n",
      "epoch test acc top5  tf.Tensor(0.62286323, shape=(), dtype=float32)\n",
      "[ 4 25  3  8  1  1  8  3  8  8 13  3  1  1  6  3  5  1  3  8  7  1  1 13\n",
      "  8  2  8  5 17  3  8  1  1 17  1  1 13  1  9  1  1  1  2  9  8  1  8  8\n",
      "  1  6  5  3  6  3  9 17  8  1  9  3  1  1 20 20] [38 17  3  8  5 38 10 21 10 10  6  4  5 28  5 15  1  4 17  6  9 18  5  6\n",
      " 10  2 19  5  7 14  6  5  1 17  4 16 18 28 23 18 33 29  2 16 22 19 21  1\n",
      "  5 36  5  4 17  2 30  9  8 24 23 14  8  1 20 20]\n",
      "test acc  tf.Tensor(0.1875, shape=(), dtype=float32)\n",
      "epoch test acc  tf.Tensor(0.27198094, shape=(), dtype=float32)\n",
      "test acc top5 tf.Tensor(0.609375, shape=(), dtype=float32)\n",
      "epoch test acc top5  tf.Tensor(0.6227489, shape=(), dtype=float32)\n",
      "[17  3  8  9 25  1  4  9  1  8 25  1 13  6  6  1  8  3  3 10  3 13  3  9\n",
      "  8 12  3  9 12  9  1 25  1  1  3  1  1  8  5  1  3  5 11  6 23  1 27  9\n",
      "  8  9  7  5  3  5  7  1  8  5  1  9  2  3  1  5] [ 3 12 44 12 25  7  4 12 28 34 25  1 44  5  6  7  8  1  3  8 15  7  2 12\n",
      " 19  7 27  1 24 22  1 25  6  6 10  6  6  8  8 16  4  1 11 16 37  8 22  9\n",
      " 10 30  9  5 12 10  9  6  6 24 21  9  2 10  6  5]\n"
     ]
    },
    {
     "name": "stderr",
     "output_type": "stream",
     "text": [
      "122it [00:06, 17.34it/s]"
     ]
    },
    {
     "name": "stdout",
     "output_type": "stream",
     "text": [
      "test acc  tf.Tensor(0.25, shape=(), dtype=float32)\n",
      "epoch test acc  tf.Tensor(0.27179623, shape=(), dtype=float32)\n",
      "test acc top5 tf.Tensor(0.5625, shape=(), dtype=float32)\n",
      "epoch test acc top5  tf.Tensor(0.6222426, shape=(), dtype=float32)\n",
      "[17  9  5  1  5  1  1  1 17  3  6 17  1  2  8  7 17  9 17  1  8  6  8  8\n",
      " 20 13  4  5  3  3  9  1  9 26  6  5 11  3  4  1 11 17  2  3  1  3  1  2\n",
      "  1  3  1  8 17  1  2  3  3 11  1  1  1  2  3 25] [ 7  7 10 16  3  9 12  5 25 14 10  6  9 20  1  4 17 12 17  8 10 29 10  1\n",
      " 28 18  1 24  3 32  7  6 18 26  8 10 11  3 28  5 11  3  2 36  5  3  6 20\n",
      " 22  3  8 39  9 23  2 40  3 11  7  9  7  2 46 26]\n",
      "test acc  tf.Tensor(0.21875, shape=(), dtype=float32)\n",
      "epoch test acc  tf.Tensor(0.27135417, shape=(), dtype=float32)\n",
      "test acc top5 tf.Tensor(0.625, shape=(), dtype=float32)\n",
      "epoch test acc top5  tf.Tensor(0.62226564, shape=(), dtype=float32)\n",
      "[ 1  1  8  6  1  5  2  9  1  3  6 26  1  1  1  3  1  3  3  9 26  1  9  9\n",
      "  3  9  1  1  1  1  6  9  2  9 12  1 26  6  1  1  6  2  3 26 13  2  8  5\n",
      " 13  8  9  9  1  7  8 12  1  3  1  5  3  1  7  1] [ 7  4  8  1  5  5  2 10 21 14 47 26  1 10 18 14 20  6 14 33 26  8  9 16\n",
      "  3 27 10 24  6 13  9  1  2  9  4 24 19  3 15  1  4  2  4  9  6  2 10  5\n",
      "  4  1 18  9  1  4 10  8  5  3  8  5  3 13 37  1]\n",
      "test acc  tf.Tensor(0.3125, shape=(), dtype=float32)\n",
      "epoch test acc  tf.Tensor(0.2716942, shape=(), dtype=float32)\n",
      "test acc top5 tf.Tensor(0.625, shape=(), dtype=float32)\n",
      "epoch test acc top5  tf.Tensor(0.6222882, shape=(), dtype=float32)\n",
      "[ 1  1  3  3  8  6  6  1  8  3  6  2  1  7  1  1 17  3  8  1  1  3  2 13\n",
      "  1  2  8  6  3  1  1  1  8  8  9 12  1  1  8  7  3  2  7  1  3  9  2  9\n",
      "  2  8  5 11  1  1 26  8  1  2  6  8  8  1  2  8] [18 20  3  3  8  8  9 16 13 27  7  2 43 37 10 21 17  3 38  1  6 48  2  6\n",
      " 10  2 10 15 23  1 33 31  8  9 19 12  7 38 45  9  3  2  9 15  3  9  2 44\n",
      "  2  8  5  3  1  5 48  8  6  2  3  8  9 15  2  1]\n",
      "test acc  tf.Tensor(0.390625, shape=(), dtype=float32)\n",
      "epoch test acc  tf.Tensor(0.27266905, shape=(), dtype=float32)\n",
      "test acc top5 tf.Tensor(0.59375, shape=(), dtype=float32)\n",
      "epoch test acc top5  tf.Tensor(0.6220543, shape=(), dtype=float32)\n"
     ]
    },
    {
     "name": "stderr",
     "output_type": "stream",
     "text": [
      "\r",
      "124it [00:06, 16.85it/s]"
     ]
    },
    {
     "name": "stdout",
     "output_type": "stream",
     "text": [
      "[ 1 12  9  9  6 20 11  8  3  3 17  1  9 17  2  3 13  1  3  4  6  1  6  6\n",
      "  3  8  3  6  3  6  1  1 20  5  9  8 13  3  1  1  2  3  3 11 17  5  1  8\n",
      "  1  1 13  8  6  9  9  5  1  3  1  8  9  5  9  2] [ 6  8  4  9  5 20 11  6 35  3  3 13  9 17 37 35  9  1 27 42  8 16  8 36\n",
      "  7  6  2  6 11  6  4 13 20 34 39 15 22 20  7  1  2  3 14 11 17  5  6  4\n",
      " 29  4 38 10 14 10 16 21  6  3 29 10 27  5  7  2]\n",
      "test acc  tf.Tensor(0.296875, shape=(), dtype=float32)\n",
      "epoch test acc  tf.Tensor(0.27286586, shape=(), dtype=float32)\n",
      "test acc top5 tf.Tensor(0.59375, shape=(), dtype=float32)\n",
      "epoch test acc top5  tf.Tensor(0.6218242, shape=(), dtype=float32)\n",
      "[ 1  3  3  8 11  8  7  9  1  8  1  8 17  8  1  5  1  6 10  5  2  9  6  1\n",
      "  6 17  3  6 17 13  1  1  7  1  1  1 11  8  5  6  6  1  8  3  5 11  8  6\n",
      "  9  8 13  9  8  6  3  3  8  1  8  9  2  8  8  1] [ 4 15  9  8 11 10 20  9  4 10  7  6 17  8  4  8 30 13  4  2 34 30  5  6\n",
      "  1  9 25 10 17  3  5  4  7 13 19 12 11  1 11  7  6  4  8 27 10 11  1 13\n",
      " 30 33 43 16  8  2 26  3  4 16  8 20  2 45 10  4]\n",
      "test acc  tf.Tensor(0.234375, shape=(), dtype=float32)\n",
      "epoch test acc  tf.Tensor(0.27255544, shape=(), dtype=float32)\n",
      "test acc top5 tf.Tensor(0.6875, shape=(), dtype=float32)\n",
      "epoch test acc top5  tf.Tensor(0.62235385, shape=(), dtype=float32)\n",
      "[ 5  2  6  8  5 17  9  3  3  3  8  9  1  1  1  5  8  8  2  3  2  1  7 11\n",
      "  3 13  3  3  5  3  3  2  2  1  9  1  8  5  1  3  2  1  1  3  6 11 17  9\n",
      "  5  3  8  1  1  9  3  1  1  8  8  1  1  1  9  1] [ 8  2  6  6  5 17 10 14  2 17 21  7  1  7 10  5  1 10  2 10 20  5 35 11\n",
      " 14  6  3  3 18 48 15  2  2  1  9  4  6 15 10  3  2  8 10  9  4 11 15  1\n",
      " 18  1  4 10  5 19  3 16  4  8 12  7 21  1  9  5]\n",
      "test acc  tf.Tensor(0.328125, shape=(), dtype=float32)\n",
      "epoch test acc  tf.Tensor(0.273, shape=(), dtype=float32)\n",
      "test acc top5 tf.Tensor(0.65625, shape=(), dtype=float32)\n",
      "epoch test acc top5  tf.Tensor(0.622625, shape=(), dtype=float32)\n",
      "[ 3  1 17  3  1  1  1  1  3  5  3  3  2  1  7 13  8  1  1 11  1  8  1  3\n",
      "  3 25  1  6 17  3  1  8  6  8  3  6  9  1  9 13 13  1  2  8  6  3  3  1\n",
      "  1  1  9 13 26  1  3  1  1  8  7  1  6 11  2  6] [ 3 10  3  3 38  9 18 30  4  5  2  7  2  6  9 21 10  6  5 11  7 28 10  3\n",
      "  3 25 33 10 35 32  4  8 10 10 25 20  9  8 16  2  8  7  2 16  7 15 35  5\n",
      " 24 15  9  5 26  4  3  9  7 10 47  1  7  3 23  5]\n"
     ]
    },
    {
     "name": "stderr",
     "output_type": "stream",
     "text": [
      "128it [00:07, 17.15it/s]"
     ]
    },
    {
     "name": "stdout",
     "output_type": "stream",
     "text": [
      "test acc  tf.Tensor(0.234375, shape=(), dtype=float32)\n",
      "epoch test acc  tf.Tensor(0.27269346, shape=(), dtype=float32)\n",
      "test acc top5 tf.Tensor(0.578125, shape=(), dtype=float32)\n",
      "epoch test acc top5  tf.Tensor(0.62227184, shape=(), dtype=float32)\n",
      "[ 2  2  5  6  3  3  1  6 25  6  9  9  8  1 13  5 11  1  3  3  8  8  8  5\n",
      "  8 17  1  5  2  8  1  8 26  3  1  1  1  6  1 20  9  3  2  1  5 20  3  1\n",
      "  8  1  1  7 11  6  8  1  8  1 11  1  6 17  8 13] [ 2 20  5  6 14 14  5 13 25  4  9  9 10  4 15 38  3  8 35  3 22 18 47 45\n",
      " 10  6  9  5  2  1  1 10 26 37  5 10 21  1 10 20  9 27  2  7  5 28 14 18\n",
      "  4  4  8 14 11  6  8 16 45  1 11 10 27  7  8 18]\n",
      "test acc  tf.Tensor(0.328125, shape=(), dtype=float32)\n",
      "epoch test acc  tf.Tensor(0.2731299, shape=(), dtype=float32)\n",
      "test acc top5 tf.Tensor(0.640625, shape=(), dtype=float32)\n",
      "epoch test acc top5  tf.Tensor(0.6224163, shape=(), dtype=float32)\n",
      "[ 8  5  1  1  3  8  1 17  8  3  8  8  6  1  8  1  1  1  8  2  8  1  2  9\n",
      " 11  1  6  9  8  4 12  1  1  2  1  1  6  1  6  1  3  1  1  1  2  9  8  8\n",
      " 13 20  5  9  1  2  3  6  1 13  3  8  6  1  8 13] [ 9  5 16 10 40  6 34  3  1 31 19 10  1  5 13 13 16  1  8  2  1 10  2 30\n",
      "  3  8  7 10  1  9  1 10  9  2 10  1  7 21  6  4  2 10 24 10  2  9  8  4\n",
      "  1 20 13  9  5  2  5  7 20 15 32 12  6  5 13  6]\n",
      "test acc  tf.Tensor(0.234375, shape=(), dtype=float32)\n",
      "epoch test acc  tf.Tensor(0.27282715, shape=(), dtype=float32)\n",
      "test acc top5 tf.Tensor(0.6875, shape=(), dtype=float32)\n",
      "epoch test acc top5  tf.Tensor(0.6229248, shape=(), dtype=float32)\n",
      "[26  1 17  1 17  3  5  3  2  1  6  5  9  3  8  3  1  8  1  1  4 20  1  1\n",
      "  1  1  1  6  1  1  1 11  1 11  9  1  2  3  1  3 10 26 17  9  1  5  8  5\n",
      "  1  9  1  3 11  7  9  1 28 20  1  1  8 11  1 13] [ 3  4 17  4 22  6  5  3  2  4 21  5  9 23 16 40 10 22 18  4 10 28  8  1\n",
      " 42 16  4  6  9  5  5 11  4  3  1  7  2  5  5  3  4 26 17  7 19  5 18  5\n",
      " 10 12 29  6 11 20 12  7 28 27 15  4  7 11  8  6]\n",
      "test acc  tf.Tensor(0.28125, shape=(), dtype=float32)\n",
      "epoch test acc  tf.Tensor(0.27289245, shape=(), dtype=float32)\n",
      "test acc top5 "
     ]
    },
    {
     "name": "stderr",
     "output_type": "stream",
     "text": [
      "132it [00:07, 17.32it/s]"
     ]
    },
    {
     "name": "stdout",
     "output_type": "stream",
     "text": [
      "tf.Tensor(0.671875, shape=(), dtype=float32)\n",
      "epoch test acc top5  tf.Tensor(0.62330425, shape=(), dtype=float32)\n",
      "[11  3  1  8  5 17 11  1 13  1  1  6  1 26  1 11 17 20  1  2 17 26  1  6\n",
      "  1  8  1  9  8  6  5  1  1  8  6  8  9  1  6  9 12 25  1 13  1  1  2  2\n",
      "  1  7  1 25 13 13 20  9  3  3  8  3  1  6  1  6] [14 34 18 10  5  6 11 10 29  9 10 38 16 26  1 11  3 28  8  2 15 32  7  1\n",
      " 10 16  4  9  7  4  5 19  1  4  7 16  4 18  7 18 12 17 10  3 10  1  2  2\n",
      " 36  7 10 17  9  6 20 19 27  4  8 14  8  8 24  7]\n",
      "test acc  tf.Tensor(0.25, shape=(), dtype=float32)\n",
      "epoch test acc  tf.Tensor(0.27271634, shape=(), dtype=float32)\n",
      "test acc top5 tf.Tensor(0.625, shape=(), dtype=float32)\n",
      "epoch test acc top5  tf.Tensor(0.6233173, shape=(), dtype=float32)\n",
      "[ 1  1  8  8 11  1  7  3  8  1  3  3  5  6 13 13 11  5 13  1  6  1  3  8\n",
      "  3  8  3  6  1  2  1  9  1  1  8  2  1  1  1  6  9 17  1 12  5  5  6  1\n",
      "  6  8  9  1  1  5  5  3  9 17  1  1  8  2  2 17] [16  7  4 10 11 20  9 31 37 29 14  2  5 13  6  3  3  5 13 38 10  4  3  8\n",
      "  3 13 25  6  9  2  5 39  6 10  1  2  4  4 28  3 15 17  1  1  5 36  6 47\n",
      " 25 10 23  6 24  5  5 17 18  3  5 28 21  2  2 25]\n",
      "test acc  tf.Tensor(0.28125, shape=(), dtype=float32)\n",
      "epoch test acc  tf.Tensor(0.2727815, shape=(), dtype=float32)\n",
      "test acc top5 tf.Tensor(0.65625, shape=(), dtype=float32)\n",
      "epoch test acc top5  tf.Tensor(0.6235687, shape=(), dtype=float32)\n",
      "[ 1  1  1  6  3  3  9  3  9  3  3  6  2  3  3  9  1  9  9  3  1  8  1  1\n",
      " 12  9  3  8  6  1  1  8  7  8  8  8 10 25  8 26 13  8  3  7  1  8  9  1\n",
      "  8  1  9  1  1 11 28  1  1  1  6  6 11  3  8  8] [16  4 39  9 14  2 10  3  9 40  3 15  2  3 46 12  7  1  1 10  6  1  5  4\n",
      "  1  4  3 19  1 20 28 10 20 12 21  1 13 25 13 26  6 10  3  4  8  4  9  4\n",
      "  1  7 30 15 29 46 28 10  7  5  6 12  3  4  6  8]\n",
      "test acc  tf.Tensor(0.203125, shape=(), dtype=float32)\n",
      "epoch test acc  tf.Tensor(0.27225378, shape=(), dtype=float32)\n",
      "test acc top5 tf.Tensor(0.625, shape=(), dtype=float32)\n",
      "epoch test acc top5  tf.Tensor(0.62357956, shape=(), dtype=float32)\n"
     ]
    },
    {
     "name": "stderr",
     "output_type": "stream",
     "text": [
      "\r",
      "134it [00:07, 17.27it/s]"
     ]
    },
    {
     "name": "stdout",
     "output_type": "stream",
     "text": [
      "[ 5  1  3  1  3  1 17  1  1  8  9  8  8 10  8  1 12 20  2  1  1  8  6  8\n",
      "  8  3 17  1  3 11  5  9  8  8  9  5  7 10 11  1  5  1  5  1  3  5  7  1\n",
      "  1  8  9  1  2  2  9  6  6  3  1  8  8  3  8  8] [ 5 19 35  9 40  5 17 13  1 38  9 10 10 27 10 10 16 20  2 10  4  8  4  8\n",
      "  8 14 15  1 36 11  5  4 10 29 10 45  7 47 14  1  5 33  5  7  3  8 20 15\n",
      "  3  1 28 29  2  2 39  6 13  3  1  9 30 11  9 20]\n",
      "test acc  tf.Tensor(0.34375, shape=(), dtype=float32)\n",
      "epoch test acc  tf.Tensor(0.27279136, shape=(), dtype=float32)\n",
      "test acc top5 tf.Tensor(0.671875, shape=(), dtype=float32)\n",
      "epoch test acc top5  tf.Tensor(0.6239427, shape=(), dtype=float32)\n",
      "[ 1  1  3 17  9  3  3  2  1  6  3  3 13  3  1  3  5  1  9  1  9  2  1  9\n",
      "  3  7  1  1  3  8  9  1  9 10 13 11 11  3  8 26  8  1  5  1 10  6  5  3\n",
      "  1 11 26  3  1  5  8  6  9  6 11  6  1 13 26  3] [ 1 12 27 17  6 35  3  2 38  2  2 15 18 15  1  3  1 13 19 16 18  2 43 19\n",
      "  3  7  5  1  2  8 18  6 41 10  5  3  3  3  9 26 29  4  9  6 12 13  5 14\n",
      "  1 11 32 31 10 10  6 41 12  4 11  6  1 19 26 14]\n",
      "test acc  tf.Tensor(0.328125, shape=(), dtype=float32)\n",
      "epoch test acc  tf.Tensor(0.2732043, shape=(), dtype=float32)\n",
      "test acc top5 tf.Tensor(0.640625, shape=(), dtype=float32)\n",
      "epoch test acc top5  tf.Tensor(0.6240672, shape=(), dtype=float32)\n",
      "[ 3  9  1  2  1  7  1  8  8  2  3  6  8  1  9  1  3  8  8  1  8  5  3  1\n",
      "  8  3  9  1  1  9  7  1  6  6  3  5  1  5  3  1  1  2  7  3 20  6  1 13\n",
      "  5  6  9 25  8  3  8  2  9  1  8  3  5 12  3  3] [ 3  9 30  2  5 16  7  6  8  2  7 21 10 13  9  8 15 10 30  6  1 16  3 10\n",
      "  4 14 18 21 24  8  9 10  7  9  9  5 21  4  7  1  7  2 20  2 20  7 10  6\n",
      "  5 12  9 25 13 31  1  2 16  1 45  3 10  9 14  3]\n",
      "test acc  tf.Tensor(0.28125, shape=(), dtype=float32)\n",
      "epoch test acc  tf.Tensor(0.2732639, shape=(), dtype=float32)\n",
      "test acc top5 tf.Tensor(0.640625, shape=(), dtype=float32)\n",
      "epoch test acc top5  tf.Tensor(0.6241898, shape=(), dtype=float32)\n",
      "[ 8  8 17  1  1  3  9  1 12  8  1 13  1  2  6  8  8 20  1 17  2  1 17  1\n",
      "  1  2  2  2  8  8  5  1  1  8  1  1  3  3  1  8  2  1  9 25  1  2  3  1\n",
      "  8  3  3  1  5  3  3  2  1  3 10  8  9  1  3  1] [ 8  4 17  8 29  9  9  4 10  1  1 29  9 20 29 19  6 20  1 23  2  6 27 19\n",
      "  5  2  2  2 19 10 22 30  8  8 38  7 14  2  1  8  2 10  7 25 37  2 14 13\n",
      " 12  3  2  7 17  3 14  2  4  3 17  8  9  7  2 18]\n"
     ]
    },
    {
     "name": "stderr",
     "output_type": "stream",
     "text": [
      "138it [00:07, 17.18it/s]"
     ]
    },
    {
     "name": "stdout",
     "output_type": "stream",
     "text": [
      "test acc  tf.Tensor(0.34375, shape=(), dtype=float32)\n",
      "epoch test acc  tf.Tensor(0.27378216, shape=(), dtype=float32)\n",
      "test acc top5 tf.Tensor(0.671875, shape=(), dtype=float32)\n",
      "epoch test acc top5  tf.Tensor(0.62454045, shape=(), dtype=float32)\n",
      "[ 1  1  8  3  1  3  3  2 20  8  2 26 13  8 11  8  9  1 11 17  1  2  8  3\n",
      "  9  1  3  8  5  2  1  5  1  1  8  2  4 11  3  3  1  9  3  1  2  1  1 11\n",
      "  2 17  7  9  8  3  9 20  1  1  5  8 17  6  1  9] [ 6  9 19 35  9 18 35 20 12 19 27 26  7 24 11 12  9  5 11  9  9  2  9  2\n",
      "  4  6  3  8  5  2 18  5  4  1 10  2  4  3 41  3 30 33 26  7  2  7  0  3\n",
      "  2  6 37 30 22 27 30 20  0 21 22  4 17 25 44 19]\n",
      "test acc  tf.Tensor(0.28125, shape=(), dtype=float32)\n",
      "epoch test acc  tf.Tensor(0.27383667, shape=(), dtype=float32)\n",
      "test acc top5 tf.Tensor(0.59375, shape=(), dtype=float32)\n",
      "epoch test acc top5  tf.Tensor(0.6243157, shape=(), dtype=float32)\n",
      "[ 1  3  5  1  8  1  5  3  1  2  1  3  3  6  3  8  9  1  8  5  1  1  1  8\n",
      "  6 11 17  9  1  1  3 20  8  1  5 12  9  6  8  3  1  9 13  8  1 13  3 20\n",
      " 17  3  5  9  1  2  1  1  8  1  6  1  6  1 25  6] [10  3  8 38  8 16 10 17  3  2 10  2  3 15  3  8 23  9  6  5 15  6 24 13\n",
      "  7 11 17  9 10  6 48 38  1  4  5 19  9  7  1 37  7 12  6  4  9  8 28 39\n",
      "  8  2  0  9  5  2  5 18  1  7  7  6  6  7 17  1]\n",
      "test acc  tf.Tensor(0.234375, shape=(), dtype=float32)\n",
      "epoch test acc  tf.Tensor(0.27355072, shape=(), dtype=float32)\n",
      "test acc top5 tf.Tensor(0.578125, shape=(), dtype=float32)\n",
      "epoch test acc top5  tf.Tensor(0.623981, shape=(), dtype=float32)\n",
      "[17 26  6  8  5  3  6  3  1  1  1  7  2  8  8  3  3  3  8  1 17  1  1  3\n",
      "  1  3  1 12  1  8  1 25  2  3  6  1  4  9  3  6  5  1  2  3  6 11 13  1\n",
      "  2  2  1  1  1  1  1  1  1  3  9 25  6  1  1  8] [ 3 26  6  9 29 15 19 14 38 39  7  4  2  1  8  4 32  2 21 13 25  9  4  6\n",
      "  9  3  7  7  8  9  5 25  2  3  7  7 20  9 36 15  5 15  2  3  5  3 15  4\n",
      "  2  2  7  5  4  6 29  3  4  2 12  3  2  6  1 21]\n",
      "test acc  tf.Tensor(0.234375, shape=(), dtype=float32)\n",
      "epoch test acc  tf.Tensor(0.27326888, shape=(), dtype=float32)\n",
      "test acc top5 tf.Tensor(0.671875, shape=(), dtype=float32)\n",
      "epoch test acc top5  tf.Tensor(0.6243255, shape=(), dtype=float32)\n"
     ]
    },
    {
     "name": "stderr",
     "output_type": "stream",
     "text": [
      "142it [00:07, 17.10it/s]"
     ]
    },
    {
     "name": "stdout",
     "output_type": "stream",
     "text": [
      "[ 9  1  3  1 17  9  1  6  1  1  1  1  3  6  8 17  3  3  8  5  6  2  1  1\n",
      " 13  9  9  9 25  5  1  5  1 26  1  2  1  2  8  1  1  3  3  6  1  1  6 11\n",
      "  3 13  1  9  8 17  8  8  3 17  1  1  9  8 20  1] [ 4  4 32 38 27  9  7  6 12  9 22 20  3  6 21  3  3 20  8 39  1  2 36  9\n",
      " 17 42 10 15 40  5  1  5 16 46 10  2 20  2  8  9 16 48 42  5  5 18  6 46\n",
      " 14  5  3  7 22  3 13 10 14  1 38 16 12  8 20 10]\n",
      "test acc  tf.Tensor(0.25, shape=(), dtype=float32)\n",
      "epoch test acc  tf.Tensor(0.27310267, shape=(), dtype=float32)\n",
      "test acc top5 tf.Tensor(0.484375, shape=(), dtype=float32)\n",
      "epoch test acc top5  tf.Tensor(0.6233259, shape=(), dtype=float32)\n",
      "[ 2 17  9  1  1 17  1  8  5  9  1  8  3  2  1 17  9  1  3  8 20  1  6  3\n",
      "  1  2  9  1  6  9  1  6  9  7  3  7  3  9  1  5  1  5  8  3 13  7  2  3\n",
      "  9  9 13  1  9  3  3 17  8  1  3  2  8  1  7  1] [ 2 25  9 21 15  6 13 22 10 39  7 19 27  2  1 17  4  5  1  8 20 13  5 33\n",
      " 20  2  1  1 10 12  7 30  9 20  3  7 40  9  9  0 10  5  8  2 22 20  2  3\n",
      " 39 10  5  6 23 40 14  7 21  1  2  2  6 18 18  5]\n",
      "test acc  tf.Tensor(0.296875, shape=(), dtype=float32)\n",
      "epoch test acc  tf.Tensor(0.27327126, shape=(), dtype=float32)\n",
      "test acc top5 tf.Tensor(0.5625, shape=(), dtype=float32)\n",
      "epoch test acc top5  tf.Tensor(0.6228945, shape=(), dtype=float32)\n",
      "[ 1  6  3 11  4  1  8  9  1  1  3  9  6  1  6  5  9  9  7  8  5  3  3  1\n",
      "  1  1  1  8 26  1  3 17  1  8 11  3  3  3 11  3  7 10  1  9  5 17  1  8\n",
      "  6  3 13  2  8  1  1  1  9  1  8  3  5  1  3  8] [20  9 27  3 28 34 29 23 31 28  3 34  1 13  6  5  4 16 27 10  5  3  3  5\n",
      " 12 10 13 18 32  1 14 17  7  8 11  6 32 35 11  2 20 17  5 16 16 17  1  4\n",
      " 14 40  6  2 10  1 10  9  9  9  8 14  5  8  3  8]\n",
      "test acc  tf.Tensor(0.3125, shape=(), dtype=float32)\n",
      "epoch test acc  tf.Tensor(0.27354753, shape=(), dtype=float32)\n",
      "test acc top5 tf.Tensor(0.59375, shape=(), dtype=float32)\n",
      "epoch test acc top5  tf.Tensor(0.62268925, shape=(), dtype=float32)\n",
      "[ 3  8 13  3 11  3 10 12  8  1 13  3  8  5 20  8  1  8  7  8  9  9  1  1\n",
      "  1  1  9  2  9  8  8  3  1  9  1  6  6  8  3  9  9  6  1  2  8 13  6  1\n",
      "  1  7  5  6  6  2  5  1  8  1  9 17 11  3  1 17] [48  1 24  3  3  7 17 44 17  6  2  5  8 19 12  4 15  6  7  9  9  8 18  1\n",
      "  7  1 39  2 28 22 16 20  4  9  6 15 15  9  3 41 30 10  9  2 10 13 31 30\n",
      "  1 30  5 38 10  2 39 16 18  7  9 11 11 26 22 15]\n",
      "test acc  "
     ]
    },
    {
     "name": "stderr",
     "output_type": "stream",
     "text": [
      "146it [00:08, 17.11it/s]"
     ]
    },
    {
     "name": "stdout",
     "output_type": "stream",
     "text": [
      "tf.Tensor(0.25, shape=(), dtype=float32)\n",
      "epoch test acc  tf.Tensor(0.27338287, shape=(), dtype=float32)\n",
      "test acc top5 tf.Tensor(0.46875, shape=(), dtype=float32)\n",
      "epoch test acc top5  tf.Tensor(0.6216128, shape=(), dtype=float32)\n",
      "[ 1  8  6  3  5  8  1  3  8  6  1  1  7  1  1  8  1  1  6  1  3 10  3  5\n",
      "  1 13  1 26  8  3  9  1 25 17  1  1  1  1  3  1  5  2  1 11 17  8  8  9\n",
      " 25  1  9  2  8  3  3  3  9  1  6 20  7  3  1  1] [16  8  1  2  5 13  5  3  8 26  4 16  1 28  4 10 24  4 13 16  2 10 14 10\n",
      "  7  6  4 26 10 14  4  5 17 17 44  7  4 33  3 10 10  2  1  3  3 28  8 18\n",
      " 25 15  8  2 24 40 29 18  9 10  9 20  7  3  8  6]\n",
      "test acc  tf.Tensor(0.265625, shape=(), dtype=float32)\n",
      "epoch test acc  tf.Tensor(0.273329, shape=(), dtype=float32)\n",
      "test acc top5 tf.Tensor(0.6875, shape=(), dtype=float32)\n",
      "epoch test acc top5  tf.Tensor(0.6220703, shape=(), dtype=float32)\n",
      "[ 1  1  1  3  1  9  8  7  1  2  3  3  8  1  3  1 13  3  6  1  3  3  5 17\n",
      "  3  1  3  9  1 26  8  2 10 12  3  9  3  9  9 25  8 17  5  8  8  3  1  1\n",
      "  1 17  5  9  5  1  1  5  3  1  8  1  6  6  9  8] [ 6  4  6  1 10 12 10  7  7  2 14 27 19 10 10 28  5 48  1  4  5 14  5  3\n",
      "  3 24  3  7  6 26 12  2  9 33  3  4 40  9  1 11  8 17  5 10 18  3 19  9\n",
      "  1 17  5  7  5 19 15  5  3 10 22  9 29  6  9 10]\n",
      "test acc  tf.Tensor(0.328125, shape=(), dtype=float32)\n",
      "epoch test acc  tf.Tensor(0.27370688, shape=(), dtype=float32)\n",
      "test acc top5 tf.Tensor(0.59375, shape=(), dtype=float32)\n",
      "epoch test acc top5  tf.Tensor(0.621875, shape=(), dtype=float32)\n",
      "[11 13  2  1 13  8 13 12  9  1  4  8  9  8  1  1 20  1  2  1  1  6  9 20\n",
      " 11 13 13  3  1  3  6  1  7  1  2 17 13  6  3  5 12  1 11 12 13  8  9 11\n",
      " 11  8  1  1  7 17  5  8  8  3  1  9  3  6  3  2] [ 3  5  2 16 13  8  9 19  9  7  8  4 23  4 13  6 27  9  2 12  9  6 10 20\n",
      " 11 24  3 18 43 43  3  4  5 10  2 25  1  6  6  5 37 10 11  8 13  1 41 11\n",
      " 14 22 21  8  1 22  5 12 13  3 12  8  3 15  3 42]\n",
      "test acc  tf.Tensor(0.28125, shape=(), dtype=float32)\n",
      "epoch test acc  tf.Tensor(0.27375856, shape=(), dtype=float32)\n",
      "test acc top5 tf.Tensor(0.59375, shape=(), dtype=float32)\n",
      "epoch test acc top5  tf.Tensor(0.62168235, shape=(), dtype=float32)\n"
     ]
    },
    {
     "name": "stderr",
     "output_type": "stream",
     "text": [
      "147it [00:08, 17.78it/s]\n"
     ]
    },
    {
     "name": "stdout",
     "output_type": "stream",
     "text": [
      "[ 2  8  4  1  1  3  3 13  3 13  1  3  1  9  9  5  8  8  3 13  8 13  6  3\n",
      "  7  1  6  7  1  2  8  8  3  3  6  3  1  2  3  1  1  1  5  1] [ 2  6 16  1 38  3  6  4  2  6 18 27 10  7 12  5  8 16  3 13 13  6 10  6\n",
      "  1 28  8 33  7  2 36  6  4 14  5  3  1  2  3 33  4 13 10  1]\n",
      "test acc  tf.Tensor(0.29545453, shape=(), dtype=float32)\n",
      "epoch test acc  tf.Tensor(0.27386025, shape=(), dtype=float32)\n",
      "test acc top5 tf.Tensor(0.6363636, shape=(), dtype=float32)\n",
      "epoch test acc top5  tf.Tensor(0.6217512, shape=(), dtype=float32)\n",
      "Epoch: 3\n",
      "Training: \n"
     ]
    },
    {
     "name": "stderr",
     "output_type": "stream",
     "text": [
      "53it [00:06,  7.95it/s]"
     ]
    }
   ],
   "source": [
    "if __name__ == \"__main__\":\n",
    "    parser = get_parser()\n",
    "    arg, unknown = parser.parse_known_args()\n",
    "\n",
    "    base_lr         = arg.base_lr\n",
    "    num_classes     = arg.num_classes\n",
    "    epochs          = arg.num_epochs\n",
    "    checkpoint_path = arg.checkpoint_path\n",
    "    log_dir         = arg.log_dir\n",
    "    train_data_path = arg.train_data_path\n",
    "    test_data_path  = arg.test_data_path\n",
    "    save_freq       = arg.save_freq\n",
    "    steps           = arg.steps\n",
    "    batch_size      = arg.batch_size\n",
    "    gpus            = arg.gpus\n",
    "    strategy        = tf.distribute.MirroredStrategy(arg.gpus)\n",
    "    global_batch_size = arg.batch_size*strategy.num_replicas_in_sync\n",
    "    arg.gpus        = strategy.num_replicas_in_sync\n",
    "\n",
    "    #copy hyperparameters and model definition to log folder\n",
    "    #save_arg(arg)\n",
    "    shutil.copy2(inspect.getfile(Model), arg.log_dir)\n",
    "    print(\"Num GPUs Available: \", len(tf.config.list_physical_devices('GPU')))\n",
    "\n",
    "    '''\n",
    "    Get tf.dataset objects for training and testing data\n",
    "    Data shape: features - batch_size, 3, 300, 25, 2\n",
    "                labels   - batch_size, num_classes\n",
    "    '''\n",
    "    train_data = get_dataset(train_data_path,\n",
    "                             num_classes=num_classes,\n",
    "                             batch_size=global_batch_size,\n",
    "                             drop_remainder=True,\n",
    "                             shuffle=True)\n",
    "    \n",
    "    train_data = strategy.experimental_distribute_dataset(train_data)\n",
    "\n",
    "    test_data = get_dataset(test_data_path,\n",
    "                            num_classes=num_classes,\n",
    "                            batch_size=batch_size,\n",
    "                            drop_remainder=False,\n",
    "                            shuffle=False)\n",
    "\n",
    "    boundaries = [(step*40000)//batch_size for step in steps]\n",
    "    values = [base_lr]*(len(steps)+1)\n",
    "    for i in range(1, len(steps)+1):\n",
    "        values[i] *= 0.1**i\n",
    "    learning_rate  = tf.keras.optimizers.schedules.PiecewiseConstantDecay(boundaries, values)\n",
    "\n",
    "    with strategy.scope():\n",
    "        model        = Model(num_classes=num_classes)\n",
    "        optimizer    = tf.keras.optimizers.SGD(learning_rate=learning_rate,\n",
    "                                               momentum=0.9,\n",
    "                                               nesterov=True)\n",
    "        ckpt         = tf.train.Checkpoint(model=model, optimizer=optimizer)\n",
    "        ckpt_manager = tf.train.CheckpointManager(ckpt,\n",
    "                                                  checkpoint_path,\n",
    "                                                  max_to_keep=5)\n",
    "\n",
    "        # keras metrics to hold accuracies and loss\n",
    "        cross_entropy_loss   = tf.keras.metrics.Mean(name='cross_entropy_loss')\n",
    "        train_acc            = tf.keras.metrics.CategoricalAccuracy(name='train_acc')\n",
    "        train_acc_top_5      = tf.keras.metrics.TopKCategoricalAccuracy(name='train_acc_top_5')\n",
    "\n",
    "    epoch_test_acc       = tf.keras.metrics.CategoricalAccuracy(name='epoch_test_acc')\n",
    "    epoch_test_acc_top_5 = tf.keras.metrics.TopKCategoricalAccuracy(name='epoch_test_acc_top_5')\n",
    "    test_acc_top_5       = tf.keras.metrics.TopKCategoricalAccuracy(name='test_acc_top_5')\n",
    "    test_acc             = tf.keras.metrics.CategoricalAccuracy(name='test_acc')\n",
    "    summary_writer       = tf.summary.create_file_writer(log_dir)\n",
    "\n",
    "    # Get 1 batch from train dataset to get graph trace of train and test functions\n",
    "    \n",
    "    for data in test_data:\n",
    "        features, labels, index = data\n",
    "        break\n",
    "\n",
    "    # add graph of train and test functions to tensorboard graphs\n",
    "    # Note:\n",
    "    # graph training is True on purpose, allows tensorflow to get all the\n",
    "    # variables, which is required for the first call of @tf.function function\n",
    "    tf.summary.trace_on(graph=True)\n",
    "    train_step(features, labels)\n",
    "    with summary_writer.as_default():\n",
    "        tf.summary.trace_export(name=\"training_trace\",step=0)\n",
    "    tf.summary.trace_off()\n",
    "\n",
    "    tf.summary.trace_on(graph=True)\n",
    "    test_step(features)\n",
    "    with summary_writer.as_default():\n",
    "        tf.summary.trace_export(name=\"testing_trace\", step=0)\n",
    "    tf.summary.trace_off()\n",
    "\n",
    "    # start training\n",
    "    train_iter = 0\n",
    "    test_iter = 0\n",
    "    for epoch in range(epochs):\n",
    "        print(\"Epoch: {}\".format(epoch+1))\n",
    "        print(\"Training: \")\n",
    "        with strategy.scope():\n",
    "            for features, labels, index in tqdm(train_data):\n",
    "                train_step(features, labels)\n",
    "                with summary_writer.as_default():\n",
    "                    tf.summary.scalar(\"cross_entropy_loss\",\n",
    "                                      cross_entropy_loss.result(),\n",
    "                                      step=train_iter)\n",
    "                    tf.summary.scalar(\"train_acc\",\n",
    "                                      train_acc.result(),\n",
    "                                      step=train_iter)\n",
    "                    tf.summary.scalar(\"train_acc_top_5\",\n",
    "                                      train_acc_top_5.result(),\n",
    "                                      step=train_iter)\n",
    "                cross_entropy_loss.reset_states()\n",
    "                train_acc.reset_states()\n",
    "                train_acc_top_5.reset_states()\n",
    "                train_iter += 1\n",
    "\n",
    "        print(\"Testing: \")\n",
    "        for features, labels, index in tqdm(test_data):\n",
    "            y_pred = test_step(features)\n",
    "            pred_label = tf.keras.backend.eval(tf.math.argmax(y_pred, 1))\n",
    "            orig_label = tf.keras.backend.eval(tf.math.argmax(labels, 1))\n",
    "            print(pred_label, orig_label)\n",
    "            print(\"test acc \", test_acc(labels, y_pred))\n",
    "            print(\"epoch test acc \", epoch_test_acc(labels, y_pred))\n",
    "            print(\"test acc top5\", test_acc_top_5(labels, y_pred))\n",
    "            print(\"epoch test acc top5 \",epoch_test_acc_top_5(labels, y_pred))\n",
    "            with summary_writer.as_default():\n",
    "                tf.summary.scalar(\"test_acc\",\n",
    "                                  test_acc.result(),\n",
    "                                  step=test_iter)\n",
    "                tf.summary.scalar(\"test_acc_top_5\",\n",
    "                                  test_acc_top_5.result(),\n",
    "                                  step=test_iter)\n",
    "            test_acc.reset_states()\n",
    "            test_acc_top_5.reset_states()\n",
    "            test_iter += 1\n",
    "        with summary_writer.as_default():\n",
    "            tf.summary.scalar(\"epoch_test_acc\",\n",
    "                              epoch_test_acc.result(),\n",
    "                              step=epoch)\n",
    "            tf.summary.scalar(\"epoch_test_acc_top_5\",\n",
    "                              epoch_test_acc_top_5.result(),\n",
    "                              step=epoch)\n",
    "        epoch_test_acc.reset_states()\n",
    "        epoch_test_acc_top_5.reset_states()\n",
    "\n",
    "        if (epoch + 1) % save_freq == 0:\n",
    "            ckpt_save_path = ckpt_manager.save()\n",
    "            print('Saving checkpoint for epoch {} at {}'.format(epoch+1,\n",
    "                                                                ckpt_save_path))\n",
    "\n",
    "    ckpt_save_path = ckpt_manager.save()\n",
    "    print('Saving final checkpoint for epoch {} at {}'.format(epochs,\n",
    "\n",
    "                                                              ckpt_save_path))\n",
    "    \n",
    "    test_data = get_dataset(\"tfrecord_test\",\n",
    "                            num_classes=49,\n",
    "                            batch_size=64,\n",
    "                            drop_remainder=False,\n",
    "                            shuffle=False)\n",
    "    result=[]\n",
    "    index_list=[]\n",
    "    for features, labels, index in tqdm(test_data):\n",
    "        pred_index = tf.keras.backend.eval(tf.math.argmax(index, 1))\n",
    "        y_pred = test_step(features)\n",
    "        pred_label = tf.keras.backend.eval(tf.math.argmax(y_pred, 1))\n",
    "        for item in pred_label:\n",
    "            result.append(item)\n",
    "        for item in pred_index:\n",
    "            index_list.append(item)\n",
    "\n",
    "    \n",
    "    print(\"----------------------------------------------\")\n",
    "    Id = [i for i in range (0, 2959)]\n",
    "    predict = pd.DataFrame(Id, columns = ['Id'])\n",
    "    result_order = [None]  * 2959\n",
    "    for i, item in enumerate(index_list):\n",
    "        result_order[item] = result[i]\n",
    "    print(result_order)\n",
    "    predict['Category'] = result_order\n",
    "    print(predict)\n",
    "    predict.to_csv('output.csv', index=False)"
   ]
  },
  {
   "cell_type": "code",
   "execution_count": null,
   "id": "bfbd90d7",
   "metadata": {},
   "outputs": [],
   "source": [
    "raw_dataset = tf.data.TFRecordDataset(\"tfrecord_test/test_data-0.tfrecord\")\n",
    "\n",
    "for raw_record in raw_dataset.take(1):\n",
    "    example = tf.train.Example()\n",
    "    example.ParseFromString(raw_record.numpy())\n",
    "    print(example)"
   ]
  }
 ],
 "metadata": {
  "kernelspec": {
   "display_name": "Python 3 (ipykernel)",
   "language": "python",
   "name": "python3"
  },
  "language_info": {
   "codemirror_mode": {
    "name": "ipython",
    "version": 3
   },
   "file_extension": ".py",
   "mimetype": "text/x-python",
   "name": "python",
   "nbconvert_exporter": "python",
   "pygments_lexer": "ipython3",
   "version": "3.9.6"
  }
 },
 "nbformat": 4,
 "nbformat_minor": 5
}
