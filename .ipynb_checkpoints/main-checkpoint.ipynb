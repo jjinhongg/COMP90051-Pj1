{
 "cells": [
  {
   "cell_type": "code",
   "execution_count": 1,
   "id": "daabaeca",
   "metadata": {},
   "outputs": [
    {
     "name": "stdout",
     "output_type": "stream",
     "text": [
      "importing Jupyter notebook from STGCN.ipynb\n",
      "importing Jupyter notebook from skeleton.ipynb\n"
     ]
    }
   ],
   "source": [
    "import import_ipynb\n",
    "from STGCN import Model\n",
    "from tqdm import tqdm\n",
    "import tensorflow as tf\n",
    "import argparse\n",
    "import inspect\n",
    "import shutil\n",
    "import yaml\n",
    "import os"
   ]
  },
  {
   "cell_type": "code",
   "execution_count": 2,
   "id": "a2268ba7",
   "metadata": {},
   "outputs": [],
   "source": [
    "def get_parser():\n",
    "    parser = argparse.ArgumentParser(\n",
    "        description='Spatial Temporal Graph Convolutional Neural Network for Skeleton-Based Action Recognition')\n",
    "    parser.add_argument(\n",
    "        '--base-lr', type=float, default=1e-1, help='initial learning rate')\n",
    "    parser.add_argument(\n",
    "        '--num-classes', type=int, default=49, help='number of classes in dataset')\n",
    "    parser.add_argument(\n",
    "        '--batch-size', type=int, default=64, help='training batch size')\n",
    "    parser.add_argument(\n",
    "        '--num-epochs', type=int, default=50, help='total epochs to train')\n",
    "    parser.add_argument(\n",
    "        '--save-freq', type=int, default=10, help='periodicity of saving model weights')\n",
    "    parser.add_argument(\n",
    "        '--checkpoint-path',\n",
    "        default=\"checkpoints\",\n",
    "        help='folder to store model weights')\n",
    "    parser.add_argument(\n",
    "        '--log-dir',\n",
    "        default=\"logs\",\n",
    "        help='folder to store model-definition/training-logs/hyperparameters')\n",
    "    parser.add_argument(\n",
    "        '--train-data-path',\n",
    "        default=\"tfrecord\",\n",
    "        help='path to folder with training dataset tfrecord files')\n",
    "    parser.add_argument(\n",
    "        '--test-data-path',\n",
    "        default=\"tfrecord\",\n",
    "        help='path to folder with testing dataset tfrecord files')\n",
    "    parser.add_argument(\n",
    "        '--steps',\n",
    "        type=int,\n",
    "        default=[10, 40],\n",
    "        nargs='+',\n",
    "        help='the epoch where optimizer reduce the learning rate, eg: 10 50')\n",
    "    parser.add_argument(\n",
    "        '--gpus',\n",
    "        default= None,\n",
    "        nargs='+',\n",
    "        help='list of gpus to use for training, eg: \"/gpu:0\" \"/gpu:1\"')\n",
    "\n",
    "    return parser\n"
   ]
  },
  {
   "cell_type": "code",
   "execution_count": 3,
   "id": "84a6ba62",
   "metadata": {},
   "outputs": [],
   "source": [
    "def get_dataset(directory, num_classes=49, batch_size=32, drop_remainder=False,\n",
    "                shuffle=False, shuffle_size=1000):\n",
    "    # dictionary describing the features.\n",
    "    feature_description = {\n",
    "        'features': tf.io.FixedLenFeature([], tf.string),\n",
    "        'label'     : tf.io.FixedLenFeature([], tf.int64)\n",
    "    }\n",
    "\n",
    "    # parse each proto and, the features within\n",
    "    def _parse_feature_function(example_proto):\n",
    "        features = tf.io.parse_single_example(example_proto, feature_description)\n",
    "        data =  tf.io.parse_tensor(features['features'], tf.float32)\n",
    "        label = tf.one_hot(features['label'], num_classes)\n",
    "        data = tf.reshape(data, (3, 16, 20, 1))\n",
    "        return data, label\n",
    "\n",
    "    records = [os.path.join(directory, file) for file in os.listdir(directory) if file.endswith(\"tfrecord\")]\n",
    "    dataset = tf.data.TFRecordDataset(records, num_parallel_reads=len(records))\n",
    "    dataset = dataset.map(_parse_feature_function)\n",
    "    dataset = dataset.batch(batch_size, drop_remainder=drop_remainder)\n",
    "    dataset = dataset.prefetch(batch_size)\n",
    "    if shuffle:\n",
    "        dataset = dataset.shuffle(shuffle_size)\n",
    "    return dataset"
   ]
  },
  {
   "cell_type": "code",
   "execution_count": 4,
   "id": "862c0830",
   "metadata": {},
   "outputs": [],
   "source": [
    "@tf.function\n",
    "def train_step(features, labels):\n",
    "    def step_fn(features, labels):\n",
    "        with tf.GradientTape() as tape:\n",
    "            logits = model(features, training=True)\n",
    "            cross_entropy = tf.nn.softmax_cross_entropy_with_logits(logits=logits,\n",
    "                                                              labels=labels)\n",
    "            loss = tf.reduce_sum(cross_entropy) * (1.0 / global_batch_size)\n",
    "\n",
    "        grads = tape.gradient(loss, model.trainable_variables)\n",
    "        optimizer.apply_gradients(list(zip(grads, model.trainable_variables)))\n",
    "        train_acc(labels, logits)\n",
    "        train_acc_top_5(labels, logits)\n",
    "        cross_entropy_loss(loss)\n",
    "    strategy.run(step_fn, args=(features, labels,))"
   ]
  },
  {
   "cell_type": "code",
   "execution_count": 5,
   "id": "44717555",
   "metadata": {},
   "outputs": [],
   "source": [
    "@tf.function\n",
    "def test_step(features):\n",
    "    logits = model(features, training=False)\n",
    "    return tf.nn.softmax(logits)"
   ]
  },
  {
   "cell_type": "code",
   "execution_count": 6,
   "id": "fd9450d2",
   "metadata": {},
   "outputs": [
    {
     "name": "stdout",
     "output_type": "stream",
     "text": [
      "INFO:tensorflow:Using MirroredStrategy with devices ('/job:localhost/replica:0/task:0/device:GPU:0',)\n",
      "Num GPUs Available:  1\n",
      "INFO:tensorflow:Reduce to /job:localhost/replica:0/task:0/device:CPU:0 then broadcast to ('/job:localhost/replica:0/task:0/device:CPU:0',).\n",
      "INFO:tensorflow:Reduce to /job:localhost/replica:0/task:0/device:CPU:0 then broadcast to ('/job:localhost/replica:0/task:0/device:CPU:0',).\n",
      "INFO:tensorflow:Reduce to /job:localhost/replica:0/task:0/device:CPU:0 then broadcast to ('/job:localhost/replica:0/task:0/device:CPU:0',).\n",
      "INFO:tensorflow:Reduce to /job:localhost/replica:0/task:0/device:CPU:0 then broadcast to ('/job:localhost/replica:0/task:0/device:CPU:0',).\n",
      "INFO:tensorflow:Reduce to /job:localhost/replica:0/task:0/device:CPU:0 then broadcast to ('/job:localhost/replica:0/task:0/device:CPU:0',).\n",
      "INFO:tensorflow:Reduce to /job:localhost/replica:0/task:0/device:CPU:0 then broadcast to ('/job:localhost/replica:0/task:0/device:CPU:0',).\n",
      "INFO:tensorflow:Reduce to /job:localhost/replica:0/task:0/device:CPU:0 then broadcast to ('/job:localhost/replica:0/task:0/device:CPU:0',).\n",
      "INFO:tensorflow:Reduce to /job:localhost/replica:0/task:0/device:CPU:0 then broadcast to ('/job:localhost/replica:0/task:0/device:CPU:0',).\n",
      "INFO:tensorflow:Reduce to /job:localhost/replica:0/task:0/device:CPU:0 then broadcast to ('/job:localhost/replica:0/task:0/device:CPU:0',).\n",
      "INFO:tensorflow:Reduce to /job:localhost/replica:0/task:0/device:CPU:0 then broadcast to ('/job:localhost/replica:0/task:0/device:CPU:0',).\n",
      "***************\n",
      "(64, 3, 16, 20)\n",
      "(64, 192, 16, 20)\n",
      "64 192 16 20\n",
      "after:  (64, 3, 64, 16, 20)\n",
      "***************\n",
      "(64, 64, 16, 20)\n",
      "(64, 192, 16, 20)\n",
      "64 192 16 20\n",
      "after:  (64, 3, 64, 16, 20)\n",
      "***************\n",
      "(64, 64, 16, 20)\n",
      "(64, 192, 16, 20)\n",
      "64 192 16 20\n",
      "after:  (64, 3, 64, 16, 20)\n",
      "***************\n",
      "(64, 64, 16, 20)\n",
      "(64, 192, 16, 20)\n",
      "64 192 16 20\n",
      "after:  (64, 3, 64, 16, 20)\n",
      "***************\n",
      "(64, 64, 16, 20)\n",
      "(64, 384, 16, 20)\n",
      "64 384 16 20\n",
      "after:  (64, 3, 128, 16, 20)\n",
      "***************\n",
      "(64, 128, 8, 20)\n",
      "(64, 384, 8, 20)\n",
      "64 384 8 20\n",
      "after:  (64, 3, 128, 8, 20)\n",
      "***************\n",
      "(64, 128, 8, 20)\n",
      "(64, 384, 8, 20)\n",
      "64 384 8 20\n",
      "after:  (64, 3, 128, 8, 20)\n",
      "***************\n",
      "(64, 128, 8, 20)\n",
      "(64, 768, 8, 20)\n",
      "64 768 8 20\n",
      "after:  (64, 3, 256, 8, 20)\n",
      "***************\n",
      "(64, 256, 4, 20)\n",
      "(64, 768, 4, 20)\n",
      "64 768 4 20\n",
      "after:  (64, 3, 256, 4, 20)\n",
      "***************\n",
      "(64, 256, 4, 20)\n",
      "(64, 768, 4, 20)\n",
      "64 768 4 20\n",
      "after:  (64, 3, 256, 4, 20)\n",
      "***************\n",
      "(64, 3, 16, 20)\n",
      "(64, 192, 16, 20)\n",
      "64 192 16 20\n",
      "after:  (64, 3, 64, 16, 20)\n",
      "***************\n",
      "(64, 64, 16, 20)\n",
      "(64, 192, 16, 20)\n",
      "64 192 16 20\n",
      "after:  (64, 3, 64, 16, 20)\n",
      "***************\n",
      "(64, 64, 16, 20)\n",
      "(64, 192, 16, 20)\n",
      "64 192 16 20\n",
      "after:  (64, 3, 64, 16, 20)\n",
      "***************\n",
      "(64, 64, 16, 20)\n",
      "(64, 192, 16, 20)\n",
      "64 192 16 20\n",
      "after:  (64, 3, 64, 16, 20)\n",
      "***************\n",
      "(64, 64, 16, 20)\n",
      "(64, 384, 16, 20)\n",
      "64 384 16 20\n",
      "after:  (64, 3, 128, 16, 20)\n",
      "***************\n",
      "(64, 128, 8, 20)\n",
      "(64, 384, 8, 20)\n",
      "64 384 8 20\n",
      "after:  (64, 3, 128, 8, 20)\n",
      "***************\n",
      "(64, 128, 8, 20)\n",
      "(64, 384, 8, 20)\n",
      "64 384 8 20\n",
      "after:  (64, 3, 128, 8, 20)\n",
      "***************\n",
      "(64, 128, 8, 20)\n",
      "(64, 768, 8, 20)\n",
      "64 768 8 20\n",
      "after:  (64, 3, 256, 8, 20)\n",
      "***************\n",
      "(64, 256, 4, 20)\n",
      "(64, 768, 4, 20)\n",
      "64 768 4 20\n",
      "after:  (64, 3, 256, 4, 20)\n",
      "***************\n",
      "(64, 256, 4, 20)\n",
      "(64, 768, 4, 20)\n",
      "64 768 4 20\n",
      "after:  (64, 3, 256, 4, 20)\n",
      "***************\n",
      "(64, 3, 16, 20)\n",
      "(64, 192, 16, 20)\n",
      "64 192 16 20\n",
      "after:  (64, 3, 64, 16, 20)\n",
      "***************\n",
      "(64, 64, 16, 20)\n",
      "(64, 192, 16, 20)\n",
      "64 192 16 20\n",
      "after:  (64, 3, 64, 16, 20)\n",
      "***************\n",
      "(64, 64, 16, 20)\n",
      "(64, 192, 16, 20)\n",
      "64 192 16 20\n",
      "after:  (64, 3, 64, 16, 20)\n",
      "***************\n",
      "(64, 64, 16, 20)\n",
      "(64, 192, 16, 20)\n",
      "64 192 16 20\n",
      "after:  (64, 3, 64, 16, 20)\n",
      "***************\n",
      "(64, 64, 16, 20)\n",
      "(64, 384, 16, 20)\n",
      "64 384 16 20\n",
      "after:  (64, 3, 128, 16, 20)\n",
      "***************\n",
      "(64, 128, 8, 20)\n",
      "(64, 384, 8, 20)\n",
      "64 384 8 20\n",
      "after:  (64, 3, 128, 8, 20)\n",
      "***************\n",
      "(64, 128, 8, 20)\n",
      "(64, 384, 8, 20)\n",
      "64 384 8 20\n",
      "after:  (64, 3, 128, 8, 20)\n",
      "***************\n",
      "(64, 128, 8, 20)\n",
      "(64, 768, 8, 20)\n",
      "64 768 8 20\n",
      "after:  (64, 3, 256, 8, 20)\n",
      "***************\n",
      "(64, 256, 4, 20)\n",
      "(64, 768, 4, 20)\n",
      "64 768 4 20\n",
      "after:  (64, 3, 256, 4, 20)\n",
      "***************\n",
      "(64, 256, 4, 20)\n",
      "(64, 768, 4, 20)\n",
      "64 768 4 20\n",
      "after:  (64, 3, 256, 4, 20)\n",
      "Epoch: 1\n",
      "Training: \n"
     ]
    },
    {
     "name": "stderr",
     "output_type": "stream",
     "text": [
      "\r",
      "0it [00:00, ?it/s]"
     ]
    },
    {
     "name": "stdout",
     "output_type": "stream",
     "text": [
      "***************\n",
      "(64, 3, 16, 20)\n",
      "(64, 192, 16, 20)\n",
      "64 192 16 20\n",
      "after:  (64, 3, 64, 16, 20)\n",
      "***************\n",
      "(64, 64, 16, 20)\n",
      "(64, 192, 16, 20)\n",
      "64 192 16 20\n",
      "after:  (64, 3, 64, 16, 20)\n",
      "***************\n",
      "(64, 64, 16, 20)\n",
      "(64, 192, 16, 20)\n",
      "64 192 16 20\n",
      "after:  (64, 3, 64, 16, 20)\n",
      "***************\n",
      "(64, 64, 16, 20)\n",
      "(64, 192, 16, 20)\n",
      "64 192 16 20\n",
      "after:  (64, 3, 64, 16, 20)\n",
      "***************\n",
      "(64, 64, 16, 20)\n",
      "(64, 384, 16, 20)\n",
      "64 384 16 20\n",
      "after:  (64, 3, 128, 16, 20)\n",
      "***************\n",
      "(64, 128, 8, 20)\n",
      "(64, 384, 8, 20)\n",
      "64 384 8 20\n",
      "after:  (64, 3, 128, 8, 20)\n",
      "***************\n",
      "(64, 128, 8, 20)\n",
      "(64, 384, 8, 20)\n",
      "64 384 8 20\n",
      "after:  (64, 3, 128, 8, 20)\n",
      "***************\n",
      "(64, 128, 8, 20)\n",
      "(64, 768, 8, 20)\n",
      "64 768 8 20\n",
      "after:  (64, 3, 256, 8, 20)\n",
      "***************\n",
      "(64, 256, 4, 20)\n",
      "(64, 768, 4, 20)\n",
      "64 768 4 20\n",
      "after:  (64, 3, 256, 4, 20)\n",
      "***************\n",
      "(64, 256, 4, 20)\n",
      "(64, 768, 4, 20)\n",
      "64 768 4 20\n",
      "after:  (64, 3, 256, 4, 20)\n"
     ]
    },
    {
     "name": "stderr",
     "output_type": "stream",
     "text": [
      "146it [00:19,  7.53it/s]\n"
     ]
    },
    {
     "name": "stdout",
     "output_type": "stream",
     "text": [
      "Testing: \n"
     ]
    },
    {
     "name": "stderr",
     "output_type": "stream",
     "text": [
      "2it [00:00, 16.83it/s]"
     ]
    },
    {
     "name": "stdout",
     "output_type": "stream",
     "text": [
      "tf.Tensor(0.09375, shape=(), dtype=float32)\n",
      "tf.Tensor(0.09375, shape=(), dtype=float32)\n",
      "tf.Tensor(0.359375, shape=(), dtype=float32)\n",
      "tf.Tensor(0.359375, shape=(), dtype=float32)\n",
      "tf.Tensor(0.171875, shape=(), dtype=float32)\n",
      "tf.Tensor(0.1328125, shape=(), dtype=float32)\n",
      "tf.Tensor(0.484375, shape=(), dtype=float32)\n",
      "tf.Tensor(0.421875, shape=(), dtype=float32)\n",
      "tf.Tensor(0.09375, shape=(), dtype=float32)\n",
      "tf.Tensor(0.119791664, shape=(), dtype=float32)\n",
      "tf.Tensor(0.421875, shape=(), dtype=float32)\n",
      "tf.Tensor(0.421875, shape=(), dtype=float32)\n"
     ]
    },
    {
     "name": "stderr",
     "output_type": "stream",
     "text": [
      "\r",
      "4it [00:00, 18.38it/s]"
     ]
    },
    {
     "name": "stdout",
     "output_type": "stream",
     "text": [
      "tf.Tensor(0.09375, shape=(), dtype=float32)\n",
      "tf.Tensor(0.11328125, shape=(), dtype=float32)\n",
      "tf.Tensor(0.421875, shape=(), dtype=float32)\n",
      "tf.Tensor(0.421875, shape=(), dtype=float32)\n"
     ]
    },
    {
     "name": "stderr",
     "output_type": "stream",
     "text": [
      "\r",
      "6it [00:00, 18.56it/s]"
     ]
    },
    {
     "name": "stdout",
     "output_type": "stream",
     "text": [
      "tf.Tensor(0.140625, shape=(), dtype=float32)\n",
      "tf.Tensor(0.11875, shape=(), dtype=float32)\n",
      "tf.Tensor(0.453125, shape=(), dtype=float32)\n",
      "tf.Tensor(0.428125, shape=(), dtype=float32)\n",
      "tf.Tensor(0.125, shape=(), dtype=float32)\n",
      "tf.Tensor(0.119791664, shape=(), dtype=float32)\n",
      "tf.Tensor(0.390625, shape=(), dtype=float32)\n",
      "tf.Tensor(0.421875, shape=(), dtype=float32)\n",
      "tf.Tensor(0.125, shape=(), dtype=float32)\n",
      "tf.Tensor(0.12053572, shape=(), dtype=float32)\n",
      "tf.Tensor(0.4375, shape=(), dtype=float32)\n",
      "tf.Tensor(0.42410713, shape=(), dtype=float32)\n",
      "tf.Tensor(0.140625, shape=(), dtype=float32)\n"
     ]
    },
    {
     "name": "stderr",
     "output_type": "stream",
     "text": [
      "\r",
      "8it [00:00, 18.17it/s]"
     ]
    },
    {
     "name": "stdout",
     "output_type": "stream",
     "text": [
      "tf.Tensor(0.123046875, shape=(), dtype=float32)\n",
      "tf.Tensor(0.59375, shape=(), dtype=float32)\n",
      "tf.Tensor(0.4453125, shape=(), dtype=float32)\n"
     ]
    },
    {
     "name": "stderr",
     "output_type": "stream",
     "text": [
      "\r",
      "10it [00:00, 18.69it/s]"
     ]
    },
    {
     "name": "stdout",
     "output_type": "stream",
     "text": [
      "tf.Tensor(0.25, shape=(), dtype=float32)\n",
      "tf.Tensor(0.13715278, shape=(), dtype=float32)\n",
      "tf.Tensor(0.46875, shape=(), dtype=float32)\n",
      "tf.Tensor(0.44791666, shape=(), dtype=float32)\n",
      "tf.Tensor(0.109375, shape=(), dtype=float32)\n",
      "tf.Tensor(0.134375, shape=(), dtype=float32)\n",
      "tf.Tensor(0.375, shape=(), dtype=float32)\n",
      "tf.Tensor(0.440625, shape=(), dtype=float32)\n",
      "tf.Tensor(0.140625, shape=(), dtype=float32)\n",
      "tf.Tensor(0.13494319, shape=(), dtype=float32)\n",
      "tf.Tensor(0.390625, shape=(), dtype=float32)\n",
      "tf.Tensor(0.43607953, shape=(), dtype=float32)\n"
     ]
    },
    {
     "name": "stderr",
     "output_type": "stream",
     "text": [
      "\r",
      "12it [00:00, 18.40it/s]"
     ]
    },
    {
     "name": "stdout",
     "output_type": "stream",
     "text": [
      "tf.Tensor(0.140625, shape=(), dtype=float32)\n",
      "tf.Tensor(0.13541667, shape=(), dtype=float32)\n",
      "tf.Tensor(0.375, shape=(), dtype=float32)\n",
      "tf.Tensor(0.4309896, shape=(), dtype=float32)\n",
      "tf.Tensor(0.171875, shape=(), dtype=float32)\n"
     ]
    },
    {
     "name": "stderr",
     "output_type": "stream",
     "text": [
      "\r",
      "14it [00:00, 18.63it/s]"
     ]
    },
    {
     "name": "stdout",
     "output_type": "stream",
     "text": [
      "tf.Tensor(0.13822116, shape=(), dtype=float32)\n",
      "tf.Tensor(0.515625, shape=(), dtype=float32)\n",
      "tf.Tensor(0.4375, shape=(), dtype=float32)\n",
      "tf.Tensor(0.109375, shape=(), dtype=float32)\n",
      "tf.Tensor(0.13616072, shape=(), dtype=float32)\n",
      "tf.Tensor(0.453125, shape=(), dtype=float32)\n",
      "tf.Tensor(0.43861607, shape=(), dtype=float32)\n",
      "tf.Tensor(0.15625, shape=(), dtype=float32)\n",
      "tf.Tensor(0.1375, shape=(), dtype=float32)\n",
      "tf.Tensor(0.421875, shape=(), dtype=float32)\n",
      "tf.Tensor(0.4375, shape=(), dtype=float32)\n"
     ]
    },
    {
     "name": "stderr",
     "output_type": "stream",
     "text": [
      "\r",
      "16it [00:00, 18.56it/s]"
     ]
    },
    {
     "name": "stdout",
     "output_type": "stream",
     "text": [
      "tf.Tensor(0.15625, shape=(), dtype=float32)\n",
      "tf.Tensor(0.13867188, shape=(), dtype=float32)\n",
      "tf.Tensor(0.5, shape=(), dtype=float32)\n",
      "tf.Tensor(0.44140625, shape=(), dtype=float32)\n"
     ]
    },
    {
     "name": "stderr",
     "output_type": "stream",
     "text": [
      "\r",
      "19it [00:01, 19.12it/s]"
     ]
    },
    {
     "name": "stdout",
     "output_type": "stream",
     "text": [
      "tf.Tensor(0.15625, shape=(), dtype=float32)\n",
      "tf.Tensor(0.13970588, shape=(), dtype=float32)\n",
      "tf.Tensor(0.484375, shape=(), dtype=float32)\n",
      "tf.Tensor(0.4439338, shape=(), dtype=float32)\n",
      "tf.Tensor(0.09375, shape=(), dtype=float32)\n",
      "tf.Tensor(0.13715278, shape=(), dtype=float32)\n",
      "tf.Tensor(0.40625, shape=(), dtype=float32)\n",
      "tf.Tensor(0.4418403, shape=(), dtype=float32)\n",
      "tf.Tensor(0.078125, shape=(), dtype=float32)\n",
      "tf.Tensor(0.13404605, shape=(), dtype=float32)\n",
      "tf.Tensor(0.484375, shape=(), dtype=float32)\n",
      "tf.Tensor(0.44407895, shape=(), dtype=float32)\n",
      "tf.Tensor(0.203125, shape=(), dtype=float32)\n",
      "tf.Tensor(0.1375, shape=(), dtype=float32)\n",
      "tf.Tensor(0.53125, shape=(), dtype=float32)\n",
      "tf.Tensor(0.4484375, shape=(), dtype=float32)\n"
     ]
    },
    {
     "name": "stderr",
     "output_type": "stream",
     "text": [
      "23it [00:01, 18.17it/s]"
     ]
    },
    {
     "name": "stdout",
     "output_type": "stream",
     "text": [
      "tf.Tensor(0.109375, shape=(), dtype=float32)\n",
      "tf.Tensor(0.13616072, shape=(), dtype=float32)\n",
      "tf.Tensor(0.484375, shape=(), dtype=float32)\n",
      "tf.Tensor(0.45014882, shape=(), dtype=float32)\n",
      "tf.Tensor(0.15625, shape=(), dtype=float32)\n",
      "tf.Tensor(0.13707386, shape=(), dtype=float32)\n",
      "tf.Tensor(0.5, shape=(), dtype=float32)\n",
      "tf.Tensor(0.45241478, shape=(), dtype=float32)\n",
      "tf.Tensor(0.171875, shape=(), dtype=float32)\n",
      "tf.Tensor(0.13858695, shape=(), dtype=float32)\n",
      "tf.Tensor(0.546875, shape=(), dtype=float32)\n",
      "tf.Tensor(0.45652175, shape=(), dtype=float32)\n",
      "tf.Tensor(0.15625, shape=(), dtype=float32)\n",
      "tf.Tensor(0.13932292, shape=(), dtype=float32)\n",
      "tf.Tensor(0.46875, shape=(), dtype=float32)\n",
      "tf.Tensor(0.45703125, shape=(), dtype=float32)\n"
     ]
    },
    {
     "name": "stderr",
     "output_type": "stream",
     "text": [
      "27it [00:01, 18.43it/s]"
     ]
    },
    {
     "name": "stdout",
     "output_type": "stream",
     "text": [
      "tf.Tensor(0.109375, shape=(), dtype=float32)\n",
      "tf.Tensor(0.138125, shape=(), dtype=float32)\n",
      "tf.Tensor(0.4375, shape=(), dtype=float32)\n",
      "tf.Tensor(0.45625, shape=(), dtype=float32)\n",
      "tf.Tensor(0.140625, shape=(), dtype=float32)\n",
      "tf.Tensor(0.13822116, shape=(), dtype=float32)\n",
      "tf.Tensor(0.59375, shape=(), dtype=float32)\n",
      "tf.Tensor(0.46153846, shape=(), dtype=float32)\n",
      "tf.Tensor(0.09375, shape=(), dtype=float32)\n",
      "tf.Tensor(0.13657407, shape=(), dtype=float32)\n",
      "tf.Tensor(0.421875, shape=(), dtype=float32)\n",
      "tf.Tensor(0.46006945, shape=(), dtype=float32)\n",
      "tf.Tensor(0.171875, shape=(), dtype=float32)\n",
      "tf.Tensor(0.13783482, shape=(), dtype=float32)\n",
      "tf.Tensor(0.515625, shape=(), dtype=float32)\n",
      "tf.Tensor(0.46205357, shape=(), dtype=float32)\n"
     ]
    },
    {
     "name": "stderr",
     "output_type": "stream",
     "text": [
      "31it [00:01, 18.55it/s]"
     ]
    },
    {
     "name": "stdout",
     "output_type": "stream",
     "text": [
      "tf.Tensor(0.15625, shape=(), dtype=float32)\n",
      "tf.Tensor(0.13846983, shape=(), dtype=float32)\n",
      "tf.Tensor(0.453125, shape=(), dtype=float32)\n",
      "tf.Tensor(0.46174568, shape=(), dtype=float32)\n",
      "tf.Tensor(0.15625, shape=(), dtype=float32)\n",
      "tf.Tensor(0.1390625, shape=(), dtype=float32)\n",
      "tf.Tensor(0.546875, shape=(), dtype=float32)\n",
      "tf.Tensor(0.46458334, shape=(), dtype=float32)\n",
      "tf.Tensor(0.171875, shape=(), dtype=float32)\n",
      "tf.Tensor(0.14012097, shape=(), dtype=float32)\n",
      "tf.Tensor(0.484375, shape=(), dtype=float32)\n",
      "tf.Tensor(0.46522176, shape=(), dtype=float32)\n",
      "tf.Tensor(0.140625, shape=(), dtype=float32)\n",
      "tf.Tensor(0.14013672, shape=(), dtype=float32)\n",
      "tf.Tensor(0.4375, shape=(), dtype=float32)\n",
      "tf.Tensor(0.46435547, shape=(), dtype=float32)\n"
     ]
    },
    {
     "name": "stderr",
     "output_type": "stream",
     "text": [
      "35it [00:01, 18.63it/s]"
     ]
    },
    {
     "name": "stdout",
     "output_type": "stream",
     "text": [
      "tf.Tensor(0.109375, shape=(), dtype=float32)\n",
      "tf.Tensor(0.13920455, shape=(), dtype=float32)\n",
      "tf.Tensor(0.515625, shape=(), dtype=float32)\n",
      "tf.Tensor(0.4659091, shape=(), dtype=float32)\n",
      "tf.Tensor(0.171875, shape=(), dtype=float32)\n",
      "tf.Tensor(0.14016545, shape=(), dtype=float32)\n",
      "tf.Tensor(0.4375, shape=(), dtype=float32)\n",
      "tf.Tensor(0.46507353, shape=(), dtype=float32)\n",
      "tf.Tensor(0.109375, shape=(), dtype=float32)\n",
      "tf.Tensor(0.13928571, shape=(), dtype=float32)\n",
      "tf.Tensor(0.453125, shape=(), dtype=float32)\n",
      "tf.Tensor(0.46473214, shape=(), dtype=float32)\n",
      "tf.Tensor(0.109375, shape=(), dtype=float32)\n",
      "tf.Tensor(0.13845485, shape=(), dtype=float32)\n",
      "tf.Tensor(0.46875, shape=(), dtype=float32)\n",
      "tf.Tensor(0.46484375, shape=(), dtype=float32)\n"
     ]
    },
    {
     "name": "stderr",
     "output_type": "stream",
     "text": [
      "\r",
      "37it [00:02, 18.11it/s]"
     ]
    },
    {
     "name": "stdout",
     "output_type": "stream",
     "text": [
      "tf.Tensor(0.125, shape=(), dtype=float32)\n",
      "tf.Tensor(0.13809122, shape=(), dtype=float32)\n",
      "tf.Tensor(0.53125, shape=(), dtype=float32)\n",
      "tf.Tensor(0.4666385, shape=(), dtype=float32)\n",
      "tf.Tensor(0.109375, shape=(), dtype=float32)\n",
      "tf.Tensor(0.13733552, shape=(), dtype=float32)\n",
      "tf.Tensor(0.4375, shape=(), dtype=float32)\n",
      "tf.Tensor(0.46587172, shape=(), dtype=float32)\n",
      "tf.Tensor(0.15625, shape=(), dtype=float32)\n",
      "tf.Tensor(0.13782051, shape=(), dtype=float32)\n",
      "tf.Tensor(0.484375, shape=(), dtype=float32)\n",
      "tf.Tensor(0.46634614, shape=(), dtype=float32)\n"
     ]
    },
    {
     "name": "stderr",
     "output_type": "stream",
     "text": [
      "\r",
      "40it [00:02, 18.23it/s]"
     ]
    },
    {
     "name": "stdout",
     "output_type": "stream",
     "text": [
      "tf.Tensor(0.109375, shape=(), dtype=float32)\n",
      "tf.Tensor(0.13710937, shape=(), dtype=float32)\n",
      "tf.Tensor(0.515625, shape=(), dtype=float32)\n",
      "tf.Tensor(0.4675781, shape=(), dtype=float32)\n"
     ]
    },
    {
     "name": "stderr",
     "output_type": "stream",
     "text": [
      "\r",
      "43it [00:02, 18.91it/s]"
     ]
    },
    {
     "name": "stdout",
     "output_type": "stream",
     "text": [
      "tf.Tensor(0.109375, shape=(), dtype=float32)\n",
      "tf.Tensor(0.13643293, shape=(), dtype=float32)\n",
      "tf.Tensor(0.46875, shape=(), dtype=float32)\n",
      "tf.Tensor(0.4676067, shape=(), dtype=float32)\n",
      "tf.Tensor(0.125, shape=(), dtype=float32)\n",
      "tf.Tensor(0.13616072, shape=(), dtype=float32)\n",
      "tf.Tensor(0.53125, shape=(), dtype=float32)\n",
      "tf.Tensor(0.46912202, shape=(), dtype=float32)\n",
      "tf.Tensor(0.109375, shape=(), dtype=float32)\n",
      "tf.Tensor(0.13553779, shape=(), dtype=float32)\n",
      "tf.Tensor(0.390625, shape=(), dtype=float32)\n",
      "tf.Tensor(0.4672965, shape=(), dtype=float32)\n",
      "tf.Tensor(0.09375, shape=(), dtype=float32)\n",
      "tf.Tensor(0.13458806, shape=(), dtype=float32)\n",
      "tf.Tensor(0.390625, shape=(), dtype=float32)\n",
      "tf.Tensor(0.46555397, shape=(), dtype=float32)\n",
      "tf.Tensor(0.125, shape=(), dtype=float32)\n"
     ]
    },
    {
     "name": "stderr",
     "output_type": "stream",
     "text": [
      "47it [00:02, 18.55it/s]"
     ]
    },
    {
     "name": "stdout",
     "output_type": "stream",
     "text": [
      "tf.Tensor(0.134375, shape=(), dtype=float32)\n",
      "tf.Tensor(0.578125, shape=(), dtype=float32)\n",
      "tf.Tensor(0.46805555, shape=(), dtype=float32)\n",
      "tf.Tensor(0.15625, shape=(), dtype=float32)\n",
      "tf.Tensor(0.13485055, shape=(), dtype=float32)\n",
      "tf.Tensor(0.515625, shape=(), dtype=float32)\n",
      "tf.Tensor(0.4690897, shape=(), dtype=float32)\n",
      "tf.Tensor(0.15625, shape=(), dtype=float32)\n",
      "tf.Tensor(0.13530585, shape=(), dtype=float32)\n",
      "tf.Tensor(0.5625, shape=(), dtype=float32)\n",
      "tf.Tensor(0.4710771, shape=(), dtype=float32)\n",
      "tf.Tensor(0.125, shape=(), dtype=float32)\n",
      "tf.Tensor(0.13509114, shape=(), dtype=float32)\n",
      "tf.Tensor(0.421875, shape=(), dtype=float32)\n",
      "tf.Tensor(0.4700521, shape=(), dtype=float32)\n"
     ]
    },
    {
     "name": "stderr",
     "output_type": "stream",
     "text": [
      "51it [00:02, 18.61it/s]"
     ]
    },
    {
     "name": "stdout",
     "output_type": "stream",
     "text": [
      "tf.Tensor(0.125, shape=(), dtype=float32)\n",
      "tf.Tensor(0.1348852, shape=(), dtype=float32)\n",
      "tf.Tensor(0.546875, shape=(), dtype=float32)\n",
      "tf.Tensor(0.4716199, shape=(), dtype=float32)\n",
      "tf.Tensor(0.125, shape=(), dtype=float32)\n",
      "tf.Tensor(0.1346875, shape=(), dtype=float32)\n",
      "tf.Tensor(0.328125, shape=(), dtype=float32)\n",
      "tf.Tensor(0.46875, shape=(), dtype=float32)\n",
      "tf.Tensor(0.140625, shape=(), dtype=float32)\n",
      "tf.Tensor(0.13480392, shape=(), dtype=float32)\n",
      "tf.Tensor(0.484375, shape=(), dtype=float32)\n",
      "tf.Tensor(0.46905637, shape=(), dtype=float32)\n",
      "tf.Tensor(0.15625, shape=(), dtype=float32)\n",
      "tf.Tensor(0.13521634, shape=(), dtype=float32)\n",
      "tf.Tensor(0.4375, shape=(), dtype=float32)\n",
      "tf.Tensor(0.46844953, shape=(), dtype=float32)\n"
     ]
    },
    {
     "name": "stderr",
     "output_type": "stream",
     "text": [
      "\r",
      "53it [00:02, 18.15it/s]"
     ]
    },
    {
     "name": "stdout",
     "output_type": "stream",
     "text": [
      "tf.Tensor(0.078125, shape=(), dtype=float32)\n",
      "tf.Tensor(0.13413915, shape=(), dtype=float32)\n",
      "tf.Tensor(0.4375, shape=(), dtype=float32)\n",
      "tf.Tensor(0.46786556, shape=(), dtype=float32)\n",
      "tf.Tensor(0.109375, shape=(), dtype=float32)\n",
      "tf.Tensor(0.13368055, shape=(), dtype=float32)\n",
      "tf.Tensor(0.546875, shape=(), dtype=float32)\n",
      "tf.Tensor(0.4693287, shape=(), dtype=float32)\n",
      "tf.Tensor(0.1875, shape=(), dtype=float32)\n",
      "tf.Tensor(0.1346591, shape=(), dtype=float32)\n",
      "tf.Tensor(0.546875, shape=(), dtype=float32)\n",
      "tf.Tensor(0.47073865, shape=(), dtype=float32)\n"
     ]
    },
    {
     "name": "stderr",
     "output_type": "stream",
     "text": [
      "\r",
      "56it [00:03, 18.60it/s]"
     ]
    },
    {
     "name": "stdout",
     "output_type": "stream",
     "text": [
      "tf.Tensor(0.046875, shape=(), dtype=float32)\n",
      "tf.Tensor(0.13309152, shape=(), dtype=float32)\n",
      "tf.Tensor(0.40625, shape=(), dtype=float32)\n",
      "tf.Tensor(0.46958706, shape=(), dtype=float32)\n"
     ]
    },
    {
     "name": "stderr",
     "output_type": "stream",
     "text": [
      "\r",
      "59it [00:03, 18.78it/s]"
     ]
    },
    {
     "name": "stdout",
     "output_type": "stream",
     "text": [
      "tf.Tensor(0.15625, shape=(), dtype=float32)\n",
      "tf.Tensor(0.1334978, shape=(), dtype=float32)\n",
      "tf.Tensor(0.5625, shape=(), dtype=float32)\n",
      "tf.Tensor(0.4712171, shape=(), dtype=float32)\n",
      "tf.Tensor(0.171875, shape=(), dtype=float32)\n",
      "tf.Tensor(0.13415948, shape=(), dtype=float32)\n",
      "tf.Tensor(0.421875, shape=(), dtype=float32)\n",
      "tf.Tensor(0.4703664, shape=(), dtype=float32)\n",
      "tf.Tensor(0.078125, shape=(), dtype=float32)\n",
      "tf.Tensor(0.13320975, shape=(), dtype=float32)\n",
      "tf.Tensor(0.546875, shape=(), dtype=float32)\n",
      "tf.Tensor(0.47166315, shape=(), dtype=float32)\n",
      "tf.Tensor(0.203125, shape=(), dtype=float32)\n",
      "tf.Tensor(0.134375, shape=(), dtype=float32)\n",
      "tf.Tensor(0.515625, shape=(), dtype=float32)\n",
      "tf.Tensor(0.47239584, shape=(), dtype=float32)\n",
      "tf.Tensor(0.109375, shape=(), dtype=float32)\n"
     ]
    },
    {
     "name": "stderr",
     "output_type": "stream",
     "text": [
      "63it [00:03, 18.74it/s]"
     ]
    },
    {
     "name": "stdout",
     "output_type": "stream",
     "text": [
      "tf.Tensor(0.13396516, shape=(), dtype=float32)\n",
      "tf.Tensor(0.421875, shape=(), dtype=float32)\n",
      "tf.Tensor(0.47156763, shape=(), dtype=float32)\n",
      "tf.Tensor(0.109375, shape=(), dtype=float32)\n",
      "tf.Tensor(0.13356856, shape=(), dtype=float32)\n",
      "tf.Tensor(0.515625, shape=(), dtype=float32)\n",
      "tf.Tensor(0.47227824, shape=(), dtype=float32)\n",
      "tf.Tensor(0.109375, shape=(), dtype=float32)\n",
      "tf.Tensor(0.13318452, shape=(), dtype=float32)\n",
      "tf.Tensor(0.640625, shape=(), dtype=float32)\n",
      "tf.Tensor(0.4749504, shape=(), dtype=float32)\n",
      "tf.Tensor(0.15625, shape=(), dtype=float32)\n",
      "tf.Tensor(0.13354492, shape=(), dtype=float32)\n",
      "tf.Tensor(0.5625, shape=(), dtype=float32)\n",
      "tf.Tensor(0.47631836, shape=(), dtype=float32)\n"
     ]
    },
    {
     "name": "stderr",
     "output_type": "stream",
     "text": [
      "67it [00:03, 18.01it/s]"
     ]
    },
    {
     "name": "stdout",
     "output_type": "stream",
     "text": [
      "tf.Tensor(0.140625, shape=(), dtype=float32)\n",
      "tf.Tensor(0.13365385, shape=(), dtype=float32)\n",
      "tf.Tensor(0.4375, shape=(), dtype=float32)\n",
      "tf.Tensor(0.47572115, shape=(), dtype=float32)\n",
      "tf.Tensor(0.09375, shape=(), dtype=float32)\n",
      "tf.Tensor(0.13304925, shape=(), dtype=float32)\n",
      "tf.Tensor(0.40625, shape=(), dtype=float32)\n",
      "tf.Tensor(0.47466856, shape=(), dtype=float32)\n",
      "tf.Tensor(0.15625, shape=(), dtype=float32)\n",
      "tf.Tensor(0.13339552, shape=(), dtype=float32)\n",
      "tf.Tensor(0.515625, shape=(), dtype=float32)\n",
      "tf.Tensor(0.47527984, shape=(), dtype=float32)\n",
      "tf.Tensor(0.09375, shape=(), dtype=float32)\n",
      "tf.Tensor(0.1328125, shape=(), dtype=float32)\n",
      "tf.Tensor(0.53125, shape=(), dtype=float32)\n",
      "tf.Tensor(0.47610295, shape=(), dtype=float32)\n"
     ]
    },
    {
     "name": "stderr",
     "output_type": "stream",
     "text": [
      "71it [00:03, 18.21it/s]"
     ]
    },
    {
     "name": "stdout",
     "output_type": "stream",
     "text": [
      "tf.Tensor(0.125, shape=(), dtype=float32)\n",
      "tf.Tensor(0.13269928, shape=(), dtype=float32)\n",
      "tf.Tensor(0.46875, shape=(), dtype=float32)\n",
      "tf.Tensor(0.47599638, shape=(), dtype=float32)\n",
      "tf.Tensor(0.21875, shape=(), dtype=float32)\n",
      "tf.Tensor(0.13392857, shape=(), dtype=float32)\n",
      "tf.Tensor(0.53125, shape=(), dtype=float32)\n",
      "tf.Tensor(0.47678572, shape=(), dtype=float32)\n",
      "tf.Tensor(0.203125, shape=(), dtype=float32)\n",
      "tf.Tensor(0.13490316, shape=(), dtype=float32)\n",
      "tf.Tensor(0.484375, shape=(), dtype=float32)\n",
      "tf.Tensor(0.47689262, shape=(), dtype=float32)\n",
      "tf.Tensor(0.140625, shape=(), dtype=float32)\n",
      "tf.Tensor(0.13498265, shape=(), dtype=float32)\n",
      "tf.Tensor(0.453125, shape=(), dtype=float32)\n",
      "tf.Tensor(0.4765625, shape=(), dtype=float32)\n"
     ]
    },
    {
     "name": "stderr",
     "output_type": "stream",
     "text": [
      "75it [00:04, 18.72it/s]"
     ]
    },
    {
     "name": "stdout",
     "output_type": "stream",
     "text": [
      "tf.Tensor(0.15625, shape=(), dtype=float32)\n",
      "tf.Tensor(0.13527398, shape=(), dtype=float32)\n",
      "tf.Tensor(0.453125, shape=(), dtype=float32)\n",
      "tf.Tensor(0.47624144, shape=(), dtype=float32)\n",
      "tf.Tensor(0.09375, shape=(), dtype=float32)\n",
      "tf.Tensor(0.13471285, shape=(), dtype=float32)\n",
      "tf.Tensor(0.390625, shape=(), dtype=float32)\n",
      "tf.Tensor(0.47508445, shape=(), dtype=float32)\n",
      "tf.Tensor(0.109375, shape=(), dtype=float32)\n",
      "tf.Tensor(0.134375, shape=(), dtype=float32)\n",
      "tf.Tensor(0.59375, shape=(), dtype=float32)\n",
      "tf.Tensor(0.47666666, shape=(), dtype=float32)\n",
      "tf.Tensor(0.140625, shape=(), dtype=float32)\n",
      "tf.Tensor(0.13445723, shape=(), dtype=float32)\n",
      "tf.Tensor(0.4375, shape=(), dtype=float32)\n",
      "tf.Tensor(0.47615132, shape=(), dtype=float32)\n",
      "tf.Tensor(0.0625, shape=(), dtype=float32)\n"
     ]
    },
    {
     "name": "stderr",
     "output_type": "stream",
     "text": [
      "79it [00:04, 18.99it/s]"
     ]
    },
    {
     "name": "stdout",
     "output_type": "stream",
     "text": [
      "tf.Tensor(0.13352273, shape=(), dtype=float32)\n",
      "tf.Tensor(0.421875, shape=(), dtype=float32)\n",
      "tf.Tensor(0.47544643, shape=(), dtype=float32)\n",
      "tf.Tensor(0.171875, shape=(), dtype=float32)\n",
      "tf.Tensor(0.13401443, shape=(), dtype=float32)\n",
      "tf.Tensor(0.453125, shape=(), dtype=float32)\n",
      "tf.Tensor(0.47516027, shape=(), dtype=float32)\n",
      "tf.Tensor(0.078125, shape=(), dtype=float32)\n",
      "tf.Tensor(0.13330697, shape=(), dtype=float32)\n",
      "tf.Tensor(0.40625, shape=(), dtype=float32)\n",
      "tf.Tensor(0.474288, shape=(), dtype=float32)\n",
      "tf.Tensor(0.125, shape=(), dtype=float32)\n",
      "tf.Tensor(0.13320312, shape=(), dtype=float32)\n",
      "tf.Tensor(0.390625, shape=(), dtype=float32)\n",
      "tf.Tensor(0.4732422, shape=(), dtype=float32)\n",
      "tf.Tensor(0.15625, shape=(), dtype=float32)\n"
     ]
    },
    {
     "name": "stderr",
     "output_type": "stream",
     "text": [
      "83it [00:04, 19.15it/s]"
     ]
    },
    {
     "name": "stdout",
     "output_type": "stream",
     "text": [
      "tf.Tensor(0.13348766, shape=(), dtype=float32)\n",
      "tf.Tensor(0.53125, shape=(), dtype=float32)\n",
      "tf.Tensor(0.47395834, shape=(), dtype=float32)\n",
      "tf.Tensor(0.15625, shape=(), dtype=float32)\n",
      "tf.Tensor(0.13376525, shape=(), dtype=float32)\n",
      "tf.Tensor(0.5625, shape=(), dtype=float32)\n",
      "tf.Tensor(0.4750381, shape=(), dtype=float32)\n",
      "tf.Tensor(0.15625, shape=(), dtype=float32)\n",
      "tf.Tensor(0.13403614, shape=(), dtype=float32)\n",
      "tf.Tensor(0.5, shape=(), dtype=float32)\n",
      "tf.Tensor(0.47533885, shape=(), dtype=float32)\n",
      "tf.Tensor(0.1875, shape=(), dtype=float32)\n",
      "tf.Tensor(0.13467261, shape=(), dtype=float32)\n",
      "tf.Tensor(0.453125, shape=(), dtype=float32)\n",
      "tf.Tensor(0.4750744, shape=(), dtype=float32)\n"
     ]
    },
    {
     "name": "stderr",
     "output_type": "stream",
     "text": [
      "\r",
      "85it [00:04, 18.70it/s]"
     ]
    },
    {
     "name": "stdout",
     "output_type": "stream",
     "text": [
      "tf.Tensor(0.109375, shape=(), dtype=float32)\n",
      "tf.Tensor(0.134375, shape=(), dtype=float32)\n",
      "tf.Tensor(0.53125, shape=(), dtype=float32)\n",
      "tf.Tensor(0.4757353, shape=(), dtype=float32)\n",
      "tf.Tensor(0.109375, shape=(), dtype=float32)\n",
      "tf.Tensor(0.1340843, shape=(), dtype=float32)\n",
      "tf.Tensor(0.46875, shape=(), dtype=float32)\n",
      "tf.Tensor(0.47565407, shape=(), dtype=float32)\n",
      "tf.Tensor(0.109375, shape=(), dtype=float32)\n",
      "tf.Tensor(0.13380028, shape=(), dtype=float32)\n",
      "tf.Tensor(0.421875, shape=(), dtype=float32)\n",
      "tf.Tensor(0.4750359, shape=(), dtype=float32)\n"
     ]
    },
    {
     "name": "stderr",
     "output_type": "stream",
     "text": [
      "\r",
      "88it [00:04, 18.96it/s]"
     ]
    },
    {
     "name": "stdout",
     "output_type": "stream",
     "text": [
      "tf.Tensor(0.171875, shape=(), dtype=float32)\n",
      "tf.Tensor(0.13423295, shape=(), dtype=float32)\n",
      "tf.Tensor(0.515625, shape=(), dtype=float32)\n",
      "tf.Tensor(0.47549716, shape=(), dtype=float32)\n"
     ]
    },
    {
     "name": "stderr",
     "output_type": "stream",
     "text": [
      "\r",
      "90it [00:04, 19.18it/s]"
     ]
    },
    {
     "name": "stdout",
     "output_type": "stream",
     "text": [
      "tf.Tensor(0.171875, shape=(), dtype=float32)\n",
      "tf.Tensor(0.1346559, shape=(), dtype=float32)\n",
      "tf.Tensor(0.515625, shape=(), dtype=float32)\n",
      "tf.Tensor(0.47594804, shape=(), dtype=float32)\n",
      "tf.Tensor(0.21875, shape=(), dtype=float32)\n",
      "tf.Tensor(0.13559029, shape=(), dtype=float32)\n",
      "tf.Tensor(0.546875, shape=(), dtype=float32)\n",
      "tf.Tensor(0.4767361, shape=(), dtype=float32)\n",
      "tf.Tensor(0.109375, shape=(), dtype=float32)\n",
      "tf.Tensor(0.1353022, shape=(), dtype=float32)\n",
      "tf.Tensor(0.4375, shape=(), dtype=float32)\n",
      "tf.Tensor(0.47630495, shape=(), dtype=float32)\n"
     ]
    },
    {
     "name": "stderr",
     "output_type": "stream",
     "text": [
      "\r",
      "92it [00:04, 18.91it/s]"
     ]
    },
    {
     "name": "stdout",
     "output_type": "stream",
     "text": [
      "tf.Tensor(0.125, shape=(), dtype=float32)\n",
      "tf.Tensor(0.13519022, shape=(), dtype=float32)\n",
      "tf.Tensor(0.59375, shape=(), dtype=float32)\n",
      "tf.Tensor(0.47758153, shape=(), dtype=float32)\n"
     ]
    },
    {
     "name": "stderr",
     "output_type": "stream",
     "text": [
      "\r",
      "94it [00:05, 18.84it/s]"
     ]
    },
    {
     "name": "stdout",
     "output_type": "stream",
     "text": [
      "tf.Tensor(0.09375, shape=(), dtype=float32)\n",
      "tf.Tensor(0.13474463, shape=(), dtype=float32)\n",
      "tf.Tensor(0.46875, shape=(), dtype=float32)\n",
      "tf.Tensor(0.47748655, shape=(), dtype=float32)\n",
      "tf.Tensor(0.15625, shape=(), dtype=float32)\n",
      "tf.Tensor(0.1349734, shape=(), dtype=float32)\n",
      "tf.Tensor(0.5625, shape=(), dtype=float32)\n",
      "tf.Tensor(0.47839096, shape=(), dtype=float32)\n",
      "tf.Tensor(0.078125, shape=(), dtype=float32)\n",
      "tf.Tensor(0.134375, shape=(), dtype=float32)\n",
      "tf.Tensor(0.453125, shape=(), dtype=float32)\n",
      "tf.Tensor(0.478125, shape=(), dtype=float32)\n"
     ]
    },
    {
     "name": "stderr",
     "output_type": "stream",
     "text": [
      "\r",
      "96it [00:05, 18.99it/s]"
     ]
    },
    {
     "name": "stdout",
     "output_type": "stream",
     "text": [
      "tf.Tensor(0.046875, shape=(), dtype=float32)\n",
      "tf.Tensor(0.13346355, shape=(), dtype=float32)\n",
      "tf.Tensor(0.359375, shape=(), dtype=float32)\n",
      "tf.Tensor(0.47688803, shape=(), dtype=float32)\n"
     ]
    },
    {
     "name": "stderr",
     "output_type": "stream",
     "text": [
      "\r",
      "98it [00:05, 19.05it/s]"
     ]
    },
    {
     "name": "stdout",
     "output_type": "stream",
     "text": [
      "tf.Tensor(0.09375, shape=(), dtype=float32)\n",
      "tf.Tensor(0.13305412, shape=(), dtype=float32)\n",
      "tf.Tensor(0.484375, shape=(), dtype=float32)\n",
      "tf.Tensor(0.47696522, shape=(), dtype=float32)\n",
      "tf.Tensor(0.125, shape=(), dtype=float32)\n",
      "tf.Tensor(0.13297194, shape=(), dtype=float32)\n",
      "tf.Tensor(0.421875, shape=(), dtype=float32)\n",
      "tf.Tensor(0.47640306, shape=(), dtype=float32)\n",
      "tf.Tensor(0.171875, shape=(), dtype=float32)\n",
      "tf.Tensor(0.1333649, shape=(), dtype=float32)\n",
      "tf.Tensor(0.359375, shape=(), dtype=float32)\n",
      "tf.Tensor(0.47522095, shape=(), dtype=float32)\n",
      "tf.Tensor(0.171875, shape=(), dtype=float32)\n"
     ]
    },
    {
     "name": "stderr",
     "output_type": "stream",
     "text": [
      "\r",
      "100it [00:05, 18.98it/s]"
     ]
    },
    {
     "name": "stdout",
     "output_type": "stream",
     "text": [
      "tf.Tensor(0.13375, shape=(), dtype=float32)\n",
      "tf.Tensor(0.375, shape=(), dtype=float32)\n",
      "tf.Tensor(0.47421876, shape=(), dtype=float32)\n"
     ]
    },
    {
     "name": "stderr",
     "output_type": "stream",
     "text": [
      "\r",
      "102it [00:05, 18.69it/s]"
     ]
    },
    {
     "name": "stdout",
     "output_type": "stream",
     "text": [
      "tf.Tensor(0.15625, shape=(), dtype=float32)\n",
      "tf.Tensor(0.13397278, shape=(), dtype=float32)\n",
      "tf.Tensor(0.484375, shape=(), dtype=float32)\n",
      "tf.Tensor(0.4743193, shape=(), dtype=float32)\n",
      "tf.Tensor(0.09375, shape=(), dtype=float32)\n",
      "tf.Tensor(0.13357843, shape=(), dtype=float32)\n",
      "tf.Tensor(0.390625, shape=(), dtype=float32)\n",
      "tf.Tensor(0.47349876, shape=(), dtype=float32)\n",
      "tf.Tensor(0.125, shape=(), dtype=float32)\n",
      "tf.Tensor(0.13349515, shape=(), dtype=float32)\n",
      "tf.Tensor(0.46875, shape=(), dtype=float32)\n",
      "tf.Tensor(0.47345266, shape=(), dtype=float32)\n"
     ]
    },
    {
     "name": "stderr",
     "output_type": "stream",
     "text": [
      "\r",
      "104it [00:05, 18.65it/s]"
     ]
    },
    {
     "name": "stdout",
     "output_type": "stream",
     "text": [
      "tf.Tensor(0.09375, shape=(), dtype=float32)\n",
      "tf.Tensor(0.13311298, shape=(), dtype=float32)\n",
      "tf.Tensor(0.5625, shape=(), dtype=float32)\n",
      "tf.Tensor(0.4743089, shape=(), dtype=float32)\n"
     ]
    },
    {
     "name": "stderr",
     "output_type": "stream",
     "text": [
      "\r",
      "106it [00:05, 17.60it/s]"
     ]
    },
    {
     "name": "stdout",
     "output_type": "stream",
     "text": [
      "tf.Tensor(0.09375, shape=(), dtype=float32)\n",
      "tf.Tensor(0.1327381, shape=(), dtype=float32)\n",
      "tf.Tensor(0.390625, shape=(), dtype=float32)\n",
      "tf.Tensor(0.4735119, shape=(), dtype=float32)\n",
      "tf.Tensor(0.140625, shape=(), dtype=float32)\n",
      "tf.Tensor(0.1328125, shape=(), dtype=float32)\n",
      "tf.Tensor(0.4375, shape=(), dtype=float32)\n",
      "tf.Tensor(0.47317216, shape=(), dtype=float32)\n",
      "tf.Tensor(0.109375, shape=(), dtype=float32)\n",
      "tf.Tensor(0.13259345, shape=(), dtype=float32)\n",
      "tf.Tensor(0.4375, shape=(), dtype=float32)\n",
      "tf.Tensor(0.4728388, shape=(), dtype=float32)\n",
      "tf.Tensor(0.125, shape=(), dtype=float32)\n"
     ]
    },
    {
     "name": "stderr",
     "output_type": "stream",
     "text": [
      "110it [00:05, 17.31it/s]"
     ]
    },
    {
     "name": "stdout",
     "output_type": "stream",
     "text": [
      "tf.Tensor(0.13252315, shape=(), dtype=float32)\n",
      "tf.Tensor(0.5, shape=(), dtype=float32)\n",
      "tf.Tensor(0.4730903, shape=(), dtype=float32)\n",
      "tf.Tensor(0.1875, shape=(), dtype=float32)\n",
      "tf.Tensor(0.13302752, shape=(), dtype=float32)\n",
      "tf.Tensor(0.484375, shape=(), dtype=float32)\n",
      "tf.Tensor(0.4731938, shape=(), dtype=float32)\n",
      "tf.Tensor(0.09375, shape=(), dtype=float32)\n",
      "tf.Tensor(0.13267045, shape=(), dtype=float32)\n",
      "tf.Tensor(0.4375, shape=(), dtype=float32)\n",
      "tf.Tensor(0.4728693, shape=(), dtype=float32)\n",
      "tf.Tensor(0.0625, shape=(), dtype=float32)\n",
      "tf.Tensor(0.1320383, shape=(), dtype=float32)\n",
      "tf.Tensor(0.34375, shape=(), dtype=float32)\n"
     ]
    },
    {
     "name": "stderr",
     "output_type": "stream",
     "text": [
      "114it [00:06, 18.03it/s]"
     ]
    },
    {
     "name": "stdout",
     "output_type": "stream",
     "text": [
      "tf.Tensor(0.4717061, shape=(), dtype=float32)\n",
      "tf.Tensor(0.109375, shape=(), dtype=float32)\n",
      "tf.Tensor(0.13183594, shape=(), dtype=float32)\n",
      "tf.Tensor(0.4375, shape=(), dtype=float32)\n",
      "tf.Tensor(0.47140068, shape=(), dtype=float32)\n",
      "tf.Tensor(0.078125, shape=(), dtype=float32)\n",
      "tf.Tensor(0.13136062, shape=(), dtype=float32)\n",
      "tf.Tensor(0.4375, shape=(), dtype=float32)\n",
      "tf.Tensor(0.47110066, shape=(), dtype=float32)\n",
      "tf.Tensor(0.265625, shape=(), dtype=float32)\n",
      "tf.Tensor(0.13253838, shape=(), dtype=float32)\n",
      "tf.Tensor(0.5625, shape=(), dtype=float32)\n",
      "tf.Tensor(0.4719024, shape=(), dtype=float32)\n"
     ]
    },
    {
     "name": "stderr",
     "output_type": "stream",
     "text": [
      "\r",
      "116it [00:06, 18.33it/s]"
     ]
    },
    {
     "name": "stdout",
     "output_type": "stream",
     "text": [
      "tf.Tensor(0.125, shape=(), dtype=float32)\n",
      "tf.Tensor(0.13247283, shape=(), dtype=float32)\n",
      "tf.Tensor(0.578125, shape=(), dtype=float32)\n",
      "tf.Tensor(0.4728261, shape=(), dtype=float32)\n",
      "tf.Tensor(0.109375, shape=(), dtype=float32)\n",
      "tf.Tensor(0.1322737, shape=(), dtype=float32)\n",
      "tf.Tensor(0.453125, shape=(), dtype=float32)\n",
      "tf.Tensor(0.47265625, shape=(), dtype=float32)\n",
      "tf.Tensor(0.109375, shape=(), dtype=float32)\n",
      "tf.Tensor(0.13207799, shape=(), dtype=float32)\n",
      "tf.Tensor(0.53125, shape=(), dtype=float32)\n",
      "tf.Tensor(0.47315705, shape=(), dtype=float32)\n",
      "tf.Tensor(0.078125, shape=(), dtype=float32)\n",
      "tf.Tensor(0.13162076, shape=(), dtype=float32)\n",
      "tf.Tensor(0.359375, shape=(), dtype=float32)\n",
      "tf.Tensor(0.4721928, shape=(), dtype=float32)\n",
      "tf.Tensor(0.125, shape=(), dtype=float32)\n"
     ]
    },
    {
     "name": "stderr",
     "output_type": "stream",
     "text": [
      "121it [00:06, 18.80it/s]"
     ]
    },
    {
     "name": "stdout",
     "output_type": "stream",
     "text": [
      "tf.Tensor(0.13156512, shape=(), dtype=float32)\n",
      "tf.Tensor(0.46875, shape=(), dtype=float32)\n",
      "tf.Tensor(0.47216386, shape=(), dtype=float32)\n",
      "tf.Tensor(0.109375, shape=(), dtype=float32)\n",
      "tf.Tensor(0.13138022, shape=(), dtype=float32)\n",
      "tf.Tensor(0.53125, shape=(), dtype=float32)\n",
      "tf.Tensor(0.47265625, shape=(), dtype=float32)\n",
      "tf.Tensor(0.1875, shape=(), dtype=float32)\n",
      "tf.Tensor(0.13184401, shape=(), dtype=float32)\n",
      "tf.Tensor(0.46875, shape=(), dtype=float32)\n",
      "tf.Tensor(0.47262397, shape=(), dtype=float32)\n",
      "tf.Tensor(0.125, shape=(), dtype=float32)\n",
      "tf.Tensor(0.13178791, shape=(), dtype=float32)\n",
      "tf.Tensor(0.5, shape=(), dtype=float32)\n",
      "tf.Tensor(0.47284836, shape=(), dtype=float32)\n"
     ]
    },
    {
     "name": "stderr",
     "output_type": "stream",
     "text": [
      "125it [00:06, 18.91it/s]"
     ]
    },
    {
     "name": "stdout",
     "output_type": "stream",
     "text": [
      "tf.Tensor(0.171875, shape=(), dtype=float32)\n",
      "tf.Tensor(0.13211381, shape=(), dtype=float32)\n",
      "tf.Tensor(0.484375, shape=(), dtype=float32)\n",
      "tf.Tensor(0.47294208, shape=(), dtype=float32)\n",
      "tf.Tensor(0.140625, shape=(), dtype=float32)\n",
      "tf.Tensor(0.13218246, shape=(), dtype=float32)\n",
      "tf.Tensor(0.546875, shape=(), dtype=float32)\n",
      "tf.Tensor(0.4735383, shape=(), dtype=float32)\n",
      "tf.Tensor(0.15625, shape=(), dtype=float32)\n",
      "tf.Tensor(0.132375, shape=(), dtype=float32)\n",
      "tf.Tensor(0.5, shape=(), dtype=float32)\n",
      "tf.Tensor(0.47375, shape=(), dtype=float32)\n",
      "tf.Tensor(0.125, shape=(), dtype=float32)\n",
      "tf.Tensor(0.13231647, shape=(), dtype=float32)\n",
      "tf.Tensor(0.5625, shape=(), dtype=float32)\n",
      "tf.Tensor(0.47445437, shape=(), dtype=float32)\n"
     ]
    },
    {
     "name": "stderr",
     "output_type": "stream",
     "text": [
      "129it [00:06, 19.10it/s]"
     ]
    },
    {
     "name": "stdout",
     "output_type": "stream",
     "text": [
      "tf.Tensor(0.125, shape=(), dtype=float32)\n",
      "tf.Tensor(0.13225886, shape=(), dtype=float32)\n",
      "tf.Tensor(0.484375, shape=(), dtype=float32)\n",
      "tf.Tensor(0.47453249, shape=(), dtype=float32)\n",
      "tf.Tensor(0.09375, shape=(), dtype=float32)\n",
      "tf.Tensor(0.13195801, shape=(), dtype=float32)\n",
      "tf.Tensor(0.421875, shape=(), dtype=float32)\n",
      "tf.Tensor(0.4741211, shape=(), dtype=float32)\n",
      "tf.Tensor(0.21875, shape=(), dtype=float32)\n",
      "tf.Tensor(0.13263081, shape=(), dtype=float32)\n",
      "tf.Tensor(0.515625, shape=(), dtype=float32)\n",
      "tf.Tensor(0.47444284, shape=(), dtype=float32)\n",
      "tf.Tensor(0.140625, shape=(), dtype=float32)\n",
      "tf.Tensor(0.1326923, shape=(), dtype=float32)\n",
      "tf.Tensor(0.515625, shape=(), dtype=float32)\n",
      "tf.Tensor(0.4747596, shape=(), dtype=float32)\n"
     ]
    },
    {
     "name": "stderr",
     "output_type": "stream",
     "text": [
      "134it [00:07, 19.07it/s]"
     ]
    },
    {
     "name": "stdout",
     "output_type": "stream",
     "text": [
      "tf.Tensor(0.09375, shape=(), dtype=float32)\n",
      "tf.Tensor(0.13239504, shape=(), dtype=float32)\n",
      "tf.Tensor(0.484375, shape=(), dtype=float32)\n",
      "tf.Tensor(0.474833, shape=(), dtype=float32)\n",
      "tf.Tensor(0.125, shape=(), dtype=float32)\n",
      "tf.Tensor(0.13233902, shape=(), dtype=float32)\n",
      "tf.Tensor(0.515625, shape=(), dtype=float32)\n",
      "tf.Tensor(0.47514203, shape=(), dtype=float32)\n",
      "tf.Tensor(0.140625, shape=(), dtype=float32)\n",
      "tf.Tensor(0.13240132, shape=(), dtype=float32)\n",
      "tf.Tensor(0.46875, shape=(), dtype=float32)\n",
      "tf.Tensor(0.475094, shape=(), dtype=float32)\n",
      "tf.Tensor(0.15625, shape=(), dtype=float32)\n",
      "tf.Tensor(0.1325793, shape=(), dtype=float32)\n",
      "tf.Tensor(0.4375, shape=(), dtype=float32)\n",
      "tf.Tensor(0.47481343, shape=(), dtype=float32)\n"
     ]
    },
    {
     "name": "stderr",
     "output_type": "stream",
     "text": [
      "138it [00:07, 19.14it/s]"
     ]
    },
    {
     "name": "stdout",
     "output_type": "stream",
     "text": [
      "tf.Tensor(0.125, shape=(), dtype=float32)\n",
      "tf.Tensor(0.13252315, shape=(), dtype=float32)\n",
      "tf.Tensor(0.59375, shape=(), dtype=float32)\n",
      "tf.Tensor(0.47569445, shape=(), dtype=float32)\n",
      "tf.Tensor(0.1875, shape=(), dtype=float32)\n",
      "tf.Tensor(0.13292739, shape=(), dtype=float32)\n",
      "tf.Tensor(0.546875, shape=(), dtype=float32)\n",
      "tf.Tensor(0.47621784, shape=(), dtype=float32)\n",
      "tf.Tensor(0.1875, shape=(), dtype=float32)\n",
      "tf.Tensor(0.13332573, shape=(), dtype=float32)\n",
      "tf.Tensor(0.453125, shape=(), dtype=float32)\n",
      "tf.Tensor(0.47604927, shape=(), dtype=float32)\n",
      "tf.Tensor(0.078125, shape=(), dtype=float32)\n",
      "tf.Tensor(0.13292572, shape=(), dtype=float32)\n",
      "tf.Tensor(0.453125, shape=(), dtype=float32)\n",
      "tf.Tensor(0.47588316, shape=(), dtype=float32)\n",
      "tf.Tensor(0.140625, shape=(), dtype=float32)\n"
     ]
    },
    {
     "name": "stderr",
     "output_type": "stream",
     "text": [
      "142it [00:07, 19.17it/s]"
     ]
    },
    {
     "name": "stdout",
     "output_type": "stream",
     "text": [
      "tf.Tensor(0.13298112, shape=(), dtype=float32)\n",
      "tf.Tensor(0.546875, shape=(), dtype=float32)\n",
      "tf.Tensor(0.47639388, shape=(), dtype=float32)\n",
      "tf.Tensor(0.09375, shape=(), dtype=float32)\n",
      "tf.Tensor(0.13270089, shape=(), dtype=float32)\n",
      "tf.Tensor(0.4375, shape=(), dtype=float32)\n",
      "tf.Tensor(0.47611606, shape=(), dtype=float32)\n",
      "tf.Tensor(0.046875, shape=(), dtype=float32)\n",
      "tf.Tensor(0.1320922, shape=(), dtype=float32)\n",
      "tf.Tensor(0.40625, shape=(), dtype=float32)\n",
      "tf.Tensor(0.47562057, shape=(), dtype=float32)\n",
      "tf.Tensor(0.09375, shape=(), dtype=float32)\n",
      "tf.Tensor(0.13182218, shape=(), dtype=float32)\n",
      "tf.Tensor(0.390625, shape=(), dtype=float32)\n",
      "tf.Tensor(0.47502202, shape=(), dtype=float32)\n"
     ]
    },
    {
     "name": "stderr",
     "output_type": "stream",
     "text": [
      "146it [00:07, 19.14it/s]"
     ]
    },
    {
     "name": "stdout",
     "output_type": "stream",
     "text": [
      "tf.Tensor(0.109375, shape=(), dtype=float32)\n",
      "tf.Tensor(0.13166521, shape=(), dtype=float32)\n",
      "tf.Tensor(0.390625, shape=(), dtype=float32)\n",
      "tf.Tensor(0.4744318, shape=(), dtype=float32)\n",
      "tf.Tensor(0.1875, shape=(), dtype=float32)\n",
      "tf.Tensor(0.13205296, shape=(), dtype=float32)\n",
      "tf.Tensor(0.546875, shape=(), dtype=float32)\n",
      "tf.Tensor(0.4749349, shape=(), dtype=float32)\n",
      "tf.Tensor(0.125, shape=(), dtype=float32)\n",
      "tf.Tensor(0.1320043, shape=(), dtype=float32)\n",
      "tf.Tensor(0.484375, shape=(), dtype=float32)\n",
      "tf.Tensor(0.475, shape=(), dtype=float32)\n",
      "tf.Tensor(0.125, shape=(), dtype=float32)\n",
      "tf.Tensor(0.13195634, shape=(), dtype=float32)\n",
      "tf.Tensor(0.375, shape=(), dtype=float32)\n",
      "tf.Tensor(0.47431508, shape=(), dtype=float32)\n",
      "***************\n",
      "(44, 3, 16, 20)\n",
      "(44, 192, 16, 20)\n",
      "44 192 16 20\n",
      "after:  (44, 3, 64, 16, 20)\n",
      "***************\n",
      "(44, 64, 16, 20)\n",
      "(44, 192, 16, 20)\n",
      "44 192 16 20\n",
      "after:  (44, 3, 64, 16, 20)\n",
      "***************\n",
      "(44, 64, 16, 20)\n",
      "(44, 192, 16, 20)\n",
      "44 192 16 20\n",
      "after:  (44, 3, 64, 16, 20)\n",
      "***************\n",
      "(44, 64, 16, 20)\n",
      "(44, 192, 16, 20)\n",
      "44 192 16 20\n",
      "after:  (44, 3, 64, 16, 20)\n",
      "***************\n",
      "(44, 64, 16, 20)\n",
      "(44, 384, 16, 20)\n",
      "44 384 16 20\n",
      "after:  (44, 3, 128, 16, 20)\n",
      "***************\n",
      "(44, 128, 8, 20)\n",
      "(44, 384, 8, 20)\n",
      "44 384 8 20\n",
      "after:  (44, 3, 128, 8, 20)\n",
      "***************\n",
      "(44, 128, 8, 20)\n",
      "(44, 384, 8, 20)\n",
      "44 384 8 20\n",
      "after:  (44, 3, 128, 8, 20)\n",
      "***************\n",
      "(44, 128, 8, 20)\n",
      "(44, 768, 8, 20)\n",
      "44 768 8 20\n",
      "after:  (44, 3, 256, 8, 20)\n",
      "***************\n",
      "(44, 256, 4, 20)\n",
      "(44, 768, 4, 20)\n",
      "44 768 4 20\n",
      "after:  (44, 3, 256, 4, 20)\n",
      "***************\n",
      "(44, 256, 4, 20)\n",
      "(44, 768, 4, 20)\n",
      "44 768 4 20\n",
      "after:  (44, 3, 256, 4, 20)\n"
     ]
    },
    {
     "name": "stderr",
     "output_type": "stream",
     "text": [
      "147it [00:08, 16.96it/s]\n"
     ]
    },
    {
     "name": "stdout",
     "output_type": "stream",
     "text": [
      "tf.Tensor(0.11363637, shape=(), dtype=float32)\n",
      "tf.Tensor(0.13187048, shape=(), dtype=float32)\n",
      "tf.Tensor(0.38636363, shape=(), dtype=float32)\n",
      "tf.Tensor(0.47390285, shape=(), dtype=float32)\n",
      "Epoch: 2\n",
      "Training: \n"
     ]
    },
    {
     "name": "stderr",
     "output_type": "stream",
     "text": [
      "146it [00:18,  8.05it/s]\n"
     ]
    },
    {
     "name": "stdout",
     "output_type": "stream",
     "text": [
      "Testing: \n"
     ]
    },
    {
     "name": "stderr",
     "output_type": "stream",
     "text": [
      "2it [00:00, 16.64it/s]"
     ]
    },
    {
     "name": "stdout",
     "output_type": "stream",
     "text": [
      "tf.Tensor(0.21875, shape=(), dtype=float32)\n",
      "tf.Tensor(0.21875, shape=(), dtype=float32)\n",
      "tf.Tensor(0.515625, shape=(), dtype=float32)\n",
      "tf.Tensor(0.515625, shape=(), dtype=float32)\n",
      "tf.Tensor(0.21875, shape=(), dtype=float32)\n",
      "tf.Tensor(0.21875, shape=(), dtype=float32)\n",
      "tf.Tensor(0.515625, shape=(), dtype=float32)\n",
      "tf.Tensor(0.515625, shape=(), dtype=float32)\n",
      "tf.Tensor(0.234375, shape=(), dtype=float32)\n",
      "tf.Tensor(0.22395833, shape=(), dtype=float32)\n",
      "tf.Tensor(0.46875, shape=(), dtype=float32)\n",
      "tf.Tensor(0.5, shape=(), dtype=float32)\n"
     ]
    },
    {
     "name": "stderr",
     "output_type": "stream",
     "text": [
      "\r",
      "4it [00:00, 17.50it/s]"
     ]
    },
    {
     "name": "stdout",
     "output_type": "stream",
     "text": [
      "tf.Tensor(0.109375, shape=(), dtype=float32)\n",
      "tf.Tensor(0.1953125, shape=(), dtype=float32)\n",
      "tf.Tensor(0.390625, shape=(), dtype=float32)\n",
      "tf.Tensor(0.47265625, shape=(), dtype=float32)\n"
     ]
    },
    {
     "name": "stderr",
     "output_type": "stream",
     "text": [
      "\r",
      "6it [00:00, 18.19it/s]"
     ]
    },
    {
     "name": "stdout",
     "output_type": "stream",
     "text": [
      "tf.Tensor(0.1875, shape=(), dtype=float32)\n",
      "tf.Tensor(0.19375, shape=(), dtype=float32)\n",
      "tf.Tensor(0.59375, shape=(), dtype=float32)\n",
      "tf.Tensor(0.496875, shape=(), dtype=float32)\n",
      "tf.Tensor(0.1875, shape=(), dtype=float32)\n",
      "tf.Tensor(0.19270833, shape=(), dtype=float32)\n",
      "tf.Tensor(0.5, shape=(), dtype=float32)\n",
      "tf.Tensor(0.49739584, shape=(), dtype=float32)\n",
      "tf.Tensor(0.234375, shape=(), dtype=float32)\n",
      "tf.Tensor(0.19866072, shape=(), dtype=float32)\n",
      "tf.Tensor(0.609375, shape=(), dtype=float32)\n",
      "tf.Tensor(0.51339287, shape=(), dtype=float32)\n"
     ]
    },
    {
     "name": "stderr",
     "output_type": "stream",
     "text": [
      "\r",
      "8it [00:00, 18.65it/s]"
     ]
    },
    {
     "name": "stdout",
     "output_type": "stream",
     "text": [
      "tf.Tensor(0.265625, shape=(), dtype=float32)\n",
      "tf.Tensor(0.20703125, shape=(), dtype=float32)\n",
      "tf.Tensor(0.59375, shape=(), dtype=float32)\n",
      "tf.Tensor(0.5234375, shape=(), dtype=float32)\n",
      "tf.Tensor(0.125, shape=(), dtype=float32)\n"
     ]
    },
    {
     "name": "stderr",
     "output_type": "stream",
     "text": [
      "\r",
      "10it [00:00, 17.45it/s]"
     ]
    },
    {
     "name": "stdout",
     "output_type": "stream",
     "text": [
      "tf.Tensor(0.19791667, shape=(), dtype=float32)\n",
      "tf.Tensor(0.40625, shape=(), dtype=float32)\n",
      "tf.Tensor(0.5104167, shape=(), dtype=float32)\n",
      "tf.Tensor(0.1875, shape=(), dtype=float32)\n",
      "tf.Tensor(0.196875, shape=(), dtype=float32)\n",
      "tf.Tensor(0.46875, shape=(), dtype=float32)\n",
      "tf.Tensor(0.50625, shape=(), dtype=float32)\n",
      "tf.Tensor(0.1875, shape=(), dtype=float32)\n",
      "tf.Tensor(0.19602273, shape=(), dtype=float32)\n",
      "tf.Tensor(0.4375, shape=(), dtype=float32)\n",
      "tf.Tensor(0.5, shape=(), dtype=float32)\n",
      "tf.Tensor(0.28125, shape=(), dtype=float32)\n",
      "tf.Tensor(0.203125, shape=(), dtype=float32)\n",
      "tf.Tensor(0.578125, shape=(), dtype=float32)\n"
     ]
    },
    {
     "name": "stderr",
     "output_type": "stream",
     "text": [
      "14it [00:00, 17.02it/s]"
     ]
    },
    {
     "name": "stdout",
     "output_type": "stream",
     "text": [
      "tf.Tensor(0.50651044, shape=(), dtype=float32)\n",
      "tf.Tensor(0.28125, shape=(), dtype=float32)\n",
      "tf.Tensor(0.20913461, shape=(), dtype=float32)\n",
      "tf.Tensor(0.53125, shape=(), dtype=float32)\n",
      "tf.Tensor(0.50841343, shape=(), dtype=float32)\n",
      "tf.Tensor(0.25, shape=(), dtype=float32)\n",
      "tf.Tensor(0.21205357, shape=(), dtype=float32)\n",
      "tf.Tensor(0.5625, shape=(), dtype=float32)\n",
      "tf.Tensor(0.51227677, shape=(), dtype=float32)\n",
      "tf.Tensor(0.234375, shape=(), dtype=float32)\n",
      "tf.Tensor(0.21354167, shape=(), dtype=float32)\n",
      "tf.Tensor(0.484375, shape=(), dtype=float32)\n",
      "tf.Tensor(0.5104167, shape=(), dtype=float32)\n"
     ]
    },
    {
     "name": "stderr",
     "output_type": "stream",
     "text": [
      "18it [00:01, 17.79it/s]"
     ]
    },
    {
     "name": "stdout",
     "output_type": "stream",
     "text": [
      "tf.Tensor(0.140625, shape=(), dtype=float32)\n",
      "tf.Tensor(0.20898438, shape=(), dtype=float32)\n",
      "tf.Tensor(0.578125, shape=(), dtype=float32)\n",
      "tf.Tensor(0.51464844, shape=(), dtype=float32)\n",
      "tf.Tensor(0.234375, shape=(), dtype=float32)\n",
      "tf.Tensor(0.21047795, shape=(), dtype=float32)\n",
      "tf.Tensor(0.625, shape=(), dtype=float32)\n",
      "tf.Tensor(0.5211397, shape=(), dtype=float32)\n",
      "tf.Tensor(0.34375, shape=(), dtype=float32)\n",
      "tf.Tensor(0.21788195, shape=(), dtype=float32)\n",
      "tf.Tensor(0.578125, shape=(), dtype=float32)\n",
      "tf.Tensor(0.5243056, shape=(), dtype=float32)\n",
      "tf.Tensor(0.140625, shape=(), dtype=float32)\n",
      "tf.Tensor(0.2138158, shape=(), dtype=float32)\n",
      "tf.Tensor(0.46875, shape=(), dtype=float32)\n",
      "tf.Tensor(0.52138156, shape=(), dtype=float32)\n"
     ]
    },
    {
     "name": "stderr",
     "output_type": "stream",
     "text": [
      "\r",
      "20it [00:01, 17.45it/s]"
     ]
    },
    {
     "name": "stdout",
     "output_type": "stream",
     "text": [
      "tf.Tensor(0.28125, shape=(), dtype=float32)\n",
      "tf.Tensor(0.2171875, shape=(), dtype=float32)\n",
      "tf.Tensor(0.59375, shape=(), dtype=float32)\n",
      "tf.Tensor(0.525, shape=(), dtype=float32)\n",
      "tf.Tensor(0.234375, shape=(), dtype=float32)\n",
      "tf.Tensor(0.21800596, shape=(), dtype=float32)\n",
      "tf.Tensor(0.453125, shape=(), dtype=float32)\n",
      "tf.Tensor(0.52157736, shape=(), dtype=float32)\n",
      "tf.Tensor(0.28125, shape=(), dtype=float32)\n",
      "tf.Tensor(0.22088069, shape=(), dtype=float32)\n",
      "tf.Tensor(0.5, shape=(), dtype=float32)\n",
      "tf.Tensor(0.52059656, shape=(), dtype=float32)\n"
     ]
    },
    {
     "name": "stderr",
     "output_type": "stream",
     "text": [
      "\r",
      "22it [00:01, 17.17it/s]"
     ]
    },
    {
     "name": "stdout",
     "output_type": "stream",
     "text": [
      "tf.Tensor(0.265625, shape=(), dtype=float32)\n"
     ]
    },
    {
     "name": "stderr",
     "output_type": "stream",
     "text": [
      "\r",
      "24it [00:01, 17.09it/s]"
     ]
    },
    {
     "name": "stdout",
     "output_type": "stream",
     "text": [
      "tf.Tensor(0.2228261, shape=(), dtype=float32)\n",
      "tf.Tensor(0.5, shape=(), dtype=float32)\n",
      "tf.Tensor(0.51970106, shape=(), dtype=float32)\n",
      "tf.Tensor(0.203125, shape=(), dtype=float32)\n",
      "tf.Tensor(0.2220052, shape=(), dtype=float32)\n",
      "tf.Tensor(0.453125, shape=(), dtype=float32)\n",
      "tf.Tensor(0.51692706, shape=(), dtype=float32)\n",
      "tf.Tensor(0.125, shape=(), dtype=float32)\n",
      "tf.Tensor(0.218125, shape=(), dtype=float32)\n",
      "tf.Tensor(0.484375, shape=(), dtype=float32)\n",
      "tf.Tensor(0.515625, shape=(), dtype=float32)\n",
      "tf.Tensor(0.1875, shape=(), dtype=float32)\n"
     ]
    },
    {
     "name": "stderr",
     "output_type": "stream",
     "text": [
      "28it [00:01, 17.35it/s]"
     ]
    },
    {
     "name": "stdout",
     "output_type": "stream",
     "text": [
      "tf.Tensor(0.21694711, shape=(), dtype=float32)\n",
      "tf.Tensor(0.59375, shape=(), dtype=float32)\n",
      "tf.Tensor(0.5186298, shape=(), dtype=float32)\n",
      "tf.Tensor(0.1875, shape=(), dtype=float32)\n",
      "tf.Tensor(0.21585648, shape=(), dtype=float32)\n",
      "tf.Tensor(0.375, shape=(), dtype=float32)\n",
      "tf.Tensor(0.5133102, shape=(), dtype=float32)\n",
      "tf.Tensor(0.265625, shape=(), dtype=float32)\n",
      "tf.Tensor(0.21763393, shape=(), dtype=float32)\n",
      "tf.Tensor(0.5625, shape=(), dtype=float32)\n",
      "tf.Tensor(0.515067, shape=(), dtype=float32)\n",
      "tf.Tensor(0.203125, shape=(), dtype=float32)\n",
      "tf.Tensor(0.21713363, shape=(), dtype=float32)\n",
      "tf.Tensor(0.53125, shape=(), dtype=float32)\n",
      "tf.Tensor(0.515625, shape=(), dtype=float32)\n",
      "tf.Tensor(0.1875, shape=(), dtype=float32)\n"
     ]
    },
    {
     "name": "stderr",
     "output_type": "stream",
     "text": [
      "32it [00:01, 16.83it/s]"
     ]
    },
    {
     "name": "stdout",
     "output_type": "stream",
     "text": [
      "tf.Tensor(0.21614583, shape=(), dtype=float32)\n",
      "tf.Tensor(0.578125, shape=(), dtype=float32)\n",
      "tf.Tensor(0.51770836, shape=(), dtype=float32)\n",
      "tf.Tensor(0.203125, shape=(), dtype=float32)\n",
      "tf.Tensor(0.21572581, shape=(), dtype=float32)\n",
      "tf.Tensor(0.5625, shape=(), dtype=float32)\n",
      "tf.Tensor(0.51915324, shape=(), dtype=float32)\n",
      "tf.Tensor(0.21875, shape=(), dtype=float32)\n",
      "tf.Tensor(0.21582031, shape=(), dtype=float32)\n",
      "tf.Tensor(0.46875, shape=(), dtype=float32)\n",
      "tf.Tensor(0.5175781, shape=(), dtype=float32)\n",
      "tf.Tensor(0.25, shape=(), dtype=float32)\n",
      "tf.Tensor(0.21685606, shape=(), dtype=float32)\n",
      "tf.Tensor(0.59375, shape=(), dtype=float32)\n",
      "tf.Tensor(0.5198864, shape=(), dtype=float32)\n"
     ]
    },
    {
     "name": "stderr",
     "output_type": "stream",
     "text": [
      "36it [00:02, 18.03it/s]"
     ]
    },
    {
     "name": "stdout",
     "output_type": "stream",
     "text": [
      "tf.Tensor(0.328125, shape=(), dtype=float32)\n",
      "tf.Tensor(0.22012867, shape=(), dtype=float32)\n",
      "tf.Tensor(0.59375, shape=(), dtype=float32)\n",
      "tf.Tensor(0.52205884, shape=(), dtype=float32)\n",
      "tf.Tensor(0.171875, shape=(), dtype=float32)\n",
      "tf.Tensor(0.21875, shape=(), dtype=float32)\n",
      "tf.Tensor(0.46875, shape=(), dtype=float32)\n",
      "tf.Tensor(0.5205357, shape=(), dtype=float32)\n",
      "tf.Tensor(0.25, shape=(), dtype=float32)\n",
      "tf.Tensor(0.21961805, shape=(), dtype=float32)\n",
      "tf.Tensor(0.5, shape=(), dtype=float32)\n",
      "tf.Tensor(0.5199653, shape=(), dtype=float32)\n",
      "tf.Tensor(0.328125, shape=(), dtype=float32)\n",
      "tf.Tensor(0.22255068, shape=(), dtype=float32)\n",
      "tf.Tensor(0.625, shape=(), dtype=float32)\n",
      "tf.Tensor(0.5228041, shape=(), dtype=float32)\n",
      "tf.Tensor(0.28125, shape=(), dtype=float32)\n"
     ]
    },
    {
     "name": "stderr",
     "output_type": "stream",
     "text": [
      "40it [00:02, 18.25it/s]"
     ]
    },
    {
     "name": "stdout",
     "output_type": "stream",
     "text": [
      "tf.Tensor(0.22409539, shape=(), dtype=float32)\n",
      "tf.Tensor(0.59375, shape=(), dtype=float32)\n",
      "tf.Tensor(0.5246711, shape=(), dtype=float32)\n",
      "tf.Tensor(0.265625, shape=(), dtype=float32)\n",
      "tf.Tensor(0.22516026, shape=(), dtype=float32)\n",
      "tf.Tensor(0.484375, shape=(), dtype=float32)\n",
      "tf.Tensor(0.52363783, shape=(), dtype=float32)\n",
      "tf.Tensor(0.171875, shape=(), dtype=float32)\n",
      "tf.Tensor(0.22382812, shape=(), dtype=float32)\n",
      "tf.Tensor(0.5, shape=(), dtype=float32)\n",
      "tf.Tensor(0.52304685, shape=(), dtype=float32)\n",
      "tf.Tensor(0.1875, shape=(), dtype=float32)\n",
      "tf.Tensor(0.22294207, shape=(), dtype=float32)\n",
      "tf.Tensor(0.53125, shape=(), dtype=float32)\n",
      "tf.Tensor(0.52324694, shape=(), dtype=float32)\n"
     ]
    },
    {
     "name": "stderr",
     "output_type": "stream",
     "text": [
      "44it [00:02, 18.44it/s]"
     ]
    },
    {
     "name": "stdout",
     "output_type": "stream",
     "text": [
      "tf.Tensor(0.21875, shape=(), dtype=float32)\n",
      "tf.Tensor(0.22284226, shape=(), dtype=float32)\n",
      "tf.Tensor(0.59375, shape=(), dtype=float32)\n",
      "tf.Tensor(0.5249256, shape=(), dtype=float32)\n",
      "tf.Tensor(0.21875, shape=(), dtype=float32)\n",
      "tf.Tensor(0.22274709, shape=(), dtype=float32)\n",
      "tf.Tensor(0.546875, shape=(), dtype=float32)\n",
      "tf.Tensor(0.52543604, shape=(), dtype=float32)\n",
      "tf.Tensor(0.15625, shape=(), dtype=float32)\n",
      "tf.Tensor(0.2212358, shape=(), dtype=float32)\n",
      "tf.Tensor(0.46875, shape=(), dtype=float32)\n",
      "tf.Tensor(0.52414775, shape=(), dtype=float32)\n",
      "tf.Tensor(0.1875, shape=(), dtype=float32)\n",
      "tf.Tensor(0.2204861, shape=(), dtype=float32)\n",
      "tf.Tensor(0.4375, shape=(), dtype=float32)\n",
      "tf.Tensor(0.5222222, shape=(), dtype=float32)\n"
     ]
    },
    {
     "name": "stderr",
     "output_type": "stream",
     "text": [
      "48it [00:02, 17.21it/s]"
     ]
    },
    {
     "name": "stdout",
     "output_type": "stream",
     "text": [
      "tf.Tensor(0.25, shape=(), dtype=float32)\n",
      "tf.Tensor(0.22112772, shape=(), dtype=float32)\n",
      "tf.Tensor(0.53125, shape=(), dtype=float32)\n",
      "tf.Tensor(0.5224185, shape=(), dtype=float32)\n",
      "tf.Tensor(0.171875, shape=(), dtype=float32)\n",
      "tf.Tensor(0.2200798, shape=(), dtype=float32)\n",
      "tf.Tensor(0.5625, shape=(), dtype=float32)\n",
      "tf.Tensor(0.52327126, shape=(), dtype=float32)\n",
      "tf.Tensor(0.1875, shape=(), dtype=float32)\n",
      "tf.Tensor(0.21940105, shape=(), dtype=float32)\n",
      "tf.Tensor(0.5, shape=(), dtype=float32)\n",
      "tf.Tensor(0.52278644, shape=(), dtype=float32)\n",
      "tf.Tensor(0.25, shape=(), dtype=float32)\n"
     ]
    },
    {
     "name": "stderr",
     "output_type": "stream",
     "text": [
      "52it [00:02, 17.59it/s]"
     ]
    },
    {
     "name": "stdout",
     "output_type": "stream",
     "text": [
      "tf.Tensor(0.22002551, shape=(), dtype=float32)\n",
      "tf.Tensor(0.5625, shape=(), dtype=float32)\n",
      "tf.Tensor(0.52359694, shape=(), dtype=float32)\n",
      "tf.Tensor(0.203125, shape=(), dtype=float32)\n",
      "tf.Tensor(0.2196875, shape=(), dtype=float32)\n",
      "tf.Tensor(0.5, shape=(), dtype=float32)\n",
      "tf.Tensor(0.523125, shape=(), dtype=float32)\n",
      "tf.Tensor(0.1875, shape=(), dtype=float32)\n",
      "tf.Tensor(0.21905637, shape=(), dtype=float32)\n",
      "tf.Tensor(0.484375, shape=(), dtype=float32)\n",
      "tf.Tensor(0.5223652, shape=(), dtype=float32)\n",
      "tf.Tensor(0.125, shape=(), dtype=float32)\n",
      "tf.Tensor(0.21724759, shape=(), dtype=float32)\n",
      "tf.Tensor(0.546875, shape=(), dtype=float32)\n",
      "tf.Tensor(0.52283657, shape=(), dtype=float32)\n"
     ]
    },
    {
     "name": "stderr",
     "output_type": "stream",
     "text": [
      "56it [00:03, 18.33it/s]"
     ]
    },
    {
     "name": "stdout",
     "output_type": "stream",
     "text": [
      "tf.Tensor(0.125, shape=(), dtype=float32)\n",
      "tf.Tensor(0.21550708, shape=(), dtype=float32)\n",
      "tf.Tensor(0.5, shape=(), dtype=float32)\n",
      "tf.Tensor(0.5224057, shape=(), dtype=float32)\n",
      "tf.Tensor(0.234375, shape=(), dtype=float32)\n",
      "tf.Tensor(0.21585648, shape=(), dtype=float32)\n",
      "tf.Tensor(0.515625, shape=(), dtype=float32)\n",
      "tf.Tensor(0.5222801, shape=(), dtype=float32)\n",
      "tf.Tensor(0.25, shape=(), dtype=float32)\n",
      "tf.Tensor(0.21647727, shape=(), dtype=float32)\n",
      "tf.Tensor(0.609375, shape=(), dtype=float32)\n",
      "tf.Tensor(0.5238636, shape=(), dtype=float32)\n",
      "tf.Tensor(0.140625, shape=(), dtype=float32)\n",
      "tf.Tensor(0.21512277, shape=(), dtype=float32)\n",
      "tf.Tensor(0.40625, shape=(), dtype=float32)\n",
      "tf.Tensor(0.5217634, shape=(), dtype=float32)\n",
      "tf.Tensor(0.21875, shape=(), dtype=float32)\n"
     ]
    },
    {
     "name": "stderr",
     "output_type": "stream",
     "text": [
      "60it [00:03, 18.68it/s]"
     ]
    },
    {
     "name": "stdout",
     "output_type": "stream",
     "text": [
      "tf.Tensor(0.2151864, shape=(), dtype=float32)\n",
      "tf.Tensor(0.640625, shape=(), dtype=float32)\n",
      "tf.Tensor(0.5238487, shape=(), dtype=float32)\n",
      "tf.Tensor(0.234375, shape=(), dtype=float32)\n",
      "tf.Tensor(0.21551724, shape=(), dtype=float32)\n",
      "tf.Tensor(0.625, shape=(), dtype=float32)\n",
      "tf.Tensor(0.5255927, shape=(), dtype=float32)\n",
      "tf.Tensor(0.28125, shape=(), dtype=float32)\n",
      "tf.Tensor(0.21663135, shape=(), dtype=float32)\n",
      "tf.Tensor(0.5625, shape=(), dtype=float32)\n",
      "tf.Tensor(0.52621824, shape=(), dtype=float32)\n",
      "tf.Tensor(0.234375, shape=(), dtype=float32)\n",
      "tf.Tensor(0.21692708, shape=(), dtype=float32)\n",
      "tf.Tensor(0.546875, shape=(), dtype=float32)\n",
      "tf.Tensor(0.5265625, shape=(), dtype=float32)\n"
     ]
    },
    {
     "name": "stderr",
     "output_type": "stream",
     "text": [
      "64it [00:03, 18.68it/s]"
     ]
    },
    {
     "name": "stdout",
     "output_type": "stream",
     "text": [
      "tf.Tensor(0.265625, shape=(), dtype=float32)\n",
      "tf.Tensor(0.21772541, shape=(), dtype=float32)\n",
      "tf.Tensor(0.453125, shape=(), dtype=float32)\n",
      "tf.Tensor(0.5253586, shape=(), dtype=float32)\n",
      "tf.Tensor(0.25, shape=(), dtype=float32)\n",
      "tf.Tensor(0.21824597, shape=(), dtype=float32)\n",
      "tf.Tensor(0.53125, shape=(), dtype=float32)\n",
      "tf.Tensor(0.5254536, shape=(), dtype=float32)\n",
      "tf.Tensor(0.265625, shape=(), dtype=float32)\n",
      "tf.Tensor(0.21899801, shape=(), dtype=float32)\n",
      "tf.Tensor(0.5, shape=(), dtype=float32)\n",
      "tf.Tensor(0.5250496, shape=(), dtype=float32)\n",
      "tf.Tensor(0.25, shape=(), dtype=float32)\n",
      "tf.Tensor(0.21948242, shape=(), dtype=float32)\n",
      "tf.Tensor(0.5, shape=(), dtype=float32)\n",
      "tf.Tensor(0.5246582, shape=(), dtype=float32)\n",
      "tf.Tensor(0.28125, shape=(), dtype=float32)\n"
     ]
    },
    {
     "name": "stderr",
     "output_type": "stream",
     "text": [
      "68it [00:03, 18.26it/s]"
     ]
    },
    {
     "name": "stdout",
     "output_type": "stream",
     "text": [
      "tf.Tensor(0.2204327, shape=(), dtype=float32)\n",
      "tf.Tensor(0.65625, shape=(), dtype=float32)\n",
      "tf.Tensor(0.5266827, shape=(), dtype=float32)\n",
      "tf.Tensor(0.1875, shape=(), dtype=float32)\n",
      "tf.Tensor(0.21993372, shape=(), dtype=float32)\n",
      "tf.Tensor(0.5, shape=(), dtype=float32)\n",
      "tf.Tensor(0.52627844, shape=(), dtype=float32)\n",
      "tf.Tensor(0.25, shape=(), dtype=float32)\n",
      "tf.Tensor(0.22038247, shape=(), dtype=float32)\n",
      "tf.Tensor(0.578125, shape=(), dtype=float32)\n",
      "tf.Tensor(0.5270522, shape=(), dtype=float32)\n",
      "tf.Tensor(0.171875, shape=(), dtype=float32)\n",
      "tf.Tensor(0.21966912, shape=(), dtype=float32)\n",
      "tf.Tensor(0.5625, shape=(), dtype=float32)\n",
      "tf.Tensor(0.5275735, shape=(), dtype=float32)\n"
     ]
    },
    {
     "name": "stderr",
     "output_type": "stream",
     "text": [
      "72it [00:04, 18.33it/s]"
     ]
    },
    {
     "name": "stdout",
     "output_type": "stream",
     "text": [
      "tf.Tensor(0.21875, shape=(), dtype=float32)\n",
      "tf.Tensor(0.2196558, shape=(), dtype=float32)\n",
      "tf.Tensor(0.625, shape=(), dtype=float32)\n",
      "tf.Tensor(0.5289855, shape=(), dtype=float32)\n",
      "tf.Tensor(0.203125, shape=(), dtype=float32)\n",
      "tf.Tensor(0.21941964, shape=(), dtype=float32)\n",
      "tf.Tensor(0.484375, shape=(), dtype=float32)\n",
      "tf.Tensor(0.5283482, shape=(), dtype=float32)\n",
      "tf.Tensor(0.21875, shape=(), dtype=float32)\n",
      "tf.Tensor(0.21941021, shape=(), dtype=float32)\n",
      "tf.Tensor(0.5625, shape=(), dtype=float32)\n",
      "tf.Tensor(0.5288292, shape=(), dtype=float32)\n",
      "tf.Tensor(0.203125, shape=(), dtype=float32)\n",
      "tf.Tensor(0.21918403, shape=(), dtype=float32)\n",
      "tf.Tensor(0.546875, shape=(), dtype=float32)\n",
      "tf.Tensor(0.52907985, shape=(), dtype=float32)\n"
     ]
    },
    {
     "name": "stderr",
     "output_type": "stream",
     "text": [
      "\r",
      "74it [00:04, 18.58it/s]"
     ]
    },
    {
     "name": "stdout",
     "output_type": "stream",
     "text": [
      "tf.Tensor(0.203125, shape=(), dtype=float32)\n",
      "tf.Tensor(0.21896404, shape=(), dtype=float32)\n",
      "tf.Tensor(0.578125, shape=(), dtype=float32)\n",
      "tf.Tensor(0.5297517, shape=(), dtype=float32)\n",
      "tf.Tensor(0.25, shape=(), dtype=float32)\n",
      "tf.Tensor(0.21938345, shape=(), dtype=float32)\n",
      "tf.Tensor(0.515625, shape=(), dtype=float32)\n",
      "tf.Tensor(0.5295608, shape=(), dtype=float32)\n",
      "tf.Tensor(0.1875, shape=(), dtype=float32)\n",
      "tf.Tensor(0.21895833, shape=(), dtype=float32)\n",
      "tf.Tensor(0.546875, shape=(), dtype=float32)\n",
      "tf.Tensor(0.52979165, shape=(), dtype=float32)\n",
      "tf.Tensor(0.203125, shape=(), dtype=float32)\n",
      "tf.Tensor(0.21875, shape=(), dtype=float32)\n",
      "tf.Tensor(0.484375, shape=(), dtype=float32)\n",
      "tf.Tensor(0.52919406, shape=(), dtype=float32)\n"
     ]
    },
    {
     "name": "stderr",
     "output_type": "stream",
     "text": [
      "80it [00:04, 18.93it/s]"
     ]
    },
    {
     "name": "stdout",
     "output_type": "stream",
     "text": [
      "tf.Tensor(0.171875, shape=(), dtype=float32)\n",
      "tf.Tensor(0.21814123, shape=(), dtype=float32)\n",
      "tf.Tensor(0.484375, shape=(), dtype=float32)\n",
      "tf.Tensor(0.528612, shape=(), dtype=float32)\n",
      "tf.Tensor(0.296875, shape=(), dtype=float32)\n",
      "tf.Tensor(0.21915065, shape=(), dtype=float32)\n",
      "tf.Tensor(0.609375, shape=(), dtype=float32)\n",
      "tf.Tensor(0.5296474, shape=(), dtype=float32)\n",
      "tf.Tensor(0.25, shape=(), dtype=float32)\n",
      "tf.Tensor(0.21954113, shape=(), dtype=float32)\n",
      "tf.Tensor(0.53125, shape=(), dtype=float32)\n",
      "tf.Tensor(0.52966774, shape=(), dtype=float32)\n",
      "tf.Tensor(0.15625, shape=(), dtype=float32)\n",
      "tf.Tensor(0.21875, shape=(), dtype=float32)\n",
      "tf.Tensor(0.5, shape=(), dtype=float32)\n",
      "tf.Tensor(0.5292969, shape=(), dtype=float32)\n",
      "tf.Tensor(0.28125, shape=(), dtype=float32)\n"
     ]
    },
    {
     "name": "stderr",
     "output_type": "stream",
     "text": [
      "\r",
      "82it [00:04, 18.72it/s]"
     ]
    },
    {
     "name": "stdout",
     "output_type": "stream",
     "text": [
      "tf.Tensor(0.21952161, shape=(), dtype=float32)\n",
      "tf.Tensor(0.5625, shape=(), dtype=float32)\n",
      "tf.Tensor(0.5297068, shape=(), dtype=float32)\n",
      "tf.Tensor(0.265625, shape=(), dtype=float32)\n",
      "tf.Tensor(0.22008385, shape=(), dtype=float32)\n",
      "tf.Tensor(0.53125, shape=(), dtype=float32)\n",
      "tf.Tensor(0.5297256, shape=(), dtype=float32)\n",
      "tf.Tensor(0.359375, shape=(), dtype=float32)\n",
      "tf.Tensor(0.22176205, shape=(), dtype=float32)\n",
      "tf.Tensor(0.578125, shape=(), dtype=float32)\n",
      "tf.Tensor(0.5303087, shape=(), dtype=float32)\n",
      "tf.Tensor(0.203125, shape=(), dtype=float32)\n",
      "tf.Tensor(0.22154018, shape=(), dtype=float32)\n",
      "tf.Tensor(0.515625, shape=(), dtype=float32)\n",
      "tf.Tensor(0.5301339, shape=(), dtype=float32)\n"
     ]
    },
    {
     "name": "stderr",
     "output_type": "stream",
     "text": [
      "87it [00:04, 18.68it/s]"
     ]
    },
    {
     "name": "stdout",
     "output_type": "stream",
     "text": [
      "tf.Tensor(0.1875, shape=(), dtype=float32)\n",
      "tf.Tensor(0.2211397, shape=(), dtype=float32)\n",
      "tf.Tensor(0.46875, shape=(), dtype=float32)\n",
      "tf.Tensor(0.5294118, shape=(), dtype=float32)\n",
      "tf.Tensor(0.15625, shape=(), dtype=float32)\n",
      "tf.Tensor(0.22038518, shape=(), dtype=float32)\n",
      "tf.Tensor(0.578125, shape=(), dtype=float32)\n",
      "tf.Tensor(0.5299782, shape=(), dtype=float32)\n",
      "tf.Tensor(0.171875, shape=(), dtype=float32)\n",
      "tf.Tensor(0.21982759, shape=(), dtype=float32)\n",
      "tf.Tensor(0.5, shape=(), dtype=float32)\n",
      "tf.Tensor(0.52963364, shape=(), dtype=float32)\n",
      "tf.Tensor(0.21875, shape=(), dtype=float32)\n",
      "tf.Tensor(0.21981534, shape=(), dtype=float32)\n",
      "tf.Tensor(0.53125, shape=(), dtype=float32)\n",
      "tf.Tensor(0.529652, shape=(), dtype=float32)\n"
     ]
    },
    {
     "name": "stderr",
     "output_type": "stream",
     "text": [
      "91it [00:05, 18.50it/s]"
     ]
    },
    {
     "name": "stdout",
     "output_type": "stream",
     "text": [
      "tf.Tensor(0.28125, shape=(), dtype=float32)\n",
      "tf.Tensor(0.22050563, shape=(), dtype=float32)\n",
      "tf.Tensor(0.625, shape=(), dtype=float32)\n",
      "tf.Tensor(0.53072333, shape=(), dtype=float32)\n",
      "tf.Tensor(0.21875, shape=(), dtype=float32)\n",
      "tf.Tensor(0.2204861, shape=(), dtype=float32)\n",
      "tf.Tensor(0.484375, shape=(), dtype=float32)\n",
      "tf.Tensor(0.53020835, shape=(), dtype=float32)\n",
      "tf.Tensor(0.265625, shape=(), dtype=float32)\n",
      "tf.Tensor(0.22098215, shape=(), dtype=float32)\n",
      "tf.Tensor(0.53125, shape=(), dtype=float32)\n",
      "tf.Tensor(0.5302198, shape=(), dtype=float32)\n",
      "tf.Tensor(0.21875, shape=(), dtype=float32)\n",
      "tf.Tensor(0.22095788, shape=(), dtype=float32)\n",
      "tf.Tensor(0.546875, shape=(), dtype=float32)\n",
      "tf.Tensor(0.5304008, shape=(), dtype=float32)\n"
     ]
    },
    {
     "name": "stderr",
     "output_type": "stream",
     "text": [
      "96it [00:05, 19.29it/s]"
     ]
    },
    {
     "name": "stdout",
     "output_type": "stream",
     "text": [
      "tf.Tensor(0.09375, shape=(), dtype=float32)\n",
      "tf.Tensor(0.21959005, shape=(), dtype=float32)\n",
      "tf.Tensor(0.453125, shape=(), dtype=float32)\n",
      "tf.Tensor(0.52956986, shape=(), dtype=float32)\n",
      "tf.Tensor(0.203125, shape=(), dtype=float32)\n",
      "tf.Tensor(0.21941489, shape=(), dtype=float32)\n",
      "tf.Tensor(0.59375, shape=(), dtype=float32)\n",
      "tf.Tensor(0.53025264, shape=(), dtype=float32)\n",
      "tf.Tensor(0.21875, shape=(), dtype=float32)\n",
      "tf.Tensor(0.2194079, shape=(), dtype=float32)\n",
      "tf.Tensor(0.53125, shape=(), dtype=float32)\n",
      "tf.Tensor(0.5302632, shape=(), dtype=float32)\n",
      "tf.Tensor(0.140625, shape=(), dtype=float32)\n",
      "tf.Tensor(0.21858723, shape=(), dtype=float32)\n",
      "tf.Tensor(0.484375, shape=(), dtype=float32)\n",
      "tf.Tensor(0.52978516, shape=(), dtype=float32)\n"
     ]
    },
    {
     "name": "stderr",
     "output_type": "stream",
     "text": [
      "\r",
      "98it [00:05, 18.89it/s]"
     ]
    },
    {
     "name": "stdout",
     "output_type": "stream",
     "text": [
      "tf.Tensor(0.21875, shape=(), dtype=float32)\n",
      "tf.Tensor(0.21858892, shape=(), dtype=float32)\n",
      "tf.Tensor(0.53125, shape=(), dtype=float32)\n",
      "tf.Tensor(0.52980024, shape=(), dtype=float32)\n",
      "tf.Tensor(0.25, shape=(), dtype=float32)\n",
      "tf.Tensor(0.21890944, shape=(), dtype=float32)\n",
      "tf.Tensor(0.546875, shape=(), dtype=float32)\n",
      "tf.Tensor(0.52997446, shape=(), dtype=float32)\n",
      "tf.Tensor(0.171875, shape=(), dtype=float32)\n",
      "tf.Tensor(0.21843435, shape=(), dtype=float32)\n",
      "tf.Tensor(0.5625, shape=(), dtype=float32)\n",
      "tf.Tensor(0.530303, shape=(), dtype=float32)\n",
      "tf.Tensor(0.1875, shape=(), dtype=float32)\n",
      "tf.Tensor(0.218125, shape=(), dtype=float32)\n",
      "tf.Tensor(0.578125, shape=(), dtype=float32)\n",
      "tf.Tensor(0.53078127, shape=(), dtype=float32)\n"
     ]
    },
    {
     "name": "stderr",
     "output_type": "stream",
     "text": [
      "103it [00:05, 18.30it/s]"
     ]
    },
    {
     "name": "stdout",
     "output_type": "stream",
     "text": [
      "tf.Tensor(0.203125, shape=(), dtype=float32)\n",
      "tf.Tensor(0.21797648, shape=(), dtype=float32)\n",
      "tf.Tensor(0.578125, shape=(), dtype=float32)\n",
      "tf.Tensor(0.53125, shape=(), dtype=float32)\n",
      "tf.Tensor(0.125, shape=(), dtype=float32)\n",
      "tf.Tensor(0.21706495, shape=(), dtype=float32)\n",
      "tf.Tensor(0.453125, shape=(), dtype=float32)\n",
      "tf.Tensor(0.5304841, shape=(), dtype=float32)\n",
      "tf.Tensor(0.171875, shape=(), dtype=float32)\n",
      "tf.Tensor(0.21662621, shape=(), dtype=float32)\n",
      "tf.Tensor(0.515625, shape=(), dtype=float32)\n",
      "tf.Tensor(0.5303398, shape=(), dtype=float32)\n",
      "tf.Tensor(0.234375, shape=(), dtype=float32)\n"
     ]
    },
    {
     "name": "stderr",
     "output_type": "stream",
     "text": [
      "\r",
      "105it [00:05, 17.81it/s]"
     ]
    },
    {
     "name": "stdout",
     "output_type": "stream",
     "text": [
      "tf.Tensor(0.21679688, shape=(), dtype=float32)\n",
      "tf.Tensor(0.65625, shape=(), dtype=float32)\n",
      "tf.Tensor(0.53155047, shape=(), dtype=float32)\n",
      "tf.Tensor(0.203125, shape=(), dtype=float32)\n",
      "tf.Tensor(0.21666667, shape=(), dtype=float32)\n",
      "tf.Tensor(0.5, shape=(), dtype=float32)\n",
      "tf.Tensor(0.53125, shape=(), dtype=float32)\n",
      "tf.Tensor(0.234375, shape=(), dtype=float32)\n",
      "tf.Tensor(0.21683373, shape=(), dtype=float32)\n",
      "tf.Tensor(0.484375, shape=(), dtype=float32)\n",
      "tf.Tensor(0.5308078, shape=(), dtype=float32)\n",
      "tf.Tensor(0.171875, shape=(), dtype=float32)\n",
      "tf.Tensor(0.21641356, shape=(), dtype=float32)\n"
     ]
    },
    {
     "name": "stderr",
     "output_type": "stream",
     "text": [
      "109it [00:06, 17.96it/s]"
     ]
    },
    {
     "name": "stdout",
     "output_type": "stream",
     "text": [
      "tf.Tensor(0.546875, shape=(), dtype=float32)\n",
      "tf.Tensor(0.53095794, shape=(), dtype=float32)\n",
      "tf.Tensor(0.09375, shape=(), dtype=float32)\n",
      "tf.Tensor(0.21527778, shape=(), dtype=float32)\n",
      "tf.Tensor(0.5, shape=(), dtype=float32)\n",
      "tf.Tensor(0.5306713, shape=(), dtype=float32)\n",
      "tf.Tensor(0.21875, shape=(), dtype=float32)\n",
      "tf.Tensor(0.21530963, shape=(), dtype=float32)\n",
      "tf.Tensor(0.515625, shape=(), dtype=float32)\n",
      "tf.Tensor(0.53053325, shape=(), dtype=float32)\n",
      "tf.Tensor(0.25, shape=(), dtype=float32)\n",
      "tf.Tensor(0.215625, shape=(), dtype=float32)\n",
      "tf.Tensor(0.671875, shape=(), dtype=float32)\n",
      "tf.Tensor(0.5318182, shape=(), dtype=float32)\n",
      "tf.Tensor(0.21875, shape=(), dtype=float32)\n"
     ]
    },
    {
     "name": "stderr",
     "output_type": "stream",
     "text": [
      "113it [00:06, 17.45it/s]"
     ]
    },
    {
     "name": "stdout",
     "output_type": "stream",
     "text": [
      "tf.Tensor(0.21565315, shape=(), dtype=float32)\n",
      "tf.Tensor(0.453125, shape=(), dtype=float32)\n",
      "tf.Tensor(0.5311092, shape=(), dtype=float32)\n",
      "tf.Tensor(0.203125, shape=(), dtype=float32)\n",
      "tf.Tensor(0.21554129, shape=(), dtype=float32)\n",
      "tf.Tensor(0.609375, shape=(), dtype=float32)\n",
      "tf.Tensor(0.531808, shape=(), dtype=float32)\n",
      "tf.Tensor(0.203125, shape=(), dtype=float32)\n",
      "tf.Tensor(0.21543142, shape=(), dtype=float32)\n",
      "tf.Tensor(0.640625, shape=(), dtype=float32)\n",
      "tf.Tensor(0.532771, shape=(), dtype=float32)\n",
      "tf.Tensor(0.296875, shape=(), dtype=float32)\n",
      "tf.Tensor(0.21614583, shape=(), dtype=float32)\n",
      "tf.Tensor(0.59375, shape=(), dtype=float32)\n",
      "tf.Tensor(0.53330594, shape=(), dtype=float32)\n"
     ]
    },
    {
     "name": "stderr",
     "output_type": "stream",
     "text": [
      "118it [00:06, 18.99it/s]"
     ]
    },
    {
     "name": "stdout",
     "output_type": "stream",
     "text": [
      "tf.Tensor(0.296875, shape=(), dtype=float32)\n",
      "tf.Tensor(0.21684782, shape=(), dtype=float32)\n",
      "tf.Tensor(0.5625, shape=(), dtype=float32)\n",
      "tf.Tensor(0.5335598, shape=(), dtype=float32)\n",
      "tf.Tensor(0.1875, shape=(), dtype=float32)\n",
      "tf.Tensor(0.21659483, shape=(), dtype=float32)\n",
      "tf.Tensor(0.515625, shape=(), dtype=float32)\n",
      "tf.Tensor(0.5334052, shape=(), dtype=float32)\n",
      "tf.Tensor(0.234375, shape=(), dtype=float32)\n",
      "tf.Tensor(0.21674679, shape=(), dtype=float32)\n",
      "tf.Tensor(0.53125, shape=(), dtype=float32)\n",
      "tf.Tensor(0.53338677, shape=(), dtype=float32)\n",
      "tf.Tensor(0.25, shape=(), dtype=float32)\n",
      "tf.Tensor(0.2170286, shape=(), dtype=float32)\n",
      "tf.Tensor(0.53125, shape=(), dtype=float32)\n",
      "tf.Tensor(0.53336865, shape=(), dtype=float32)\n"
     ]
    },
    {
     "name": "stderr",
     "output_type": "stream",
     "text": [
      "\r",
      "120it [00:06, 17.91it/s]"
     ]
    },
    {
     "name": "stdout",
     "output_type": "stream",
     "text": [
      "tf.Tensor(0.125, shape=(), dtype=float32)\n",
      "tf.Tensor(0.21625525, shape=(), dtype=float32)\n",
      "tf.Tensor(0.46875, shape=(), dtype=float32)\n",
      "tf.Tensor(0.53282565, shape=(), dtype=float32)\n",
      "tf.Tensor(0.296875, shape=(), dtype=float32)\n",
      "tf.Tensor(0.21692708, shape=(), dtype=float32)\n",
      "tf.Tensor(0.53125, shape=(), dtype=float32)\n",
      "tf.Tensor(0.5328125, shape=(), dtype=float32)\n",
      "tf.Tensor(0.203125, shape=(), dtype=float32)\n",
      "tf.Tensor(0.21681301, shape=(), dtype=float32)\n",
      "tf.Tensor(0.609375, shape=(), dtype=float32)\n",
      "tf.Tensor(0.53344524, shape=(), dtype=float32)\n",
      "tf.Tensor(0.328125, shape=(), dtype=float32)\n"
     ]
    },
    {
     "name": "stderr",
     "output_type": "stream",
     "text": [
      "125it [00:06, 18.42it/s]"
     ]
    },
    {
     "name": "stdout",
     "output_type": "stream",
     "text": [
      "tf.Tensor(0.21772541, shape=(), dtype=float32)\n",
      "tf.Tensor(0.515625, shape=(), dtype=float32)\n",
      "tf.Tensor(0.5332992, shape=(), dtype=float32)\n",
      "tf.Tensor(0.15625, shape=(), dtype=float32)\n",
      "tf.Tensor(0.21722561, shape=(), dtype=float32)\n",
      "tf.Tensor(0.421875, shape=(), dtype=float32)\n",
      "tf.Tensor(0.5323933, shape=(), dtype=float32)\n",
      "tf.Tensor(0.203125, shape=(), dtype=float32)\n",
      "tf.Tensor(0.2171119, shape=(), dtype=float32)\n",
      "tf.Tensor(0.578125, shape=(), dtype=float32)\n",
      "tf.Tensor(0.5327621, shape=(), dtype=float32)\n",
      "tf.Tensor(0.296875, shape=(), dtype=float32)\n",
      "tf.Tensor(0.21775, shape=(), dtype=float32)\n",
      "tf.Tensor(0.625, shape=(), dtype=float32)\n",
      "tf.Tensor(0.5335, shape=(), dtype=float32)\n",
      "tf.Tensor(0.21875, shape=(), dtype=float32)\n"
     ]
    },
    {
     "name": "stderr",
     "output_type": "stream",
     "text": [
      "129it [00:07, 17.73it/s]"
     ]
    },
    {
     "name": "stdout",
     "output_type": "stream",
     "text": [
      "tf.Tensor(0.21775794, shape=(), dtype=float32)\n",
      "tf.Tensor(0.546875, shape=(), dtype=float32)\n",
      "tf.Tensor(0.5336062, shape=(), dtype=float32)\n",
      "tf.Tensor(0.234375, shape=(), dtype=float32)\n",
      "tf.Tensor(0.21788877, shape=(), dtype=float32)\n",
      "tf.Tensor(0.578125, shape=(), dtype=float32)\n",
      "tf.Tensor(0.5339567, shape=(), dtype=float32)\n",
      "tf.Tensor(0.203125, shape=(), dtype=float32)\n",
      "tf.Tensor(0.21777344, shape=(), dtype=float32)\n",
      "tf.Tensor(0.578125, shape=(), dtype=float32)\n",
      "tf.Tensor(0.53430176, shape=(), dtype=float32)\n",
      "tf.Tensor(0.265625, shape=(), dtype=float32)\n",
      "tf.Tensor(0.21814439, shape=(), dtype=float32)\n",
      "tf.Tensor(0.546875, shape=(), dtype=float32)\n",
      "tf.Tensor(0.5343992, shape=(), dtype=float32)\n",
      "tf.Tensor(0.15625, shape=(), dtype=float32)\n"
     ]
    },
    {
     "name": "stderr",
     "output_type": "stream",
     "text": [
      "133it [00:07, 18.15it/s]"
     ]
    },
    {
     "name": "stdout",
     "output_type": "stream",
     "text": [
      "tf.Tensor(0.21766827, shape=(), dtype=float32)\n",
      "tf.Tensor(0.53125, shape=(), dtype=float32)\n",
      "tf.Tensor(0.534375, shape=(), dtype=float32)\n",
      "tf.Tensor(0.3125, shape=(), dtype=float32)\n",
      "tf.Tensor(0.21839218, shape=(), dtype=float32)\n",
      "tf.Tensor(0.578125, shape=(), dtype=float32)\n",
      "tf.Tensor(0.534709, shape=(), dtype=float32)\n",
      "tf.Tensor(0.15625, shape=(), dtype=float32)\n",
      "tf.Tensor(0.2179214, shape=(), dtype=float32)\n",
      "tf.Tensor(0.59375, shape=(), dtype=float32)\n",
      "tf.Tensor(0.53515625, shape=(), dtype=float32)\n",
      "tf.Tensor(0.203125, shape=(), dtype=float32)\n",
      "tf.Tensor(0.21781015, shape=(), dtype=float32)\n",
      "tf.Tensor(0.578125, shape=(), dtype=float32)\n",
      "tf.Tensor(0.5354793, shape=(), dtype=float32)\n",
      "tf.Tensor(0.265625, shape=(), dtype=float32)\n"
     ]
    },
    {
     "name": "stderr",
     "output_type": "stream",
     "text": [
      "137it [00:07, 18.51it/s]"
     ]
    },
    {
     "name": "stdout",
     "output_type": "stream",
     "text": [
      "tf.Tensor(0.21816698, shape=(), dtype=float32)\n",
      "tf.Tensor(0.515625, shape=(), dtype=float32)\n",
      "tf.Tensor(0.53533113, shape=(), dtype=float32)\n",
      "tf.Tensor(0.171875, shape=(), dtype=float32)\n",
      "tf.Tensor(0.21782407, shape=(), dtype=float32)\n",
      "tf.Tensor(0.53125, shape=(), dtype=float32)\n",
      "tf.Tensor(0.5353009, shape=(), dtype=float32)\n",
      "tf.Tensor(0.28125, shape=(), dtype=float32)\n",
      "tf.Tensor(0.21829045, shape=(), dtype=float32)\n",
      "tf.Tensor(0.65625, shape=(), dtype=float32)\n",
      "tf.Tensor(0.5361903, shape=(), dtype=float32)\n",
      "tf.Tensor(0.28125, shape=(), dtype=float32)\n",
      "tf.Tensor(0.21875, shape=(), dtype=float32)\n",
      "tf.Tensor(0.484375, shape=(), dtype=float32)\n",
      "tf.Tensor(0.535812, shape=(), dtype=float32)\n"
     ]
    },
    {
     "name": "stderr",
     "output_type": "stream",
     "text": [
      "141it [00:07, 17.79it/s]"
     ]
    },
    {
     "name": "stdout",
     "output_type": "stream",
     "text": [
      "tf.Tensor(0.265625, shape=(), dtype=float32)\n",
      "tf.Tensor(0.21908967, shape=(), dtype=float32)\n",
      "tf.Tensor(0.515625, shape=(), dtype=float32)\n",
      "tf.Tensor(0.53566575, shape=(), dtype=float32)\n",
      "tf.Tensor(0.265625, shape=(), dtype=float32)\n",
      "tf.Tensor(0.21942446, shape=(), dtype=float32)\n",
      "tf.Tensor(0.546875, shape=(), dtype=float32)\n",
      "tf.Tensor(0.5357464, shape=(), dtype=float32)\n",
      "tf.Tensor(0.15625, shape=(), dtype=float32)\n",
      "tf.Tensor(0.21897322, shape=(), dtype=float32)\n",
      "tf.Tensor(0.421875, shape=(), dtype=float32)\n",
      "tf.Tensor(0.53493303, shape=(), dtype=float32)\n",
      "tf.Tensor(0.203125, shape=(), dtype=float32)\n",
      "tf.Tensor(0.21886082, shape=(), dtype=float32)\n",
      "tf.Tensor(0.5, shape=(), dtype=float32)\n",
      "tf.Tensor(0.53468525, shape=(), dtype=float32)\n"
     ]
    },
    {
     "name": "stderr",
     "output_type": "stream",
     "text": [
      "\r",
      "144it [00:07, 18.44it/s]"
     ]
    },
    {
     "name": "stdout",
     "output_type": "stream",
     "text": [
      "tf.Tensor(0.234375, shape=(), dtype=float32)\n",
      "tf.Tensor(0.21897008, shape=(), dtype=float32)\n",
      "tf.Tensor(0.5, shape=(), dtype=float32)\n",
      "tf.Tensor(0.534441, shape=(), dtype=float32)\n",
      "tf.Tensor(0.1875, shape=(), dtype=float32)\n",
      "tf.Tensor(0.21875, shape=(), dtype=float32)\n",
      "tf.Tensor(0.359375, shape=(), dtype=float32)\n",
      "tf.Tensor(0.5332168, shape=(), dtype=float32)\n",
      "tf.Tensor(0.21875, shape=(), dtype=float32)\n",
      "tf.Tensor(0.21875, shape=(), dtype=float32)\n",
      "tf.Tensor(0.65625, shape=(), dtype=float32)\n",
      "tf.Tensor(0.5340712, shape=(), dtype=float32)\n",
      "tf.Tensor(0.203125, shape=(), dtype=float32)\n",
      "tf.Tensor(0.21864223, shape=(), dtype=float32)\n",
      "tf.Tensor(0.515625, shape=(), dtype=float32)\n",
      "tf.Tensor(0.53394395, shape=(), dtype=float32)\n"
     ]
    },
    {
     "name": "stderr",
     "output_type": "stream",
     "text": [
      "147it [00:08, 18.10it/s]\n"
     ]
    },
    {
     "name": "stdout",
     "output_type": "stream",
     "text": [
      "tf.Tensor(0.234375, shape=(), dtype=float32)\n",
      "tf.Tensor(0.21875, shape=(), dtype=float32)\n",
      "tf.Tensor(0.5, shape=(), dtype=float32)\n",
      "tf.Tensor(0.5337115, shape=(), dtype=float32)\n",
      "tf.Tensor(0.22727273, shape=(), dtype=float32)\n",
      "tf.Tensor(0.21878995, shape=(), dtype=float32)\n",
      "tf.Tensor(0.59090906, shape=(), dtype=float32)\n",
      "tf.Tensor(0.53397954, shape=(), dtype=float32)\n",
      "Epoch: 3\n",
      "Training: \n"
     ]
    },
    {
     "name": "stderr",
     "output_type": "stream",
     "text": [
      "35it [00:04,  7.60it/s]\n"
     ]
    },
    {
     "ename": "KeyboardInterrupt",
     "evalue": "",
     "output_type": "error",
     "traceback": [
      "\u001b[1;31m---------------------------------------------------------------------------\u001b[0m",
      "\u001b[1;31mKeyboardInterrupt\u001b[0m                         Traceback (most recent call last)",
      "\u001b[1;32m~\\AppData\\Local\\Temp/ipykernel_8332/3941443662.py\u001b[0m in \u001b[0;36m<module>\u001b[1;34m\u001b[0m\n\u001b[0;32m    101\u001b[0m                 \u001b[1;32mwith\u001b[0m \u001b[0msummary_writer\u001b[0m\u001b[1;33m.\u001b[0m\u001b[0mas_default\u001b[0m\u001b[1;33m(\u001b[0m\u001b[1;33m)\u001b[0m\u001b[1;33m:\u001b[0m\u001b[1;33m\u001b[0m\u001b[1;33m\u001b[0m\u001b[0m\n\u001b[0;32m    102\u001b[0m                     tf.summary.scalar(\"cross_entropy_loss\",\n\u001b[1;32m--> 103\u001b[1;33m                                       \u001b[0mcross_entropy_loss\u001b[0m\u001b[1;33m.\u001b[0m\u001b[0mresult\u001b[0m\u001b[1;33m(\u001b[0m\u001b[1;33m)\u001b[0m\u001b[1;33m,\u001b[0m\u001b[1;33m\u001b[0m\u001b[1;33m\u001b[0m\u001b[0m\n\u001b[0m\u001b[0;32m    104\u001b[0m                                       step=train_iter)\n\u001b[0;32m    105\u001b[0m                     tf.summary.scalar(\"train_acc\",\n",
      "\u001b[1;32mc:\\users\\admin\\appdata\\local\\programs\\python\\python39\\lib\\site-packages\\keras\\utils\\metrics_utils.py\u001b[0m in \u001b[0;36mdecorated\u001b[1;34m(metric_obj, *args)\u001b[0m\n\u001b[0;32m    130\u001b[0m         ).extended._use_merge_call()):\n\u001b[0;32m    131\u001b[0m       \u001b[1;32mwith\u001b[0m \u001b[0mtf\u001b[0m\u001b[1;33m.\u001b[0m\u001b[0m__internal__\u001b[0m\u001b[1;33m.\u001b[0m\u001b[0mdistribute\u001b[0m\u001b[1;33m.\u001b[0m\u001b[0mvariable_sync_on_read_context\u001b[0m\u001b[1;33m(\u001b[0m\u001b[1;33m)\u001b[0m\u001b[1;33m:\u001b[0m\u001b[1;33m\u001b[0m\u001b[1;33m\u001b[0m\u001b[0m\n\u001b[1;32m--> 132\u001b[1;33m         \u001b[0mraw_result\u001b[0m \u001b[1;33m=\u001b[0m \u001b[0mresult_fn\u001b[0m\u001b[1;33m(\u001b[0m\u001b[1;33m*\u001b[0m\u001b[0margs\u001b[0m\u001b[1;33m)\u001b[0m\u001b[1;33m\u001b[0m\u001b[1;33m\u001b[0m\u001b[0m\n\u001b[0m\u001b[0;32m    133\u001b[0m         \u001b[1;31m# Results need to be wrapped in a `tf.identity` op to ensure\u001b[0m\u001b[1;33m\u001b[0m\u001b[1;33m\u001b[0m\u001b[1;33m\u001b[0m\u001b[0m\n\u001b[0;32m    134\u001b[0m         \u001b[1;31m# correct execution order.\u001b[0m\u001b[1;33m\u001b[0m\u001b[1;33m\u001b[0m\u001b[1;33m\u001b[0m\u001b[0m\n",
      "\u001b[1;32mc:\\users\\admin\\appdata\\local\\programs\\python\\python39\\lib\\site-packages\\keras\\metrics.py\u001b[0m in \u001b[0;36mresult_fn\u001b[1;34m(*args, **kwargs)\u001b[0m\n\u001b[0;32m    190\u001b[0m       \u001b[0mcontrol_status\u001b[0m \u001b[1;33m=\u001b[0m \u001b[0mtf\u001b[0m\u001b[1;33m.\u001b[0m\u001b[0m__internal__\u001b[0m\u001b[1;33m.\u001b[0m\u001b[0mautograph\u001b[0m\u001b[1;33m.\u001b[0m\u001b[0mcontrol_status_ctx\u001b[0m\u001b[1;33m(\u001b[0m\u001b[1;33m)\u001b[0m\u001b[1;33m\u001b[0m\u001b[1;33m\u001b[0m\u001b[0m\n\u001b[0;32m    191\u001b[0m       \u001b[0mag_result\u001b[0m \u001b[1;33m=\u001b[0m \u001b[0mtf\u001b[0m\u001b[1;33m.\u001b[0m\u001b[0m__internal__\u001b[0m\u001b[1;33m.\u001b[0m\u001b[0mautograph\u001b[0m\u001b[1;33m.\u001b[0m\u001b[0mtf_convert\u001b[0m\u001b[1;33m(\u001b[0m\u001b[0mobj_result\u001b[0m\u001b[1;33m,\u001b[0m \u001b[0mcontrol_status\u001b[0m\u001b[1;33m)\u001b[0m\u001b[1;33m\u001b[0m\u001b[1;33m\u001b[0m\u001b[0m\n\u001b[1;32m--> 192\u001b[1;33m       \u001b[1;32mreturn\u001b[0m \u001b[0mag_result\u001b[0m\u001b[1;33m(\u001b[0m\u001b[1;33m*\u001b[0m\u001b[0margs\u001b[0m\u001b[1;33m,\u001b[0m \u001b[1;33m**\u001b[0m\u001b[0mkwargs\u001b[0m\u001b[1;33m)\u001b[0m\u001b[1;33m\u001b[0m\u001b[1;33m\u001b[0m\u001b[0m\n\u001b[0m\u001b[0;32m    193\u001b[0m \u001b[1;33m\u001b[0m\u001b[0m\n\u001b[0;32m    194\u001b[0m     \u001b[0mobj\u001b[0m\u001b[1;33m.\u001b[0m\u001b[0mresult\u001b[0m \u001b[1;33m=\u001b[0m \u001b[0mtypes\u001b[0m\u001b[1;33m.\u001b[0m\u001b[0mMethodType\u001b[0m\u001b[1;33m(\u001b[0m\u001b[0mmetrics_utils\u001b[0m\u001b[1;33m.\u001b[0m\u001b[0mresult_wrapper\u001b[0m\u001b[1;33m(\u001b[0m\u001b[0mresult_fn\u001b[0m\u001b[1;33m)\u001b[0m\u001b[1;33m,\u001b[0m \u001b[0mobj\u001b[0m\u001b[1;33m)\u001b[0m\u001b[1;33m\u001b[0m\u001b[1;33m\u001b[0m\u001b[0m\n",
      "\u001b[1;32mc:\\users\\admin\\appdata\\local\\programs\\python\\python39\\lib\\site-packages\\tensorflow\\python\\autograph\\impl\\api.py\u001b[0m in \u001b[0;36mwrapper\u001b[1;34m(*args, **kwargs)\u001b[0m\n\u001b[0;32m    690\u001b[0m       \u001b[1;32mtry\u001b[0m\u001b[1;33m:\u001b[0m\u001b[1;33m\u001b[0m\u001b[1;33m\u001b[0m\u001b[0m\n\u001b[0;32m    691\u001b[0m         \u001b[1;32mwith\u001b[0m \u001b[0mconversion_ctx\u001b[0m\u001b[1;33m:\u001b[0m\u001b[1;33m\u001b[0m\u001b[1;33m\u001b[0m\u001b[0m\n\u001b[1;32m--> 692\u001b[1;33m           \u001b[1;32mreturn\u001b[0m \u001b[0mconverted_call\u001b[0m\u001b[1;33m(\u001b[0m\u001b[0mf\u001b[0m\u001b[1;33m,\u001b[0m \u001b[0margs\u001b[0m\u001b[1;33m,\u001b[0m \u001b[0mkwargs\u001b[0m\u001b[1;33m,\u001b[0m \u001b[0moptions\u001b[0m\u001b[1;33m=\u001b[0m\u001b[0moptions\u001b[0m\u001b[1;33m)\u001b[0m\u001b[1;33m\u001b[0m\u001b[1;33m\u001b[0m\u001b[0m\n\u001b[0m\u001b[0;32m    693\u001b[0m       \u001b[1;32mexcept\u001b[0m \u001b[0mException\u001b[0m \u001b[1;32mas\u001b[0m \u001b[0me\u001b[0m\u001b[1;33m:\u001b[0m  \u001b[1;31m# pylint:disable=broad-except\u001b[0m\u001b[1;33m\u001b[0m\u001b[1;33m\u001b[0m\u001b[0m\n\u001b[0;32m    694\u001b[0m         \u001b[1;32mif\u001b[0m \u001b[0mhasattr\u001b[0m\u001b[1;33m(\u001b[0m\u001b[0me\u001b[0m\u001b[1;33m,\u001b[0m \u001b[1;34m'ag_error_metadata'\u001b[0m\u001b[1;33m)\u001b[0m\u001b[1;33m:\u001b[0m\u001b[1;33m\u001b[0m\u001b[1;33m\u001b[0m\u001b[0m\n",
      "\u001b[1;32mc:\\users\\admin\\appdata\\local\\programs\\python\\python39\\lib\\site-packages\\tensorflow\\python\\autograph\\impl\\api.py\u001b[0m in \u001b[0;36mconverted_call\u001b[1;34m(f, args, kwargs, caller_fn_scope, options)\u001b[0m\n\u001b[0;32m    334\u001b[0m   \u001b[1;32mif\u001b[0m \u001b[0mconversion\u001b[0m\u001b[1;33m.\u001b[0m\u001b[0mis_in_allowlist_cache\u001b[0m\u001b[1;33m(\u001b[0m\u001b[0mf\u001b[0m\u001b[1;33m,\u001b[0m \u001b[0moptions\u001b[0m\u001b[1;33m)\u001b[0m\u001b[1;33m:\u001b[0m\u001b[1;33m\u001b[0m\u001b[1;33m\u001b[0m\u001b[0m\n\u001b[0;32m    335\u001b[0m     \u001b[0mlogging\u001b[0m\u001b[1;33m.\u001b[0m\u001b[0mlog\u001b[0m\u001b[1;33m(\u001b[0m\u001b[1;36m2\u001b[0m\u001b[1;33m,\u001b[0m \u001b[1;34m'Allowlisted %s: from cache'\u001b[0m\u001b[1;33m,\u001b[0m \u001b[0mf\u001b[0m\u001b[1;33m)\u001b[0m\u001b[1;33m\u001b[0m\u001b[1;33m\u001b[0m\u001b[0m\n\u001b[1;32m--> 336\u001b[1;33m     \u001b[1;32mreturn\u001b[0m \u001b[0m_call_unconverted\u001b[0m\u001b[1;33m(\u001b[0m\u001b[0mf\u001b[0m\u001b[1;33m,\u001b[0m \u001b[0margs\u001b[0m\u001b[1;33m,\u001b[0m \u001b[0mkwargs\u001b[0m\u001b[1;33m,\u001b[0m \u001b[0moptions\u001b[0m\u001b[1;33m,\u001b[0m \u001b[1;32mFalse\u001b[0m\u001b[1;33m)\u001b[0m\u001b[1;33m\u001b[0m\u001b[1;33m\u001b[0m\u001b[0m\n\u001b[0m\u001b[0;32m    337\u001b[0m \u001b[1;33m\u001b[0m\u001b[0m\n\u001b[0;32m    338\u001b[0m   \u001b[1;32mif\u001b[0m \u001b[0mag_ctx\u001b[0m\u001b[1;33m.\u001b[0m\u001b[0mcontrol_status_ctx\u001b[0m\u001b[1;33m(\u001b[0m\u001b[1;33m)\u001b[0m\u001b[1;33m.\u001b[0m\u001b[0mstatus\u001b[0m \u001b[1;33m==\u001b[0m \u001b[0mag_ctx\u001b[0m\u001b[1;33m.\u001b[0m\u001b[0mStatus\u001b[0m\u001b[1;33m.\u001b[0m\u001b[0mDISABLED\u001b[0m\u001b[1;33m:\u001b[0m\u001b[1;33m\u001b[0m\u001b[1;33m\u001b[0m\u001b[0m\n",
      "\u001b[1;32mc:\\users\\admin\\appdata\\local\\programs\\python\\python39\\lib\\site-packages\\tensorflow\\python\\autograph\\impl\\api.py\u001b[0m in \u001b[0;36m_call_unconverted\u001b[1;34m(f, args, kwargs, options, update_cache)\u001b[0m\n\u001b[0;32m    461\u001b[0m \u001b[1;33m\u001b[0m\u001b[0m\n\u001b[0;32m    462\u001b[0m   \u001b[1;32mif\u001b[0m \u001b[0mkwargs\u001b[0m \u001b[1;32mis\u001b[0m \u001b[1;32mnot\u001b[0m \u001b[1;32mNone\u001b[0m\u001b[1;33m:\u001b[0m\u001b[1;33m\u001b[0m\u001b[1;33m\u001b[0m\u001b[0m\n\u001b[1;32m--> 463\u001b[1;33m     \u001b[1;32mreturn\u001b[0m \u001b[0mf\u001b[0m\u001b[1;33m(\u001b[0m\u001b[1;33m*\u001b[0m\u001b[0margs\u001b[0m\u001b[1;33m,\u001b[0m \u001b[1;33m**\u001b[0m\u001b[0mkwargs\u001b[0m\u001b[1;33m)\u001b[0m\u001b[1;33m\u001b[0m\u001b[1;33m\u001b[0m\u001b[0m\n\u001b[0m\u001b[0;32m    464\u001b[0m   \u001b[1;32mreturn\u001b[0m \u001b[0mf\u001b[0m\u001b[1;33m(\u001b[0m\u001b[1;33m*\u001b[0m\u001b[0margs\u001b[0m\u001b[1;33m)\u001b[0m\u001b[1;33m\u001b[0m\u001b[1;33m\u001b[0m\u001b[0m\n\u001b[0;32m    465\u001b[0m \u001b[1;33m\u001b[0m\u001b[0m\n",
      "\u001b[1;32mc:\\users\\admin\\appdata\\local\\programs\\python\\python39\\lib\\site-packages\\keras\\metrics.py\u001b[0m in \u001b[0;36mresult\u001b[1;34m(self)\u001b[0m\n\u001b[0;32m    451\u001b[0m         \u001b[0mmetrics_utils\u001b[0m\u001b[1;33m.\u001b[0m\u001b[0mReduction\u001b[0m\u001b[1;33m.\u001b[0m\u001b[0mSUM_OVER_BATCH_SIZE\u001b[0m\u001b[1;33m\u001b[0m\u001b[1;33m\u001b[0m\u001b[0m\n\u001b[0;32m    452\u001b[0m     ]:\n\u001b[1;32m--> 453\u001b[1;33m       \u001b[1;32mreturn\u001b[0m \u001b[0mtf\u001b[0m\u001b[1;33m.\u001b[0m\u001b[0mmath\u001b[0m\u001b[1;33m.\u001b[0m\u001b[0mdivide_no_nan\u001b[0m\u001b[1;33m(\u001b[0m\u001b[0mself\u001b[0m\u001b[1;33m.\u001b[0m\u001b[0mtotal\u001b[0m\u001b[1;33m,\u001b[0m \u001b[0mself\u001b[0m\u001b[1;33m.\u001b[0m\u001b[0mcount\u001b[0m\u001b[1;33m)\u001b[0m\u001b[1;33m\u001b[0m\u001b[1;33m\u001b[0m\u001b[0m\n\u001b[0m\u001b[0;32m    454\u001b[0m     \u001b[1;32melse\u001b[0m\u001b[1;33m:\u001b[0m\u001b[1;33m\u001b[0m\u001b[1;33m\u001b[0m\u001b[0m\n\u001b[0;32m    455\u001b[0m       raise NotImplementedError(\n",
      "\u001b[1;32mc:\\users\\admin\\appdata\\local\\programs\\python\\python39\\lib\\site-packages\\tensorflow\\python\\util\\dispatch.py\u001b[0m in \u001b[0;36mwrapper\u001b[1;34m(*args, **kwargs)\u001b[0m\n\u001b[0;32m    204\u001b[0m     \u001b[1;34m\"\"\"Call target, and fall back on dispatchers if there is a TypeError.\"\"\"\u001b[0m\u001b[1;33m\u001b[0m\u001b[1;33m\u001b[0m\u001b[0m\n\u001b[0;32m    205\u001b[0m     \u001b[1;32mtry\u001b[0m\u001b[1;33m:\u001b[0m\u001b[1;33m\u001b[0m\u001b[1;33m\u001b[0m\u001b[0m\n\u001b[1;32m--> 206\u001b[1;33m       \u001b[1;32mreturn\u001b[0m \u001b[0mtarget\u001b[0m\u001b[1;33m(\u001b[0m\u001b[1;33m*\u001b[0m\u001b[0margs\u001b[0m\u001b[1;33m,\u001b[0m \u001b[1;33m**\u001b[0m\u001b[0mkwargs\u001b[0m\u001b[1;33m)\u001b[0m\u001b[1;33m\u001b[0m\u001b[1;33m\u001b[0m\u001b[0m\n\u001b[0m\u001b[0;32m    207\u001b[0m     \u001b[1;32mexcept\u001b[0m \u001b[1;33m(\u001b[0m\u001b[0mTypeError\u001b[0m\u001b[1;33m,\u001b[0m \u001b[0mValueError\u001b[0m\u001b[1;33m)\u001b[0m\u001b[1;33m:\u001b[0m\u001b[1;33m\u001b[0m\u001b[1;33m\u001b[0m\u001b[0m\n\u001b[0;32m    208\u001b[0m       \u001b[1;31m# Note: convert_to_eager_tensor currently raises a ValueError, not a\u001b[0m\u001b[1;33m\u001b[0m\u001b[1;33m\u001b[0m\u001b[1;33m\u001b[0m\u001b[0m\n",
      "\u001b[1;32mc:\\users\\admin\\appdata\\local\\programs\\python\\python39\\lib\\site-packages\\tensorflow\\python\\util\\dispatch.py\u001b[0m in \u001b[0;36mwrapper\u001b[1;34m(*args, **kwargs)\u001b[0m\n\u001b[0;32m    204\u001b[0m     \u001b[1;34m\"\"\"Call target, and fall back on dispatchers if there is a TypeError.\"\"\"\u001b[0m\u001b[1;33m\u001b[0m\u001b[1;33m\u001b[0m\u001b[0m\n\u001b[0;32m    205\u001b[0m     \u001b[1;32mtry\u001b[0m\u001b[1;33m:\u001b[0m\u001b[1;33m\u001b[0m\u001b[1;33m\u001b[0m\u001b[0m\n\u001b[1;32m--> 206\u001b[1;33m       \u001b[1;32mreturn\u001b[0m \u001b[0mtarget\u001b[0m\u001b[1;33m(\u001b[0m\u001b[1;33m*\u001b[0m\u001b[0margs\u001b[0m\u001b[1;33m,\u001b[0m \u001b[1;33m**\u001b[0m\u001b[0mkwargs\u001b[0m\u001b[1;33m)\u001b[0m\u001b[1;33m\u001b[0m\u001b[1;33m\u001b[0m\u001b[0m\n\u001b[0m\u001b[0;32m    207\u001b[0m     \u001b[1;32mexcept\u001b[0m \u001b[1;33m(\u001b[0m\u001b[0mTypeError\u001b[0m\u001b[1;33m,\u001b[0m \u001b[0mValueError\u001b[0m\u001b[1;33m)\u001b[0m\u001b[1;33m:\u001b[0m\u001b[1;33m\u001b[0m\u001b[1;33m\u001b[0m\u001b[0m\n\u001b[0;32m    208\u001b[0m       \u001b[1;31m# Note: convert_to_eager_tensor currently raises a ValueError, not a\u001b[0m\u001b[1;33m\u001b[0m\u001b[1;33m\u001b[0m\u001b[1;33m\u001b[0m\u001b[0m\n",
      "\u001b[1;32mc:\\users\\admin\\appdata\\local\\programs\\python\\python39\\lib\\site-packages\\tensorflow\\python\\ops\\math_ops.py\u001b[0m in \u001b[0;36mdiv_no_nan\u001b[1;34m(x, y, name)\u001b[0m\n\u001b[0;32m   1595\u001b[0m \u001b[1;33m\u001b[0m\u001b[0m\n\u001b[0;32m   1596\u001b[0m   \u001b[1;32mwith\u001b[0m \u001b[0mops\u001b[0m\u001b[1;33m.\u001b[0m\u001b[0mname_scope\u001b[0m\u001b[1;33m(\u001b[0m\u001b[0mname\u001b[0m\u001b[1;33m,\u001b[0m \u001b[1;34m\"div_no_nan\"\u001b[0m\u001b[1;33m,\u001b[0m \u001b[1;33m[\u001b[0m\u001b[0mx\u001b[0m\u001b[1;33m,\u001b[0m \u001b[0my\u001b[0m\u001b[1;33m]\u001b[0m\u001b[1;33m)\u001b[0m \u001b[1;32mas\u001b[0m \u001b[0mname\u001b[0m\u001b[1;33m:\u001b[0m\u001b[1;33m\u001b[0m\u001b[1;33m\u001b[0m\u001b[0m\n\u001b[1;32m-> 1597\u001b[1;33m     \u001b[0mx\u001b[0m \u001b[1;33m=\u001b[0m \u001b[0mops\u001b[0m\u001b[1;33m.\u001b[0m\u001b[0mconvert_to_tensor\u001b[0m\u001b[1;33m(\u001b[0m\u001b[0mx\u001b[0m\u001b[1;33m,\u001b[0m \u001b[0mname\u001b[0m\u001b[1;33m=\u001b[0m\u001b[1;34m\"x\"\u001b[0m\u001b[1;33m)\u001b[0m\u001b[1;33m\u001b[0m\u001b[1;33m\u001b[0m\u001b[0m\n\u001b[0m\u001b[0;32m   1598\u001b[0m     \u001b[0my\u001b[0m \u001b[1;33m=\u001b[0m \u001b[0mops\u001b[0m\u001b[1;33m.\u001b[0m\u001b[0mconvert_to_tensor\u001b[0m\u001b[1;33m(\u001b[0m\u001b[0my\u001b[0m\u001b[1;33m,\u001b[0m \u001b[0mname\u001b[0m\u001b[1;33m=\u001b[0m\u001b[1;34m\"y\"\u001b[0m\u001b[1;33m,\u001b[0m \u001b[0mdtype\u001b[0m\u001b[1;33m=\u001b[0m\u001b[0mx\u001b[0m\u001b[1;33m.\u001b[0m\u001b[0mdtype\u001b[0m\u001b[1;33m.\u001b[0m\u001b[0mbase_dtype\u001b[0m\u001b[1;33m)\u001b[0m\u001b[1;33m\u001b[0m\u001b[1;33m\u001b[0m\u001b[0m\n\u001b[0;32m   1599\u001b[0m     \u001b[1;32mreturn\u001b[0m \u001b[0mgen_math_ops\u001b[0m\u001b[1;33m.\u001b[0m\u001b[0mdiv_no_nan\u001b[0m\u001b[1;33m(\u001b[0m\u001b[0mx\u001b[0m\u001b[1;33m,\u001b[0m \u001b[0my\u001b[0m\u001b[1;33m,\u001b[0m \u001b[0mname\u001b[0m\u001b[1;33m=\u001b[0m\u001b[0mname\u001b[0m\u001b[1;33m)\u001b[0m\u001b[1;33m\u001b[0m\u001b[1;33m\u001b[0m\u001b[0m\n",
      "\u001b[1;32mc:\\users\\admin\\appdata\\local\\programs\\python\\python39\\lib\\site-packages\\tensorflow\\python\\profiler\\trace.py\u001b[0m in \u001b[0;36mwrapped\u001b[1;34m(*args, **kwargs)\u001b[0m\n\u001b[0;32m    161\u001b[0m         \u001b[1;32mwith\u001b[0m \u001b[0mTrace\u001b[0m\u001b[1;33m(\u001b[0m\u001b[0mtrace_name\u001b[0m\u001b[1;33m,\u001b[0m \u001b[1;33m**\u001b[0m\u001b[0mtrace_kwargs\u001b[0m\u001b[1;33m)\u001b[0m\u001b[1;33m:\u001b[0m\u001b[1;33m\u001b[0m\u001b[1;33m\u001b[0m\u001b[0m\n\u001b[0;32m    162\u001b[0m           \u001b[1;32mreturn\u001b[0m \u001b[0mfunc\u001b[0m\u001b[1;33m(\u001b[0m\u001b[1;33m*\u001b[0m\u001b[0margs\u001b[0m\u001b[1;33m,\u001b[0m \u001b[1;33m**\u001b[0m\u001b[0mkwargs\u001b[0m\u001b[1;33m)\u001b[0m\u001b[1;33m\u001b[0m\u001b[1;33m\u001b[0m\u001b[0m\n\u001b[1;32m--> 163\u001b[1;33m       \u001b[1;32mreturn\u001b[0m \u001b[0mfunc\u001b[0m\u001b[1;33m(\u001b[0m\u001b[1;33m*\u001b[0m\u001b[0margs\u001b[0m\u001b[1;33m,\u001b[0m \u001b[1;33m**\u001b[0m\u001b[0mkwargs\u001b[0m\u001b[1;33m)\u001b[0m\u001b[1;33m\u001b[0m\u001b[1;33m\u001b[0m\u001b[0m\n\u001b[0m\u001b[0;32m    164\u001b[0m \u001b[1;33m\u001b[0m\u001b[0m\n\u001b[0;32m    165\u001b[0m     \u001b[1;32mreturn\u001b[0m \u001b[0mwrapped\u001b[0m\u001b[1;33m\u001b[0m\u001b[1;33m\u001b[0m\u001b[0m\n",
      "\u001b[1;32mc:\\users\\admin\\appdata\\local\\programs\\python\\python39\\lib\\site-packages\\tensorflow\\python\\framework\\ops.py\u001b[0m in \u001b[0;36mconvert_to_tensor\u001b[1;34m(value, dtype, name, as_ref, preferred_dtype, dtype_hint, ctx, accepted_result_types)\u001b[0m\n\u001b[0;32m   1564\u001b[0m \u001b[1;33m\u001b[0m\u001b[0m\n\u001b[0;32m   1565\u001b[0m     \u001b[1;32mif\u001b[0m \u001b[0mret\u001b[0m \u001b[1;32mis\u001b[0m \u001b[1;32mNone\u001b[0m\u001b[1;33m:\u001b[0m\u001b[1;33m\u001b[0m\u001b[1;33m\u001b[0m\u001b[0m\n\u001b[1;32m-> 1566\u001b[1;33m       \u001b[0mret\u001b[0m \u001b[1;33m=\u001b[0m \u001b[0mconversion_func\u001b[0m\u001b[1;33m(\u001b[0m\u001b[0mvalue\u001b[0m\u001b[1;33m,\u001b[0m \u001b[0mdtype\u001b[0m\u001b[1;33m=\u001b[0m\u001b[0mdtype\u001b[0m\u001b[1;33m,\u001b[0m \u001b[0mname\u001b[0m\u001b[1;33m=\u001b[0m\u001b[0mname\u001b[0m\u001b[1;33m,\u001b[0m \u001b[0mas_ref\u001b[0m\u001b[1;33m=\u001b[0m\u001b[0mas_ref\u001b[0m\u001b[1;33m)\u001b[0m\u001b[1;33m\u001b[0m\u001b[1;33m\u001b[0m\u001b[0m\n\u001b[0m\u001b[0;32m   1567\u001b[0m \u001b[1;33m\u001b[0m\u001b[0m\n\u001b[0;32m   1568\u001b[0m     \u001b[1;32mif\u001b[0m \u001b[0mret\u001b[0m \u001b[1;32mis\u001b[0m \u001b[0mNotImplemented\u001b[0m\u001b[1;33m:\u001b[0m\u001b[1;33m\u001b[0m\u001b[1;33m\u001b[0m\u001b[0m\n",
      "\u001b[1;32mc:\\users\\admin\\appdata\\local\\programs\\python\\python39\\lib\\site-packages\\tensorflow\\python\\distribute\\values.py\u001b[0m in \u001b[0;36m_tensor_conversion_distributed_var\u001b[1;34m(var, dtype, name, as_ref)\u001b[0m\n\u001b[0;32m   1374\u001b[0m def _tensor_conversion_distributed_var(var, dtype=None, name=None,\n\u001b[0;32m   1375\u001b[0m                                        as_ref=False):\n\u001b[1;32m-> 1376\u001b[1;33m   \u001b[1;32mreturn\u001b[0m \u001b[0mvar\u001b[0m\u001b[1;33m.\u001b[0m\u001b[0m_dense_var_to_tensor\u001b[0m\u001b[1;33m(\u001b[0m\u001b[0mdtype\u001b[0m\u001b[1;33m=\u001b[0m\u001b[0mdtype\u001b[0m\u001b[1;33m,\u001b[0m \u001b[0mname\u001b[0m\u001b[1;33m=\u001b[0m\u001b[0mname\u001b[0m\u001b[1;33m,\u001b[0m \u001b[0mas_ref\u001b[0m\u001b[1;33m=\u001b[0m\u001b[0mas_ref\u001b[0m\u001b[1;33m)\u001b[0m  \u001b[1;31m# pylint: disable=protected-access\u001b[0m\u001b[1;33m\u001b[0m\u001b[1;33m\u001b[0m\u001b[0m\n\u001b[0m\u001b[0;32m   1377\u001b[0m \u001b[1;33m\u001b[0m\u001b[0m\n\u001b[0;32m   1378\u001b[0m \u001b[1;33m\u001b[0m\u001b[0m\n",
      "\u001b[1;32mc:\\users\\admin\\appdata\\local\\programs\\python\\python39\\lib\\site-packages\\tensorflow\\python\\distribute\\values.py\u001b[0m in \u001b[0;36m_dense_var_to_tensor\u001b[1;34m(self, dtype, name, as_ref)\u001b[0m\n\u001b[0;32m   1366\u001b[0m \u001b[1;33m\u001b[0m\u001b[0m\n\u001b[0;32m   1367\u001b[0m       return ops.convert_to_tensor(\n\u001b[1;32m-> 1368\u001b[1;33m           self._get(), dtype=dtype, name=name, as_ref=as_ref)\n\u001b[0m\u001b[0;32m   1369\u001b[0m \u001b[1;33m\u001b[0m\u001b[0m\n\u001b[0;32m   1370\u001b[0m \u001b[1;33m\u001b[0m\u001b[0m\n",
      "\u001b[1;32mc:\\users\\admin\\appdata\\local\\programs\\python\\python39\\lib\\site-packages\\tensorflow\\python\\distribute\\values.py\u001b[0m in \u001b[0;36m_get\u001b[1;34m(self)\u001b[0m\n\u001b[0;32m    739\u001b[0m     \u001b[0mreplica_id\u001b[0m \u001b[1;33m=\u001b[0m \u001b[0mvalues_util\u001b[0m\u001b[1;33m.\u001b[0m\u001b[0mget_current_replica_id_as_int\u001b[0m\u001b[1;33m(\u001b[0m\u001b[1;33m)\u001b[0m\u001b[1;33m\u001b[0m\u001b[1;33m\u001b[0m\u001b[0m\n\u001b[0;32m    740\u001b[0m     \u001b[1;32mif\u001b[0m \u001b[0mreplica_id\u001b[0m \u001b[1;32mis\u001b[0m \u001b[1;32mNone\u001b[0m\u001b[1;33m:\u001b[0m\u001b[1;33m\u001b[0m\u001b[1;33m\u001b[0m\u001b[0m\n\u001b[1;32m--> 741\u001b[1;33m       \u001b[1;32mreturn\u001b[0m \u001b[0mself\u001b[0m\u001b[1;33m.\u001b[0m\u001b[0m_get_cross_replica\u001b[0m\u001b[1;33m(\u001b[0m\u001b[1;33m)\u001b[0m\u001b[1;33m\u001b[0m\u001b[1;33m\u001b[0m\u001b[0m\n\u001b[0m\u001b[0;32m    742\u001b[0m     \u001b[1;32melse\u001b[0m\u001b[1;33m:\u001b[0m\u001b[1;33m\u001b[0m\u001b[1;33m\u001b[0m\u001b[0m\n\u001b[0;32m    743\u001b[0m       \u001b[1;32mreturn\u001b[0m \u001b[0mself\u001b[0m\u001b[1;33m.\u001b[0m\u001b[0m_get_replica\u001b[0m\u001b[1;33m(\u001b[0m\u001b[0mreplica_id\u001b[0m\u001b[1;33m)\u001b[0m\u001b[1;33m\u001b[0m\u001b[1;33m\u001b[0m\u001b[0m\n",
      "\u001b[1;32mc:\\users\\admin\\appdata\\local\\programs\\python\\python39\\lib\\site-packages\\tensorflow\\python\\distribute\\values.py\u001b[0m in \u001b[0;36m_get_cross_replica\u001b[1;34m(self)\u001b[0m\n\u001b[0;32m   1313\u001b[0m       \u001b[0mvalues_util\u001b[0m\u001b[1;33m.\u001b[0m\u001b[0mmark_as_unsaveable\u001b[0m\u001b[1;33m(\u001b[0m\u001b[1;33m)\u001b[0m\u001b[1;33m\u001b[0m\u001b[1;33m\u001b[0m\u001b[0m\n\u001b[0;32m   1314\u001b[0m     \u001b[1;32mwith\u001b[0m \u001b[0mds_context\u001b[0m\u001b[1;33m.\u001b[0m\u001b[0menter_or_assert_strategy\u001b[0m\u001b[1;33m(\u001b[0m\u001b[0mself\u001b[0m\u001b[1;33m.\u001b[0m\u001b[0m_distribute_strategy\u001b[0m\u001b[1;33m)\u001b[0m\u001b[1;33m:\u001b[0m\u001b[1;33m\u001b[0m\u001b[1;33m\u001b[0m\u001b[0m\n\u001b[1;32m-> 1315\u001b[1;33m       return self._distribute_strategy.reduce(\n\u001b[0m\u001b[0;32m   1316\u001b[0m           \u001b[0mreduce_util\u001b[0m\u001b[1;33m.\u001b[0m\u001b[0mReduceOp\u001b[0m\u001b[1;33m.\u001b[0m\u001b[0mfrom_variable_aggregation\u001b[0m\u001b[1;33m(\u001b[0m\u001b[0mself\u001b[0m\u001b[1;33m.\u001b[0m\u001b[0m_aggregation\u001b[0m\u001b[1;33m)\u001b[0m\u001b[1;33m,\u001b[0m\u001b[1;33m\u001b[0m\u001b[1;33m\u001b[0m\u001b[0m\n\u001b[0;32m   1317\u001b[0m           \u001b[0mself\u001b[0m\u001b[1;33m,\u001b[0m\u001b[1;33m\u001b[0m\u001b[1;33m\u001b[0m\u001b[0m\n",
      "\u001b[1;32mc:\\users\\admin\\appdata\\local\\programs\\python\\python39\\lib\\site-packages\\tensorflow\\python\\distribute\\distribute_lib.py\u001b[0m in \u001b[0;36mreduce\u001b[1;34m(self, reduce_op, value, axis)\u001b[0m\n\u001b[0;32m   1396\u001b[0m       \u001b[0mreduce_op\u001b[0m \u001b[1;33m=\u001b[0m \u001b[0mreduce_util\u001b[0m\u001b[1;33m.\u001b[0m\u001b[0mReduceOp\u001b[0m\u001b[1;33m(\u001b[0m\u001b[0mreduce_op\u001b[0m\u001b[1;33m.\u001b[0m\u001b[0mupper\u001b[0m\u001b[1;33m(\u001b[0m\u001b[1;33m)\u001b[0m\u001b[1;33m)\u001b[0m\u001b[1;33m\u001b[0m\u001b[1;33m\u001b[0m\u001b[0m\n\u001b[0;32m   1397\u001b[0m     \u001b[1;32mif\u001b[0m \u001b[0maxis\u001b[0m \u001b[1;32mis\u001b[0m \u001b[1;32mNone\u001b[0m\u001b[1;33m:\u001b[0m\u001b[1;33m\u001b[0m\u001b[1;33m\u001b[0m\u001b[0m\n\u001b[1;32m-> 1398\u001b[1;33m       \u001b[1;32mreturn\u001b[0m \u001b[0mself\u001b[0m\u001b[1;33m.\u001b[0m\u001b[0m_extended\u001b[0m\u001b[1;33m.\u001b[0m\u001b[0m_reduce\u001b[0m\u001b[1;33m(\u001b[0m\u001b[0mreduce_op\u001b[0m\u001b[1;33m,\u001b[0m \u001b[0mvalue\u001b[0m\u001b[1;33m)\u001b[0m  \u001b[1;31m# pylint: disable=protected-access\u001b[0m\u001b[1;33m\u001b[0m\u001b[1;33m\u001b[0m\u001b[0m\n\u001b[0m\u001b[0;32m   1399\u001b[0m     \u001b[1;32mif\u001b[0m \u001b[0mreduce_op\u001b[0m \u001b[1;33m==\u001b[0m \u001b[0mreduce_util\u001b[0m\u001b[1;33m.\u001b[0m\u001b[0mReduceOp\u001b[0m\u001b[1;33m.\u001b[0m\u001b[0mSUM\u001b[0m\u001b[1;33m:\u001b[0m\u001b[1;33m\u001b[0m\u001b[1;33m\u001b[0m\u001b[0m\n\u001b[0;32m   1400\u001b[0m \u001b[1;33m\u001b[0m\u001b[0m\n",
      "\u001b[1;32mc:\\users\\admin\\appdata\\local\\programs\\python\\python39\\lib\\site-packages\\tensorflow\\python\\distribute\\distribute_lib.py\u001b[0m in \u001b[0;36m_reduce\u001b[1;34m(self, reduce_op, value)\u001b[0m\n\u001b[0;32m   2256\u001b[0m     \u001b[1;31m# Default implementation until we have an implementation for each strategy.\u001b[0m\u001b[1;33m\u001b[0m\u001b[1;33m\u001b[0m\u001b[1;33m\u001b[0m\u001b[0m\n\u001b[0;32m   2257\u001b[0m     \u001b[0mdst\u001b[0m \u001b[1;33m=\u001b[0m \u001b[0mdevice_util\u001b[0m\u001b[1;33m.\u001b[0m\u001b[0mcurrent\u001b[0m\u001b[1;33m(\u001b[0m\u001b[1;33m)\u001b[0m \u001b[1;32mor\u001b[0m \u001b[0mself\u001b[0m\u001b[1;33m.\u001b[0m\u001b[0m_default_device\u001b[0m \u001b[1;32mor\u001b[0m \u001b[1;34m\"/device:CPU:0\"\u001b[0m\u001b[1;33m\u001b[0m\u001b[1;33m\u001b[0m\u001b[0m\n\u001b[1;32m-> 2258\u001b[1;33m     \u001b[1;32mreturn\u001b[0m \u001b[0mself\u001b[0m\u001b[1;33m.\u001b[0m\u001b[0m_local_results\u001b[0m\u001b[1;33m(\u001b[0m\u001b[0mself\u001b[0m\u001b[1;33m.\u001b[0m\u001b[0mreduce_to\u001b[0m\u001b[1;33m(\u001b[0m\u001b[0mreduce_op\u001b[0m\u001b[1;33m,\u001b[0m \u001b[0mvalue\u001b[0m\u001b[1;33m,\u001b[0m \u001b[0mdst\u001b[0m\u001b[1;33m)\u001b[0m\u001b[1;33m)\u001b[0m\u001b[1;33m[\u001b[0m\u001b[1;36m0\u001b[0m\u001b[1;33m]\u001b[0m\u001b[1;33m\u001b[0m\u001b[1;33m\u001b[0m\u001b[0m\n\u001b[0m\u001b[0;32m   2259\u001b[0m \u001b[1;33m\u001b[0m\u001b[0m\n\u001b[0;32m   2260\u001b[0m   \u001b[1;32mdef\u001b[0m \u001b[0mreduce_to\u001b[0m\u001b[1;33m(\u001b[0m\u001b[0mself\u001b[0m\u001b[1;33m,\u001b[0m \u001b[0mreduce_op\u001b[0m\u001b[1;33m,\u001b[0m \u001b[0mvalue\u001b[0m\u001b[1;33m,\u001b[0m \u001b[0mdestinations\u001b[0m\u001b[1;33m,\u001b[0m \u001b[0moptions\u001b[0m\u001b[1;33m=\u001b[0m\u001b[1;32mNone\u001b[0m\u001b[1;33m)\u001b[0m\u001b[1;33m:\u001b[0m\u001b[1;33m\u001b[0m\u001b[1;33m\u001b[0m\u001b[0m\n",
      "\u001b[1;32mc:\\users\\admin\\appdata\\local\\programs\\python\\python39\\lib\\site-packages\\tensorflow\\python\\distribute\\distribute_lib.py\u001b[0m in \u001b[0;36mreduce_to\u001b[1;34m(self, reduce_op, value, destinations, options)\u001b[0m\n\u001b[0;32m   2341\u001b[0m     assert (reduce_op == reduce_util.ReduceOp.SUM or\n\u001b[0;32m   2342\u001b[0m             reduce_op == reduce_util.ReduceOp.MEAN)\n\u001b[1;32m-> 2343\u001b[1;33m     \u001b[1;32mreturn\u001b[0m \u001b[0mself\u001b[0m\u001b[1;33m.\u001b[0m\u001b[0m_reduce_to\u001b[0m\u001b[1;33m(\u001b[0m\u001b[0mreduce_op\u001b[0m\u001b[1;33m,\u001b[0m \u001b[0mvalue\u001b[0m\u001b[1;33m,\u001b[0m \u001b[0mdestinations\u001b[0m\u001b[1;33m,\u001b[0m \u001b[0moptions\u001b[0m\u001b[1;33m)\u001b[0m\u001b[1;33m\u001b[0m\u001b[1;33m\u001b[0m\u001b[0m\n\u001b[0m\u001b[0;32m   2344\u001b[0m \u001b[1;33m\u001b[0m\u001b[0m\n\u001b[0;32m   2345\u001b[0m   \u001b[1;32mdef\u001b[0m \u001b[0m_reduce_to\u001b[0m\u001b[1;33m(\u001b[0m\u001b[0mself\u001b[0m\u001b[1;33m,\u001b[0m \u001b[0mreduce_op\u001b[0m\u001b[1;33m,\u001b[0m \u001b[0mvalue\u001b[0m\u001b[1;33m,\u001b[0m \u001b[0mdestinations\u001b[0m\u001b[1;33m,\u001b[0m \u001b[0moptions\u001b[0m\u001b[1;33m)\u001b[0m\u001b[1;33m:\u001b[0m\u001b[1;33m\u001b[0m\u001b[1;33m\u001b[0m\u001b[0m\n",
      "\u001b[1;32mc:\\users\\admin\\appdata\\local\\programs\\python\\python39\\lib\\site-packages\\tensorflow\\python\\distribute\\mirrored_strategy.py\u001b[0m in \u001b[0;36m_reduce_to\u001b[1;34m(self, reduce_op, value, destinations, options)\u001b[0m\n\u001b[0;32m    747\u001b[0m           options=self._communication_options.merge(options))\n\u001b[0;32m    748\u001b[0m \u001b[1;33m\u001b[0m\u001b[0m\n\u001b[1;32m--> 749\u001b[1;33m     \u001b[1;32mreturn\u001b[0m \u001b[0mnest\u001b[0m\u001b[1;33m.\u001b[0m\u001b[0mmap_structure\u001b[0m\u001b[1;33m(\u001b[0m\u001b[0mget_values\u001b[0m\u001b[1;33m,\u001b[0m \u001b[0mvalue\u001b[0m\u001b[1;33m)\u001b[0m\u001b[1;33m\u001b[0m\u001b[1;33m\u001b[0m\u001b[0m\n\u001b[0m\u001b[0;32m    750\u001b[0m \u001b[1;33m\u001b[0m\u001b[0m\n\u001b[0;32m    751\u001b[0m   \u001b[1;32mdef\u001b[0m \u001b[0m_batch_reduce_to\u001b[0m\u001b[1;33m(\u001b[0m\u001b[0mself\u001b[0m\u001b[1;33m,\u001b[0m \u001b[0mreduce_op\u001b[0m\u001b[1;33m,\u001b[0m \u001b[0mvalue_destination_pairs\u001b[0m\u001b[1;33m,\u001b[0m \u001b[0moptions\u001b[0m\u001b[1;33m)\u001b[0m\u001b[1;33m:\u001b[0m\u001b[1;33m\u001b[0m\u001b[1;33m\u001b[0m\u001b[0m\n",
      "\u001b[1;32mc:\\users\\admin\\appdata\\local\\programs\\python\\python39\\lib\\site-packages\\tensorflow\\python\\util\\nest.py\u001b[0m in \u001b[0;36mmap_structure\u001b[1;34m(func, *structure, **kwargs)\u001b[0m\n\u001b[0;32m    867\u001b[0m \u001b[1;33m\u001b[0m\u001b[0m\n\u001b[0;32m    868\u001b[0m   return pack_sequence_as(\n\u001b[1;32m--> 869\u001b[1;33m       \u001b[0mstructure\u001b[0m\u001b[1;33m[\u001b[0m\u001b[1;36m0\u001b[0m\u001b[1;33m]\u001b[0m\u001b[1;33m,\u001b[0m \u001b[1;33m[\u001b[0m\u001b[0mfunc\u001b[0m\u001b[1;33m(\u001b[0m\u001b[1;33m*\u001b[0m\u001b[0mx\u001b[0m\u001b[1;33m)\u001b[0m \u001b[1;32mfor\u001b[0m \u001b[0mx\u001b[0m \u001b[1;32min\u001b[0m \u001b[0mentries\u001b[0m\u001b[1;33m]\u001b[0m\u001b[1;33m,\u001b[0m\u001b[1;33m\u001b[0m\u001b[1;33m\u001b[0m\u001b[0m\n\u001b[0m\u001b[0;32m    870\u001b[0m       expand_composites=expand_composites)\n\u001b[0;32m    871\u001b[0m \u001b[1;33m\u001b[0m\u001b[0m\n",
      "\u001b[1;32mc:\\users\\admin\\appdata\\local\\programs\\python\\python39\\lib\\site-packages\\tensorflow\\python\\util\\nest.py\u001b[0m in \u001b[0;36m<listcomp>\u001b[1;34m(.0)\u001b[0m\n\u001b[0;32m    867\u001b[0m \u001b[1;33m\u001b[0m\u001b[0m\n\u001b[0;32m    868\u001b[0m   return pack_sequence_as(\n\u001b[1;32m--> 869\u001b[1;33m       \u001b[0mstructure\u001b[0m\u001b[1;33m[\u001b[0m\u001b[1;36m0\u001b[0m\u001b[1;33m]\u001b[0m\u001b[1;33m,\u001b[0m \u001b[1;33m[\u001b[0m\u001b[0mfunc\u001b[0m\u001b[1;33m(\u001b[0m\u001b[1;33m*\u001b[0m\u001b[0mx\u001b[0m\u001b[1;33m)\u001b[0m \u001b[1;32mfor\u001b[0m \u001b[0mx\u001b[0m \u001b[1;32min\u001b[0m \u001b[0mentries\u001b[0m\u001b[1;33m]\u001b[0m\u001b[1;33m,\u001b[0m\u001b[1;33m\u001b[0m\u001b[1;33m\u001b[0m\u001b[0m\n\u001b[0m\u001b[0;32m    870\u001b[0m       expand_composites=expand_composites)\n\u001b[0;32m    871\u001b[0m \u001b[1;33m\u001b[0m\u001b[0m\n",
      "\u001b[1;32mc:\\users\\admin\\appdata\\local\\programs\\python\\python39\\lib\\site-packages\\tensorflow\\python\\distribute\\mirrored_strategy.py\u001b[0m in \u001b[0;36mget_values\u001b[1;34m(value)\u001b[0m\n\u001b[0;32m    741\u001b[0m         return cross_device_ops_lib.ReductionToOneDevice().reduce(\n\u001b[0;32m    742\u001b[0m             reduce_op, value, destinations)\n\u001b[1;32m--> 743\u001b[1;33m       return self._get_cross_device_ops(value).reduce(\n\u001b[0m\u001b[0;32m    744\u001b[0m           \u001b[0mreduce_op\u001b[0m\u001b[1;33m,\u001b[0m\u001b[1;33m\u001b[0m\u001b[1;33m\u001b[0m\u001b[0m\n\u001b[0;32m    745\u001b[0m           \u001b[0mvalue\u001b[0m\u001b[1;33m,\u001b[0m\u001b[1;33m\u001b[0m\u001b[1;33m\u001b[0m\u001b[0m\n",
      "\u001b[1;32mc:\\users\\admin\\appdata\\local\\programs\\python\\python39\\lib\\site-packages\\tensorflow\\python\\distribute\\cross_device_ops.py\u001b[0m in \u001b[0;36mreduce\u001b[1;34m(self, reduce_op, per_replica_value, destinations, options)\u001b[0m\n\u001b[0;32m    317\u001b[0m     \u001b[1;32mif\u001b[0m \u001b[0moptions\u001b[0m \u001b[1;32mis\u001b[0m \u001b[1;32mNone\u001b[0m\u001b[1;33m:\u001b[0m\u001b[1;33m\u001b[0m\u001b[1;33m\u001b[0m\u001b[0m\n\u001b[0;32m    318\u001b[0m       \u001b[0moptions\u001b[0m \u001b[1;33m=\u001b[0m \u001b[0mcollective_util\u001b[0m\u001b[1;33m.\u001b[0m\u001b[0mOptions\u001b[0m\u001b[1;33m(\u001b[0m\u001b[1;33m)\u001b[0m\u001b[1;33m\u001b[0m\u001b[1;33m\u001b[0m\u001b[0m\n\u001b[1;32m--> 319\u001b[1;33m     return self.reduce_implementation(reduce_op, per_replica_value,\n\u001b[0m\u001b[0;32m    320\u001b[0m                                       destinations, options)\n\u001b[0;32m    321\u001b[0m \u001b[1;33m\u001b[0m\u001b[0m\n",
      "\u001b[1;32mc:\\users\\admin\\appdata\\local\\programs\\python\\python39\\lib\\site-packages\\tensorflow\\python\\distribute\\cross_device_ops.py\u001b[0m in \u001b[0;36mreduce_implementation\u001b[1;34m(***failed resolving arguments***)\u001b[0m\n\u001b[0;32m    866\u001b[0m       \u001b[1;32mreturn\u001b[0m \u001b[0mself\u001b[0m\u001b[1;33m.\u001b[0m\u001b[0m_batch_all_reduce\u001b[0m\u001b[1;33m(\u001b[0m\u001b[0mreduce_op\u001b[0m\u001b[1;33m,\u001b[0m \u001b[1;33m[\u001b[0m\u001b[0mper_replica_value\u001b[0m\u001b[1;33m]\u001b[0m\u001b[1;33m)\u001b[0m\u001b[1;33m[\u001b[0m\u001b[1;36m0\u001b[0m\u001b[1;33m]\u001b[0m\u001b[1;33m\u001b[0m\u001b[1;33m\u001b[0m\u001b[0m\n\u001b[0;32m    867\u001b[0m     \u001b[1;32melse\u001b[0m\u001b[1;33m:\u001b[0m\u001b[1;33m\u001b[0m\u001b[1;33m\u001b[0m\u001b[0m\n\u001b[1;32m--> 868\u001b[1;33m       return self._simple_cross_replica_ops.reduce(reduce_op, per_replica_value,\n\u001b[0m\u001b[0;32m    869\u001b[0m                                                    destinations)\n\u001b[0;32m    870\u001b[0m \u001b[1;33m\u001b[0m\u001b[0m\n",
      "\u001b[1;32mc:\\users\\admin\\appdata\\local\\programs\\python\\python39\\lib\\site-packages\\tensorflow\\python\\distribute\\cross_device_ops.py\u001b[0m in \u001b[0;36mreduce\u001b[1;34m(self, reduce_op, per_replica_value, destinations, options)\u001b[0m\n\u001b[0;32m    317\u001b[0m     \u001b[1;32mif\u001b[0m \u001b[0moptions\u001b[0m \u001b[1;32mis\u001b[0m \u001b[1;32mNone\u001b[0m\u001b[1;33m:\u001b[0m\u001b[1;33m\u001b[0m\u001b[1;33m\u001b[0m\u001b[0m\n\u001b[0;32m    318\u001b[0m       \u001b[0moptions\u001b[0m \u001b[1;33m=\u001b[0m \u001b[0mcollective_util\u001b[0m\u001b[1;33m.\u001b[0m\u001b[0mOptions\u001b[0m\u001b[1;33m(\u001b[0m\u001b[1;33m)\u001b[0m\u001b[1;33m\u001b[0m\u001b[1;33m\u001b[0m\u001b[0m\n\u001b[1;32m--> 319\u001b[1;33m     return self.reduce_implementation(reduce_op, per_replica_value,\n\u001b[0m\u001b[0;32m    320\u001b[0m                                       destinations, options)\n\u001b[0;32m    321\u001b[0m \u001b[1;33m\u001b[0m\u001b[0m\n",
      "\u001b[1;32mc:\\users\\admin\\appdata\\local\\programs\\python\\python39\\lib\\site-packages\\tensorflow\\python\\distribute\\cross_device_ops.py\u001b[0m in \u001b[0;36mreduce_implementation\u001b[1;34m(***failed resolving arguments***)\u001b[0m\n\u001b[0;32m    622\u001b[0m     reduced = _simple_reduce(per_replica_value, reduce_to_device,\n\u001b[0;32m    623\u001b[0m                              self.accumulation_fn, reduce_op)\n\u001b[1;32m--> 624\u001b[1;33m     \u001b[1;32mreturn\u001b[0m \u001b[0mself\u001b[0m\u001b[1;33m.\u001b[0m\u001b[0mbroadcast\u001b[0m\u001b[1;33m(\u001b[0m\u001b[0mreduced\u001b[0m\u001b[1;33m,\u001b[0m \u001b[0mdestinations\u001b[0m\u001b[1;33m)\u001b[0m\u001b[1;33m\u001b[0m\u001b[1;33m\u001b[0m\u001b[0m\n\u001b[0m\u001b[0;32m    625\u001b[0m \u001b[1;33m\u001b[0m\u001b[0m\n\u001b[0;32m    626\u001b[0m   def _gather_implementation(self, per_replica_value, destinations, axis,\n",
      "\u001b[1;32mc:\\users\\admin\\appdata\\local\\programs\\python\\python39\\lib\\site-packages\\tensorflow\\python\\distribute\\cross_device_ops.py\u001b[0m in \u001b[0;36mbroadcast\u001b[1;34m(self, tensor, destinations)\u001b[0m\n\u001b[0;32m    464\u001b[0m     \"\"\"\n\u001b[0;32m    465\u001b[0m     \u001b[0mvalidate_destinations\u001b[0m\u001b[1;33m(\u001b[0m\u001b[0mdestinations\u001b[0m\u001b[1;33m)\u001b[0m\u001b[1;33m\u001b[0m\u001b[1;33m\u001b[0m\u001b[0m\n\u001b[1;32m--> 466\u001b[1;33m     \u001b[1;32mreturn\u001b[0m \u001b[0mself\u001b[0m\u001b[1;33m.\u001b[0m\u001b[0mbroadcast_implementation\u001b[0m\u001b[1;33m(\u001b[0m\u001b[0mtensor\u001b[0m\u001b[1;33m,\u001b[0m \u001b[0mdestinations\u001b[0m\u001b[1;33m)\u001b[0m\u001b[1;33m\u001b[0m\u001b[1;33m\u001b[0m\u001b[0m\n\u001b[0m\u001b[0;32m    467\u001b[0m \u001b[1;33m\u001b[0m\u001b[0m\n\u001b[0;32m    468\u001b[0m   \u001b[1;33m@\u001b[0m\u001b[0mdoc_controls\u001b[0m\u001b[1;33m.\u001b[0m\u001b[0mfor_subclass_implementers\u001b[0m\u001b[1;33m\u001b[0m\u001b[1;33m\u001b[0m\u001b[0m\n",
      "\u001b[1;32mc:\\users\\admin\\appdata\\local\\programs\\python\\python39\\lib\\site-packages\\tensorflow\\python\\distribute\\cross_device_ops.py\u001b[0m in \u001b[0;36mbroadcast_implementation\u001b[1;34m(self, tensor, destinations)\u001b[0m\n\u001b[0;32m    541\u001b[0m       \u001b[0mA\u001b[0m\u001b[0;31m \u001b[0m\u001b[0;31m`\u001b[0m\u001b[0mtf\u001b[0m\u001b[1;33m.\u001b[0m\u001b[0mTensor\u001b[0m\u001b[0;31m`\u001b[0m \u001b[1;32mor\u001b[0m\u001b[0;31m \u001b[0m\u001b[0;31m`\u001b[0m\u001b[0mtf\u001b[0m\u001b[1;33m.\u001b[0m\u001b[0mdistribute\u001b[0m\u001b[1;33m.\u001b[0m\u001b[0mDistributedValues\u001b[0m\u001b[0;31m`\u001b[0m\u001b[1;33m.\u001b[0m\u001b[1;33m\u001b[0m\u001b[1;33m\u001b[0m\u001b[0m\n\u001b[0;32m    542\u001b[0m     \"\"\"\n\u001b[1;32m--> 543\u001b[1;33m     return simple_broadcast(\n\u001b[0m\u001b[0;32m    544\u001b[0m         \u001b[0mtensor\u001b[0m\u001b[1;33m,\u001b[0m\u001b[1;33m\u001b[0m\u001b[1;33m\u001b[0m\u001b[0m\n\u001b[0;32m    545\u001b[0m         \u001b[0mdestinations\u001b[0m\u001b[1;33m,\u001b[0m\u001b[1;33m\u001b[0m\u001b[1;33m\u001b[0m\u001b[0m\n",
      "\u001b[1;32mc:\\users\\admin\\appdata\\local\\programs\\python\\python39\\lib\\site-packages\\tensorflow\\python\\distribute\\cross_device_ops.py\u001b[0m in \u001b[0;36msimple_broadcast\u001b[1;34m(value, destinations, always_mirrored, canonicalize_devices)\u001b[0m\n\u001b[0;32m    211\u001b[0m     \u001b[1;32mfor\u001b[0m \u001b[0md\u001b[0m \u001b[1;32min\u001b[0m \u001b[0mdevices\u001b[0m\u001b[1;33m:\u001b[0m\u001b[1;33m\u001b[0m\u001b[1;33m\u001b[0m\u001b[0m\n\u001b[0;32m    212\u001b[0m       value_updates.append(\n\u001b[1;32m--> 213\u001b[1;33m           cross_device_utils.copy_tensor_or_indexed_slices_to_device(value, d))\n\u001b[0m\u001b[0;32m    214\u001b[0m     return distribute_utils.regroup(value_updates,\n\u001b[0;32m    215\u001b[0m                                     wrap_class=value_lib.Mirrored)\n",
      "\u001b[1;32mc:\\users\\admin\\appdata\\local\\programs\\python\\python39\\lib\\site-packages\\tensorflow\\python\\distribute\\cross_device_utils.py\u001b[0m in \u001b[0;36mcopy_tensor_or_indexed_slices_to_device\u001b[1;34m(value, device)\u001b[0m\n\u001b[0;32m    603\u001b[0m       \u001b[0mresult\u001b[0m \u001b[1;33m=\u001b[0m \u001b[0mops\u001b[0m\u001b[1;33m.\u001b[0m\u001b[0mIndexedSlices\u001b[0m\u001b[1;33m(\u001b[0m\u001b[0mcopied_values\u001b[0m\u001b[1;33m,\u001b[0m \u001b[0mcopied_indices\u001b[0m\u001b[1;33m,\u001b[0m \u001b[0mcopied_shape\u001b[0m\u001b[1;33m)\u001b[0m\u001b[1;33m\u001b[0m\u001b[1;33m\u001b[0m\u001b[0m\n\u001b[0;32m    604\u001b[0m     \u001b[1;32melse\u001b[0m\u001b[1;33m:\u001b[0m\u001b[1;33m\u001b[0m\u001b[1;33m\u001b[0m\u001b[0m\n\u001b[1;32m--> 605\u001b[1;33m       \u001b[0mresult\u001b[0m \u001b[1;33m=\u001b[0m \u001b[0marray_ops\u001b[0m\u001b[1;33m.\u001b[0m\u001b[0midentity\u001b[0m\u001b[1;33m(\u001b[0m\u001b[0mvalue\u001b[0m\u001b[1;33m)\u001b[0m\u001b[1;33m\u001b[0m\u001b[1;33m\u001b[0m\u001b[0m\n\u001b[0m\u001b[0;32m    606\u001b[0m   \u001b[1;32mreturn\u001b[0m \u001b[0mresult\u001b[0m\u001b[1;33m\u001b[0m\u001b[1;33m\u001b[0m\u001b[0m\n\u001b[0;32m    607\u001b[0m \u001b[1;33m\u001b[0m\u001b[0m\n",
      "\u001b[1;32mc:\\users\\admin\\appdata\\local\\programs\\python\\python39\\lib\\site-packages\\tensorflow\\python\\util\\dispatch.py\u001b[0m in \u001b[0;36mwrapper\u001b[1;34m(*args, **kwargs)\u001b[0m\n\u001b[0;32m    204\u001b[0m     \u001b[1;34m\"\"\"Call target, and fall back on dispatchers if there is a TypeError.\"\"\"\u001b[0m\u001b[1;33m\u001b[0m\u001b[1;33m\u001b[0m\u001b[0m\n\u001b[0;32m    205\u001b[0m     \u001b[1;32mtry\u001b[0m\u001b[1;33m:\u001b[0m\u001b[1;33m\u001b[0m\u001b[1;33m\u001b[0m\u001b[0m\n\u001b[1;32m--> 206\u001b[1;33m       \u001b[1;32mreturn\u001b[0m \u001b[0mtarget\u001b[0m\u001b[1;33m(\u001b[0m\u001b[1;33m*\u001b[0m\u001b[0margs\u001b[0m\u001b[1;33m,\u001b[0m \u001b[1;33m**\u001b[0m\u001b[0mkwargs\u001b[0m\u001b[1;33m)\u001b[0m\u001b[1;33m\u001b[0m\u001b[1;33m\u001b[0m\u001b[0m\n\u001b[0m\u001b[0;32m    207\u001b[0m     \u001b[1;32mexcept\u001b[0m \u001b[1;33m(\u001b[0m\u001b[0mTypeError\u001b[0m\u001b[1;33m,\u001b[0m \u001b[0mValueError\u001b[0m\u001b[1;33m)\u001b[0m\u001b[1;33m:\u001b[0m\u001b[1;33m\u001b[0m\u001b[1;33m\u001b[0m\u001b[0m\n\u001b[0;32m    208\u001b[0m       \u001b[1;31m# Note: convert_to_eager_tensor currently raises a ValueError, not a\u001b[0m\u001b[1;33m\u001b[0m\u001b[1;33m\u001b[0m\u001b[1;33m\u001b[0m\u001b[0m\n",
      "\u001b[1;32mc:\\users\\admin\\appdata\\local\\programs\\python\\python39\\lib\\site-packages\\tensorflow\\python\\ops\\array_ops.py\u001b[0m in \u001b[0;36midentity\u001b[1;34m(input, name)\u001b[0m\n\u001b[0;32m    287\u001b[0m     \u001b[1;31m# variables. Variables have correct handle data when graph building.\u001b[0m\u001b[1;33m\u001b[0m\u001b[1;33m\u001b[0m\u001b[1;33m\u001b[0m\u001b[0m\n\u001b[0;32m    288\u001b[0m     \u001b[0minput\u001b[0m \u001b[1;33m=\u001b[0m \u001b[0mops\u001b[0m\u001b[1;33m.\u001b[0m\u001b[0mconvert_to_tensor\u001b[0m\u001b[1;33m(\u001b[0m\u001b[0minput\u001b[0m\u001b[1;33m)\u001b[0m\u001b[1;33m\u001b[0m\u001b[1;33m\u001b[0m\u001b[0m\n\u001b[1;32m--> 289\u001b[1;33m   \u001b[0mret\u001b[0m \u001b[1;33m=\u001b[0m \u001b[0mgen_array_ops\u001b[0m\u001b[1;33m.\u001b[0m\u001b[0midentity\u001b[0m\u001b[1;33m(\u001b[0m\u001b[0minput\u001b[0m\u001b[1;33m,\u001b[0m \u001b[0mname\u001b[0m\u001b[1;33m=\u001b[0m\u001b[0mname\u001b[0m\u001b[1;33m)\u001b[0m\u001b[1;33m\u001b[0m\u001b[1;33m\u001b[0m\u001b[0m\n\u001b[0m\u001b[0;32m    290\u001b[0m   \u001b[1;31m# Propagate handle data for happier shape inference for resource variables.\u001b[0m\u001b[1;33m\u001b[0m\u001b[1;33m\u001b[0m\u001b[1;33m\u001b[0m\u001b[0m\n\u001b[0;32m    291\u001b[0m   \u001b[1;32mif\u001b[0m \u001b[0mhasattr\u001b[0m\u001b[1;33m(\u001b[0m\u001b[0minput\u001b[0m\u001b[1;33m,\u001b[0m \u001b[1;34m\"_handle_data\"\u001b[0m\u001b[1;33m)\u001b[0m\u001b[1;33m:\u001b[0m\u001b[1;33m\u001b[0m\u001b[1;33m\u001b[0m\u001b[0m\n",
      "\u001b[1;32mc:\\users\\admin\\appdata\\local\\programs\\python\\python39\\lib\\site-packages\\tensorflow\\python\\ops\\gen_array_ops.py\u001b[0m in \u001b[0;36midentity\u001b[1;34m(input, name)\u001b[0m\n\u001b[0;32m   3929\u001b[0m   \u001b[1;32mif\u001b[0m \u001b[0mtld\u001b[0m\u001b[1;33m.\u001b[0m\u001b[0mis_eager\u001b[0m\u001b[1;33m:\u001b[0m\u001b[1;33m\u001b[0m\u001b[1;33m\u001b[0m\u001b[0m\n\u001b[0;32m   3930\u001b[0m     \u001b[1;32mtry\u001b[0m\u001b[1;33m:\u001b[0m\u001b[1;33m\u001b[0m\u001b[1;33m\u001b[0m\u001b[0m\n\u001b[1;32m-> 3931\u001b[1;33m       _result = pywrap_tfe.TFE_Py_FastPathExecute(\n\u001b[0m\u001b[0;32m   3932\u001b[0m         _ctx, \"Identity\", name, input)\n\u001b[0;32m   3933\u001b[0m       \u001b[1;32mreturn\u001b[0m \u001b[0m_result\u001b[0m\u001b[1;33m\u001b[0m\u001b[1;33m\u001b[0m\u001b[0m\n",
      "\u001b[1;31mKeyboardInterrupt\u001b[0m: "
     ]
    }
   ],
   "source": [
    "if __name__ == \"__main__\":\n",
    "    parser = get_parser()\n",
    "    arg, unknown = parser.parse_known_args()\n",
    "\n",
    "    base_lr         = arg.base_lr\n",
    "    num_classes     = arg.num_classes\n",
    "    epochs          = arg.num_epochs\n",
    "    checkpoint_path = arg.checkpoint_path\n",
    "    log_dir         = arg.log_dir\n",
    "    train_data_path = arg.train_data_path\n",
    "    test_data_path  = arg.test_data_path\n",
    "    save_freq       = arg.save_freq\n",
    "    steps           = arg.steps\n",
    "    batch_size      = arg.batch_size\n",
    "    gpus            = arg.gpus\n",
    "    strategy        = tf.distribute.MirroredStrategy(arg.gpus)\n",
    "    global_batch_size = arg.batch_size*strategy.num_replicas_in_sync\n",
    "    arg.gpus        = strategy.num_replicas_in_sync\n",
    "\n",
    "    #copy hyperparameters and model definition to log folder\n",
    "    #save_arg(arg)\n",
    "    shutil.copy2(inspect.getfile(Model), arg.log_dir)\n",
    "    print(\"Num GPUs Available: \", len(tf.config.list_physical_devices('GPU')))\n",
    "\n",
    "    '''\n",
    "    Get tf.dataset objects for training and testing data\n",
    "    Data shape: features - batch_size, 3, 300, 25, 2\n",
    "                labels   - batch_size, num_classes\n",
    "    '''\n",
    "    train_data = get_dataset(train_data_path,\n",
    "                             num_classes=num_classes,\n",
    "                             batch_size=global_batch_size,\n",
    "                             drop_remainder=True,\n",
    "                             shuffle=True)\n",
    "    train_data = strategy.experimental_distribute_dataset(train_data)\n",
    "\n",
    "    test_data = get_dataset(test_data_path,\n",
    "                            num_classes=num_classes,\n",
    "                            batch_size=batch_size,\n",
    "                            drop_remainder=False,\n",
    "                            shuffle=False)\n",
    "\n",
    "    boundaries = [(step*40000)//batch_size for step in steps]\n",
    "    values = [base_lr]*(len(steps)+1)\n",
    "    for i in range(1, len(steps)+1):\n",
    "        values[i] *= 0.1**i\n",
    "    learning_rate  = tf.keras.optimizers.schedules.PiecewiseConstantDecay(boundaries, values)\n",
    "\n",
    "    with strategy.scope():\n",
    "        model        = Model(num_classes=num_classes)\n",
    "        optimizer    = tf.keras.optimizers.SGD(learning_rate=learning_rate,\n",
    "                                               momentum=0.9,\n",
    "                                               nesterov=True)\n",
    "        ckpt         = tf.train.Checkpoint(model=model, optimizer=optimizer)\n",
    "        ckpt_manager = tf.train.CheckpointManager(ckpt,\n",
    "                                                  checkpoint_path,\n",
    "                                                  max_to_keep=5)\n",
    "\n",
    "        # keras metrics to hold accuracies and loss\n",
    "        cross_entropy_loss   = tf.keras.metrics.Mean(name='cross_entropy_loss')\n",
    "        train_acc            = tf.keras.metrics.CategoricalAccuracy(name='train_acc')\n",
    "        train_acc_top_5      = tf.keras.metrics.TopKCategoricalAccuracy(name='train_acc_top_5')\n",
    "\n",
    "    epoch_test_acc       = tf.keras.metrics.CategoricalAccuracy(name='epoch_test_acc')\n",
    "    epoch_test_acc_top_5 = tf.keras.metrics.TopKCategoricalAccuracy(name='epoch_test_acc_top_5')\n",
    "    test_acc_top_5       = tf.keras.metrics.TopKCategoricalAccuracy(name='test_acc_top_5')\n",
    "    test_acc             = tf.keras.metrics.CategoricalAccuracy(name='test_acc')\n",
    "    summary_writer       = tf.summary.create_file_writer(log_dir)\n",
    "\n",
    "    # Get 1 batch from train dataset to get graph trace of train and test functions\n",
    "    \n",
    "    for data in test_data:\n",
    "        features, labels = data\n",
    "        break\n",
    "\n",
    "    # add graph of train and test functions to tensorboard graphs\n",
    "    # Note:\n",
    "    # graph training is True on purpose, allows tensorflow to get all the\n",
    "    # variables, which is required for the first call of @tf.function function\n",
    "    tf.summary.trace_on(graph=True)\n",
    "    train_step(features, labels)\n",
    "    with summary_writer.as_default():\n",
    "        tf.summary.trace_export(name=\"training_trace\",step=0)\n",
    "    tf.summary.trace_off()\n",
    "\n",
    "    tf.summary.trace_on(graph=True)\n",
    "    test_step(features)\n",
    "    with summary_writer.as_default():\n",
    "        tf.summary.trace_export(name=\"testing_trace\", step=0)\n",
    "    tf.summary.trace_off()\n",
    "\n",
    "    # start training\n",
    "    train_iter = 0\n",
    "    test_iter = 0\n",
    "    for epoch in range(epochs):\n",
    "        print(\"Epoch: {}\".format(epoch+1))\n",
    "        print(\"Training: \")\n",
    "        with strategy.scope():\n",
    "            for features, labels in tqdm(train_data):\n",
    "                train_step(features, labels)\n",
    "                with summary_writer.as_default():\n",
    "                    tf.summary.scalar(\"cross_entropy_loss\",\n",
    "                                      cross_entropy_loss.result(),\n",
    "                                      step=train_iter)\n",
    "                    tf.summary.scalar(\"train_acc\",\n",
    "                                      train_acc.result(),\n",
    "                                      step=train_iter)\n",
    "                    tf.summary.scalar(\"train_acc_top_5\",\n",
    "                                      train_acc_top_5.result(),\n",
    "                                      step=train_iter)\n",
    "                cross_entropy_loss.reset_states()\n",
    "                train_acc.reset_states()\n",
    "                train_acc_top_5.reset_states()\n",
    "                train_iter += 1\n",
    "\n",
    "        print(\"Testing: \")\n",
    "        for features, labels in tqdm(test_data):\n",
    "            y_pred = test_step(features)\n",
    "            print(\"test acc \", test_acc(labels, y_pred))\n",
    "            print(\"epoch test acc \", epoch_test_acc(labels, y_pred))\n",
    "            print(\"test acc top5\", test_acc_top_5(labels, y_pred))\n",
    "            print(\"epoch test acc top5 \",epoch_test_acc_top_5(labels, y_pred))\n",
    "            with summary_writer.as_default():\n",
    "                tf.summary.scalar(\"test_acc\",\n",
    "                                  test_acc.result(),\n",
    "                                  step=test_iter)\n",
    "                tf.summary.scalar(\"test_acc_top_5\",\n",
    "                                  test_acc_top_5.result(),\n",
    "                                  step=test_iter)\n",
    "            test_acc.reset_states()\n",
    "            test_acc_top_5.reset_states()\n",
    "            test_iter += 1\n",
    "        with summary_writer.as_default():\n",
    "            tf.summary.scalar(\"epoch_test_acc\",\n",
    "                              epoch_test_acc.result(),\n",
    "                              step=epoch)\n",
    "            tf.summary.scalar(\"epoch_test_acc_top_5\",\n",
    "                              epoch_test_acc_top_5.result(),\n",
    "                              step=epoch)\n",
    "        epoch_test_acc.reset_states()\n",
    "        epoch_test_acc_top_5.reset_states()\n",
    "\n",
    "        if (epoch + 1) % save_freq == 0:\n",
    "            ckpt_save_path = ckpt_manager.save()\n",
    "            print('Saving checkpoint for epoch {} at {}'.format(epoch+1,\n",
    "                                                                ckpt_save_path))\n",
    "\n",
    "    ckpt_save_path = ckpt_manager.save()\n",
    "    print('Saving final checkpoint for epoch {} at {}'.format(epochs,\n",
    "                                                              ckpt_save_path))"
   ]
  }
 ],
 "metadata": {
  "kernelspec": {
   "display_name": "Python 3 (ipykernel)",
   "language": "python",
   "name": "python3"
  },
  "language_info": {
   "codemirror_mode": {
    "name": "ipython",
    "version": 3
   },
   "file_extension": ".py",
   "mimetype": "text/x-python",
   "name": "python",
   "nbconvert_exporter": "python",
   "pygments_lexer": "ipython3",
   "version": "3.9.6"
  }
 },
 "nbformat": 4,
 "nbformat_minor": 5
}
