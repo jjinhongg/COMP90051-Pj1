{
 "cells": [
  {
   "cell_type": "code",
   "execution_count": 1,
   "metadata": {},
   "outputs": [
    {
     "ename": "XGBoostError",
     "evalue": "XGBoost Library (libxgboost.dylib) could not be loaded.\nLikely causes:\n  * OpenMP runtime is not installed (vcomp140.dll or libgomp-1.dll for Windows, libomp.dylib for Mac OSX, libgomp.so for Linux and other UNIX-like OSes). Mac OSX users: Run `brew install libomp` to install OpenMP runtime.\n  * You are running 32-bit Python on a 64-bit OS\nError message(s): ['dlopen(/Users/stella/anaconda3/lib/python3.6/site-packages/xgboost/lib/libxgboost.dylib, 6): Library not loaded: /usr/local/opt/libomp/lib/libomp.dylib\\n  Referenced from: /Users/stella/anaconda3/lib/python3.6/site-packages/xgboost/lib/libxgboost.dylib\\n  Reason: image not found']\n",
     "output_type": "error",
     "traceback": [
      "\u001b[0;31m---------------------------------------------------------------------------\u001b[0m",
      "\u001b[0;31mXGBoostError\u001b[0m                              Traceback (most recent call last)",
      "\u001b[0;32m<ipython-input-1-2a68f3dc1e71>\u001b[0m in \u001b[0;36m<module>\u001b[0;34m()\u001b[0m\n\u001b[1;32m      5\u001b[0m \u001b[0;32mfrom\u001b[0m \u001b[0mmatplotlib\u001b[0m \u001b[0;32mimport\u001b[0m \u001b[0mpyplot\u001b[0m\u001b[0;34m\u001b[0m\u001b[0m\n\u001b[1;32m      6\u001b[0m \u001b[0;32mimport\u001b[0m \u001b[0mnumpy\u001b[0m \u001b[0;32mas\u001b[0m \u001b[0mnp\u001b[0m\u001b[0;34m\u001b[0m\u001b[0m\n\u001b[0;32m----> 7\u001b[0;31m \u001b[0;32mimport\u001b[0m \u001b[0mxgboost\u001b[0m\u001b[0;34m\u001b[0m\u001b[0m\n\u001b[0m\u001b[1;32m      8\u001b[0m \u001b[0;34m\u001b[0m\u001b[0m\n\u001b[1;32m      9\u001b[0m \u001b[0;32mfrom\u001b[0m \u001b[0msklearn\u001b[0m\u001b[0;34m.\u001b[0m\u001b[0mlinear_model\u001b[0m \u001b[0;32mimport\u001b[0m \u001b[0mLogisticRegression\u001b[0m\u001b[0;34m\u001b[0m\u001b[0m\n",
      "\u001b[0;32m~/anaconda3/lib/python3.6/site-packages/xgboost/__init__.py\u001b[0m in \u001b[0;36m<module>\u001b[0;34m()\u001b[0m\n\u001b[1;32m      7\u001b[0m \u001b[0;32mimport\u001b[0m \u001b[0mos\u001b[0m\u001b[0;34m\u001b[0m\u001b[0m\n\u001b[1;32m      8\u001b[0m \u001b[0;34m\u001b[0m\u001b[0m\n\u001b[0;32m----> 9\u001b[0;31m \u001b[0;32mfrom\u001b[0m \u001b[0;34m.\u001b[0m\u001b[0mcore\u001b[0m \u001b[0;32mimport\u001b[0m \u001b[0mDMatrix\u001b[0m\u001b[0;34m,\u001b[0m \u001b[0mDeviceQuantileDMatrix\u001b[0m\u001b[0;34m,\u001b[0m \u001b[0mBooster\u001b[0m\u001b[0;34m\u001b[0m\u001b[0m\n\u001b[0m\u001b[1;32m     10\u001b[0m \u001b[0;32mfrom\u001b[0m \u001b[0;34m.\u001b[0m\u001b[0mtraining\u001b[0m \u001b[0;32mimport\u001b[0m \u001b[0mtrain\u001b[0m\u001b[0;34m,\u001b[0m \u001b[0mcv\u001b[0m\u001b[0;34m\u001b[0m\u001b[0m\n\u001b[1;32m     11\u001b[0m \u001b[0;32mfrom\u001b[0m \u001b[0;34m.\u001b[0m \u001b[0;32mimport\u001b[0m \u001b[0mrabit\u001b[0m  \u001b[0;31m# noqa\u001b[0m\u001b[0;34m\u001b[0m\u001b[0m\n",
      "\u001b[0;32m~/anaconda3/lib/python3.6/site-packages/xgboost/core.py\u001b[0m in \u001b[0;36m<module>\u001b[0;34m()\u001b[0m\n\u001b[1;32m    193\u001b[0m \u001b[0;34m\u001b[0m\u001b[0m\n\u001b[1;32m    194\u001b[0m \u001b[0;31m# load the XGBoost library globally\u001b[0m\u001b[0;34m\u001b[0m\u001b[0;34m\u001b[0m\u001b[0m\n\u001b[0;32m--> 195\u001b[0;31m \u001b[0m_LIB\u001b[0m \u001b[0;34m=\u001b[0m \u001b[0m_load_lib\u001b[0m\u001b[0;34m(\u001b[0m\u001b[0;34m)\u001b[0m\u001b[0;34m\u001b[0m\u001b[0m\n\u001b[0m\u001b[1;32m    196\u001b[0m \u001b[0;34m\u001b[0m\u001b[0m\n\u001b[1;32m    197\u001b[0m \u001b[0;34m\u001b[0m\u001b[0m\n",
      "\u001b[0;32m~/anaconda3/lib/python3.6/site-packages/xgboost/core.py\u001b[0m in \u001b[0;36m_load_lib\u001b[0;34m()\u001b[0m\n\u001b[1;32m    184\u001b[0m             \u001b[0;34m'`brew install libomp` to install OpenMP runtime.\\n'\u001b[0m \u001b[0;34m+\u001b[0m\u001b[0;34m\u001b[0m\u001b[0m\n\u001b[1;32m    185\u001b[0m             \u001b[0;34m'  * You are running 32-bit Python on a 64-bit OS\\n'\u001b[0m \u001b[0;34m+\u001b[0m\u001b[0;34m\u001b[0m\u001b[0m\n\u001b[0;32m--> 186\u001b[0;31m             'Error message(s): {}\\n'.format(os_error_list))\n\u001b[0m\u001b[1;32m    187\u001b[0m     \u001b[0mlib\u001b[0m\u001b[0;34m.\u001b[0m\u001b[0mXGBGetLastError\u001b[0m\u001b[0;34m.\u001b[0m\u001b[0mrestype\u001b[0m \u001b[0;34m=\u001b[0m \u001b[0mctypes\u001b[0m\u001b[0;34m.\u001b[0m\u001b[0mc_char_p\u001b[0m\u001b[0;34m\u001b[0m\u001b[0m\n\u001b[1;32m    188\u001b[0m     \u001b[0mlib\u001b[0m\u001b[0;34m.\u001b[0m\u001b[0mcallback\u001b[0m \u001b[0;34m=\u001b[0m \u001b[0m_get_log_callback_func\u001b[0m\u001b[0;34m(\u001b[0m\u001b[0;34m)\u001b[0m\u001b[0;34m\u001b[0m\u001b[0m\n",
      "\u001b[0;31mXGBoostError\u001b[0m: XGBoost Library (libxgboost.dylib) could not be loaded.\nLikely causes:\n  * OpenMP runtime is not installed (vcomp140.dll or libgomp-1.dll for Windows, libomp.dylib for Mac OSX, libgomp.so for Linux and other UNIX-like OSes). Mac OSX users: Run `brew install libomp` to install OpenMP runtime.\n  * You are running 32-bit Python on a 64-bit OS\nError message(s): ['dlopen(/Users/stella/anaconda3/lib/python3.6/site-packages/xgboost/lib/libxgboost.dylib, 6): Library not loaded: /usr/local/opt/libomp/lib/libomp.dylib\\n  Referenced from: /Users/stella/anaconda3/lib/python3.6/site-packages/xgboost/lib/libxgboost.dylib\\n  Reason: image not found']\n"
     ]
    }
   ],
   "source": [
    "import pandas as pd\n",
    "import matplotlib.pyplot as plt\n",
    "import seaborn as sns\n",
    "from collections import Counter\n",
    "from matplotlib import pyplot\n",
    "import numpy as np\n",
    "import xgboost\n",
    "\n",
    "from sklearn.linear_model import LogisticRegression\n",
    "from sklearn.metrics import accuracy_score, f1_score, confusion_matrix, roc_auc_score\n",
    "from sklearn.model_selection import train_test_split\n",
    "from sklearn.metrics import make_scorer\n",
    "from sklearn.preprocessing import MinMaxScaler"
   ]
  },
  {
   "cell_type": "code",
   "execution_count": null,
   "metadata": {},
   "outputs": [],
   "source": [
    "df = pd.read_csv('train.csv', header = None)\n",
    "df = df.set_index(df.columns[0])\n",
    "df = df.iloc[0: , :]\n",
    "df.head()"
   ]
  },
  {
   "cell_type": "code",
   "execution_count": null,
   "metadata": {},
   "outputs": [],
   "source": [
    "# training data\n",
    "df = df.sample(frac = 1)\n",
    "X_train = df.iloc[:,:-1]\n",
    "y_train = df.iloc[:,-1]\n",
    "\n",
    "print(\"X_train shape:\", X_train.shape, \"| y_train shape:\", y_train.shape)\n"
   ]
  },
  {
   "cell_type": "code",
   "execution_count": null,
   "metadata": {},
   "outputs": [],
   "source": [
    "# test data\n",
    "X_test= pd.read_csv('test.csv', header=None)\n",
    "X_test = X_test.set_index(X_test.columns[0])\n",
    "X_test.head()\n",
    "print(\"X_test shape:\", X_test.shape)"
   ]
  },
  {
   "cell_type": "code",
   "execution_count": null,
   "metadata": {},
   "outputs": [],
   "source": [
    "# minmaxscale data\n",
    "scaler = MinMaxScaler()\n",
    "X_train = scaler.fit_transform(X_train)\n",
    "X_test = scaler.transform(X_test)"
   ]
  },
  {
   "cell_type": "code",
   "execution_count": null,
   "metadata": {},
   "outputs": [],
   "source": [
    "\n",
    "from imblearn.over_sampling import SMOTE, KMeansSMOTE\n",
    "from imblearn.combine import SMOTETomek\n",
    "from imblearn.combine import SMOTEENN\n",
    "from imblearn.under_sampling import TomekLinks, RandomUnderSampler\n",
    "from imblearn.under_sampling import EditedNearestNeighbours, AllKNN\n",
    "\n",
    "# strategy = {}\n",
    "\n",
    "smote = SMOTE(sampling_strategy='minority', random_state=42)\n",
    "\n",
    "# fit predictor and target variable\n",
    "x_smote, y_smote = smote.fit_resample(X_train, y_train)\n",
    "# x_smote_tomek, y_smote_tomek = SMOTETomek(random_state=42).fit_resample(X_train, y_train)\n",
    "x_smote_enn, y_smote_enn = SMOTEENN(random_state=42).fit_resample(X_train, y_train)\n"
   ]
  },
  {
   "cell_type": "code",
   "execution_count": null,
   "metadata": {},
   "outputs": [],
   "source": [
    "print(\"x_smote shape:\", x_smote.shape, \"| y_smote shape:\", y_smote.shape)"
   ]
  },
  {
   "cell_type": "code",
   "execution_count": null,
   "metadata": {},
   "outputs": [],
   "source": [
    "strategy = Counter(y_train)\n",
    "for key, val in strategy.items():\n",
    "    if key < 11:\n",
    "        strategy[key] = 200\n",
    "        \n",
    "    else:\n",
    "        strategy[key] = val\n",
    "    \n",
    "print(strategy)\n",
    "\n",
    "x_rus, y_rus = RandomUnderSampler(sampling_strategy=strategy).fit_resample(X_train, y_train)\n",
    "x_rus_smote, y_rus_smote = SMOTETomek(sampling_strategy='all', random_state=42).fit_resample(x_rus, y_rus)"
   ]
  },
  {
   "cell_type": "code",
   "execution_count": null,
   "metadata": {},
   "outputs": [],
   "source": [
    "pyplot.bar(Counter(y_smote).keys(), Counter(y_smote).values())\n",
    "pyplot.title(\"SMOTE: Sampling Strategy = 'Minority'\")\n",
    "pyplot.show()\n",
    "\n",
    "pyplot.bar(Counter(y_smote_enn).keys(), Counter(y_smote_enn).values())\n",
    "pyplot.title(\"SMOTENN: Sampling Strategy = 'Not Majority'\")\n",
    "pyplot.show()\n",
    "\n",
    "pyplot.bar(Counter(y_rus_smote).keys(), Counter(y_rus_smote).values())\n",
    "pyplot.title(\"RUS + SMOTETomek: Sampling Strategy = 'All'\")\n",
    "pyplot.show()\n",
    "print('Resample dataset shape', Counter(y_rus_smote))"
   ]
  },
  {
   "cell_type": "markdown",
   "metadata": {},
   "source": [
    "# Class Weights"
   ]
  },
  {
   "cell_type": "code",
   "execution_count": null,
   "metadata": {},
   "outputs": [],
   "source": [
    "def class_weight(labels_dict,mu=0.15):\n",
    "    total = sum(labels_dict.values())\n",
    "    keys = labels_dict.keys()\n",
    "    weight = dict()\n",
    "    \n",
    "    for i in keys:\n",
    "            score = np.log(mu*total/float(labels_dict[i]))\n",
    "            weight[i] = score if score > 1 else 1\n",
    "            \n",
    "    return weight\n",
    "# random labels_dict\n",
    "\n",
    "labels_dict = dict(Counter(y_train))\n",
    "weights = class_weight(labels_dict)\n"
   ]
  },
  {
   "cell_type": "code",
   "execution_count": null,
   "metadata": {},
   "outputs": [],
   "source": [
    "weights"
   ]
  },
  {
   "cell_type": "code",
   "execution_count": null,
   "metadata": {},
   "outputs": [],
   "source": [
    "rows, cols = x_smote.shape\n",
    "x_smote_tmp = np.random.rand(rows, cols + 1)\n",
    "x_smote_tmp[:,:-1] = x_smote\n",
    "x_smote_tmp[:, -1] = y_smote\n",
    "\n",
    "# rows2, cols2 = x_smote_tomek.shape\n",
    "# x_smote_tomek_tmp = np.random.rand(rows2, cols2 + 1)\n",
    "# x_smote_tomek_tmp[:,:-1] = x_smote_tomek\n",
    "# x_smote_tomek_tmp[:, -1] = y_smote_tomek\n",
    "\n",
    "# rows3, cols3 = x_smote_enn.shape\n",
    "# x_smote_enn_tmp = np.random.rand(rows3, cols3 + 1)\n",
    "# x_smote_enn_tmp[:,:-1] = x_smote_enn\n",
    "# x_smote_enn_tmp[:, -1] = y_smote_enn\n",
    "\n",
    "rows4, cols4 = x_rus_smote.shape\n",
    "x_rus_smote_tmp = np.random.rand(rows4, cols4 + 1)\n",
    "x_rus_smote_tmp[:,:-1] = x_rus_smote\n",
    "x_rus_smote_tmp[:, -1] = y_rus_smote\n",
    "\n",
    "print(type(x_smote_tmp))\n",
    "print(x_smote_tmp.shape)\n",
    "\n",
    "# print(type(x_smote_tomek_tmp))\n",
    "# print(x_smote_tomek_tmp.shape)\n",
    "\n",
    "# print(type(x_smote_enn_tmp))\n",
    "# print(x_smote_enn_tmp.shape)\n",
    "# print(x_smote_tmp[1,:])"
   ]
  },
  {
   "cell_type": "code",
   "execution_count": null,
   "metadata": {},
   "outputs": [],
   "source": [
    "type(X_test)\n",
    "pd.DataFrame(x_smote_tmp).to_csv(\"train_smote.csv\", header=None)\n",
    "pd.DataFrame(X_test).to_csv(\"test_smote.csv\", header=None)\n",
    "\n",
    "# type(X_test)\n",
    "# pd.DataFrame(x_smote_tomek_tmp).to_csv(\"train_smote_tomek.csv\", header=None)\n",
    "# # pd.DataFrame(X_test).to_csv(\"test_smote_tomek.csv\", header=None)\n",
    "\n",
    "# type(X_test)\n",
    "# pd.DataFrame(x_smote_tmp).to_csv(\"train_smote_enn.csv\", header=None)\n",
    "\n",
    "type(X_test)\n",
    "pd.DataFrame(x_smote_tmp).to_csv(\"train_rus_smote.csv\", header=None)\n",
    "# pd.DataFrame(X_test).to_csv(\"test_smote_enn.csv\", header=None)\n",
    "# pd.DataFrame(X_test).to_csv(\"test_smote.csv\", header=None, index=None)"
   ]
  },
  {
   "cell_type": "code",
   "execution_count": null,
   "metadata": {},
   "outputs": [],
   "source": [
    "print(X_test.shape)"
   ]
  }
 ],
 "metadata": {
  "interpreter": {
   "hash": "2aad38b272c115067aca7c2763626a41e209a4efedee411e5fae63cf6f4797c6"
  },
  "kernelspec": {
   "display_name": "Python 3",
   "language": "python",
   "name": "python3"
  },
  "language_info": {
   "codemirror_mode": {
    "name": "ipython",
    "version": 3
   },
   "file_extension": ".py",
   "mimetype": "text/x-python",
   "name": "python",
   "nbconvert_exporter": "python",
   "pygments_lexer": "ipython3",
   "version": "3.6.5"
  }
 },
 "nbformat": 4,
 "nbformat_minor": 5
}
